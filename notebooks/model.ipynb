{
 "cells": [
  {
   "cell_type": "code",
   "execution_count": 4,
   "metadata": {
    "collapsed": true
   },
   "outputs": [],
   "source": [
    "from sklearn.ensemble import RandomForestClassifier\n",
    "from sklearn.metrics import confusion_matrix, classification_report, accuracy_score\n",
    "from sklearn.preprocessing import StandardScaler, LabelEncoder, MultiLabelBinarizer\n",
    "from sklearn.model_selection import train_test_split, cross_val_score, cross_validate, GridSearchCV\n",
    "\n",
    "import pandas as pd\n",
    "import numpy as np\n",
    "import tensorflow as tf\n",
    "from tensorflow import keras\n"
   ]
  },
  {
   "cell_type": "markdown",
   "source": [
    "# Przygotowanie danych do uczenia\n"
   ],
   "metadata": {
    "collapsed": false
   }
  },
  {
   "cell_type": "code",
   "execution_count": 5,
   "outputs": [
    {
     "data": {
      "text/plain": "                                      favourite_genres  \\\n0                     [permanent wave, mandopop, funk]   \n1                      [filmi, regional mexican, folk]   \n2    [psychedelic rock, country rock, rock en espanol]   \n3    [psychedelic rock, country rock, rock en espanol]   \n4    [psychedelic rock, country rock, rock en espanol]   \n..                                                 ...   \n495  [hard rock, alternative metal, singer-songwriter]   \n496                   [permanent wave, mandopop, funk]   \n497                   [permanent wave, mandopop, funk]   \n498                    [filmi, regional mexican, folk]   \n499  [psychedelic rock, country rock, rock en espanol]   \n\n                                                genres  skipped  \n0    [album rock, art rock, classic rock, folk rock...    False  \n1    [album rock, art rock, classic rock, folk rock...    False  \n2    [album rock, art rock, classic rock, folk rock...    False  \n3    [album rock, art rock, classic rock, folk rock...    False  \n4    [album rock, art rock, classic rock, folk rock...    False  \n..                                                 ...      ...  \n495  [album rock, art rock, blues, blues rock, brit...    False  \n496  [album rock, art rock, classic rock, classic u...     True  \n497  [album rock, art rock, classic rock, classic u...     True  \n498  [album rock, art rock, classic rock, classic u...    False  \n499  [album rock, art rock, classic rock, classic u...     True  \n\n[500 rows x 3 columns]",
      "text/html": "<div>\n<style scoped>\n    .dataframe tbody tr th:only-of-type {\n        vertical-align: middle;\n    }\n\n    .dataframe tbody tr th {\n        vertical-align: top;\n    }\n\n    .dataframe thead th {\n        text-align: right;\n    }\n</style>\n<table border=\"1\" class=\"dataframe\">\n  <thead>\n    <tr style=\"text-align: right;\">\n      <th></th>\n      <th>favourite_genres</th>\n      <th>genres</th>\n      <th>skipped</th>\n    </tr>\n  </thead>\n  <tbody>\n    <tr>\n      <th>0</th>\n      <td>[permanent wave, mandopop, funk]</td>\n      <td>[album rock, art rock, classic rock, folk rock...</td>\n      <td>False</td>\n    </tr>\n    <tr>\n      <th>1</th>\n      <td>[filmi, regional mexican, folk]</td>\n      <td>[album rock, art rock, classic rock, folk rock...</td>\n      <td>False</td>\n    </tr>\n    <tr>\n      <th>2</th>\n      <td>[psychedelic rock, country rock, rock en espanol]</td>\n      <td>[album rock, art rock, classic rock, folk rock...</td>\n      <td>False</td>\n    </tr>\n    <tr>\n      <th>3</th>\n      <td>[psychedelic rock, country rock, rock en espanol]</td>\n      <td>[album rock, art rock, classic rock, folk rock...</td>\n      <td>False</td>\n    </tr>\n    <tr>\n      <th>4</th>\n      <td>[psychedelic rock, country rock, rock en espanol]</td>\n      <td>[album rock, art rock, classic rock, folk rock...</td>\n      <td>False</td>\n    </tr>\n    <tr>\n      <th>...</th>\n      <td>...</td>\n      <td>...</td>\n      <td>...</td>\n    </tr>\n    <tr>\n      <th>495</th>\n      <td>[hard rock, alternative metal, singer-songwriter]</td>\n      <td>[album rock, art rock, blues, blues rock, brit...</td>\n      <td>False</td>\n    </tr>\n    <tr>\n      <th>496</th>\n      <td>[permanent wave, mandopop, funk]</td>\n      <td>[album rock, art rock, classic rock, classic u...</td>\n      <td>True</td>\n    </tr>\n    <tr>\n      <th>497</th>\n      <td>[permanent wave, mandopop, funk]</td>\n      <td>[album rock, art rock, classic rock, classic u...</td>\n      <td>True</td>\n    </tr>\n    <tr>\n      <th>498</th>\n      <td>[filmi, regional mexican, folk]</td>\n      <td>[album rock, art rock, classic rock, classic u...</td>\n      <td>False</td>\n    </tr>\n    <tr>\n      <th>499</th>\n      <td>[psychedelic rock, country rock, rock en espanol]</td>\n      <td>[album rock, art rock, classic rock, classic u...</td>\n      <td>True</td>\n    </tr>\n  </tbody>\n</table>\n<p>500 rows × 3 columns</p>\n</div>"
     },
     "execution_count": 5,
     "metadata": {},
     "output_type": "execute_result"
    }
   ],
   "source": [
    "merged_data_path = '../data/merged_data.jsonl'\n",
    "data = pd.read_json(merged_data_path, lines=True)\n",
    "\n",
    "data = data.drop(columns=[\"user_id\", \"track_id\"])\n",
    "\n",
    "# TODO delete?\n",
    "# data = data.drop(\n",
    "#     columns=[\"release_date\", \"key\", \"loudness\", \"popularity\", \"duration_ms\", \"explicit\",\n",
    "#              \"danceability\", \"energy\", \"speechiness\",\n",
    "#              \"acousticness\", \"instrumentalness\", \"liveness\", \"valence\", \"tempo\"])\n",
    "\n",
    "data = data.drop(\n",
    "    columns=[\"release_date\", \"key\", \"loudness\", \"popularity\",\n",
    "             \"duration_ms\", \"explicit\",\n",
    "             \"danceability\", \"energy\", \"speechiness\",\n",
    "             \"acousticness\", \"instrumentalness\", \"liveness\", \"valence\", \"tempo\"])\n",
    "\n",
    "# data = data.drop(columns=[\"release_date\", \"explicit\", \"key\", \"loudness\", \"favourite_genres\", \"genres\"])\n",
    "\n",
    "\n",
    "# TODO map genres\n",
    "\n",
    "# def map_genres(genre):\n",
    "#   if \"rock\" in genre:\n",
    "#     return \"rock\"\n",
    "#   elif \"pop\" in genre:\n",
    "#     return \"pop\"\n",
    "#   elif \"dance\" in genre:\n",
    "#     return \"dance\"\n",
    "#   elif \"wave\" in genre:\n",
    "#     return \"wave\"\n",
    "#   elif \"metal\" in genre:\n",
    "#     return \"metal\"\n",
    "#   else:\n",
    "#     return genre\n",
    "#\n",
    "#\n",
    "# data[\"genres\"] = data[\"genres\"].apply(lambda genres: list(set(map(map_genres, genres))))\n",
    "# data[\"favourite_genres\"] = data[\"favourite_genres\"].apply(lambda genres: list(set(map(map_genres, genres))))\n",
    "\n",
    "data.head(500)"
   ],
   "metadata": {
    "collapsed": false
   }
  },
  {
   "cell_type": "markdown",
   "source": [
    "# Zamiana wartości kategorycznych (genres) na liczbowe"
   ],
   "metadata": {
    "collapsed": false
   }
  },
  {
   "cell_type": "code",
   "execution_count": 6,
   "outputs": [
    {
     "data": {
      "text/plain": "   skipped  g_0  g_1  g_2  g_3  g_4  g_5  g_6  g_7  g_8  ...  fav_1756  \\\n0    False    0    0    0    0    0    0    0    0    0  ...         0   \n1    False    0    0    0    0    0    0    0    0    0  ...         0   \n2    False    0    0    0    0    0    0    0    0    0  ...         0   \n3    False    0    0    0    0    0    0    0    0    0  ...         0   \n4    False    0    0    0    0    0    0    0    0    0  ...         0   \n\n   fav_1757  fav_1758  fav_1759  fav_1760  fav_1761  fav_1762  fav_1763  \\\n0         0         0         0         0         0         0         0   \n1         0         0         0         0         0         0         0   \n2         0         0         0         0         0         0         0   \n3         0         0         0         0         0         0         0   \n4         0         0         0         0         0         0         0   \n\n   fav_1764  fav_1765  \n0         0         0  \n1         0         0  \n2         0         0  \n3         0         0  \n4         0         0  \n\n[5 rows x 3533 columns]",
      "text/html": "<div>\n<style scoped>\n    .dataframe tbody tr th:only-of-type {\n        vertical-align: middle;\n    }\n\n    .dataframe tbody tr th {\n        vertical-align: top;\n    }\n\n    .dataframe thead th {\n        text-align: right;\n    }\n</style>\n<table border=\"1\" class=\"dataframe\">\n  <thead>\n    <tr style=\"text-align: right;\">\n      <th></th>\n      <th>skipped</th>\n      <th>g_0</th>\n      <th>g_1</th>\n      <th>g_2</th>\n      <th>g_3</th>\n      <th>g_4</th>\n      <th>g_5</th>\n      <th>g_6</th>\n      <th>g_7</th>\n      <th>g_8</th>\n      <th>...</th>\n      <th>fav_1756</th>\n      <th>fav_1757</th>\n      <th>fav_1758</th>\n      <th>fav_1759</th>\n      <th>fav_1760</th>\n      <th>fav_1761</th>\n      <th>fav_1762</th>\n      <th>fav_1763</th>\n      <th>fav_1764</th>\n      <th>fav_1765</th>\n    </tr>\n  </thead>\n  <tbody>\n    <tr>\n      <th>0</th>\n      <td>False</td>\n      <td>0</td>\n      <td>0</td>\n      <td>0</td>\n      <td>0</td>\n      <td>0</td>\n      <td>0</td>\n      <td>0</td>\n      <td>0</td>\n      <td>0</td>\n      <td>...</td>\n      <td>0</td>\n      <td>0</td>\n      <td>0</td>\n      <td>0</td>\n      <td>0</td>\n      <td>0</td>\n      <td>0</td>\n      <td>0</td>\n      <td>0</td>\n      <td>0</td>\n    </tr>\n    <tr>\n      <th>1</th>\n      <td>False</td>\n      <td>0</td>\n      <td>0</td>\n      <td>0</td>\n      <td>0</td>\n      <td>0</td>\n      <td>0</td>\n      <td>0</td>\n      <td>0</td>\n      <td>0</td>\n      <td>...</td>\n      <td>0</td>\n      <td>0</td>\n      <td>0</td>\n      <td>0</td>\n      <td>0</td>\n      <td>0</td>\n      <td>0</td>\n      <td>0</td>\n      <td>0</td>\n      <td>0</td>\n    </tr>\n    <tr>\n      <th>2</th>\n      <td>False</td>\n      <td>0</td>\n      <td>0</td>\n      <td>0</td>\n      <td>0</td>\n      <td>0</td>\n      <td>0</td>\n      <td>0</td>\n      <td>0</td>\n      <td>0</td>\n      <td>...</td>\n      <td>0</td>\n      <td>0</td>\n      <td>0</td>\n      <td>0</td>\n      <td>0</td>\n      <td>0</td>\n      <td>0</td>\n      <td>0</td>\n      <td>0</td>\n      <td>0</td>\n    </tr>\n    <tr>\n      <th>3</th>\n      <td>False</td>\n      <td>0</td>\n      <td>0</td>\n      <td>0</td>\n      <td>0</td>\n      <td>0</td>\n      <td>0</td>\n      <td>0</td>\n      <td>0</td>\n      <td>0</td>\n      <td>...</td>\n      <td>0</td>\n      <td>0</td>\n      <td>0</td>\n      <td>0</td>\n      <td>0</td>\n      <td>0</td>\n      <td>0</td>\n      <td>0</td>\n      <td>0</td>\n      <td>0</td>\n    </tr>\n    <tr>\n      <th>4</th>\n      <td>False</td>\n      <td>0</td>\n      <td>0</td>\n      <td>0</td>\n      <td>0</td>\n      <td>0</td>\n      <td>0</td>\n      <td>0</td>\n      <td>0</td>\n      <td>0</td>\n      <td>...</td>\n      <td>0</td>\n      <td>0</td>\n      <td>0</td>\n      <td>0</td>\n      <td>0</td>\n      <td>0</td>\n      <td>0</td>\n      <td>0</td>\n      <td>0</td>\n      <td>0</td>\n    </tr>\n  </tbody>\n</table>\n<p>5 rows × 3533 columns</p>\n</div>"
     },
     "execution_count": 6,
     "metadata": {},
     "output_type": "execute_result"
    }
   ],
   "source": [
    "unique_genres = set.union(*data[\"genres\"].apply(set).tolist(),\n",
    "                          *data[\"favourite_genres\"].apply(set).tolist())\n",
    "\n",
    "encoder = LabelEncoder()\n",
    "encoder.fit(list(unique_genres))\n",
    "\n",
    "# convert the categorical values into numeric - favourite_genres is a list of strings\n",
    "data[\"genres\"] = data[\"genres\"].apply(lambda genres: encoder.transform(genres).tolist())\n",
    "data[\"favourite_genres\"] = data[\"favourite_genres\"].apply(\n",
    "    lambda genres: encoder.transform(genres).tolist())\n",
    "\n",
    "# convert encoded lists into binary arrays\n",
    "mlb = MultiLabelBinarizer()\n",
    "genres_binarized = mlb.fit_transform(data[\"genres\"])\n",
    "favourite_genres_binarized = mlb.transform(data[\"favourite_genres\"])\n",
    "\n",
    "# Combine the binary arrays with appropriate column suffixes\n",
    "X_genres_df = pd.DataFrame(genres_binarized, columns=[f'g_{col}' for col in mlb.classes_.tolist()])\n",
    "X_fav_genres_df = pd.DataFrame(favourite_genres_binarized,\n",
    "                               columns=[f'fav_{col}' for col in mlb.classes_.tolist()])\n",
    "\n",
    "# Join the binary arrays with the original DataFrame\n",
    "data = data.join(X_genres_df).join(X_fav_genres_df)\n",
    "\n",
    "# Drop the original columns\n",
    "data = data.drop(columns=[\"genres\", \"favourite_genres\"])\n",
    "\n",
    "data.head(5)\n"
   ],
   "metadata": {
    "collapsed": false
   }
  },
  {
   "cell_type": "markdown",
   "source": [
    "# Ekstrakcja labeli"
   ],
   "metadata": {
    "collapsed": false
   }
  },
  {
   "cell_type": "code",
   "execution_count": 7,
   "outputs": [],
   "source": [
    "X = data.drop(columns=[\"skipped\"])\n",
    "Y = data[\"skipped\"]"
   ],
   "metadata": {
    "collapsed": false
   }
  },
  {
   "cell_type": "markdown",
   "source": [
    "# Podział danych na zbiór treningowy i testowy"
   ],
   "metadata": {
    "collapsed": false
   }
  },
  {
   "cell_type": "code",
   "execution_count": 8,
   "outputs": [
    {
     "name": "stdout",
     "output_type": "stream",
     "text": [
      "False    4999\n",
      "True     2905\n",
      "Name: skipped, dtype: int64\n",
      "False    1261\n",
      "True      716\n",
      "Name: skipped, dtype: int64\n"
     ]
    }
   ],
   "source": [
    "X_train, X_test, Y_train, Y_test = train_test_split(X, Y, test_size=0.2, random_state=42)\n",
    "\n",
    "print(\"{}\".format(Y_train.value_counts()))\n",
    "print(\"{}\".format(Y_test.value_counts()))"
   ],
   "metadata": {
    "collapsed": false
   }
  },
  {
   "cell_type": "markdown",
   "source": [
    "# Train (RandomForestClassifier)"
   ],
   "metadata": {
    "collapsed": false
   }
  },
  {
   "cell_type": "code",
   "execution_count": 9,
   "outputs": [
    {
     "name": "stdout",
     "output_type": "stream",
     "text": [
      "TRENINGOWY\n",
      "Accuracy: 0.917257085020243\n",
      "Confusion matrix:\n",
      " [[4712  287]\n",
      " [ 367 2538]]\n",
      "Classification report:\n",
      "               precision    recall  f1-score   support\n",
      "\n",
      "       False       0.93      0.94      0.94      4999\n",
      "        True       0.90      0.87      0.89      2905\n",
      "\n",
      "    accuracy                           0.92      7904\n",
      "   macro avg       0.91      0.91      0.91      7904\n",
      "weighted avg       0.92      0.92      0.92      7904\n",
      "\n",
      "TESTOWY\n",
      "Accuracy: 0.661608497723824\n",
      "Confusion matrix:\n",
      " [[993 268]\n",
      " [401 315]]\n",
      "Classification report:\n",
      "               precision    recall  f1-score   support\n",
      "\n",
      "       False       0.71      0.79      0.75      1261\n",
      "        True       0.54      0.44      0.48       716\n",
      "\n",
      "    accuracy                           0.66      1977\n",
      "   macro avg       0.63      0.61      0.62      1977\n",
      "weighted avg       0.65      0.66      0.65      1977\n",
      "\n"
     ]
    }
   ],
   "source": [
    "model = RandomForestClassifier(random_state=42)\n",
    "model.fit(X_train, Y_train)\n",
    "\n",
    "print(\"TRENINGOWY\")\n",
    "y_pred = model.predict(X_train)\n",
    "print(\"Accuracy:\", accuracy_score(Y_train, y_pred))\n",
    "print(\"Confusion matrix:\\n\", confusion_matrix(Y_train, y_pred))\n",
    "print(\"Classification report:\\n\", classification_report(Y_train, y_pred))\n",
    "\n",
    "print(\"TESTOWY\")\n",
    "y_pred = model.predict(X_test)\n",
    "print(\"Accuracy:\", accuracy_score(Y_test, y_pred))\n",
    "print(\"Confusion matrix:\\n\", confusion_matrix(Y_test, y_pred))\n",
    "print(\"Classification report:\\n\", classification_report(Y_test, y_pred))\n"
   ],
   "metadata": {
    "collapsed": false
   }
  }
 ],
 "metadata": {
  "kernelspec": {
   "display_name": "Python 3",
   "language": "python",
   "name": "python3"
  },
  "language_info": {
   "codemirror_mode": {
    "name": "ipython",
    "version": 2
   },
   "file_extension": ".py",
   "mimetype": "text/x-python",
   "name": "python",
   "nbconvert_exporter": "python",
   "pygments_lexer": "ipython2",
   "version": "2.7.6"
  }
 },
 "nbformat": 4,
 "nbformat_minor": 0
}
