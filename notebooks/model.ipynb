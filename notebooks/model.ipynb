{
 "cells": [
  {
   "cell_type": "code",
   "execution_count": 150,
   "metadata": {
    "collapsed": true
   },
   "outputs": [],
   "source": [
    "import pandas as pd\n",
    "import seaborn as sns\n",
    "import matplotlib.pyplot as plt\n",
    "import sklearn.model_selection as ms\n",
    "from sklearn.ensemble import RandomForestClassifier\n",
    "from sklearn import svm\n",
    "from sklearn.linear_model import SGDClassifier\n",
    "from sklearn.metrics import confusion_matrix, classification_report, accuracy_score\n",
    "from sklearn.neural_network import MLPClassifier\n",
    "from sklearn.preprocessing import StandardScaler, LabelEncoder, MultiLabelBinarizer\n",
    "from sklearn.model_selection import train_test_split, cross_val_score, cross_validate, GridSearchCV\n",
    "from joblib import load, dump"
   ]
  },
  {
   "cell_type": "markdown",
   "source": [
    "# Przygotowanie danych do uczenia\n"
   ],
   "metadata": {
    "collapsed": false
   }
  },
  {
   "cell_type": "code",
   "execution_count": 157,
   "outputs": [
    {
     "data": {
      "text/plain": "                                 favourite_genres  \\\n0                     [permanent wave, pop, funk]   \n1                 [filmi, folk, regional mexican]   \n2                                          [rock]   \n3                                          [rock]   \n4                                          [rock]   \n..                                            ...   \n495  [alternative metal, singer-songwriter, rock]   \n496                   [permanent wave, pop, funk]   \n497                   [permanent wave, pop, funk]   \n498               [filmi, folk, regional mexican]   \n499                                        [rock]   \n\n                                                genres  skipped  \n0                                    [protopunk, rock]    False  \n1                                    [protopunk, rock]    False  \n2                                    [protopunk, rock]    False  \n3                                    [protopunk, rock]    False  \n4                                    [protopunk, rock]    False  \n..                                                 ...      ...  \n495       [blues, british blues, electric blues, rock]    False  \n496  [mellow gold, permanent wave, pop, new wave, r...     True  \n497  [mellow gold, permanent wave, pop, new wave, r...     True  \n498  [mellow gold, permanent wave, pop, new wave, r...    False  \n499  [mellow gold, permanent wave, pop, new wave, r...     True  \n\n[500 rows x 3 columns]",
      "text/html": "<div>\n<style scoped>\n    .dataframe tbody tr th:only-of-type {\n        vertical-align: middle;\n    }\n\n    .dataframe tbody tr th {\n        vertical-align: top;\n    }\n\n    .dataframe thead th {\n        text-align: right;\n    }\n</style>\n<table border=\"1\" class=\"dataframe\">\n  <thead>\n    <tr style=\"text-align: right;\">\n      <th></th>\n      <th>favourite_genres</th>\n      <th>genres</th>\n      <th>skipped</th>\n    </tr>\n  </thead>\n  <tbody>\n    <tr>\n      <th>0</th>\n      <td>[permanent wave, pop, funk]</td>\n      <td>[protopunk, rock]</td>\n      <td>False</td>\n    </tr>\n    <tr>\n      <th>1</th>\n      <td>[filmi, folk, regional mexican]</td>\n      <td>[protopunk, rock]</td>\n      <td>False</td>\n    </tr>\n    <tr>\n      <th>2</th>\n      <td>[rock]</td>\n      <td>[protopunk, rock]</td>\n      <td>False</td>\n    </tr>\n    <tr>\n      <th>3</th>\n      <td>[rock]</td>\n      <td>[protopunk, rock]</td>\n      <td>False</td>\n    </tr>\n    <tr>\n      <th>4</th>\n      <td>[rock]</td>\n      <td>[protopunk, rock]</td>\n      <td>False</td>\n    </tr>\n    <tr>\n      <th>...</th>\n      <td>...</td>\n      <td>...</td>\n      <td>...</td>\n    </tr>\n    <tr>\n      <th>495</th>\n      <td>[alternative metal, singer-songwriter, rock]</td>\n      <td>[blues, british blues, electric blues, rock]</td>\n      <td>False</td>\n    </tr>\n    <tr>\n      <th>496</th>\n      <td>[permanent wave, pop, funk]</td>\n      <td>[mellow gold, permanent wave, pop, new wave, r...</td>\n      <td>True</td>\n    </tr>\n    <tr>\n      <th>497</th>\n      <td>[permanent wave, pop, funk]</td>\n      <td>[mellow gold, permanent wave, pop, new wave, r...</td>\n      <td>True</td>\n    </tr>\n    <tr>\n      <th>498</th>\n      <td>[filmi, folk, regional mexican]</td>\n      <td>[mellow gold, permanent wave, pop, new wave, r...</td>\n      <td>False</td>\n    </tr>\n    <tr>\n      <th>499</th>\n      <td>[rock]</td>\n      <td>[mellow gold, permanent wave, pop, new wave, r...</td>\n      <td>True</td>\n    </tr>\n  </tbody>\n</table>\n<p>500 rows × 3 columns</p>\n</div>"
     },
     "execution_count": 157,
     "metadata": {},
     "output_type": "execute_result"
    }
   ],
   "source": [
    "merged_data_path = '../data/merged_data.jsonl'\n",
    "data = pd.read_json(merged_data_path, lines=True)\n",
    "\n",
    "data = data.drop(columns=[\"user_id\", \"track_id\"])\n",
    "\n",
    "# TODO delete?\n",
    "data = data.drop(\n",
    "    columns=[\"popularity\", \"duration_ms\", \"explicit\", \"danceability\", \"energy\", \"speechiness\",\n",
    "             \"acousticness\", \"instrumentalness\", \"liveness\", \"valence\", \"tempo\"])\n",
    "\n",
    "\n",
    "# TODO map genres\n",
    "\n",
    "def map_genres(genre):\n",
    "  if \"rock\" in genre:\n",
    "    return \"rock\"\n",
    "  elif \"pop\" in genre:\n",
    "    return \"pop\"\n",
    "  elif \"dance\" in genre:\n",
    "    return \"dance\"\n",
    "  else:\n",
    "    return genre\n",
    "\n",
    "\n",
    "data[\"genres\"] = data[\"genres\"].apply(lambda genres: list(set(map(map_genres, genres))))\n",
    "data[\"favourite_genres\"] = data[\"favourite_genres\"].apply(lambda genres: list(set(map(map_genres, genres))))\n",
    "\n",
    "\n",
    "data.head(500)\n"
   ],
   "metadata": {
    "collapsed": false
   }
  },
  {
   "cell_type": "markdown",
   "source": [
    "# Zamiana wartości kategorycznych (genres) na liczbowe"
   ],
   "metadata": {
    "collapsed": false
   }
  },
  {
   "cell_type": "code",
   "execution_count": 152,
   "outputs": [
    {
     "data": {
      "text/plain": "   skipped  g_0  g_1  g_2  g_3  g_4  g_5  g_6  g_7  g_8  ...  fav_1307  \\\n0    False    0    0    0    0    0    0    0    0    0  ...         0   \n1    False    0    0    0    0    0    0    0    0    0  ...         0   \n2    False    0    0    0    0    0    0    0    0    0  ...         0   \n3    False    0    0    0    0    0    0    0    0    0  ...         0   \n4    False    0    0    0    0    0    0    0    0    0  ...         0   \n\n   fav_1308  fav_1309  fav_1310  fav_1311  fav_1312  fav_1313  fav_1314  \\\n0         0         0         0         0         0         0         0   \n1         0         0         0         0         0         0         0   \n2         0         0         0         0         0         0         0   \n3         0         0         0         0         0         0         0   \n4         0         0         0         0         0         0         0   \n\n   fav_1315  fav_1316  \n0         0         0  \n1         0         0  \n2         0         0  \n3         0         0  \n4         0         0  \n\n[5 rows x 2635 columns]",
      "text/html": "<div>\n<style scoped>\n    .dataframe tbody tr th:only-of-type {\n        vertical-align: middle;\n    }\n\n    .dataframe tbody tr th {\n        vertical-align: top;\n    }\n\n    .dataframe thead th {\n        text-align: right;\n    }\n</style>\n<table border=\"1\" class=\"dataframe\">\n  <thead>\n    <tr style=\"text-align: right;\">\n      <th></th>\n      <th>skipped</th>\n      <th>g_0</th>\n      <th>g_1</th>\n      <th>g_2</th>\n      <th>g_3</th>\n      <th>g_4</th>\n      <th>g_5</th>\n      <th>g_6</th>\n      <th>g_7</th>\n      <th>g_8</th>\n      <th>...</th>\n      <th>fav_1307</th>\n      <th>fav_1308</th>\n      <th>fav_1309</th>\n      <th>fav_1310</th>\n      <th>fav_1311</th>\n      <th>fav_1312</th>\n      <th>fav_1313</th>\n      <th>fav_1314</th>\n      <th>fav_1315</th>\n      <th>fav_1316</th>\n    </tr>\n  </thead>\n  <tbody>\n    <tr>\n      <th>0</th>\n      <td>False</td>\n      <td>0</td>\n      <td>0</td>\n      <td>0</td>\n      <td>0</td>\n      <td>0</td>\n      <td>0</td>\n      <td>0</td>\n      <td>0</td>\n      <td>0</td>\n      <td>...</td>\n      <td>0</td>\n      <td>0</td>\n      <td>0</td>\n      <td>0</td>\n      <td>0</td>\n      <td>0</td>\n      <td>0</td>\n      <td>0</td>\n      <td>0</td>\n      <td>0</td>\n    </tr>\n    <tr>\n      <th>1</th>\n      <td>False</td>\n      <td>0</td>\n      <td>0</td>\n      <td>0</td>\n      <td>0</td>\n      <td>0</td>\n      <td>0</td>\n      <td>0</td>\n      <td>0</td>\n      <td>0</td>\n      <td>...</td>\n      <td>0</td>\n      <td>0</td>\n      <td>0</td>\n      <td>0</td>\n      <td>0</td>\n      <td>0</td>\n      <td>0</td>\n      <td>0</td>\n      <td>0</td>\n      <td>0</td>\n    </tr>\n    <tr>\n      <th>2</th>\n      <td>False</td>\n      <td>0</td>\n      <td>0</td>\n      <td>0</td>\n      <td>0</td>\n      <td>0</td>\n      <td>0</td>\n      <td>0</td>\n      <td>0</td>\n      <td>0</td>\n      <td>...</td>\n      <td>0</td>\n      <td>0</td>\n      <td>0</td>\n      <td>0</td>\n      <td>0</td>\n      <td>0</td>\n      <td>0</td>\n      <td>0</td>\n      <td>0</td>\n      <td>0</td>\n    </tr>\n    <tr>\n      <th>3</th>\n      <td>False</td>\n      <td>0</td>\n      <td>0</td>\n      <td>0</td>\n      <td>0</td>\n      <td>0</td>\n      <td>0</td>\n      <td>0</td>\n      <td>0</td>\n      <td>0</td>\n      <td>...</td>\n      <td>0</td>\n      <td>0</td>\n      <td>0</td>\n      <td>0</td>\n      <td>0</td>\n      <td>0</td>\n      <td>0</td>\n      <td>0</td>\n      <td>0</td>\n      <td>0</td>\n    </tr>\n    <tr>\n      <th>4</th>\n      <td>False</td>\n      <td>0</td>\n      <td>0</td>\n      <td>0</td>\n      <td>0</td>\n      <td>0</td>\n      <td>0</td>\n      <td>0</td>\n      <td>0</td>\n      <td>0</td>\n      <td>...</td>\n      <td>0</td>\n      <td>0</td>\n      <td>0</td>\n      <td>0</td>\n      <td>0</td>\n      <td>0</td>\n      <td>0</td>\n      <td>0</td>\n      <td>0</td>\n      <td>0</td>\n    </tr>\n  </tbody>\n</table>\n<p>5 rows × 2635 columns</p>\n</div>"
     },
     "execution_count": 152,
     "metadata": {},
     "output_type": "execute_result"
    }
   ],
   "source": [
    "unique_genres = set.union(*data[\"genres\"].apply(set).tolist(),\n",
    "                          *data[\"favourite_genres\"].apply(set).tolist())\n",
    "\n",
    "encoder = LabelEncoder()\n",
    "encoder.fit(list(unique_genres))\n",
    "\n",
    "# convert the categorical values into numeric - favourite_genres is a list of strings\n",
    "data[\"genres\"] = data[\"genres\"].apply(lambda genres: encoder.transform(genres).tolist())\n",
    "data[\"favourite_genres\"] = data[\"favourite_genres\"].apply(\n",
    "  lambda genres: encoder.transform(genres).tolist())\n",
    "\n",
    "# convert encoded lists into binary arrays\n",
    "mlb = MultiLabelBinarizer()\n",
    "genres_binarized = mlb.fit_transform(data[\"genres\"])\n",
    "favourite_genres_binarized = mlb.transform(data[\"favourite_genres\"])\n",
    "\n",
    "# Combine the binary arrays with appropriate column suffixes\n",
    "X_genres_df = pd.DataFrame(genres_binarized, columns=[f'g_{col}' for col in mlb.classes_.tolist()])\n",
    "X_fav_genres_df = pd.DataFrame(favourite_genres_binarized,\n",
    "                               columns=[f'fav_{col}' for col in mlb.classes_.tolist()])\n",
    "\n",
    "# Join the binary arrays with the original DataFrame\n",
    "data = data.join(X_genres_df).join(X_fav_genres_df)\n",
    "\n",
    "# Drop the original columns\n",
    "data = data.drop(columns=[\"genres\", \"favourite_genres\"])\n",
    "\n",
    "data.head(5)\n"
   ],
   "metadata": {
    "collapsed": false
   }
  },
  {
   "cell_type": "markdown",
   "source": [
    "# Ekstrakcja labeli"
   ],
   "metadata": {
    "collapsed": false
   }
  },
  {
   "cell_type": "code",
   "execution_count": 153,
   "outputs": [],
   "source": [
    "X = data.drop(columns=[\"skipped\"])\n",
    "Y = data[\"skipped\"]"
   ],
   "metadata": {
    "collapsed": false
   }
  },
  {
   "cell_type": "markdown",
   "source": [
    "# Podział danych na zbiór treningowy i testowy"
   ],
   "metadata": {
    "collapsed": false
   }
  },
  {
   "cell_type": "code",
   "execution_count": 154,
   "outputs": [
    {
     "name": "stdout",
     "output_type": "stream",
     "text": [
      "False    4999\n",
      "True     2905\n",
      "Name: skipped, dtype: int64\n",
      "False    1261\n",
      "True      716\n",
      "Name: skipped, dtype: int64\n"
     ]
    }
   ],
   "source": [
    "X_train, X_test, Y_train, Y_test = train_test_split(X, Y, test_size=0.2, random_state=42)\n",
    "\n",
    "print(\"{}\".format(Y_train.value_counts()))\n",
    "print(\"{}\".format(Y_test.value_counts()))"
   ],
   "metadata": {
    "collapsed": false
   }
  },
  {
   "cell_type": "markdown",
   "source": [
    "# Train (RandomForestClassifier)"
   ],
   "metadata": {
    "collapsed": false
   }
  },
  {
   "cell_type": "code",
   "execution_count": 155,
   "outputs": [
    {
     "name": "stdout",
     "output_type": "stream",
     "text": [
      "TRENINGOWY\n",
      "Accuracy: 0.8667763157894737\n",
      "Confusion matrix:\n",
      " [[4521  478]\n",
      " [ 575 2330]]\n",
      "Classification report:\n",
      "               precision    recall  f1-score   support\n",
      "\n",
      "       False       0.89      0.90      0.90      4999\n",
      "        True       0.83      0.80      0.82      2905\n",
      "\n",
      "    accuracy                           0.87      7904\n",
      "   macro avg       0.86      0.85      0.86      7904\n",
      "weighted avg       0.87      0.87      0.87      7904\n",
      "\n",
      "TESTOWY\n",
      "Accuracy: 0.65402124430956\n",
      "Confusion matrix:\n",
      " [[965 296]\n",
      " [388 328]]\n",
      "Classification report:\n",
      "               precision    recall  f1-score   support\n",
      "\n",
      "       False       0.71      0.77      0.74      1261\n",
      "        True       0.53      0.46      0.49       716\n",
      "\n",
      "    accuracy                           0.65      1977\n",
      "   macro avg       0.62      0.61      0.61      1977\n",
      "weighted avg       0.65      0.65      0.65      1977\n",
      "\n"
     ]
    }
   ],
   "source": [
    "model = RandomForestClassifier(random_state=42)\n",
    "model.fit(X_train, Y_train)\n",
    "\n",
    "print(\"TRENINGOWY\")\n",
    "y_pred = model.predict(X_train)\n",
    "print(\"Accuracy:\", accuracy_score(Y_train, y_pred))\n",
    "print(\"Confusion matrix:\\n\", confusion_matrix(Y_train, y_pred))\n",
    "print(\"Classification report:\\n\", classification_report(Y_train, y_pred))\n",
    "\n",
    "print(\"TESTOWY\")\n",
    "y_pred = model.predict(X_test)\n",
    "print(\"Accuracy:\", accuracy_score(Y_test, y_pred))\n",
    "print(\"Confusion matrix:\\n\", confusion_matrix(Y_test, y_pred))\n",
    "print(\"Classification report:\\n\", classification_report(Y_test, y_pred))"
   ],
   "metadata": {
    "collapsed": false
   }
  },
  {
   "cell_type": "markdown",
   "source": [
    "# Train (MLPClassifier)"
   ],
   "metadata": {
    "collapsed": false
   }
  },
  {
   "cell_type": "code",
   "execution_count": 156,
   "outputs": [
    {
     "name": "stdout",
     "output_type": "stream",
     "text": [
      "Fitting 5 folds for each of 1 candidates, totalling 5 fits\n"
     ]
    },
    {
     "name": "stderr",
     "output_type": "stream",
     "text": [
      "/Users/rasztabigab/anaconda3/envs/IUM/lib/python3.10/site-packages/sklearn/neural_network/_multilayer_perceptron.py:684: ConvergenceWarning: Stochastic Optimizer: Maximum iterations (200) reached and the optimization hasn't converged yet.\n",
      "  warnings.warn(\n",
      "/Users/rasztabigab/anaconda3/envs/IUM/lib/python3.10/site-packages/sklearn/neural_network/_multilayer_perceptron.py:684: ConvergenceWarning: Stochastic Optimizer: Maximum iterations (200) reached and the optimization hasn't converged yet.\n",
      "  warnings.warn(\n",
      "/Users/rasztabigab/anaconda3/envs/IUM/lib/python3.10/site-packages/sklearn/neural_network/_multilayer_perceptron.py:684: ConvergenceWarning: Stochastic Optimizer: Maximum iterations (200) reached and the optimization hasn't converged yet.\n",
      "  warnings.warn(\n",
      "/Users/rasztabigab/anaconda3/envs/IUM/lib/python3.10/site-packages/sklearn/neural_network/_multilayer_perceptron.py:684: ConvergenceWarning: Stochastic Optimizer: Maximum iterations (200) reached and the optimization hasn't converged yet.\n",
      "  warnings.warn(\n",
      "/Users/rasztabigab/anaconda3/envs/IUM/lib/python3.10/site-packages/sklearn/neural_network/_multilayer_perceptron.py:684: ConvergenceWarning: Stochastic Optimizer: Maximum iterations (200) reached and the optimization hasn't converged yet.\n",
      "  warnings.warn(\n"
     ]
    },
    {
     "name": "stdout",
     "output_type": "stream",
     "text": [
      "[CV 4/5; 1/1] START activation=relu, hidden_layer_sizes=1, learning_rate=constant, solver=adam\n",
      "[CV 4/5; 1/1] END activation=relu, hidden_layer_sizes=1, learning_rate=constant, solver=adam;, score=0.682 total time=  41.1s\n",
      "[CV 3/5; 1/1] START activation=relu, hidden_layer_sizes=1, learning_rate=constant, solver=adam\n",
      "[CV 3/5; 1/1] END activation=relu, hidden_layer_sizes=1, learning_rate=constant, solver=adam;, score=0.679 total time=  41.6s\n",
      "[CV 2/5; 1/1] START activation=relu, hidden_layer_sizes=1, learning_rate=constant, solver=adam\n",
      "[CV 2/5; 1/1] END activation=relu, hidden_layer_sizes=1, learning_rate=constant, solver=adam;, score=0.644 total time=  42.2s\n"
     ]
    },
    {
     "name": "stderr",
     "output_type": "stream",
     "text": [
      "/Users/rasztabigab/anaconda3/envs/IUM/lib/python3.10/site-packages/sklearn/neural_network/_multilayer_perceptron.py:684: ConvergenceWarning: Stochastic Optimizer: Maximum iterations (200) reached and the optimization hasn't converged yet.\n",
      "  warnings.warn(\n"
     ]
    },
    {
     "data": {
      "text/plain": "   mean_fit_time  std_fit_time  mean_score_time  std_score_time  \\\n0      30.695895       0.25351         0.039361        0.001278   \n\n  param_activation param_hidden_layer_sizes param_learning_rate param_solver  \\\n0             relu                        1            constant         adam   \n\n                                              params  split0_test_score  \\\n0  {'activation': 'relu', 'hidden_layer_sizes': 1...           0.645422   \n\n   split1_test_score  split2_test_score  split3_test_score  split4_test_score  \\\n0           0.649291           0.646761           0.667004           0.663462   \n\n   mean_test_score  std_test_score  rank_test_score  \n0         0.654388        0.009011                1  ",
      "text/html": "<div>\n<style scoped>\n    .dataframe tbody tr th:only-of-type {\n        vertical-align: middle;\n    }\n\n    .dataframe tbody tr th {\n        vertical-align: top;\n    }\n\n    .dataframe thead th {\n        text-align: right;\n    }\n</style>\n<table border=\"1\" class=\"dataframe\">\n  <thead>\n    <tr style=\"text-align: right;\">\n      <th></th>\n      <th>mean_fit_time</th>\n      <th>std_fit_time</th>\n      <th>mean_score_time</th>\n      <th>std_score_time</th>\n      <th>param_activation</th>\n      <th>param_hidden_layer_sizes</th>\n      <th>param_learning_rate</th>\n      <th>param_solver</th>\n      <th>params</th>\n      <th>split0_test_score</th>\n      <th>split1_test_score</th>\n      <th>split2_test_score</th>\n      <th>split3_test_score</th>\n      <th>split4_test_score</th>\n      <th>mean_test_score</th>\n      <th>std_test_score</th>\n      <th>rank_test_score</th>\n    </tr>\n  </thead>\n  <tbody>\n    <tr>\n      <th>0</th>\n      <td>30.695895</td>\n      <td>0.25351</td>\n      <td>0.039361</td>\n      <td>0.001278</td>\n      <td>relu</td>\n      <td>1</td>\n      <td>constant</td>\n      <td>adam</td>\n      <td>{'activation': 'relu', 'hidden_layer_sizes': 1...</td>\n      <td>0.645422</td>\n      <td>0.649291</td>\n      <td>0.646761</td>\n      <td>0.667004</td>\n      <td>0.663462</td>\n      <td>0.654388</td>\n      <td>0.009011</td>\n      <td>1</td>\n    </tr>\n  </tbody>\n</table>\n</div>"
     },
     "execution_count": 156,
     "metadata": {},
     "output_type": "execute_result"
    }
   ],
   "source": [
    "mlpc_grid = GridSearchCV(MLPClassifier(), {\n",
    "  'hidden_layer_sizes': [(1)],\n",
    "  'activation': ['relu'],\n",
    "  'solver': ['adam'],\n",
    "  'learning_rate': ['constant'],\n",
    "}, n_jobs=-1, cv=ms.KFold(shuffle=True), verbose=10)\n",
    "mlpc_grid.fit(X, Y)\n",
    "pd.DataFrame(mlpc_grid.cv_results_)\n",
    "\n",
    "# print(\"TRENINGOWY\")\n",
    "# y_pred = model.predict(X_train)\n",
    "# print(\"Accuracy:\", accuracy_score(Y_train, y_pred))\n",
    "# print(\"Confusion matrix:\\n\", confusion_matrix(Y_train, y_pred))\n",
    "# print(\"Classification report:\\n\", classification_report(Y_train, y_pred))\n",
    "#\n",
    "# print(\"TESTOWY\")\n",
    "# y_pred = model.predict(X_test)\n",
    "# print(\"Accuracy:\", accuracy_score(Y_test, y_pred))\n",
    "# print(\"Confusion matrix:\\n\", confusion_matrix(Y_test, y_pred))\n",
    "# print(\"Classification report:\\n\", classification_report(Y_test, y_pred))\n"
   ],
   "metadata": {
    "collapsed": false
   }
  },
  {
   "cell_type": "code",
   "execution_count": 156,
   "outputs": [],
   "source": [],
   "metadata": {
    "collapsed": false
   }
  }
 ],
 "metadata": {
  "kernelspec": {
   "display_name": "Python 3",
   "language": "python",
   "name": "python3"
  },
  "language_info": {
   "codemirror_mode": {
    "name": "ipython",
    "version": 2
   },
   "file_extension": ".py",
   "mimetype": "text/x-python",
   "name": "python",
   "nbconvert_exporter": "python",
   "pygments_lexer": "ipython2",
   "version": "2.7.6"
  }
 },
 "nbformat": 4,
 "nbformat_minor": 0
}
