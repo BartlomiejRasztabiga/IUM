{
 "cells": [
  {
   "cell_type": "code",
   "execution_count": 64,
   "metadata": {
    "ExecuteTime": {
     "end_time": "2023-05-15T16:59:56.907083Z",
     "start_time": "2023-05-15T16:59:53.435500Z"
    },
    "collapsed": true
   },
   "outputs": [],
   "source": [
    "from sklearn.ensemble import RandomForestClassifier\n",
    "from sklearn.metrics import confusion_matrix, classification_report, accuracy_score\n",
    "from sklearn.preprocessing import MultiLabelBinarizer\n",
    "from sklearn.model_selection import train_test_split\n",
    "from sklearn.feature_extraction.text import TfidfVectorizer\n",
    "from sklearn.cluster import KMeans\n",
    "\n",
    "import pandas as pd\n",
    "import numpy as np\n",
    "import pickle"
   ]
  },
  {
   "cell_type": "code",
   "execution_count": 65,
   "metadata": {
    "ExecuteTime": {
     "end_time": "2023-05-15T16:59:56.932842Z",
     "start_time": "2023-05-15T16:59:56.907842Z"
    },
    "collapsed": false
   },
   "outputs": [],
   "source": [
    "merged_data_path = '../data/v2/merged_data.jsonl'\n",
    "data = pd.read_json(merged_data_path, lines=True)"
   ]
  },
  {
   "cell_type": "code",
   "execution_count": 66,
   "metadata": {
    "ExecuteTime": {
     "end_time": "2023-05-15T16:59:57.057498Z",
     "start_time": "2023-05-15T16:59:56.944629Z"
    }
   },
   "outputs": [],
   "source": [
    "# K-MEANS\n",
    "\n",
    "# Prepare the list of unique genres\n",
    "unique_genres = list(set([genre for genres in data['genres'] for genre in genres]) | set([genre for genres in data['favourite_genres'] for genre in genres]))\n",
    "\n",
    "# Convert the genres to a matrix of TF-IDF features\n",
    "vectorizer = TfidfVectorizer()\n",
    "vectorized = vectorizer.fit_transform(unique_genres)\n",
    "\n",
    "# Apply K-means clustering\n",
    "num_clusters = 100  # Adjust this value according to your needs\n",
    "kmeans = KMeans(n_clusters=num_clusters, random_state=42, n_init='auto')\n",
    "kmeans.fit(vectorized)\n",
    "labels = kmeans.labels_\n",
    "\n",
    "# Group the genres based on the cluster labels\n",
    "clustered_genres = {}\n",
    "for i, label in enumerate(labels):\n",
    "    if label not in clustered_genres:\n",
    "        clustered_genres[label] = []\n",
    "    clustered_genres[label].append(unique_genres[i])\n",
    "\n",
    "# Map genres to their cluster label\n",
    "genre_to_cluster = {genre: label for label, genres in clustered_genres.items() for genre in genres}\n",
    "\n",
    "# Define the function for mapping genres to simpler forms\n",
    "def map_genre(genre):\n",
    "    cluster_label = genre_to_cluster[genre]\n",
    "    representative_genre = clustered_genres[cluster_label][0]  # Use the first genre in the cluster as the representative\n",
    "    return representative_genre\n",
    "\n",
    "# Save the genre_to_cluster and clustered_genres dictionaries to use for new data prediction\n",
    "with open('../microservice/models/model_genre_to_cluster.pickle', 'wb') as f:\n",
    "    pickle.dump(genre_to_cluster, f)\n",
    "\n",
    "with open('../microservice/models/model_clustered_genres.pickle', 'wb') as f:\n",
    "    pickle.dump(clustered_genres, f)\n",
    "\n",
    "# Apply the mapping function to both 'genres' and 'favourite_genres' columns\n",
    "data['genres'] = data['genres'].apply(lambda x: [map_genre(genre) for genre in x])\n",
    "data['favourite_genres'] = data['favourite_genres'].apply(lambda x: [map_genre(genre) for genre in x])\n",
    "\n",
    "# Delete not unique genres\n",
    "data['genres'] = data['genres'].apply(lambda x: list(set(x)))\n",
    "data['favourite_genres'] = data['favourite_genres'].apply(lambda x: list(set(x)))\n"
   ]
  },
  {
   "cell_type": "code",
   "execution_count": 67,
   "metadata": {
    "ExecuteTime": {
     "end_time": "2023-05-15T16:59:57.075729Z",
     "start_time": "2023-05-15T16:59:57.068794Z"
    }
   },
   "outputs": [
    {
     "name": "stdout",
     "output_type": "stream",
     "text": [
      "100\n"
     ]
    },
    {
     "data": {
      "text/plain": [
       "[('lo-fi beats', 5476),\n",
       " ('rock-and-roll', 5079),\n",
       " ('classic mandopop', 3320),\n",
       " ('hong kong indie', 2695),\n",
       " ('folk punk', 1549),\n",
       " ('norwegian country', 997),\n",
       " ('italian new wave', 990),\n",
       " ('jump blues', 910),\n",
       " ('dance rock', 619),\n",
       " ('old school hip hop', 591),\n",
       " ('post-screamo', 590),\n",
       " ('j-metal', 573),\n",
       " ('norwegian alternative rock', 554),\n",
       " ('singer-songwriter', 544),\n",
       " ('chicago soul', 435),\n",
       " ('swedish progressive metal', 411),\n",
       " ('latin arena pop', 374),\n",
       " ('russian trap', 370),\n",
       " ('modern hard rock', 323),\n",
       " ('g funk', 319),\n",
       " ('jazz accordion', 295),\n",
       " ('j-pop boy group', 274),\n",
       " ('boston punk', 264),\n",
       " ('canadian indie', 260),\n",
       " ('emo rap', 202),\n",
       " ('electro house', 189),\n",
       " ('post-disco', 180),\n",
       " ('neo-synthpop', 144),\n",
       " ('brazilian gospel', 142),\n",
       " ('us power metal', 139),\n",
       " ('melodic hardcore', 134),\n",
       " ('reggaeton colombiano', 125),\n",
       " ('irish pub song', 124),\n",
       " ('tropical', 113),\n",
       " ('mexican rock-and-roll', 108),\n",
       " ('reggae peruano', 105),\n",
       " ('turkish metal', 104),\n",
       " ('german post-hardcore', 102),\n",
       " ('vintage swedish pop', 98),\n",
       " ('argentine telepop', 77),\n",
       " ('classic finnish rock', 73),\n",
       " ('dutch cabaret', 71),\n",
       " ('azeri traditional', 62),\n",
       " ('bossa nova', 62),\n",
       " ('experimental vocal', 60),\n",
       " ('ska punk', 58),\n",
       " ('christian music', 53),\n",
       " ('samba-rock', 53),\n",
       " ('cumbia colombiana regia', 52),\n",
       " ('israeli mediterranean', 51),\n",
       " ('russian pop', 51),\n",
       " ('deep uplifting trance', 50),\n",
       " ('spanish rock', 45),\n",
       " ('vintage chinese pop', 45),\n",
       " ('classic thai pop', 43),\n",
       " ('icelandic pop', 40),\n",
       " ('folklore uruguayo', 37),\n",
       " ('musica para criancas', 37),\n",
       " ('salsa colombiana', 36),\n",
       " ('japanese post-hardcore', 35),\n",
       " ('flamenco urbano', 35),\n",
       " ('turkish alt pop', 35),\n",
       " ('german drill', 35),\n",
       " ('brazilian ccm', 33),\n",
       " ('classic hungarian rock', 32),\n",
       " ('classic czech pop', 32),\n",
       " ('japanese garage rock', 31),\n",
       " ('indonesian pop', 31),\n",
       " ('dessin anime', 30),\n",
       " ('philly indie', 29),\n",
       " ('polish prog', 28),\n",
       " ('british soundtrack', 27),\n",
       " ('slovak folk', 27),\n",
       " ('bakersfield sound', 24),\n",
       " ('industrial metal', 24),\n",
       " ('gospel antigas', 23),\n",
       " ('alternative country', 22),\n",
       " ('musica popular paraense', 22),\n",
       " ('forro tradicional', 22),\n",
       " ('chamber pop', 21),\n",
       " ('classical guitar', 21),\n",
       " ('dark techno', 18),\n",
       " ('portuguese pop', 18),\n",
       " ('pop romantico', 18),\n",
       " ('acoustic blues', 16),\n",
       " ('taiwan idol pop', 15),\n",
       " ('world worship', 15),\n",
       " ('classic arab pop', 13),\n",
       " ('pop virale italiano', 10),\n",
       " ('vallenato moderno', 10),\n",
       " ('piedmont blues', 7),\n",
       " ('j-ambient', 7),\n",
       " ('lovers rock', 7),\n",
       " ('rock quebecois', 7),\n",
       " ('cowboy western', 5),\n",
       " ('jazz quartet', 4),\n",
       " ('drone metal', 3),\n",
       " ('neue deutsche welle', 3),\n",
       " ('diva house', 1),\n",
       " ('musica gaucha tradicionalista', 1)]"
      ]
     },
     "execution_count": 67,
     "metadata": {},
     "output_type": "execute_result"
    }
   ],
   "source": [
    "# count unique genres\n",
    "unique_genres = set()\n",
    "for genres in data['genres']:\n",
    "    unique_genres.update(genres)\n",
    "for genres in data['favourite_genres']:\n",
    "    unique_genres.update(genres)\n",
    "print(len(unique_genres))\n",
    "\n",
    "# how many tracks are per genre\n",
    "genre_count = {}\n",
    "for genres in data['genres']:\n",
    "    for genre in genres:\n",
    "        if genre not in genre_count:\n",
    "            genre_count[genre] = 0\n",
    "        genre_count[genre] += 1\n",
    "\n",
    "genre_count = sorted(genre_count.items(), key=lambda x: x[1], reverse=True)\n",
    "genre_count"
   ]
  },
  {
   "cell_type": "code",
   "execution_count": 68,
   "metadata": {
    "ExecuteTime": {
     "end_time": "2023-05-15T16:59:57.077281Z",
     "start_time": "2023-05-15T16:59:57.072632Z"
    },
    "collapsed": false
   },
   "outputs": [
    {
     "name": "stdout",
     "output_type": "stream",
     "text": [
      "skipped_data (3621, 3)\n",
      "not_skipped_data (6260, 3)\n"
     ]
    }
   ],
   "source": [
    "# balance set\n",
    "skipped_data = data[data[\"skipped\"] == 1]\n",
    "not_skipped_data = data[data[\"skipped\"] == 0]\n",
    "\n",
    "# Split the dataset into subsets based on class labels\n",
    "print(\"skipped_data\", skipped_data.shape)\n",
    "print(\"not_skipped_data\", not_skipped_data.shape)\n",
    "\n",
    "# Calculate the minimum number of samples among all classes\n",
    "min_samples = min(len(skipped_data), len(not_skipped_data))\n",
    "\n",
    "# Randomly select samples from each class subset to match the minimum number of samples\n",
    "skipped_data_balanced = skipped_data.sample(n=min_samples, random_state=42)\n",
    "not_skipped_data_balanced = not_skipped_data.sample(n=min_samples, random_state=42)\n",
    "\n",
    "# Merge the balanced subsets to create the final balanced dataset\n",
    "balanced_data = pd.concat([skipped_data_balanced, not_skipped_data_balanced], axis=0)\n",
    "\n",
    "# Shuffle the balanced dataset\n",
    "balanced_data = balanced_data.sample(frac=1, random_state=42).reset_index(drop=True)"
   ]
  },
  {
   "cell_type": "code",
   "execution_count": 69,
   "metadata": {
    "ExecuteTime": {
     "end_time": "2023-05-15T16:59:57.128209Z",
     "start_time": "2023-05-15T16:59:57.078843Z"
    },
    "collapsed": false
   },
   "outputs": [],
   "source": [
    "# Combine genres and favourite_genres\n",
    "mlb = MultiLabelBinarizer()\n",
    "\n",
    "data['combined_genres'] = data.apply(lambda x: x['genres'] + x['favourite_genres'], axis=1)\n",
    "mlb.fit(data['combined_genres'])\n",
    "\n",
    "encoded_favourite_genres = mlb.transform(balanced_data['favourite_genres'])\n",
    "encoded_genres = mlb.transform(balanced_data['genres'])\n",
    "\n",
    "# save mlb to file\n",
    "with open('../microservice/models/model_mlb.pickle', 'wb') as f:\n",
    "    pickle.dump(mlb, f)\n"
   ]
  },
  {
   "cell_type": "code",
   "execution_count": 70,
   "metadata": {
    "ExecuteTime": {
     "end_time": "2023-05-15T16:59:57.136261Z",
     "start_time": "2023-05-15T16:59:57.129804Z"
    },
    "collapsed": false
   },
   "outputs": [],
   "source": [
    "X = np.concatenate([encoded_genres, encoded_favourite_genres], axis=1)\n",
    "\n",
    "# Extract the labels\n",
    "y = balanced_data['skipped'].astype(int).values\n",
    "\n",
    "# Split the data into training and testing sets\n",
    "X_train, X_test, y_train, y_test = train_test_split(X, y, test_size=0.2, shuffle=True)\n",
    "\n",
    "# count skipped and not skipped songs in X_train\n",
    "# print(\"Y_train not skipped\", np.count_nonzero(y_train == 0))\n",
    "# print(\"Y_train skipped\", np.count_nonzero(y_train == 1))\n",
    "# print(\"Y_train skipped %\", np.count_nonzero(y_train == 1) / len(y_train))"
   ]
  },
  {
   "cell_type": "code",
   "execution_count": 71,
   "metadata": {
    "ExecuteTime": {
     "end_time": "2023-05-15T16:59:57.640602Z",
     "start_time": "2023-05-15T16:59:57.137915Z"
    },
    "collapsed": false
   },
   "outputs": [],
   "source": [
    "model = RandomForestClassifier(random_state=42)\n",
    "model.fit(X_train, y_train)\n",
    "\n",
    "# save model to file\n",
    "with open('../microservice/models/model.pickle', 'wb') as f:\n",
    "    pickle.dump(model, f)"
   ]
  },
  {
   "cell_type": "code",
   "execution_count": 72,
   "metadata": {
    "ExecuteTime": {
     "end_time": "2023-05-15T16:59:57.759303Z",
     "start_time": "2023-05-15T16:59:57.642363Z"
    },
    "collapsed": false
   },
   "outputs": [
    {
     "name": "stdout",
     "output_type": "stream",
     "text": [
      "TEST\n",
      "Accuracy: 0.6155969634230504\n",
      "Confusion matrix:\n",
      " [[445 256]\n",
      " [301 447]]\n",
      "Classification report:\n",
      "               precision    recall  f1-score   support\n",
      "\n",
      "           0       0.60      0.63      0.62       701\n",
      "           1       0.64      0.60      0.62       748\n",
      "\n",
      "    accuracy                           0.62      1449\n",
      "   macro avg       0.62      0.62      0.62      1449\n",
      "weighted avg       0.62      0.62      0.62      1449\n",
      "\n",
      "TRAIN\n",
      "Accuracy: 0.8518902123252201\n",
      "Confusion matrix:\n",
      " [[2503  417]\n",
      " [ 441 2432]]\n",
      "Classification report:\n",
      "               precision    recall  f1-score   support\n",
      "\n",
      "           0       0.85      0.86      0.85      2920\n",
      "           1       0.85      0.85      0.85      2873\n",
      "\n",
      "    accuracy                           0.85      5793\n",
      "   macro avg       0.85      0.85      0.85      5793\n",
      "weighted avg       0.85      0.85      0.85      5793\n",
      "\n"
     ]
    }
   ],
   "source": [
    "print(\"TEST\")\n",
    "y_pred = model.predict(X_test)\n",
    "print(\"Accuracy:\", accuracy_score(y_test, y_pred))\n",
    "print(\"Confusion matrix:\\n\", confusion_matrix(y_test, y_pred))\n",
    "print(\"Classification report:\\n\", classification_report(y_test, y_pred))\n",
    "\n",
    "print(\"TRAIN\")\n",
    "y_pred = model.predict(X_train)\n",
    "print(\"Accuracy:\", accuracy_score(y_train, y_pred))\n",
    "print(\"Confusion matrix:\\n\", confusion_matrix(y_train, y_pred))\n",
    "print(\"Classification report:\\n\", classification_report(y_train, y_pred))\n"
   ]
  }
 ],
 "metadata": {
  "kernelspec": {
   "display_name": "Python 3.10 (IUM)",
   "language": "python",
   "name": "ium"
  },
  "language_info": {
   "codemirror_mode": {
    "name": "ipython",
    "version": 3
   },
   "file_extension": ".py",
   "mimetype": "text/x-python",
   "name": "python",
   "nbconvert_exporter": "python",
   "pygments_lexer": "ipython3",
   "version": "3.10.10"
  }
 },
 "nbformat": 4,
 "nbformat_minor": 0
}
