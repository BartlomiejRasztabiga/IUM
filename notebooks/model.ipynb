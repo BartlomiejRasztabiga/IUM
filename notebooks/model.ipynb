{
 "cells": [
  {
   "cell_type": "code",
   "execution_count": 77,
   "metadata": {
    "collapsed": true
   },
   "outputs": [],
   "source": [
    "from sklearn.ensemble import RandomForestClassifier\n",
    "from sklearn.metrics import confusion_matrix, classification_report, accuracy_score\n",
    "from sklearn.preprocessing import MultiLabelBinarizer\n",
    "from sklearn.model_selection import train_test_split\n",
    "from sklearn.feature_extraction.text import TfidfVectorizer\n",
    "from sklearn.cluster import KMeans\n",
    "\n",
    "import pandas as pd\n",
    "import numpy as np\n",
    "import pickle"
   ]
  },
  {
   "cell_type": "code",
   "execution_count": 78,
   "metadata": {
    "collapsed": false
   },
   "outputs": [],
   "source": [
    "merged_data_path = '../data/v2/merged_data.jsonl'\n",
    "data = pd.read_json(merged_data_path, lines=True)"
   ]
  },
  {
   "cell_type": "code",
   "execution_count": 79,
   "metadata": {},
   "outputs": [],
   "source": [
    "# K-MEANS\n",
    "\n",
    "# Prepare the list of unique genres\n",
    "unique_genres = list(set([genre for genres in data['genres'] for genre in genres]) | set([genre for genres in data['favourite_genres'] for genre in genres]))\n",
    "\n",
    "# Convert the genres to a matrix of TF-IDF features\n",
    "vectorizer = TfidfVectorizer()\n",
    "vectorized = vectorizer.fit_transform(unique_genres)\n",
    "\n",
    "# Apply K-means clustering\n",
    "num_clusters = 100  # Adjust this value according to your needs\n",
    "kmeans = KMeans(n_clusters=num_clusters, random_state=42, n_init='auto')\n",
    "kmeans.fit(vectorized)\n",
    "labels = kmeans.labels_\n",
    "\n",
    "# Group the genres based on the cluster labels\n",
    "clustered_genres = {}\n",
    "for i, label in enumerate(labels):\n",
    "    if label not in clustered_genres:\n",
    "        clustered_genres[label] = []\n",
    "    clustered_genres[label].append(unique_genres[i])\n",
    "\n",
    "# Map genres to their cluster label\n",
    "genre_to_cluster = {genre: label for label, genres in clustered_genres.items() for genre in genres}\n",
    "\n",
    "# Define the function for mapping genres to simpler forms\n",
    "def map_genre(genre):\n",
    "    cluster_label = genre_to_cluster[genre]\n",
    "    representative_genre = clustered_genres[cluster_label][0]  # Use the first genre in the cluster as the representative\n",
    "    return representative_genre\n",
    "\n",
    "# Save the genre_to_cluster and clustered_genres dictionaries to use for new data prediction\n",
    "with open('../models/model_genre_to_cluster.pickle', 'wb') as f:\n",
    "    pickle.dump(genre_to_cluster, f)\n",
    "\n",
    "with open('../models/model_clustered_genres.pickle', 'wb') as f:\n",
    "    pickle.dump(clustered_genres, f)\n",
    "\n",
    "# Apply the mapping function to both 'genres' and 'favourite_genres' columns\n",
    "data['genres'] = data['genres'].apply(lambda x: [map_genre(genre) for genre in x])\n",
    "data['favourite_genres'] = data['favourite_genres'].apply(lambda x: [map_genre(genre) for genre in x])\n",
    "\n",
    "# Delete not unique genres\n",
    "data['genres'] = data['genres'].apply(lambda x: list(set(x)))\n",
    "data['favourite_genres'] = data['favourite_genres'].apply(lambda x: list(set(x)))\n"
   ]
  },
  {
   "cell_type": "code",
   "execution_count": 80,
   "metadata": {},
   "outputs": [
    {
     "name": "stdout",
     "output_type": "stream",
     "text": [
      "100\n"
     ]
    },
    {
     "data": {
      "text/plain": [
       "[('muzica populara', 5448),\n",
       " ('acid rock', 4620),\n",
       " ('classic bollywood', 3085),\n",
       " ('bow pop', 2642),\n",
       " ('freak folk', 1580),\n",
       " ('texas country', 988),\n",
       " ('new wave pop', 961),\n",
       " ('texas blues', 892),\n",
       " ('alternative rock', 639),\n",
       " ('belgian dance', 617),\n",
       " ('post-rock', 588),\n",
       " ('classic hungarian pop', 584),\n",
       " ('argentine metal', 580),\n",
       " ('rap underground espanol', 555),\n",
       " ('japanese singer-songwriter', 544),\n",
       " ('psychedelic hip hop', 522),\n",
       " ('british folk', 453),\n",
       " ('neo soul', 452),\n",
       " ('swedish progressive metal', 409),\n",
       " ('turkish trap pop', 383),\n",
       " ('jig and reel', 360),\n",
       " ('funk rock', 319),\n",
       " ('canadian pop punk', 287),\n",
       " ('k-pop boy group', 274),\n",
       " ('danish jazz', 235),\n",
       " ('milan indie', 230),\n",
       " ('alternative emo', 202),\n",
       " ('tribal house', 201),\n",
       " ('post-disco', 180),\n",
       " ('piano mpb', 176),\n",
       " ('contemporary vocal jazz', 172),\n",
       " ('chicago rap', 165),\n",
       " ('spanish rockabilly', 151),\n",
       " ('neo-crust', 142),\n",
       " ('modern power pop', 139),\n",
       " ('german pop', 131),\n",
       " ('uk contemporary r&b', 131),\n",
       " ('uk dancehall', 123),\n",
       " ('vintage schlager', 112),\n",
       " ('roots reggae', 108),\n",
       " ('turkish instrumental', 104),\n",
       " ('dutch edm', 104),\n",
       " ('vintage swing', 102),\n",
       " ('german post-hardcore', 84),\n",
       " ('irish folk', 80),\n",
       " ('soviet synthpop', 77),\n",
       " ('classic girl group', 70),\n",
       " ('cosmic american', 67),\n",
       " ('psicodelia brasileira', 60),\n",
       " ('japanese ska', 58),\n",
       " ('classic italian pop', 56),\n",
       " ('surf music', 55),\n",
       " ('nueva trova chilena', 55),\n",
       " ('samba-rock', 53),\n",
       " ('israeli mediterranean', 52),\n",
       " ('acid trance', 50),\n",
       " ('taiwan punk', 49),\n",
       " ('musica andina', 47),\n",
       " ('cumbia sonidera', 47),\n",
       " ('world worship', 47),\n",
       " ('chinese indie rock', 45),\n",
       " ('spanish pop rock', 44),\n",
       " ('thai teen pop', 43),\n",
       " ('urbano espanol', 43),\n",
       " ('classic dutch pop', 39),\n",
       " ('experimental rock', 38),\n",
       " ('salsa cubana', 36),\n",
       " ('ccm', 33),\n",
       " ('athens indie', 32),\n",
       " ('japanese electropop', 32),\n",
       " ('japanese garage rock', 31),\n",
       " ('indonesian folk pop', 29),\n",
       " ('italian soundtrack', 27),\n",
       " ('slovak folk', 27),\n",
       " ('polish folk', 27),\n",
       " ('bakersfield sound', 24),\n",
       " ('electro-industrial', 24),\n",
       " ('huayno popular', 22),\n",
       " ('bluegrass gospel', 17),\n",
       " ('rock nacional brasileiro', 17),\n",
       " ('deep minimal techno', 16),\n",
       " ('greek guitar', 15),\n",
       " ('south african hip hop', 14),\n",
       " ('russian metal', 12),\n",
       " ('rock alternatif francais', 10),\n",
       " ('trova', 9),\n",
       " ('gothic symphonic metal', 9),\n",
       " ('ambient', 7),\n",
       " ('forro', 7),\n",
       " ('jazz violin', 7),\n",
       " ('cumbia peruana', 5),\n",
       " ('disney horspiele', 5),\n",
       " ('swiss folk', 4),\n",
       " ('palm desert scene', 4),\n",
       " ('son cubano', 4),\n",
       " ('yodeling', 3),\n",
       " ('christmas instrumental', 1),\n",
       " ('healing', 1),\n",
       " ('baton rouge rap', 1),\n",
       " ('grave wave', 1)]"
      ]
     },
     "execution_count": 80,
     "metadata": {},
     "output_type": "execute_result"
    }
   ],
   "source": [
    "# count unique genres\n",
    "unique_genres = set()\n",
    "for genres in data['genres']:\n",
    "    unique_genres.update(genres)\n",
    "for genres in data['favourite_genres']:\n",
    "    unique_genres.update(genres)\n",
    "print(len(unique_genres))\n",
    "\n",
    "# how many tracks are per genre\n",
    "genre_count = {}\n",
    "for genres in data['genres']:\n",
    "    for genre in genres:\n",
    "        if genre not in genre_count:\n",
    "            genre_count[genre] = 0\n",
    "        genre_count[genre] += 1\n",
    "\n",
    "genre_count = sorted(genre_count.items(), key=lambda x: x[1], reverse=True)\n",
    "genre_count"
   ]
  },
  {
   "cell_type": "code",
   "execution_count": 81,
   "metadata": {
    "collapsed": false
   },
   "outputs": [
    {
     "name": "stdout",
     "output_type": "stream",
     "text": [
      "skipped_data (3621, 3)\n",
      "not_skipped_data (6260, 3)\n"
     ]
    }
   ],
   "source": [
    "# balance set\n",
    "skipped_data = data[data[\"skipped\"] == 1]\n",
    "not_skipped_data = data[data[\"skipped\"] == 0]\n",
    "\n",
    "# Split the dataset into subsets based on class labels\n",
    "print(\"skipped_data\", skipped_data.shape)\n",
    "print(\"not_skipped_data\", not_skipped_data.shape)\n",
    "\n",
    "# Calculate the minimum number of samples among all classes\n",
    "min_samples = min(len(skipped_data), len(not_skipped_data))\n",
    "\n",
    "# Randomly select samples from each class subset to match the minimum number of samples\n",
    "skipped_data_balanced = skipped_data.sample(n=min_samples, random_state=42)\n",
    "not_skipped_data_balanced = not_skipped_data.sample(n=min_samples, random_state=42)\n",
    "\n",
    "# Merge the balanced subsets to create the final balanced dataset\n",
    "balanced_data = pd.concat([skipped_data_balanced, not_skipped_data_balanced], axis=0)\n",
    "\n",
    "# Shuffle the balanced dataset\n",
    "balanced_data = balanced_data.sample(frac=1, random_state=42).reset_index(drop=True)"
   ]
  },
  {
   "cell_type": "code",
   "execution_count": 82,
   "metadata": {
    "collapsed": false
   },
   "outputs": [],
   "source": [
    "# Combine genres and favourite_genres\n",
    "mlb = MultiLabelBinarizer()\n",
    "\n",
    "data['combined_genres'] = data.apply(lambda x: x['genres'] + x['favourite_genres'], axis=1)\n",
    "mlb.fit(data['combined_genres'])\n",
    "\n",
    "encoded_favourite_genres = mlb.transform(balanced_data['favourite_genres'])\n",
    "encoded_genres = mlb.transform(balanced_data['genres'])\n",
    "\n",
    "# save mlb to file\n",
    "with open('../models/model_mlb.pickle', 'wb') as f:\n",
    "    pickle.dump(mlb, f)\n"
   ]
  },
  {
   "cell_type": "code",
   "execution_count": 83,
   "metadata": {
    "collapsed": false,
    "pycharm": {
     "is_executing": true
    }
   },
   "outputs": [],
   "source": [
    "X = np.concatenate([encoded_genres, encoded_favourite_genres], axis=1)\n",
    "\n",
    "# Extract the labels\n",
    "y = balanced_data['skipped'].astype(int).values\n",
    "\n",
    "# Split the data into training and testing sets\n",
    "X_train, X_test, y_train, y_test = train_test_split(X, y, test_size=0.2, shuffle=True)\n",
    "\n",
    "# count skipped and not skipped songs in X_train\n",
    "# print(\"Y_train not skipped\", np.count_nonzero(y_train == 0))\n",
    "# print(\"Y_train skipped\", np.count_nonzero(y_train == 1))\n",
    "# print(\"Y_train skipped %\", np.count_nonzero(y_train == 1) / len(y_train))"
   ]
  },
  {
   "cell_type": "code",
   "execution_count": 84,
   "metadata": {
    "collapsed": false,
    "pycharm": {
     "is_executing": true
    }
   },
   "outputs": [],
   "source": [
    "model = RandomForestClassifier(random_state=42, n_estimators=100)\n",
    "model.fit(X_train, y_train)\n",
    "\n",
    "# save model to file\n",
    "with open('../models/model.pickle', 'wb') as f:\n",
    "    pickle.dump(model, f)"
   ]
  },
  {
   "cell_type": "code",
   "execution_count": 85,
   "metadata": {
    "collapsed": false,
    "pycharm": {
     "is_executing": true
    }
   },
   "outputs": [
    {
     "name": "stdout",
     "output_type": "stream",
     "text": [
      "TEST\n",
      "Accuracy: 0.6066252587991718\n",
      "Confusion matrix:\n",
      " [[446 300]\n",
      " [270 433]]\n",
      "Classification report:\n",
      "               precision    recall  f1-score   support\n",
      "\n",
      "           0       0.62      0.60      0.61       746\n",
      "           1       0.59      0.62      0.60       703\n",
      "\n",
      "    accuracy                           0.61      1449\n",
      "   macro avg       0.61      0.61      0.61      1449\n",
      "weighted avg       0.61      0.61      0.61      1449\n",
      "\n",
      "TRAIN\n",
      "Accuracy: 0.839806663214224\n",
      "Confusion matrix:\n",
      " [[2353  522]\n",
      " [ 406 2512]]\n",
      "Classification report:\n",
      "               precision    recall  f1-score   support\n",
      "\n",
      "           0       0.85      0.82      0.84      2875\n",
      "           1       0.83      0.86      0.84      2918\n",
      "\n",
      "    accuracy                           0.84      5793\n",
      "   macro avg       0.84      0.84      0.84      5793\n",
      "weighted avg       0.84      0.84      0.84      5793\n",
      "\n"
     ]
    }
   ],
   "source": [
    "print(\"TEST\")\n",
    "y_pred = model.predict(X_test)\n",
    "print(\"Accuracy:\", accuracy_score(y_test, y_pred))\n",
    "print(\"Confusion matrix:\\n\", confusion_matrix(y_test, y_pred))\n",
    "print(\"Classification report:\\n\", classification_report(y_test, y_pred))\n",
    "\n",
    "print(\"TRAIN\")\n",
    "y_pred = model.predict(X_train)\n",
    "print(\"Accuracy:\", accuracy_score(y_train, y_pred))\n",
    "print(\"Confusion matrix:\\n\", confusion_matrix(y_train, y_pred))\n",
    "print(\"Classification report:\\n\", classification_report(y_train, y_pred))"
   ]
  },
  {
   "cell_type": "code",
   "execution_count": null,
   "metadata": {
    "collapsed": false,
    "pycharm": {
     "is_executing": true
    }
   },
   "outputs": [],
   "source": [
    "\n"
   ]
  }
 ],
 "metadata": {
  "kernelspec": {
   "display_name": "Python 3.10 (IUM)",
   "language": "python",
   "name": "ium"
  },
  "language_info": {
   "codemirror_mode": {
    "name": "ipython",
    "version": 3
   },
   "file_extension": ".py",
   "mimetype": "text/x-python",
   "name": "python",
   "nbconvert_exporter": "python",
   "pygments_lexer": "ipython3",
   "version": "3.10.10"
  }
 },
 "nbformat": 4,
 "nbformat_minor": 0
}
