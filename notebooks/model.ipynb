{
 "cells": [
  {
   "cell_type": "code",
   "execution_count": 3,
   "metadata": {
    "collapsed": true
   },
   "outputs": [],
   "source": [
    "from sklearn.ensemble import RandomForestClassifier\n",
    "from sklearn.metrics import confusion_matrix, classification_report, accuracy_score\n",
    "from sklearn.preprocessing import MultiLabelBinarizer\n",
    "from sklearn.model_selection import train_test_split\n",
    "\n",
    "import pandas as pd\n",
    "import numpy as np\n"
   ]
  },
  {
   "cell_type": "code",
   "execution_count": 4,
   "outputs": [
    {
     "data": {
      "text/plain": "                                    favourite_genres    name   \n0                   [permanent wave, mandopop, funk]  T. Rex  \\\n1                    [filmi, regional mexican, folk]  T. Rex   \n2  [psychedelic rock, country rock, rock en espanol]  T. Rex   \n3  [psychedelic rock, country rock, rock en espanol]  T. Rex   \n4  [psychedelic rock, country rock, rock en espanol]  T. Rex   \n\n                                              genres  skipped  \n0  [album rock, art rock, classic rock, folk rock...    False  \n1  [album rock, art rock, classic rock, folk rock...    False  \n2  [album rock, art rock, classic rock, folk rock...    False  \n3  [album rock, art rock, classic rock, folk rock...    False  \n4  [album rock, art rock, classic rock, folk rock...    False  ",
      "text/html": "<div>\n<style scoped>\n    .dataframe tbody tr th:only-of-type {\n        vertical-align: middle;\n    }\n\n    .dataframe tbody tr th {\n        vertical-align: top;\n    }\n\n    .dataframe thead th {\n        text-align: right;\n    }\n</style>\n<table border=\"1\" class=\"dataframe\">\n  <thead>\n    <tr style=\"text-align: right;\">\n      <th></th>\n      <th>favourite_genres</th>\n      <th>name</th>\n      <th>genres</th>\n      <th>skipped</th>\n    </tr>\n  </thead>\n  <tbody>\n    <tr>\n      <th>0</th>\n      <td>[permanent wave, mandopop, funk]</td>\n      <td>T. Rex</td>\n      <td>[album rock, art rock, classic rock, folk rock...</td>\n      <td>False</td>\n    </tr>\n    <tr>\n      <th>1</th>\n      <td>[filmi, regional mexican, folk]</td>\n      <td>T. Rex</td>\n      <td>[album rock, art rock, classic rock, folk rock...</td>\n      <td>False</td>\n    </tr>\n    <tr>\n      <th>2</th>\n      <td>[psychedelic rock, country rock, rock en espanol]</td>\n      <td>T. Rex</td>\n      <td>[album rock, art rock, classic rock, folk rock...</td>\n      <td>False</td>\n    </tr>\n    <tr>\n      <th>3</th>\n      <td>[psychedelic rock, country rock, rock en espanol]</td>\n      <td>T. Rex</td>\n      <td>[album rock, art rock, classic rock, folk rock...</td>\n      <td>False</td>\n    </tr>\n    <tr>\n      <th>4</th>\n      <td>[psychedelic rock, country rock, rock en espanol]</td>\n      <td>T. Rex</td>\n      <td>[album rock, art rock, classic rock, folk rock...</td>\n      <td>False</td>\n    </tr>\n  </tbody>\n</table>\n</div>"
     },
     "execution_count": 4,
     "metadata": {},
     "output_type": "execute_result"
    }
   ],
   "source": [
    "merged_data_path = '../data/merged_data.jsonl'\n",
    "data = pd.read_json(merged_data_path, lines=True)\n",
    "\n",
    "data = data.drop(\n",
    "    columns=[\"release_date\", \"key\", \"loudness\", \"popularity\",\n",
    "             \"duration_ms\", \"explicit\",\n",
    "             \"danceability\", \"energy\", \"speechiness\",\n",
    "             \"acousticness\", \"instrumentalness\", \"liveness\", \"valence\", \"tempo\"])\n",
    "\n",
    "data.head(5)"
   ],
   "metadata": {
    "collapsed": false
   }
  },
  {
   "cell_type": "code",
   "execution_count": 5,
   "outputs": [],
   "source": [
    "# unique_favourite_genres = set()\n",
    "# for genres in data['favourite_genres']:\n",
    "#   for genre in genres:\n",
    "#     unique_favourite_genres.add(genre)\n",
    "#\n",
    "# # remove genres that are not in favourite_genres\n",
    "# data['genres'] = data['genres'].apply(\n",
    "#     lambda x: [genre for genre in x if genre in unique_favourite_genres])\n",
    "\n",
    "# TODO remove ??? moze niepotrzebne\n",
    "\n",
    "# Combine genres and favourite_genres\n",
    "all_genres = list(data['favourite_genres'] + data['genres'])\n",
    "\n",
    "# One-hot encode the genres\n",
    "mlb = MultiLabelBinarizer()\n",
    "encoded_all_genres = mlb.fit_transform(all_genres)\n",
    "\n",
    "# Split encoded_genres into genres and favourite_genres\n",
    "encoded_favourite_genres = encoded_all_genres[:, :len(data['favourite_genres'][0])]\n",
    "encoded_genres = encoded_all_genres[:, len(data['favourite_genres'][0]):]"
   ],
   "metadata": {
    "collapsed": false
   }
  },
  {
   "cell_type": "code",
   "execution_count": 6,
   "outputs": [],
   "source": [
    "# Concatenate the one-hot encoded columns\n",
    "X = np.concatenate([encoded_favourite_genres, encoded_genres], axis=1)\n",
    "\n",
    "# Extract the labels\n",
    "y = data['skipped'].astype(int).values\n",
    "\n",
    "# Split the data into training and testing sets\n",
    "X_train, X_test, y_train, y_test = train_test_split(X, y, test_size=0.2, random_state=42)"
   ],
   "metadata": {
    "collapsed": false
   }
  },
  {
   "cell_type": "code",
   "execution_count": 7,
   "outputs": [
    {
     "data": {
      "text/plain": "array([9.59702153e-06, 2.39842080e-07, 1.64173051e-03, ...,\n       9.64864998e-05, 7.34327138e-04, 0.00000000e+00])"
     },
     "execution_count": 7,
     "metadata": {},
     "output_type": "execute_result"
    }
   ],
   "source": [
    "rf_model = RandomForestClassifier(n_estimators=100, random_state=42)\n",
    "rf_model.fit(X_train, y_train)\n",
    "\n",
    "# TODO get feature importance scores\n",
    "\n",
    "# get the feature importance\n",
    "rf_model.feature_importances_\n"
   ],
   "metadata": {
    "collapsed": false
   }
  },
  {
   "cell_type": "code",
   "execution_count": 8,
   "outputs": [
    {
     "name": "stdout",
     "output_type": "stream",
     "text": [
      "TEST\n",
      "Accuracy: 0.6535154274152757\n",
      "Confusion matrix:\n",
      " [[998 263]\n",
      " [422 294]]\n",
      "Classification report:\n",
      "               precision    recall  f1-score   support\n",
      "\n",
      "           0       0.70      0.79      0.74      1261\n",
      "           1       0.53      0.41      0.46       716\n",
      "\n",
      "    accuracy                           0.65      1977\n",
      "   macro avg       0.62      0.60      0.60      1977\n",
      "weighted avg       0.64      0.65      0.64      1977\n",
      "\n",
      "TRAIN\n",
      "Accuracy: 0.917004048582996\n",
      "Confusion matrix:\n",
      " [[4714  285]\n",
      " [ 371 2534]]\n",
      "Classification report:\n",
      "               precision    recall  f1-score   support\n",
      "\n",
      "           0       0.93      0.94      0.93      4999\n",
      "           1       0.90      0.87      0.89      2905\n",
      "\n",
      "    accuracy                           0.92      7904\n",
      "   macro avg       0.91      0.91      0.91      7904\n",
      "weighted avg       0.92      0.92      0.92      7904\n",
      "\n"
     ]
    }
   ],
   "source": [
    "print(\"TEST\")\n",
    "y_pred = rf_model.predict(X_test)\n",
    "print(\"Accuracy:\", accuracy_score(y_test, y_pred))\n",
    "print(\"Confusion matrix:\\n\", confusion_matrix(y_test, y_pred))\n",
    "print(\"Classification report:\\n\", classification_report(y_test, y_pred))\n",
    "\n",
    "print(\"TRAIN\")\n",
    "y_pred = rf_model.predict(X_train)\n",
    "print(\"Accuracy:\", accuracy_score(y_train, y_pred))\n",
    "print(\"Confusion matrix:\\n\", confusion_matrix(y_train, y_pred))\n",
    "print(\"Classification report:\\n\", classification_report(y_train, y_pred))\n"
   ],
   "metadata": {
    "collapsed": false
   }
  },
  {
   "cell_type": "code",
   "execution_count": 8,
   "outputs": [],
   "source": [
    "\n"
   ],
   "metadata": {
    "collapsed": false
   }
  }
 ],
 "metadata": {
  "kernelspec": {
   "display_name": "Python 3",
   "language": "python",
   "name": "python3"
  },
  "language_info": {
   "codemirror_mode": {
    "name": "ipython",
    "version": 2
   },
   "file_extension": ".py",
   "mimetype": "text/x-python",
   "name": "python",
   "nbconvert_exporter": "python",
   "pygments_lexer": "ipython2",
   "version": "2.7.6"
  }
 },
 "nbformat": 4,
 "nbformat_minor": 0
}
