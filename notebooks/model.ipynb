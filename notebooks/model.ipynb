{
 "cells": [
  {
   "cell_type": "code",
   "execution_count": 41,
   "metadata": {
    "collapsed": true
   },
   "outputs": [],
   "source": [
    "from sklearn.ensemble import RandomForestClassifier\n",
    "from sklearn.metrics import confusion_matrix, classification_report, accuracy_score\n",
    "from sklearn.preprocessing import MultiLabelBinarizer\n",
    "from sklearn.model_selection import train_test_split\n",
    "\n",
    "import pandas as pd\n",
    "import numpy as np\n"
   ]
  },
  {
   "cell_type": "code",
   "execution_count": 42,
   "metadata": {
    "collapsed": false
   },
   "outputs": [
    {
     "data": {
      "text/plain": "                timestamp  user_id                track_id  session_id   \n0 2023-01-03 05:09:55.000      101  2PmGtDUyJIpYBEtI1hQIVp         124  \\\n1 2023-02-08 21:41:02.507      103  2PmGtDUyJIpYBEtI1hQIVp         151   \n2 2023-02-12 01:17:14.946      132  2PmGtDUyJIpYBEtI1hQIVp         544   \n3 2023-01-03 03:59:59.738      132  5yxYokipsWlpDCt4Th4VVc         534   \n4 2023-03-07 14:28:25.702      132  5yxYokipsWlpDCt4Th4VVc         547   \n\n               track_name  popularity  duration_ms  explicit   \n0       Ballrooms Of Mars          34       247707         0  \\\n1       Ballrooms Of Mars          34       247707         0   \n2       Ballrooms Of Mars          34       247707         0   \n3  Solid Gold Easy Action          35       140067         0   \n4  Solid Gold Easy Action          35       140067         0   \n\n                id_artist  danceability  ...   \n0  3dBVyJ7JuOMt4GE9607Qin         0.491  ...  \\\n1  3dBVyJ7JuOMt4GE9607Qin         0.491  ...   \n2  3dBVyJ7JuOMt4GE9607Qin         0.491  ...   \n3  3dBVyJ7JuOMt4GE9607Qin         0.449  ...   \n4  3dBVyJ7JuOMt4GE9607Qin         0.449  ...   \n\n                                    favourite_genres  premium_user   \n0                   [permanent wave, mandopop, funk]         False  \\\n1                    [filmi, regional mexican, folk]         False   \n2  [psychedelic rock, country rock, rock en espanol]          True   \n3  [psychedelic rock, country rock, rock en espanol]          True   \n4  [psychedelic rock, country rock, rock en espanol]          True   \n\n                                              genres  skipped   \n0  [album rock, art rock, classic rock, folk rock...    False  \\\n1  [album rock, art rock, classic rock, folk rock...    False   \n2  [album rock, art rock, classic rock, folk rock...    False   \n3  [album rock, art rock, classic rock, folk rock...    False   \n4  [album rock, art rock, classic rock, folk rock...    False   \n\n   number_of_matching_genres  month  day_of_week  hour_of_day   \n0                          0      1            1            5  \\\n1                          0      2            2           21   \n2                          1      2            6            1   \n3                          1      1            1            3   \n4                          1      3            1           14   \n\n                        genres_with_favourite_genres   \n0  [album rock, art rock, classic rock, folk rock...  \\\n1  [album rock, art rock, classic rock, folk rock...   \n2  [album rock, art rock, classic rock, folk rock...   \n3  [album rock, art rock, classic rock, folk rock...   \n4  [album rock, art rock, classic rock, folk rock...   \n\n                                       common_genres  \n0  [folk rock, protopunk, mandopop, album rock, a...  \n1  [folk rock, protopunk, filmi, regional mexican...  \n2  [folk rock, protopunk, album rock, art rock, r...  \n3  [folk rock, protopunk, album rock, art rock, r...  \n4  [folk rock, protopunk, album rock, art rock, r...  \n\n[5 rows x 32 columns]",
      "text/html": "<div>\n<style scoped>\n    .dataframe tbody tr th:only-of-type {\n        vertical-align: middle;\n    }\n\n    .dataframe tbody tr th {\n        vertical-align: top;\n    }\n\n    .dataframe thead th {\n        text-align: right;\n    }\n</style>\n<table border=\"1\" class=\"dataframe\">\n  <thead>\n    <tr style=\"text-align: right;\">\n      <th></th>\n      <th>timestamp</th>\n      <th>user_id</th>\n      <th>track_id</th>\n      <th>session_id</th>\n      <th>track_name</th>\n      <th>popularity</th>\n      <th>duration_ms</th>\n      <th>explicit</th>\n      <th>id_artist</th>\n      <th>danceability</th>\n      <th>...</th>\n      <th>favourite_genres</th>\n      <th>premium_user</th>\n      <th>genres</th>\n      <th>skipped</th>\n      <th>number_of_matching_genres</th>\n      <th>month</th>\n      <th>day_of_week</th>\n      <th>hour_of_day</th>\n      <th>genres_with_favourite_genres</th>\n      <th>common_genres</th>\n    </tr>\n  </thead>\n  <tbody>\n    <tr>\n      <th>0</th>\n      <td>2023-01-03 05:09:55.000</td>\n      <td>101</td>\n      <td>2PmGtDUyJIpYBEtI1hQIVp</td>\n      <td>124</td>\n      <td>Ballrooms Of Mars</td>\n      <td>34</td>\n      <td>247707</td>\n      <td>0</td>\n      <td>3dBVyJ7JuOMt4GE9607Qin</td>\n      <td>0.491</td>\n      <td>...</td>\n      <td>[permanent wave, mandopop, funk]</td>\n      <td>False</td>\n      <td>[album rock, art rock, classic rock, folk rock...</td>\n      <td>False</td>\n      <td>0</td>\n      <td>1</td>\n      <td>1</td>\n      <td>5</td>\n      <td>[album rock, art rock, classic rock, folk rock...</td>\n      <td>[folk rock, protopunk, mandopop, album rock, a...</td>\n    </tr>\n    <tr>\n      <th>1</th>\n      <td>2023-02-08 21:41:02.507</td>\n      <td>103</td>\n      <td>2PmGtDUyJIpYBEtI1hQIVp</td>\n      <td>151</td>\n      <td>Ballrooms Of Mars</td>\n      <td>34</td>\n      <td>247707</td>\n      <td>0</td>\n      <td>3dBVyJ7JuOMt4GE9607Qin</td>\n      <td>0.491</td>\n      <td>...</td>\n      <td>[filmi, regional mexican, folk]</td>\n      <td>False</td>\n      <td>[album rock, art rock, classic rock, folk rock...</td>\n      <td>False</td>\n      <td>0</td>\n      <td>2</td>\n      <td>2</td>\n      <td>21</td>\n      <td>[album rock, art rock, classic rock, folk rock...</td>\n      <td>[folk rock, protopunk, filmi, regional mexican...</td>\n    </tr>\n    <tr>\n      <th>2</th>\n      <td>2023-02-12 01:17:14.946</td>\n      <td>132</td>\n      <td>2PmGtDUyJIpYBEtI1hQIVp</td>\n      <td>544</td>\n      <td>Ballrooms Of Mars</td>\n      <td>34</td>\n      <td>247707</td>\n      <td>0</td>\n      <td>3dBVyJ7JuOMt4GE9607Qin</td>\n      <td>0.491</td>\n      <td>...</td>\n      <td>[psychedelic rock, country rock, rock en espanol]</td>\n      <td>True</td>\n      <td>[album rock, art rock, classic rock, folk rock...</td>\n      <td>False</td>\n      <td>1</td>\n      <td>2</td>\n      <td>6</td>\n      <td>1</td>\n      <td>[album rock, art rock, classic rock, folk rock...</td>\n      <td>[folk rock, protopunk, album rock, art rock, r...</td>\n    </tr>\n    <tr>\n      <th>3</th>\n      <td>2023-01-03 03:59:59.738</td>\n      <td>132</td>\n      <td>5yxYokipsWlpDCt4Th4VVc</td>\n      <td>534</td>\n      <td>Solid Gold Easy Action</td>\n      <td>35</td>\n      <td>140067</td>\n      <td>0</td>\n      <td>3dBVyJ7JuOMt4GE9607Qin</td>\n      <td>0.449</td>\n      <td>...</td>\n      <td>[psychedelic rock, country rock, rock en espanol]</td>\n      <td>True</td>\n      <td>[album rock, art rock, classic rock, folk rock...</td>\n      <td>False</td>\n      <td>1</td>\n      <td>1</td>\n      <td>1</td>\n      <td>3</td>\n      <td>[album rock, art rock, classic rock, folk rock...</td>\n      <td>[folk rock, protopunk, album rock, art rock, r...</td>\n    </tr>\n    <tr>\n      <th>4</th>\n      <td>2023-03-07 14:28:25.702</td>\n      <td>132</td>\n      <td>5yxYokipsWlpDCt4Th4VVc</td>\n      <td>547</td>\n      <td>Solid Gold Easy Action</td>\n      <td>35</td>\n      <td>140067</td>\n      <td>0</td>\n      <td>3dBVyJ7JuOMt4GE9607Qin</td>\n      <td>0.449</td>\n      <td>...</td>\n      <td>[psychedelic rock, country rock, rock en espanol]</td>\n      <td>True</td>\n      <td>[album rock, art rock, classic rock, folk rock...</td>\n      <td>False</td>\n      <td>1</td>\n      <td>3</td>\n      <td>1</td>\n      <td>14</td>\n      <td>[album rock, art rock, classic rock, folk rock...</td>\n      <td>[folk rock, protopunk, album rock, art rock, r...</td>\n    </tr>\n  </tbody>\n</table>\n<p>5 rows × 32 columns</p>\n</div>"
     },
     "execution_count": 42,
     "metadata": {},
     "output_type": "execute_result"
    }
   ],
   "source": [
    "merged_data_path = '../data/merged_data.jsonl'\n",
    "data = pd.read_json(merged_data_path, lines=True)\n",
    "\n",
    "# data = data.drop(\n",
    "#     columns=[\"release_date\", \"key\", \"loudness\",\n",
    "#              \"explicit\", \"popularity\", \"duration_ms\", \"danceability\", \"energy\", \"speechiness\",\n",
    "#              \"acousticness\", \"instrumentalness\", \"liveness\", \"valence\", \"tempo\"])\n",
    "\n",
    "data = data.drop(\n",
    "    columns=[\"release_date\", \"name\"])\n",
    "\n",
    "data.head(5)"
   ]
  },
  {
   "cell_type": "code",
   "execution_count": 43,
   "metadata": {
    "collapsed": false
   },
   "outputs": [
    {
     "name": "stdout",
     "output_type": "stream",
     "text": [
      "unique_favourite_genres 46\n",
      "unique_genres 1766\n",
      "common genres {'pop', 'latin rock', 'regional mexican', 'country rock', 'soul', 'brill building pop', 'latin alternative', 'hoerspiel', 'alternative rock', 'new romantic', 'pop rock', 'latin', 'soft rock', 'psychedelic rock', 'alternative metal', 'quiet storm', 'rock', 'rock en espanol', 'c-pop', 'funk', 'filmi', 'vocal jazz', 'permanent wave', 'europop', 'dance pop', 'blues rock', 'hard rock', 'ranchera', 'art rock', 'folk', 'turkish pop', 'j-pop', 'new wave', 'latin pop', 'metal', 'adult standards', 'mellow gold', 'mandopop', 'album rock', 'lounge', 'new wave pop', 'classic rock', 'tropical', 'singer-songwriter', 'motown', 'mpb'}\n"
     ]
    },
    {
     "data": {
      "text/plain": "                timestamp  user_id                track_id  session_id   \n0 2023-01-03 05:09:55.000      101  2PmGtDUyJIpYBEtI1hQIVp         124  \\\n1 2023-02-08 21:41:02.507      103  2PmGtDUyJIpYBEtI1hQIVp         151   \n2 2023-02-12 01:17:14.946      132  2PmGtDUyJIpYBEtI1hQIVp         544   \n3 2023-01-03 03:59:59.738      132  5yxYokipsWlpDCt4Th4VVc         534   \n4 2023-03-07 14:28:25.702      132  5yxYokipsWlpDCt4Th4VVc         547   \n\n               track_name  popularity  duration_ms  explicit   \n0       Ballrooms Of Mars          34       247707         0  \\\n1       Ballrooms Of Mars          34       247707         0   \n2       Ballrooms Of Mars          34       247707         0   \n3  Solid Gold Easy Action          35       140067         0   \n4  Solid Gold Easy Action          35       140067         0   \n\n                id_artist  danceability  ...   \n0  3dBVyJ7JuOMt4GE9607Qin         0.491  ...  \\\n1  3dBVyJ7JuOMt4GE9607Qin         0.491  ...   \n2  3dBVyJ7JuOMt4GE9607Qin         0.491  ...   \n3  3dBVyJ7JuOMt4GE9607Qin         0.449  ...   \n4  3dBVyJ7JuOMt4GE9607Qin         0.449  ...   \n\n                                    favourite_genres  premium_user   \n0                   [permanent wave, mandopop, funk]         False  \\\n1                    [filmi, regional mexican, folk]         False   \n2  [psychedelic rock, country rock, rock en espanol]          True   \n3  [psychedelic rock, country rock, rock en espanol]          True   \n4  [psychedelic rock, country rock, rock en espanol]          True   \n\n                                              genres  skipped   \n0  [album rock, art rock, classic rock, psychedel...    False  \\\n1  [album rock, art rock, classic rock, psychedel...    False   \n2  [album rock, art rock, classic rock, psychedel...    False   \n3  [album rock, art rock, classic rock, psychedel...    False   \n4  [album rock, art rock, classic rock, psychedel...    False   \n\n   number_of_matching_genres  month  day_of_week  hour_of_day   \n0                          0      1            1            5  \\\n1                          0      2            2           21   \n2                          1      2            6            1   \n3                          1      1            1            3   \n4                          1      3            1           14   \n\n                        genres_with_favourite_genres   \n0  [album rock, art rock, classic rock, folk rock...  \\\n1  [album rock, art rock, classic rock, folk rock...   \n2  [album rock, art rock, classic rock, folk rock...   \n3  [album rock, art rock, classic rock, folk rock...   \n4  [album rock, art rock, classic rock, folk rock...   \n\n                                       common_genres  \n0  [folk rock, protopunk, mandopop, album rock, a...  \n1  [folk rock, protopunk, filmi, regional mexican...  \n2  [folk rock, protopunk, album rock, art rock, r...  \n3  [folk rock, protopunk, album rock, art rock, r...  \n4  [folk rock, protopunk, album rock, art rock, r...  \n\n[5 rows x 32 columns]",
      "text/html": "<div>\n<style scoped>\n    .dataframe tbody tr th:only-of-type {\n        vertical-align: middle;\n    }\n\n    .dataframe tbody tr th {\n        vertical-align: top;\n    }\n\n    .dataframe thead th {\n        text-align: right;\n    }\n</style>\n<table border=\"1\" class=\"dataframe\">\n  <thead>\n    <tr style=\"text-align: right;\">\n      <th></th>\n      <th>timestamp</th>\n      <th>user_id</th>\n      <th>track_id</th>\n      <th>session_id</th>\n      <th>track_name</th>\n      <th>popularity</th>\n      <th>duration_ms</th>\n      <th>explicit</th>\n      <th>id_artist</th>\n      <th>danceability</th>\n      <th>...</th>\n      <th>favourite_genres</th>\n      <th>premium_user</th>\n      <th>genres</th>\n      <th>skipped</th>\n      <th>number_of_matching_genres</th>\n      <th>month</th>\n      <th>day_of_week</th>\n      <th>hour_of_day</th>\n      <th>genres_with_favourite_genres</th>\n      <th>common_genres</th>\n    </tr>\n  </thead>\n  <tbody>\n    <tr>\n      <th>0</th>\n      <td>2023-01-03 05:09:55.000</td>\n      <td>101</td>\n      <td>2PmGtDUyJIpYBEtI1hQIVp</td>\n      <td>124</td>\n      <td>Ballrooms Of Mars</td>\n      <td>34</td>\n      <td>247707</td>\n      <td>0</td>\n      <td>3dBVyJ7JuOMt4GE9607Qin</td>\n      <td>0.491</td>\n      <td>...</td>\n      <td>[permanent wave, mandopop, funk]</td>\n      <td>False</td>\n      <td>[album rock, art rock, classic rock, psychedel...</td>\n      <td>False</td>\n      <td>0</td>\n      <td>1</td>\n      <td>1</td>\n      <td>5</td>\n      <td>[album rock, art rock, classic rock, folk rock...</td>\n      <td>[folk rock, protopunk, mandopop, album rock, a...</td>\n    </tr>\n    <tr>\n      <th>1</th>\n      <td>2023-02-08 21:41:02.507</td>\n      <td>103</td>\n      <td>2PmGtDUyJIpYBEtI1hQIVp</td>\n      <td>151</td>\n      <td>Ballrooms Of Mars</td>\n      <td>34</td>\n      <td>247707</td>\n      <td>0</td>\n      <td>3dBVyJ7JuOMt4GE9607Qin</td>\n      <td>0.491</td>\n      <td>...</td>\n      <td>[filmi, regional mexican, folk]</td>\n      <td>False</td>\n      <td>[album rock, art rock, classic rock, psychedel...</td>\n      <td>False</td>\n      <td>0</td>\n      <td>2</td>\n      <td>2</td>\n      <td>21</td>\n      <td>[album rock, art rock, classic rock, folk rock...</td>\n      <td>[folk rock, protopunk, filmi, regional mexican...</td>\n    </tr>\n    <tr>\n      <th>2</th>\n      <td>2023-02-12 01:17:14.946</td>\n      <td>132</td>\n      <td>2PmGtDUyJIpYBEtI1hQIVp</td>\n      <td>544</td>\n      <td>Ballrooms Of Mars</td>\n      <td>34</td>\n      <td>247707</td>\n      <td>0</td>\n      <td>3dBVyJ7JuOMt4GE9607Qin</td>\n      <td>0.491</td>\n      <td>...</td>\n      <td>[psychedelic rock, country rock, rock en espanol]</td>\n      <td>True</td>\n      <td>[album rock, art rock, classic rock, psychedel...</td>\n      <td>False</td>\n      <td>1</td>\n      <td>2</td>\n      <td>6</td>\n      <td>1</td>\n      <td>[album rock, art rock, classic rock, folk rock...</td>\n      <td>[folk rock, protopunk, album rock, art rock, r...</td>\n    </tr>\n    <tr>\n      <th>3</th>\n      <td>2023-01-03 03:59:59.738</td>\n      <td>132</td>\n      <td>5yxYokipsWlpDCt4Th4VVc</td>\n      <td>534</td>\n      <td>Solid Gold Easy Action</td>\n      <td>35</td>\n      <td>140067</td>\n      <td>0</td>\n      <td>3dBVyJ7JuOMt4GE9607Qin</td>\n      <td>0.449</td>\n      <td>...</td>\n      <td>[psychedelic rock, country rock, rock en espanol]</td>\n      <td>True</td>\n      <td>[album rock, art rock, classic rock, psychedel...</td>\n      <td>False</td>\n      <td>1</td>\n      <td>1</td>\n      <td>1</td>\n      <td>3</td>\n      <td>[album rock, art rock, classic rock, folk rock...</td>\n      <td>[folk rock, protopunk, album rock, art rock, r...</td>\n    </tr>\n    <tr>\n      <th>4</th>\n      <td>2023-03-07 14:28:25.702</td>\n      <td>132</td>\n      <td>5yxYokipsWlpDCt4Th4VVc</td>\n      <td>547</td>\n      <td>Solid Gold Easy Action</td>\n      <td>35</td>\n      <td>140067</td>\n      <td>0</td>\n      <td>3dBVyJ7JuOMt4GE9607Qin</td>\n      <td>0.449</td>\n      <td>...</td>\n      <td>[psychedelic rock, country rock, rock en espanol]</td>\n      <td>True</td>\n      <td>[album rock, art rock, classic rock, psychedel...</td>\n      <td>False</td>\n      <td>1</td>\n      <td>3</td>\n      <td>1</td>\n      <td>14</td>\n      <td>[album rock, art rock, classic rock, folk rock...</td>\n      <td>[folk rock, protopunk, album rock, art rock, r...</td>\n    </tr>\n  </tbody>\n</table>\n<p>5 rows × 32 columns</p>\n</div>"
     },
     "execution_count": 43,
     "metadata": {},
     "output_type": "execute_result"
    }
   ],
   "source": [
    "unique_favourite_genres = set()\n",
    "for genres in data['favourite_genres']:\n",
    "  for genre in genres:\n",
    "    unique_favourite_genres.add(genre)\n",
    "\n",
    "unique_genres = set()\n",
    "for genres in data['genres']:\n",
    "  for genre in genres:\n",
    "    unique_genres.add(genre)\n",
    "\n",
    "# show all common genres between all favourite_genres and genres\n",
    "# TODO chyba zle zliczam genres, skoro w analize wyszlo 2875 gatunkow\n",
    "print(\"unique_favourite_genres\", len(unique_favourite_genres))\n",
    "print(\"unique_genres\", len(unique_genres))\n",
    "common_genres = unique_favourite_genres.intersection(unique_genres)\n",
    "print(\"common genres\", common_genres)\n",
    "\n",
    "# remove genres that are not in favourite_genres\n",
    "data['genres'] = data['genres'].apply(\n",
    "    lambda x: [genre for genre in x if genre in unique_favourite_genres])\n",
    "\n",
    "data.head()\n",
    "\n",
    "# TODO remove ??? moze niepotrzebne"
   ]
  },
  {
   "cell_type": "code",
   "execution_count": 44,
   "metadata": {
    "collapsed": false
   },
   "outputs": [
    {
     "name": "stdout",
     "output_type": "stream",
     "text": [
      "skipped_data (3621, 32)\n",
      "not_skipped_data (6260, 32)\n"
     ]
    },
    {
     "data": {
      "text/plain": "                timestamp  user_id                track_id  session_id   \n0 2023-03-23 18:05:18.096      147  0kVB6PeqBbN2HhwJdWumeZ         732  \\\n1 2023-01-22 05:30:03.002      141  4pJKzul9oXW1lBQmOpf96m         646   \n2 2023-02-23 05:54:20.102      125  7t6zMZSO6DfCeE4IcinxUJ         443   \n3 2023-02-26 04:48:49.355      149  62UVjAjo8ra1PVSeHfnxk3         754   \n4 2023-01-31 09:21:51.897      134  7DDfGy1cstvJGETyYYnfig         559   \n\n                  track_name  popularity  duration_ms  explicit   \n0    The Wall Street Shuffle          40       236373         0  \\\n1          Deep Dark Dungeon          38       129133         0   \n2        Chala Chala Navbala           0       193320         0   \n3               I Love Paris          21       353200         0   \n4  The One to Sing the Blues          30       187213         0   \n\n                id_artist  danceability  ...   \n0  6i6WlGzQtXtz7GcC5H5st5         0.486  ...  \\\n1  06nsZ3qSOYZ2hPVIMcr1IN         0.740  ...   \n2  61JrslREXq98hurYL2hYoc         0.488  ...   \n3  3XOVABzceOUTbR3iEz0ImO         0.601  ...   \n4  1DFr97A9HnbV3SKTJFu62M         0.347  ...   \n\n                                    favourite_genres  premium_user   \n0                   [soft rock, hoerspiel, ranchera]          True  \\\n1            [tropical, permanent wave, mellow gold]         False   \n2         [classic rock, regional mexican, pop rock]         False   \n3  [psychedelic rock, new wave pop, alternative r...         False   \n4       [hoerspiel, quiet storm, brill building pop]          True   \n\n                                              genres  skipped   \n0  [album rock, art rock, classic rock, mellow go...     True  \\\n1  [album rock, blues rock, classic rock, country...    False   \n2                                            [filmi]    False   \n3                                           [lounge]     True   \n4  [album rock, alternative metal, hard rock, met...     True   \n\n   number_of_matching_genres  month  day_of_week  hour_of_day   \n0                          1      3            3           18  \\\n1                          1      1            6            5   \n2                          0      2            3            5   \n3                          0      2            6            4   \n4                          0      1            1            9   \n\n                        genres_with_favourite_genres   \n0  [album rock, art rock, classic rock, classic u...  \\\n1  [album rock, blues, blues rock, classic rock, ...   \n2  [classic bollywood, desi pop, filmi, sufi, cla...   \n3  [bossa nova, cool jazz, jazz, jazz funk, jazz ...   \n4  [album rock, alternative metal, hard rock, met...   \n\n                                       common_genres  \n0  [folk rock, soft rock, symphonic rock, yacht r...  \n1  [country rock, folk rock, roots rock, tropical...  \n2  [filmi, pop rock, regional mexican, desi pop, ...  \n3  [alternative rock, cool jazz, soul jazz, new w...  \n4  [speed metal, quiet storm, album rock, rock, b...  \n\n[5 rows x 32 columns]",
      "text/html": "<div>\n<style scoped>\n    .dataframe tbody tr th:only-of-type {\n        vertical-align: middle;\n    }\n\n    .dataframe tbody tr th {\n        vertical-align: top;\n    }\n\n    .dataframe thead th {\n        text-align: right;\n    }\n</style>\n<table border=\"1\" class=\"dataframe\">\n  <thead>\n    <tr style=\"text-align: right;\">\n      <th></th>\n      <th>timestamp</th>\n      <th>user_id</th>\n      <th>track_id</th>\n      <th>session_id</th>\n      <th>track_name</th>\n      <th>popularity</th>\n      <th>duration_ms</th>\n      <th>explicit</th>\n      <th>id_artist</th>\n      <th>danceability</th>\n      <th>...</th>\n      <th>favourite_genres</th>\n      <th>premium_user</th>\n      <th>genres</th>\n      <th>skipped</th>\n      <th>number_of_matching_genres</th>\n      <th>month</th>\n      <th>day_of_week</th>\n      <th>hour_of_day</th>\n      <th>genres_with_favourite_genres</th>\n      <th>common_genres</th>\n    </tr>\n  </thead>\n  <tbody>\n    <tr>\n      <th>0</th>\n      <td>2023-03-23 18:05:18.096</td>\n      <td>147</td>\n      <td>0kVB6PeqBbN2HhwJdWumeZ</td>\n      <td>732</td>\n      <td>The Wall Street Shuffle</td>\n      <td>40</td>\n      <td>236373</td>\n      <td>0</td>\n      <td>6i6WlGzQtXtz7GcC5H5st5</td>\n      <td>0.486</td>\n      <td>...</td>\n      <td>[soft rock, hoerspiel, ranchera]</td>\n      <td>True</td>\n      <td>[album rock, art rock, classic rock, mellow go...</td>\n      <td>True</td>\n      <td>1</td>\n      <td>3</td>\n      <td>3</td>\n      <td>18</td>\n      <td>[album rock, art rock, classic rock, classic u...</td>\n      <td>[folk rock, soft rock, symphonic rock, yacht r...</td>\n    </tr>\n    <tr>\n      <th>1</th>\n      <td>2023-01-22 05:30:03.002</td>\n      <td>141</td>\n      <td>4pJKzul9oXW1lBQmOpf96m</td>\n      <td>646</td>\n      <td>Deep Dark Dungeon</td>\n      <td>38</td>\n      <td>129133</td>\n      <td>0</td>\n      <td>06nsZ3qSOYZ2hPVIMcr1IN</td>\n      <td>0.740</td>\n      <td>...</td>\n      <td>[tropical, permanent wave, mellow gold]</td>\n      <td>False</td>\n      <td>[album rock, blues rock, classic rock, country...</td>\n      <td>False</td>\n      <td>1</td>\n      <td>1</td>\n      <td>6</td>\n      <td>5</td>\n      <td>[album rock, blues, blues rock, classic rock, ...</td>\n      <td>[country rock, folk rock, roots rock, tropical...</td>\n    </tr>\n    <tr>\n      <th>2</th>\n      <td>2023-02-23 05:54:20.102</td>\n      <td>125</td>\n      <td>7t6zMZSO6DfCeE4IcinxUJ</td>\n      <td>443</td>\n      <td>Chala Chala Navbala</td>\n      <td>0</td>\n      <td>193320</td>\n      <td>0</td>\n      <td>61JrslREXq98hurYL2hYoc</td>\n      <td>0.488</td>\n      <td>...</td>\n      <td>[classic rock, regional mexican, pop rock]</td>\n      <td>False</td>\n      <td>[filmi]</td>\n      <td>False</td>\n      <td>0</td>\n      <td>2</td>\n      <td>3</td>\n      <td>5</td>\n      <td>[classic bollywood, desi pop, filmi, sufi, cla...</td>\n      <td>[filmi, pop rock, regional mexican, desi pop, ...</td>\n    </tr>\n    <tr>\n      <th>3</th>\n      <td>2023-02-26 04:48:49.355</td>\n      <td>149</td>\n      <td>62UVjAjo8ra1PVSeHfnxk3</td>\n      <td>754</td>\n      <td>I Love Paris</td>\n      <td>21</td>\n      <td>353200</td>\n      <td>0</td>\n      <td>3XOVABzceOUTbR3iEz0ImO</td>\n      <td>0.601</td>\n      <td>...</td>\n      <td>[psychedelic rock, new wave pop, alternative r...</td>\n      <td>False</td>\n      <td>[lounge]</td>\n      <td>True</td>\n      <td>0</td>\n      <td>2</td>\n      <td>6</td>\n      <td>4</td>\n      <td>[bossa nova, cool jazz, jazz, jazz funk, jazz ...</td>\n      <td>[alternative rock, cool jazz, soul jazz, new w...</td>\n    </tr>\n    <tr>\n      <th>4</th>\n      <td>2023-01-31 09:21:51.897</td>\n      <td>134</td>\n      <td>7DDfGy1cstvJGETyYYnfig</td>\n      <td>559</td>\n      <td>The One to Sing the Blues</td>\n      <td>30</td>\n      <td>187213</td>\n      <td>0</td>\n      <td>1DFr97A9HnbV3SKTJFu62M</td>\n      <td>0.347</td>\n      <td>...</td>\n      <td>[hoerspiel, quiet storm, brill building pop]</td>\n      <td>True</td>\n      <td>[album rock, alternative metal, hard rock, met...</td>\n      <td>True</td>\n      <td>0</td>\n      <td>1</td>\n      <td>1</td>\n      <td>9</td>\n      <td>[album rock, alternative metal, hard rock, met...</td>\n      <td>[speed metal, quiet storm, album rock, rock, b...</td>\n    </tr>\n  </tbody>\n</table>\n<p>5 rows × 32 columns</p>\n</div>"
     },
     "execution_count": 44,
     "metadata": {},
     "output_type": "execute_result"
    }
   ],
   "source": [
    "# balance set\n",
    "\n",
    "skipped_data = data[data[\"skipped\"] == 1]\n",
    "not_skipped_data = data[data[\"skipped\"] == 0]\n",
    "\n",
    "# Split the dataset into subsets based on class labels\n",
    "print(\"skipped_data\", skipped_data.shape)\n",
    "print(\"not_skipped_data\", not_skipped_data.shape)\n",
    "\n",
    "# Calculate the minimum number of samples among all classes\n",
    "min_samples = min(len(skipped_data), len(not_skipped_data))\n",
    "\n",
    "# Randomly select samples from each class subset to match the minimum number of samples\n",
    "skipped_data_balanced = skipped_data.sample(n=min_samples, random_state=42)\n",
    "not_skipped_data_balanced = not_skipped_data.sample(n=min_samples, random_state=42)\n",
    "\n",
    "# Merge the balanced subsets to create the final balanced dataset\n",
    "balanced_data = pd.concat([skipped_data_balanced, not_skipped_data_balanced], axis=0)\n",
    "\n",
    "# Shuffle the balanced dataset\n",
    "balanced_data = balanced_data.sample(frac=1, random_state=42).reset_index(drop=True)\n",
    "balanced_data.head()"
   ]
  },
  {
   "cell_type": "code",
   "execution_count": 45,
   "outputs": [
    {
     "data": {
      "text/plain": "                                               genres   \n0   [album rock, art rock, classic rock, mellow go...  \\\n1   [album rock, blues rock, classic rock, country...   \n2                                             [filmi]   \n3                                            [lounge]   \n4   [album rock, alternative metal, hard rock, met...   \n5                                               [pop]   \n6   [album rock, art rock, classic rock, hard rock...   \n7                                                  []   \n8   [album rock, classic rock, mellow gold, perman...   \n9                                                  []   \n10                                                 []   \n11                                                 []   \n12                                                 []   \n13                                        [latin pop]   \n14                                                 []   \n15                  [europop, mellow gold, soft rock]   \n16  [mellow gold, motown, new wave pop, quiet stor...   \n17  [album rock, blues rock, classic rock, hard ro...   \n18                                                 []   \n19  [album rock, blues rock, classic rock, country...   \n20  [album rock, classic rock, psychedelic rock, r...   \n21  [adult standards, brill building pop, lounge, ...   \n22                                         [ranchera]   \n23  [classic rock, mellow gold, rock, singer-songw...   \n24                                                 []   \n25  [album rock, classic rock, mellow gold, new wa...   \n26                                                 []   \n27               [album rock, hard rock, metal, rock]   \n28  [adult standards, album rock, classic rock, me...   \n29                                                 []   \n30   [latin alternative, latin rock, rock en espanol]   \n31  [album rock, art rock, classic rock, mellow go...   \n32                                                 []   \n33                                                 []   \n34                                                 []   \n35                                                 []   \n36                                    [pop, pop rock]   \n37                                                 []   \n38           [new romantic, new wave, permanent wave]   \n39                                                 []   \n40  [album rock, art rock, classic rock, mellow go...   \n41                                                 []   \n42                                                 []   \n43  [album rock, classic rock, mellow gold, rock, ...   \n44                                                 []   \n45                                                 []   \n46                                                 []   \n47                                                 []   \n48                                                 []   \n49                               [dance pop, europop]   \n\n                                     favourite_genres  skipped  \n0                    [soft rock, hoerspiel, ranchera]     True  \n1             [tropical, permanent wave, mellow gold]    False  \n2          [classic rock, regional mexican, pop rock]    False  \n3   [psychedelic rock, new wave pop, alternative r...     True  \n4        [hoerspiel, quiet storm, brill building pop]     True  \n5                           [hoerspiel, j-pop, filmi]    False  \n6                    [soft rock, hoerspiel, ranchera]     True  \n7                        [c-pop, latin pop, ranchera]     True  \n8                     [filmi, regional mexican, folk]    False  \n9                 [hoerspiel, regional mexican, folk]    False  \n10                     [folk, soul, psychedelic rock]     True  \n11         [classic rock, regional mexican, pop rock]     True  \n12                       [c-pop, latin pop, ranchera]     True  \n13  [psychedelic rock, new wave pop, alternative r...     True  \n14              [blues rock, turkish pop, latin rock]     True  \n15  [psychedelic rock, country rock, rock en espanol]     True  \n16                   [permanent wave, mandopop, funk]     True  \n17                   [soft rock, hoerspiel, ranchera]     True  \n18  [psychedelic rock, new wave pop, alternative r...     True  \n19                   [soft rock, hoerspiel, ranchera]    False  \n20  [latin alternative, alternative rock, classic ...    False  \n21                  [country rock, mellow gold, funk]    False  \n22             [latin, alternative metal, vocal jazz]    False  \n23  [latin alternative, alternative rock, classic ...     True  \n24                    [filmi, mpb, latin alternative]     True  \n25                               [funk, filmi, metal]    False  \n26              [blues rock, turkish pop, latin rock]     True  \n27                        [tropical, new wave, latin]    False  \n28                         [filmi, soul, turkish pop]     True  \n29                          [europop, latin pop, pop]    False  \n30  [psychedelic rock, new wave pop, alternative r...    False  \n31                   [soft rock, hoerspiel, ranchera]    False  \n32                    [filmi, mpb, latin alternative]    False  \n33              [psychedelic rock, filmi, latin rock]     True  \n34  [hard rock, alternative metal, singer-songwriter]    False  \n35         [classic rock, regional mexican, pop rock]     True  \n36        [hard rock, regional mexican, new wave pop]    False  \n37  [hard rock, alternative metal, singer-songwriter]    False  \n38             [latin, alternative metal, vocal jazz]    False  \n39                [soul, tropical, alternative metal]    False  \n40                   [permanent wave, mandopop, funk]    False  \n41                          [hoerspiel, j-pop, filmi]    False  \n42              [new wave, latin alternative, motown]    False  \n43                   [dance pop, new wave, latin pop]     True  \n44  [hard rock, alternative metal, singer-songwriter]    False  \n45        [hard rock, regional mexican, new wave pop]     True  \n46    [adult standards, pop rock, brill building pop]     True  \n47              [blues rock, turkish pop, latin rock]     True  \n48                  [country rock, mellow gold, funk]     True  \n49         [classic rock, regional mexican, pop rock]     True  ",
      "text/html": "<div>\n<style scoped>\n    .dataframe tbody tr th:only-of-type {\n        vertical-align: middle;\n    }\n\n    .dataframe tbody tr th {\n        vertical-align: top;\n    }\n\n    .dataframe thead th {\n        text-align: right;\n    }\n</style>\n<table border=\"1\" class=\"dataframe\">\n  <thead>\n    <tr style=\"text-align: right;\">\n      <th></th>\n      <th>genres</th>\n      <th>favourite_genres</th>\n      <th>skipped</th>\n    </tr>\n  </thead>\n  <tbody>\n    <tr>\n      <th>0</th>\n      <td>[album rock, art rock, classic rock, mellow go...</td>\n      <td>[soft rock, hoerspiel, ranchera]</td>\n      <td>True</td>\n    </tr>\n    <tr>\n      <th>1</th>\n      <td>[album rock, blues rock, classic rock, country...</td>\n      <td>[tropical, permanent wave, mellow gold]</td>\n      <td>False</td>\n    </tr>\n    <tr>\n      <th>2</th>\n      <td>[filmi]</td>\n      <td>[classic rock, regional mexican, pop rock]</td>\n      <td>False</td>\n    </tr>\n    <tr>\n      <th>3</th>\n      <td>[lounge]</td>\n      <td>[psychedelic rock, new wave pop, alternative r...</td>\n      <td>True</td>\n    </tr>\n    <tr>\n      <th>4</th>\n      <td>[album rock, alternative metal, hard rock, met...</td>\n      <td>[hoerspiel, quiet storm, brill building pop]</td>\n      <td>True</td>\n    </tr>\n    <tr>\n      <th>5</th>\n      <td>[pop]</td>\n      <td>[hoerspiel, j-pop, filmi]</td>\n      <td>False</td>\n    </tr>\n    <tr>\n      <th>6</th>\n      <td>[album rock, art rock, classic rock, hard rock...</td>\n      <td>[soft rock, hoerspiel, ranchera]</td>\n      <td>True</td>\n    </tr>\n    <tr>\n      <th>7</th>\n      <td>[]</td>\n      <td>[c-pop, latin pop, ranchera]</td>\n      <td>True</td>\n    </tr>\n    <tr>\n      <th>8</th>\n      <td>[album rock, classic rock, mellow gold, perman...</td>\n      <td>[filmi, regional mexican, folk]</td>\n      <td>False</td>\n    </tr>\n    <tr>\n      <th>9</th>\n      <td>[]</td>\n      <td>[hoerspiel, regional mexican, folk]</td>\n      <td>False</td>\n    </tr>\n    <tr>\n      <th>10</th>\n      <td>[]</td>\n      <td>[folk, soul, psychedelic rock]</td>\n      <td>True</td>\n    </tr>\n    <tr>\n      <th>11</th>\n      <td>[]</td>\n      <td>[classic rock, regional mexican, pop rock]</td>\n      <td>True</td>\n    </tr>\n    <tr>\n      <th>12</th>\n      <td>[]</td>\n      <td>[c-pop, latin pop, ranchera]</td>\n      <td>True</td>\n    </tr>\n    <tr>\n      <th>13</th>\n      <td>[latin pop]</td>\n      <td>[psychedelic rock, new wave pop, alternative r...</td>\n      <td>True</td>\n    </tr>\n    <tr>\n      <th>14</th>\n      <td>[]</td>\n      <td>[blues rock, turkish pop, latin rock]</td>\n      <td>True</td>\n    </tr>\n    <tr>\n      <th>15</th>\n      <td>[europop, mellow gold, soft rock]</td>\n      <td>[psychedelic rock, country rock, rock en espanol]</td>\n      <td>True</td>\n    </tr>\n    <tr>\n      <th>16</th>\n      <td>[mellow gold, motown, new wave pop, quiet stor...</td>\n      <td>[permanent wave, mandopop, funk]</td>\n      <td>True</td>\n    </tr>\n    <tr>\n      <th>17</th>\n      <td>[album rock, blues rock, classic rock, hard ro...</td>\n      <td>[soft rock, hoerspiel, ranchera]</td>\n      <td>True</td>\n    </tr>\n    <tr>\n      <th>18</th>\n      <td>[]</td>\n      <td>[psychedelic rock, new wave pop, alternative r...</td>\n      <td>True</td>\n    </tr>\n    <tr>\n      <th>19</th>\n      <td>[album rock, blues rock, classic rock, country...</td>\n      <td>[soft rock, hoerspiel, ranchera]</td>\n      <td>False</td>\n    </tr>\n    <tr>\n      <th>20</th>\n      <td>[album rock, classic rock, psychedelic rock, r...</td>\n      <td>[latin alternative, alternative rock, classic ...</td>\n      <td>False</td>\n    </tr>\n    <tr>\n      <th>21</th>\n      <td>[adult standards, brill building pop, lounge, ...</td>\n      <td>[country rock, mellow gold, funk]</td>\n      <td>False</td>\n    </tr>\n    <tr>\n      <th>22</th>\n      <td>[ranchera]</td>\n      <td>[latin, alternative metal, vocal jazz]</td>\n      <td>False</td>\n    </tr>\n    <tr>\n      <th>23</th>\n      <td>[classic rock, mellow gold, rock, singer-songw...</td>\n      <td>[latin alternative, alternative rock, classic ...</td>\n      <td>True</td>\n    </tr>\n    <tr>\n      <th>24</th>\n      <td>[]</td>\n      <td>[filmi, mpb, latin alternative]</td>\n      <td>True</td>\n    </tr>\n    <tr>\n      <th>25</th>\n      <td>[album rock, classic rock, mellow gold, new wa...</td>\n      <td>[funk, filmi, metal]</td>\n      <td>False</td>\n    </tr>\n    <tr>\n      <th>26</th>\n      <td>[]</td>\n      <td>[blues rock, turkish pop, latin rock]</td>\n      <td>True</td>\n    </tr>\n    <tr>\n      <th>27</th>\n      <td>[album rock, hard rock, metal, rock]</td>\n      <td>[tropical, new wave, latin]</td>\n      <td>False</td>\n    </tr>\n    <tr>\n      <th>28</th>\n      <td>[adult standards, album rock, classic rock, me...</td>\n      <td>[filmi, soul, turkish pop]</td>\n      <td>True</td>\n    </tr>\n    <tr>\n      <th>29</th>\n      <td>[]</td>\n      <td>[europop, latin pop, pop]</td>\n      <td>False</td>\n    </tr>\n    <tr>\n      <th>30</th>\n      <td>[latin alternative, latin rock, rock en espanol]</td>\n      <td>[psychedelic rock, new wave pop, alternative r...</td>\n      <td>False</td>\n    </tr>\n    <tr>\n      <th>31</th>\n      <td>[album rock, art rock, classic rock, mellow go...</td>\n      <td>[soft rock, hoerspiel, ranchera]</td>\n      <td>False</td>\n    </tr>\n    <tr>\n      <th>32</th>\n      <td>[]</td>\n      <td>[filmi, mpb, latin alternative]</td>\n      <td>False</td>\n    </tr>\n    <tr>\n      <th>33</th>\n      <td>[]</td>\n      <td>[psychedelic rock, filmi, latin rock]</td>\n      <td>True</td>\n    </tr>\n    <tr>\n      <th>34</th>\n      <td>[]</td>\n      <td>[hard rock, alternative metal, singer-songwriter]</td>\n      <td>False</td>\n    </tr>\n    <tr>\n      <th>35</th>\n      <td>[]</td>\n      <td>[classic rock, regional mexican, pop rock]</td>\n      <td>True</td>\n    </tr>\n    <tr>\n      <th>36</th>\n      <td>[pop, pop rock]</td>\n      <td>[hard rock, regional mexican, new wave pop]</td>\n      <td>False</td>\n    </tr>\n    <tr>\n      <th>37</th>\n      <td>[]</td>\n      <td>[hard rock, alternative metal, singer-songwriter]</td>\n      <td>False</td>\n    </tr>\n    <tr>\n      <th>38</th>\n      <td>[new romantic, new wave, permanent wave]</td>\n      <td>[latin, alternative metal, vocal jazz]</td>\n      <td>False</td>\n    </tr>\n    <tr>\n      <th>39</th>\n      <td>[]</td>\n      <td>[soul, tropical, alternative metal]</td>\n      <td>False</td>\n    </tr>\n    <tr>\n      <th>40</th>\n      <td>[album rock, art rock, classic rock, mellow go...</td>\n      <td>[permanent wave, mandopop, funk]</td>\n      <td>False</td>\n    </tr>\n    <tr>\n      <th>41</th>\n      <td>[]</td>\n      <td>[hoerspiel, j-pop, filmi]</td>\n      <td>False</td>\n    </tr>\n    <tr>\n      <th>42</th>\n      <td>[]</td>\n      <td>[new wave, latin alternative, motown]</td>\n      <td>False</td>\n    </tr>\n    <tr>\n      <th>43</th>\n      <td>[album rock, classic rock, mellow gold, rock, ...</td>\n      <td>[dance pop, new wave, latin pop]</td>\n      <td>True</td>\n    </tr>\n    <tr>\n      <th>44</th>\n      <td>[]</td>\n      <td>[hard rock, alternative metal, singer-songwriter]</td>\n      <td>False</td>\n    </tr>\n    <tr>\n      <th>45</th>\n      <td>[]</td>\n      <td>[hard rock, regional mexican, new wave pop]</td>\n      <td>True</td>\n    </tr>\n    <tr>\n      <th>46</th>\n      <td>[]</td>\n      <td>[adult standards, pop rock, brill building pop]</td>\n      <td>True</td>\n    </tr>\n    <tr>\n      <th>47</th>\n      <td>[]</td>\n      <td>[blues rock, turkish pop, latin rock]</td>\n      <td>True</td>\n    </tr>\n    <tr>\n      <th>48</th>\n      <td>[]</td>\n      <td>[country rock, mellow gold, funk]</td>\n      <td>True</td>\n    </tr>\n    <tr>\n      <th>49</th>\n      <td>[dance pop, europop]</td>\n      <td>[classic rock, regional mexican, pop rock]</td>\n      <td>True</td>\n    </tr>\n  </tbody>\n</table>\n</div>"
     },
     "execution_count": 45,
     "metadata": {},
     "output_type": "execute_result"
    }
   ],
   "source": [
    "def normalize(data):\n",
    "  return (data - np.min(data)) / (np.max(data) - np.min(data))\n",
    "\n",
    "# # Combine genres and favourite_genres\n",
    "all_genres = list(balanced_data['favourite_genres'] + balanced_data['genres'])\n",
    "\n",
    "# # One-hot encode the genres\n",
    "mlb = MultiLabelBinarizer()\n",
    "mlb.fit(all_genres)\n",
    "\n",
    "# encoded_all_genres = mlb.fit_transform(all_genres)\n",
    "\n",
    "# TODO moze trzeba inaczej enkodowac?\n",
    "#encoded_genres_with_favourite_genres = mlb.fit_transform(balanced_data['genres_with_favourite_genres'])\n",
    "# encoded_common_genres = mlb.fit_transform(balanced_data['common_genres'])\n",
    "\n",
    "# TODO enkodowac genres_with_favourite_genres naraz\n",
    "\n",
    "# Split encoded_genres into genres and favourite_genres\n",
    "# encoded_favourite_genres = encoded_all_genres[:, :len(balanced_data['favourite_genres'][0])]\n",
    "# encoded_genres = encoded_all_genres[:, len(balanced_data['favourite_genres'][0]):]\n",
    "\n",
    "encoded_favourite_genres = mlb.transform(balanced_data['favourite_genres'])\n",
    "encoded_genres = mlb.transform(balanced_data['genres'])\n",
    "# encoded_common_genres = mlb.transform(data['common_genres'])\n",
    "\n",
    "timestamp_normalized = balanced_data['timestamp'].values.reshape(-1, 1)\n",
    "timestamp_normalized = normalize(timestamp_normalized)\n",
    "\n",
    "popularity_normalized = balanced_data['popularity'].values.reshape(-1, 1)\n",
    "popularity_normalized = normalize(popularity_normalized)\n",
    "\n",
    "tempo_normalized = balanced_data['tempo'].values.reshape(-1, 1)\n",
    "tempo_normalized = normalize(tempo_normalized)\n",
    "\n",
    "duration_ms_normalized = balanced_data['duration_ms'].values.reshape(-1, 1)\n",
    "duration_ms_normalized = normalize(duration_ms_normalized)\n",
    "\n",
    "loudness_normalized = balanced_data['loudness'].values.reshape(-1, 1)\n",
    "loudness_normalized = normalize(loudness_normalized)\n",
    "\n",
    "danceability_normalized = balanced_data['danceability'].values.reshape(-1, 1)\n",
    "danceability_normalized = normalize(danceability_normalized)\n",
    "\n",
    "energy_normalized = balanced_data['energy'].values.reshape(-1, 1)\n",
    "energy_normalized = normalize(energy_normalized)\n",
    "\n",
    "number_of_matching_genres_normalized = balanced_data['number_of_matching_genres'].values.reshape(-1, 1)\n",
    "number_of_matching_genres_normalized = normalize(number_of_matching_genres_normalized)\n",
    "\n",
    "hour_of_day_normalized = balanced_data['hour_of_day'].values.reshape(-1, 1)\n",
    "hour_of_day_normalized = normalize(hour_of_day_normalized)\n",
    "\n",
    "day_of_week_normalized = balanced_data['day_of_week'].values.reshape(-1, 1)\n",
    "day_of_week_normalized = normalize(day_of_week_normalized)\n",
    "\n",
    "premium_user_normalized = balanced_data['premium_user'].astype(int).values.reshape(-1, 1)\n",
    "premium_user_normalized = normalize(premium_user_normalized)\n",
    "\n",
    "# create data frame from data genres, data favourite_genres, encoded genres, encoded favourite_genres\n",
    "df = pd.DataFrame(\n",
    "    data={\n",
    "      'genres': balanced_data['genres'],\n",
    "      'favourite_genres': balanced_data['favourite_genres'],\n",
    "      'skipped': balanced_data['skipped']})\n",
    "\n",
    "df.head(50)"
   ],
   "metadata": {
    "collapsed": false
   }
  },
  {
   "cell_type": "code",
   "execution_count": 46,
   "metadata": {
    "collapsed": false
   },
   "outputs": [
    {
     "name": "stdout",
     "output_type": "stream",
     "text": [
      "Y_train not skipped 2872\n",
      "Y_train skipped 2921\n",
      "Y_train skipped % 0.5042292421888486\n"
     ]
    }
   ],
   "source": [
    "# Concatenate the one-hot encoded columns\n",
    "X = np.concatenate([encoded_genres, encoded_favourite_genres], axis=1)\n",
    "# X = np.concatenate([encoded_track_name], axis=1)\n",
    "# X = np.concatenate(\n",
    "#     [popularity_normalized, duration_ms_normalized, danceability_normalized, energy_normalized,\n",
    "#      number_of_matching_genres_normalized], axis=1)\n",
    "\n",
    "#\n",
    "# Extract the labels\n",
    "y = balanced_data['skipped'].astype(int).values\n",
    "\n",
    "# Split the data into training and testing sets\n",
    "X_train, X_test, y_train, y_test = train_test_split(X, y, test_size=0.2, random_state=42)\n",
    "\n",
    "# count skipped and not skipped songs in X_train\n",
    "print(\"Y_train not skipped\", np.count_nonzero(y_train == 0))\n",
    "print(\"Y_train skipped\", np.count_nonzero(y_train == 1))\n",
    "print(\"Y_train skipped %\", np.count_nonzero(y_train == 1) / len(y_train))"
   ]
  },
  {
   "cell_type": "code",
   "execution_count": 47,
   "metadata": {
    "collapsed": false
   },
   "outputs": [
    {
     "data": {
      "text/plain": "RandomForestClassifier(random_state=42)",
      "text/html": "<style>#sk-container-id-6 {color: black;background-color: white;}#sk-container-id-6 pre{padding: 0;}#sk-container-id-6 div.sk-toggleable {background-color: white;}#sk-container-id-6 label.sk-toggleable__label {cursor: pointer;display: block;width: 100%;margin-bottom: 0;padding: 0.3em;box-sizing: border-box;text-align: center;}#sk-container-id-6 label.sk-toggleable__label-arrow:before {content: \"▸\";float: left;margin-right: 0.25em;color: #696969;}#sk-container-id-6 label.sk-toggleable__label-arrow:hover:before {color: black;}#sk-container-id-6 div.sk-estimator:hover label.sk-toggleable__label-arrow:before {color: black;}#sk-container-id-6 div.sk-toggleable__content {max-height: 0;max-width: 0;overflow: hidden;text-align: left;background-color: #f0f8ff;}#sk-container-id-6 div.sk-toggleable__content pre {margin: 0.2em;color: black;border-radius: 0.25em;background-color: #f0f8ff;}#sk-container-id-6 input.sk-toggleable__control:checked~div.sk-toggleable__content {max-height: 200px;max-width: 100%;overflow: auto;}#sk-container-id-6 input.sk-toggleable__control:checked~label.sk-toggleable__label-arrow:before {content: \"▾\";}#sk-container-id-6 div.sk-estimator input.sk-toggleable__control:checked~label.sk-toggleable__label {background-color: #d4ebff;}#sk-container-id-6 div.sk-label input.sk-toggleable__control:checked~label.sk-toggleable__label {background-color: #d4ebff;}#sk-container-id-6 input.sk-hidden--visually {border: 0;clip: rect(1px 1px 1px 1px);clip: rect(1px, 1px, 1px, 1px);height: 1px;margin: -1px;overflow: hidden;padding: 0;position: absolute;width: 1px;}#sk-container-id-6 div.sk-estimator {font-family: monospace;background-color: #f0f8ff;border: 1px dotted black;border-radius: 0.25em;box-sizing: border-box;margin-bottom: 0.5em;}#sk-container-id-6 div.sk-estimator:hover {background-color: #d4ebff;}#sk-container-id-6 div.sk-parallel-item::after {content: \"\";width: 100%;border-bottom: 1px solid gray;flex-grow: 1;}#sk-container-id-6 div.sk-label:hover label.sk-toggleable__label {background-color: #d4ebff;}#sk-container-id-6 div.sk-serial::before {content: \"\";position: absolute;border-left: 1px solid gray;box-sizing: border-box;top: 0;bottom: 0;left: 50%;z-index: 0;}#sk-container-id-6 div.sk-serial {display: flex;flex-direction: column;align-items: center;background-color: white;padding-right: 0.2em;padding-left: 0.2em;position: relative;}#sk-container-id-6 div.sk-item {position: relative;z-index: 1;}#sk-container-id-6 div.sk-parallel {display: flex;align-items: stretch;justify-content: center;background-color: white;position: relative;}#sk-container-id-6 div.sk-item::before, #sk-container-id-6 div.sk-parallel-item::before {content: \"\";position: absolute;border-left: 1px solid gray;box-sizing: border-box;top: 0;bottom: 0;left: 50%;z-index: -1;}#sk-container-id-6 div.sk-parallel-item {display: flex;flex-direction: column;z-index: 1;position: relative;background-color: white;}#sk-container-id-6 div.sk-parallel-item:first-child::after {align-self: flex-end;width: 50%;}#sk-container-id-6 div.sk-parallel-item:last-child::after {align-self: flex-start;width: 50%;}#sk-container-id-6 div.sk-parallel-item:only-child::after {width: 0;}#sk-container-id-6 div.sk-dashed-wrapped {border: 1px dashed gray;margin: 0 0.4em 0.5em 0.4em;box-sizing: border-box;padding-bottom: 0.4em;background-color: white;}#sk-container-id-6 div.sk-label label {font-family: monospace;font-weight: bold;display: inline-block;line-height: 1.2em;}#sk-container-id-6 div.sk-label-container {text-align: center;}#sk-container-id-6 div.sk-container {/* jupyter's `normalize.less` sets `[hidden] { display: none; }` but bootstrap.min.css set `[hidden] { display: none !important; }` so we also need the `!important` here to be able to override the default hidden behavior on the sphinx rendered scikit-learn.org. See: https://github.com/scikit-learn/scikit-learn/issues/21755 */display: inline-block !important;position: relative;}#sk-container-id-6 div.sk-text-repr-fallback {display: none;}</style><div id=\"sk-container-id-6\" class=\"sk-top-container\"><div class=\"sk-text-repr-fallback\"><pre>RandomForestClassifier(random_state=42)</pre><b>In a Jupyter environment, please rerun this cell to show the HTML representation or trust the notebook. <br />On GitHub, the HTML representation is unable to render, please try loading this page with nbviewer.org.</b></div><div class=\"sk-container\" hidden><div class=\"sk-item\"><div class=\"sk-estimator sk-toggleable\"><input class=\"sk-toggleable__control sk-hidden--visually\" id=\"sk-estimator-id-6\" type=\"checkbox\" checked><label for=\"sk-estimator-id-6\" class=\"sk-toggleable__label sk-toggleable__label-arrow\">RandomForestClassifier</label><div class=\"sk-toggleable__content\"><pre>RandomForestClassifier(random_state=42)</pre></div></div></div></div></div>"
     },
     "execution_count": 47,
     "metadata": {},
     "output_type": "execute_result"
    }
   ],
   "source": [
    "rf_model = RandomForestClassifier(random_state=42, n_estimators=100)\n",
    "rf_model.fit(X_train, y_train)"
   ]
  },
  {
   "cell_type": "code",
   "execution_count": 48,
   "metadata": {
    "collapsed": false
   },
   "outputs": [
    {
     "name": "stdout",
     "output_type": "stream",
     "text": [
      "TEST\n",
      "Accuracy: 0.6307798481711525\n",
      "Confusion matrix:\n",
      " [[461 288]\n",
      " [247 453]]\n",
      "Classification report:\n",
      "               precision    recall  f1-score   support\n",
      "\n",
      "           0       0.65      0.62      0.63       749\n",
      "           1       0.61      0.65      0.63       700\n",
      "\n",
      "    accuracy                           0.63      1449\n",
      "   macro avg       0.63      0.63      0.63      1449\n",
      "weighted avg       0.63      0.63      0.63      1449\n",
      "\n",
      "TRAIN\n",
      "Accuracy: 0.8130502330398757\n",
      "Confusion matrix:\n",
      " [[2321  551]\n",
      " [ 532 2389]]\n",
      "Classification report:\n",
      "               precision    recall  f1-score   support\n",
      "\n",
      "           0       0.81      0.81      0.81      2872\n",
      "           1       0.81      0.82      0.82      2921\n",
      "\n",
      "    accuracy                           0.81      5793\n",
      "   macro avg       0.81      0.81      0.81      5793\n",
      "weighted avg       0.81      0.81      0.81      5793\n",
      "\n"
     ]
    }
   ],
   "source": [
    "print(\"TEST\")\n",
    "y_pred = rf_model.predict(X_test)\n",
    "print(\"Accuracy:\", accuracy_score(y_test, y_pred))\n",
    "print(\"Confusion matrix:\\n\", confusion_matrix(y_test, y_pred))\n",
    "print(\"Classification report:\\n\", classification_report(y_test, y_pred))\n",
    "\n",
    "print(\"TRAIN\")\n",
    "y_pred = rf_model.predict(X_train)\n",
    "print(\"Accuracy:\", accuracy_score(y_train, y_pred))\n",
    "print(\"Confusion matrix:\\n\", confusion_matrix(y_train, y_pred))\n",
    "print(\"Classification report:\\n\", classification_report(y_train, y_pred))\n"
   ]
  },
  {
   "cell_type": "code",
   "execution_count": 48,
   "metadata": {
    "collapsed": false
   },
   "outputs": [],
   "source": [
    "\n"
   ]
  }
 ],
 "metadata": {
  "kernelspec": {
   "display_name": "Python 3.10 (IUM)",
   "language": "python",
   "name": "ium"
  },
  "language_info": {
   "codemirror_mode": {
    "name": "ipython",
    "version": 3
   },
   "file_extension": ".py",
   "mimetype": "text/x-python",
   "name": "python",
   "nbconvert_exporter": "python",
   "pygments_lexer": "ipython3",
   "version": "3.10.10"
  }
 },
 "nbformat": 4,
 "nbformat_minor": 0
}
