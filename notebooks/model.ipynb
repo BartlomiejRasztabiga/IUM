{
 "cells": [
  {
   "cell_type": "code",
   "execution_count": 1,
   "metadata": {
    "collapsed": true
   },
   "outputs": [],
   "source": [
    "from sklearn.ensemble import RandomForestClassifier\n",
    "from sklearn.metrics import confusion_matrix, classification_report, accuracy_score\n",
    "from sklearn.preprocessing import MultiLabelBinarizer\n",
    "from sklearn.model_selection import train_test_split\n",
    "from sklearn.feature_extraction.text import TfidfVectorizer\n",
    "from sklearn.cluster import KMeans\n",
    "\n",
    "import pandas as pd\n",
    "import numpy as np\n",
    "import pickle"
   ]
  },
  {
   "cell_type": "code",
   "execution_count": 2,
   "metadata": {
    "collapsed": false
   },
   "outputs": [],
   "source": [
    "merged_data_path = '../data/v2/merged_data.jsonl'\n",
    "data = pd.read_json(merged_data_path, lines=True)"
   ]
  },
  {
   "cell_type": "code",
   "execution_count": 3,
   "metadata": {},
   "outputs": [],
   "source": [
    "# K-MEANS\n",
    "\n",
    "# Prepare the list of unique genres\n",
    "unique_genres = list(set([genre for genres in data['genres'] for genre in genres]) | set([genre for genres in data['favourite_genres'] for genre in genres]))\n",
    "\n",
    "# Convert the genres to a matrix of TF-IDF features\n",
    "vectorizer = TfidfVectorizer()\n",
    "vectorized = vectorizer.fit_transform(unique_genres)\n",
    "\n",
    "# Apply K-means clustering\n",
    "num_clusters = 100  # Adjust this value according to your needs\n",
    "kmeans = KMeans(n_clusters=num_clusters, random_state=42, n_init='auto')\n",
    "kmeans.fit(vectorized)\n",
    "labels = kmeans.labels_\n",
    "\n",
    "# Group the genres based on the cluster labels\n",
    "clustered_genres = {}\n",
    "for i, label in enumerate(labels):\n",
    "    if label not in clustered_genres:\n",
    "        clustered_genres[label] = []\n",
    "    clustered_genres[label].append(unique_genres[i])\n",
    "\n",
    "# Map genres to their cluster label\n",
    "genre_to_cluster = {genre: label for label, genres in clustered_genres.items() for genre in genres}\n",
    "\n",
    "# Define the function for mapping genres to simpler forms\n",
    "def map_genre(genre):\n",
    "    cluster_label = genre_to_cluster[genre]\n",
    "    representative_genre = clustered_genres[cluster_label][0]  # Use the first genre in the cluster as the representative\n",
    "    return representative_genre\n",
    "\n",
    "# Save the genre_to_cluster and clustered_genres dictionaries to use for new data prediction\n",
    "with open('../models/model_genre_to_cluster.pickle', 'wb') as f:\n",
    "    pickle.dump(genre_to_cluster, f)\n",
    "\n",
    "with open('../models/model_clustered_genres.pickle', 'wb') as f:\n",
    "    pickle.dump(clustered_genres, f)\n",
    "\n",
    "# Apply the mapping function to both 'genres' and 'favourite_genres' columns\n",
    "data['genres'] = data['genres'].apply(lambda x: [map_genre(genre) for genre in x])\n",
    "data['favourite_genres'] = data['favourite_genres'].apply(lambda x: [map_genre(genre) for genre in x])\n",
    "\n",
    "# Delete not unique genres\n",
    "data['genres'] = data['genres'].apply(lambda x: list(set(x)))\n",
    "data['favourite_genres'] = data['favourite_genres'].apply(lambda x: list(set(x)))\n"
   ]
  },
  {
   "cell_type": "code",
   "execution_count": 4,
   "metadata": {},
   "outputs": [
    {
     "name": "stdout",
     "output_type": "stream",
     "text": [
      "100\n"
     ]
    },
    {
     "data": {
      "text/plain": [
       "[('epic doom', 5419),\n",
       " ('flute rock', 4463),\n",
       " ('classic luk thung', 3362),\n",
       " ('estonian pop', 2726),\n",
       " ('indie folk', 1626),\n",
       " ('old school dancehall', 1183),\n",
       " ('country quebecois', 1001),\n",
       " ('belgian new wave', 916),\n",
       " ('piedmont blues', 899),\n",
       " ('pittsburgh rap', 644),\n",
       " ('dance pop', 613),\n",
       " ('conscious hip hop', 578),\n",
       " ('turkish alternative rock', 547),\n",
       " ('scottish singer-songwriter', 544),\n",
       " ('power metal', 527),\n",
       " ('british dance band', 465),\n",
       " ('deep latin christian', 374),\n",
       " ('italian progressive rock', 359),\n",
       " ('magyar trap', 357),\n",
       " ('modern blues rock', 329),\n",
       " ('modern funk', 319),\n",
       " ('punk galego', 311),\n",
       " ('jazz vibraphone', 287),\n",
       " ('mexican rock-and-roll', 275),\n",
       " ('canadian pop punk', 260),\n",
       " ('new rave', 242),\n",
       " ('electro house', 216),\n",
       " ('brooklyn drill', 189),\n",
       " ('disco house', 180),\n",
       " ('girl group', 176),\n",
       " ('dutch edm', 145),\n",
       " ('melodic metal', 144),\n",
       " ('reggae en espanol', 137),\n",
       " ('reggaeton', 130),\n",
       " ('irish folk', 124),\n",
       " ('mexican rock', 107),\n",
       " ('australian dance', 107),\n",
       " ('swedish pop', 105),\n",
       " ('jazz fusion', 102),\n",
       " ('german thrash metal', 102),\n",
       " ('australian talent show', 101),\n",
       " ('nu jazz', 97),\n",
       " ('malaysian mandopop', 84),\n",
       " ('sertanejo', 80),\n",
       " ('soviet synthpop', 77),\n",
       " ('argentine telepop', 77),\n",
       " ('french techno', 68),\n",
       " ('tropical', 68),\n",
       " ('russian chanson', 66),\n",
       " ('musica de fondo', 59),\n",
       " ('danish alternative rock', 58),\n",
       " ('russian ska', 58),\n",
       " ('russian rock', 56),\n",
       " ('italian tenor', 55),\n",
       " ('rap rock', 54),\n",
       " ('library music', 53),\n",
       " ('samba paulista', 53),\n",
       " ('cumbia villera', 52),\n",
       " ('trance', 51),\n",
       " ('greek punk', 45),\n",
       " ('vintage chinese pop', 45),\n",
       " ('electronic rock', 44),\n",
       " ('vintage hollywood', 43),\n",
       " ('icelandic experimental', 38),\n",
       " ('classic norwegian pop', 38),\n",
       " ('japanese garage rock', 37),\n",
       " ('folklore argentino', 37),\n",
       " ('salsa choke', 36),\n",
       " ('escape room', 36),\n",
       " ('instrumental surf', 34),\n",
       " ('hungarian hip hop', 32),\n",
       " ('anime', 30),\n",
       " ('deep soundtrack', 27),\n",
       " ('polish trap', 27),\n",
       " ('reggaeton colombiano', 27),\n",
       " ('manila sound', 24),\n",
       " ('industrial metal', 24),\n",
       " ('jazz saxophone', 24),\n",
       " ('post-hardcore', 22),\n",
       " ('deep turkish pop', 20),\n",
       " ('vintage tango', 18),\n",
       " ('dangdut remix', 17),\n",
       " ('acoustic rock', 16),\n",
       " ('taiwan idol pop', 16),\n",
       " ('steel guitar', 15),\n",
       " ('african-american classical', 15),\n",
       " ('traditional british folk', 14),\n",
       " ('underground power pop', 13),\n",
       " ('lithuanian hip hop', 12),\n",
       " ('pop virale italiano', 10),\n",
       " ('nordnorsk musikk', 9),\n",
       " ('nueva trova chilena', 8),\n",
       " ('ambient pop', 7),\n",
       " ('swedish black metal', 5),\n",
       " ('marimba de guatemala', 4),\n",
       " ('carnatic vocal', 4),\n",
       " ('classic praise', 3),\n",
       " ('son cubano clasico', 3),\n",
       " ('dirty south rap', 2),\n",
       " ('festigal', 1)]"
      ]
     },
     "execution_count": 4,
     "metadata": {},
     "output_type": "execute_result"
    }
   ],
   "source": [
    "# count unique genres\n",
    "unique_genres = set()\n",
    "for genres in data['genres']:\n",
    "    unique_genres.update(genres)\n",
    "for genres in data['favourite_genres']:\n",
    "    unique_genres.update(genres)\n",
    "print(len(unique_genres))\n",
    "\n",
    "# how many tracks are per genre\n",
    "genre_count = {}\n",
    "for genres in data['genres']:\n",
    "    for genre in genres:\n",
    "        if genre not in genre_count:\n",
    "            genre_count[genre] = 0\n",
    "        genre_count[genre] += 1\n",
    "\n",
    "genre_count = sorted(genre_count.items(), key=lambda x: x[1], reverse=True)\n",
    "genre_count"
   ]
  },
  {
   "cell_type": "code",
   "execution_count": 5,
   "metadata": {
    "collapsed": false
   },
   "outputs": [
    {
     "name": "stdout",
     "output_type": "stream",
     "text": [
      "skipped_data (3621, 3)\n",
      "not_skipped_data (6260, 3)\n"
     ]
    }
   ],
   "source": [
    "# balance set\n",
    "skipped_data = data[data[\"skipped\"] == 1]\n",
    "not_skipped_data = data[data[\"skipped\"] == 0]\n",
    "\n",
    "# Split the dataset into subsets based on class labels\n",
    "print(\"skipped_data\", skipped_data.shape)\n",
    "print(\"not_skipped_data\", not_skipped_data.shape)\n",
    "\n",
    "# Calculate the minimum number of samples among all classes\n",
    "min_samples = min(len(skipped_data), len(not_skipped_data))\n",
    "\n",
    "# Randomly select samples from each class subset to match the minimum number of samples\n",
    "skipped_data_balanced = skipped_data.sample(n=min_samples, random_state=42)\n",
    "not_skipped_data_balanced = not_skipped_data.sample(n=min_samples, random_state=42)\n",
    "\n",
    "# Merge the balanced subsets to create the final balanced dataset\n",
    "balanced_data = pd.concat([skipped_data_balanced, not_skipped_data_balanced], axis=0)\n",
    "\n",
    "# Shuffle the balanced dataset\n",
    "balanced_data = balanced_data.sample(frac=1, random_state=42).reset_index(drop=True)"
   ]
  },
  {
   "cell_type": "code",
   "execution_count": 6,
   "metadata": {
    "collapsed": false
   },
   "outputs": [],
   "source": [
    "# Combine genres and favourite_genres\n",
    "mlb = MultiLabelBinarizer()\n",
    "\n",
    "data['combined_genres'] = data.apply(lambda x: x['genres'] + x['favourite_genres'], axis=1)\n",
    "mlb.fit(data['combined_genres'])\n",
    "\n",
    "encoded_favourite_genres = mlb.transform(balanced_data['favourite_genres'])\n",
    "encoded_genres = mlb.transform(balanced_data['genres'])\n",
    "\n",
    "# save mlb to file\n",
    "with open('../models/model_mlb.pickle', 'wb') as f:\n",
    "    pickle.dump(mlb, f)\n"
   ]
  },
  {
   "cell_type": "code",
   "execution_count": 7,
   "metadata": {
    "collapsed": false,
    "pycharm": {
     "is_executing": true
    }
   },
   "outputs": [],
   "source": [
    "X = np.concatenate([encoded_genres, encoded_favourite_genres], axis=1)\n",
    "\n",
    "# Extract the labels\n",
    "y = balanced_data['skipped'].astype(int).values\n",
    "\n",
    "# Split the data into training and testing sets\n",
    "X_train, X_test, y_train, y_test = train_test_split(X, y, test_size=0.2, shuffle=True)\n",
    "\n",
    "# count skipped and not skipped songs in X_train\n",
    "# print(\"Y_train not skipped\", np.count_nonzero(y_train == 0))\n",
    "# print(\"Y_train skipped\", np.count_nonzero(y_train == 1))\n",
    "# print(\"Y_train skipped %\", np.count_nonzero(y_train == 1) / len(y_train))"
   ]
  },
  {
   "cell_type": "code",
   "execution_count": 8,
   "metadata": {
    "collapsed": false,
    "pycharm": {
     "is_executing": true
    }
   },
   "outputs": [],
   "source": [
    "model = RandomForestClassifier(random_state=42)\n",
    "model.fit(X_train, y_train)\n",
    "\n",
    "# save model to file\n",
    "with open('../models/model.pickle', 'wb') as f:\n",
    "    pickle.dump(model, f)"
   ]
  },
  {
   "cell_type": "code",
   "execution_count": 9,
   "metadata": {
    "collapsed": false,
    "pycharm": {
     "is_executing": true
    }
   },
   "outputs": [
    {
     "name": "stdout",
     "output_type": "stream",
     "text": [
      "TEST\n",
      "Accuracy: 0.6252587991718427\n",
      "Confusion matrix:\n",
      " [[453 283]\n",
      " [260 453]]\n",
      "Classification report:\n",
      "               precision    recall  f1-score   support\n",
      "\n",
      "           0       0.64      0.62      0.63       736\n",
      "           1       0.62      0.64      0.63       713\n",
      "\n",
      "    accuracy                           0.63      1449\n",
      "   macro avg       0.63      0.63      0.63      1449\n",
      "weighted avg       0.63      0.63      0.63      1449\n",
      "\n",
      "TRAIN\n",
      "Accuracy: 0.841705506645952\n",
      "Confusion matrix:\n",
      " [[2409  476]\n",
      " [ 441 2467]]\n",
      "Classification report:\n",
      "               precision    recall  f1-score   support\n",
      "\n",
      "           0       0.85      0.84      0.84      2885\n",
      "           1       0.84      0.85      0.84      2908\n",
      "\n",
      "    accuracy                           0.84      5793\n",
      "   macro avg       0.84      0.84      0.84      5793\n",
      "weighted avg       0.84      0.84      0.84      5793\n",
      "\n"
     ]
    }
   ],
   "source": [
    "print(\"TEST\")\n",
    "y_pred = model.predict(X_test)\n",
    "print(\"Accuracy:\", accuracy_score(y_test, y_pred))\n",
    "print(\"Confusion matrix:\\n\", confusion_matrix(y_test, y_pred))\n",
    "print(\"Classification report:\\n\", classification_report(y_test, y_pred))\n",
    "\n",
    "print(\"TRAIN\")\n",
    "y_pred = model.predict(X_train)\n",
    "print(\"Accuracy:\", accuracy_score(y_train, y_pred))\n",
    "print(\"Confusion matrix:\\n\", confusion_matrix(y_train, y_pred))\n",
    "print(\"Classification report:\\n\", classification_report(y_train, y_pred))\n"
   ]
  }
 ],
 "metadata": {
  "kernelspec": {
   "display_name": "Python 3.10 (IUM)",
   "language": "python",
   "name": "ium"
  },
  "language_info": {
   "codemirror_mode": {
    "name": "ipython",
    "version": 3
   },
   "file_extension": ".py",
   "mimetype": "text/x-python",
   "name": "python",
   "nbconvert_exporter": "python",
   "pygments_lexer": "ipython3",
   "version": "3.10.10"
  }
 },
 "nbformat": 4,
 "nbformat_minor": 0
}
