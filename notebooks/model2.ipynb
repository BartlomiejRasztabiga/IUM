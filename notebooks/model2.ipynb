{
 "cells": [
  {
   "cell_type": "code",
   "execution_count": 421,
   "metadata": {
    "collapsed": true
   },
   "outputs": [],
   "source": [
    "import pandas as pd\n",
    "import numpy as np\n",
    "from keras.optimizers import Adam\n",
    "from sklearn.metrics import confusion_matrix, classification_report, accuracy_score\n",
    "from sklearn.preprocessing import MultiLabelBinarizer\n",
    "from sklearn.model_selection import train_test_split\n",
    "\n",
    "from tensorflow import keras\n",
    "\n",
    "from keras.models import Sequential\n",
    "from keras.layers import Dense, Dropout\n",
    "# import keras_tuner"
   ]
  },
  {
   "cell_type": "code",
   "execution_count": 422,
   "metadata": {},
   "outputs": [
    {
     "data": {
      "text/plain": "     user_id                track_id                                  name_x   \n0        101  2PmGtDUyJIpYBEtI1hQIVp                       Ballrooms Of Mars  \\\n1        103  2PmGtDUyJIpYBEtI1hQIVp                       Ballrooms Of Mars   \n2        132  2PmGtDUyJIpYBEtI1hQIVp                       Ballrooms Of Mars   \n3        132  5yxYokipsWlpDCt4Th4VVc                  Solid Gold Easy Action   \n4        132  5yxYokipsWlpDCt4Th4VVc                  Solid Gold Easy Action   \n..       ...                     ...                                     ...   \n495      119  59Pi9lNy6bAGJz5QJkcGpn  I Woke up This Morning - 2017 Remaster   \n496      101  2e95TYicnEkTgutf6UNOHA                             A Slow Song   \n497      101  2e95TYicnEkTgutf6UNOHA                             A Slow Song   \n498      103  2e95TYicnEkTgutf6UNOHA                             A Slow Song   \n499      132  2e95TYicnEkTgutf6UNOHA                             A Slow Song   \n\n     popularity  duration_ms  explicit  danceability  energy  key  loudness   \n0            34       247707         0         0.491   0.606    7   -10.172  \\\n1            34       247707         0         0.491   0.606    7   -10.172   \n2            34       247707         0         0.491   0.606    7   -10.172   \n3            35       140067         0         0.449   0.749    9    -8.585   \n4            35       140067         0         0.449   0.749    9    -8.585   \n..          ...          ...       ...           ...     ...  ...       ...   \n495          11       332558         0         0.326   0.735    9    -5.953   \n496          23       423360         0         0.309   0.557    5    -7.049   \n497          23       423360         0         0.309   0.557    5    -7.049   \n498          23       423360         0         0.309   0.557    5    -7.049   \n499          23       423360         0         0.309   0.557    5    -7.049   \n\n     ...  valence    tempo         name_y      city              street   \n0    ...    0.669  123.025  Klara Herdzik  Szczecin  pl. Floriana 55/22  \\\n1    ...    0.669  123.025   Szymon Zawal    Gdynia   al. Głogowa 14/10   \n2    ...    0.669  123.025   Cezary Nóżka   Wrocław    aleja Olchowa 16   \n3    ...    0.448  106.861   Cezary Nóżka   Wrocław    aleja Olchowa 16   \n4    ...    0.448  106.861   Cezary Nóżka   Wrocław    aleja Olchowa 16   \n..   ...      ...      ...            ...       ...                 ...   \n495  ...    0.835  174.856     Gaja Kafel    Poznań    pl. Grottgera 57   \n496  ...    0.205  174.372  Klara Herdzik  Szczecin  pl. Floriana 55/22   \n497  ...    0.205  174.372  Klara Herdzik  Szczecin  pl. Floriana 55/22   \n498  ...    0.205  174.372   Szymon Zawal    Gdynia   al. Głogowa 14/10   \n499  ...    0.205  174.372   Cezary Nóżka   Wrocław    aleja Olchowa 16   \n\n                                      favourite_genres premium_user   \n0                     [permanent wave, mandopop, funk]        False  \\\n1                      [filmi, regional mexican, folk]        False   \n2    [psychedelic rock, country rock, rock en espanol]         True   \n3    [psychedelic rock, country rock, rock en espanol]         True   \n4    [psychedelic rock, country rock, rock en espanol]         True   \n..                                                 ...          ...   \n495  [hard rock, alternative metal, singer-songwriter]        False   \n496                   [permanent wave, mandopop, funk]        False   \n497                   [permanent wave, mandopop, funk]        False   \n498                    [filmi, regional mexican, folk]        False   \n499  [psychedelic rock, country rock, rock en espanol]         True   \n\n                                                genres skipped   \n0    [album rock, art rock, classic rock, folk rock...   False  \\\n1    [album rock, art rock, classic rock, folk rock...   False   \n2    [album rock, art rock, classic rock, folk rock...   False   \n3    [album rock, art rock, classic rock, folk rock...   False   \n4    [album rock, art rock, classic rock, folk rock...   False   \n..                                                 ...     ...   \n495  [album rock, art rock, blues, blues rock, brit...   False   \n496  [album rock, art rock, classic rock, classic u...    True   \n497  [album rock, art rock, classic rock, classic u...    True   \n498  [album rock, art rock, classic rock, classic u...   False   \n499  [album rock, art rock, classic rock, classic u...    True   \n\n    number_of_matching_genres  \n0                           0  \n1                           0  \n2                           1  \n3                           1  \n4                           1  \n..                        ...  \n495                         1  \n496                         1  \n497                         1  \n498                         0  \n499                         0  \n\n[500 rows x 24 columns]",
      "text/html": "<div>\n<style scoped>\n    .dataframe tbody tr th:only-of-type {\n        vertical-align: middle;\n    }\n\n    .dataframe tbody tr th {\n        vertical-align: top;\n    }\n\n    .dataframe thead th {\n        text-align: right;\n    }\n</style>\n<table border=\"1\" class=\"dataframe\">\n  <thead>\n    <tr style=\"text-align: right;\">\n      <th></th>\n      <th>user_id</th>\n      <th>track_id</th>\n      <th>name_x</th>\n      <th>popularity</th>\n      <th>duration_ms</th>\n      <th>explicit</th>\n      <th>danceability</th>\n      <th>energy</th>\n      <th>key</th>\n      <th>loudness</th>\n      <th>...</th>\n      <th>valence</th>\n      <th>tempo</th>\n      <th>name_y</th>\n      <th>city</th>\n      <th>street</th>\n      <th>favourite_genres</th>\n      <th>premium_user</th>\n      <th>genres</th>\n      <th>skipped</th>\n      <th>number_of_matching_genres</th>\n    </tr>\n  </thead>\n  <tbody>\n    <tr>\n      <th>0</th>\n      <td>101</td>\n      <td>2PmGtDUyJIpYBEtI1hQIVp</td>\n      <td>Ballrooms Of Mars</td>\n      <td>34</td>\n      <td>247707</td>\n      <td>0</td>\n      <td>0.491</td>\n      <td>0.606</td>\n      <td>7</td>\n      <td>-10.172</td>\n      <td>...</td>\n      <td>0.669</td>\n      <td>123.025</td>\n      <td>Klara Herdzik</td>\n      <td>Szczecin</td>\n      <td>pl. Floriana 55/22</td>\n      <td>[permanent wave, mandopop, funk]</td>\n      <td>False</td>\n      <td>[album rock, art rock, classic rock, folk rock...</td>\n      <td>False</td>\n      <td>0</td>\n    </tr>\n    <tr>\n      <th>1</th>\n      <td>103</td>\n      <td>2PmGtDUyJIpYBEtI1hQIVp</td>\n      <td>Ballrooms Of Mars</td>\n      <td>34</td>\n      <td>247707</td>\n      <td>0</td>\n      <td>0.491</td>\n      <td>0.606</td>\n      <td>7</td>\n      <td>-10.172</td>\n      <td>...</td>\n      <td>0.669</td>\n      <td>123.025</td>\n      <td>Szymon Zawal</td>\n      <td>Gdynia</td>\n      <td>al. Głogowa 14/10</td>\n      <td>[filmi, regional mexican, folk]</td>\n      <td>False</td>\n      <td>[album rock, art rock, classic rock, folk rock...</td>\n      <td>False</td>\n      <td>0</td>\n    </tr>\n    <tr>\n      <th>2</th>\n      <td>132</td>\n      <td>2PmGtDUyJIpYBEtI1hQIVp</td>\n      <td>Ballrooms Of Mars</td>\n      <td>34</td>\n      <td>247707</td>\n      <td>0</td>\n      <td>0.491</td>\n      <td>0.606</td>\n      <td>7</td>\n      <td>-10.172</td>\n      <td>...</td>\n      <td>0.669</td>\n      <td>123.025</td>\n      <td>Cezary Nóżka</td>\n      <td>Wrocław</td>\n      <td>aleja Olchowa 16</td>\n      <td>[psychedelic rock, country rock, rock en espanol]</td>\n      <td>True</td>\n      <td>[album rock, art rock, classic rock, folk rock...</td>\n      <td>False</td>\n      <td>1</td>\n    </tr>\n    <tr>\n      <th>3</th>\n      <td>132</td>\n      <td>5yxYokipsWlpDCt4Th4VVc</td>\n      <td>Solid Gold Easy Action</td>\n      <td>35</td>\n      <td>140067</td>\n      <td>0</td>\n      <td>0.449</td>\n      <td>0.749</td>\n      <td>9</td>\n      <td>-8.585</td>\n      <td>...</td>\n      <td>0.448</td>\n      <td>106.861</td>\n      <td>Cezary Nóżka</td>\n      <td>Wrocław</td>\n      <td>aleja Olchowa 16</td>\n      <td>[psychedelic rock, country rock, rock en espanol]</td>\n      <td>True</td>\n      <td>[album rock, art rock, classic rock, folk rock...</td>\n      <td>False</td>\n      <td>1</td>\n    </tr>\n    <tr>\n      <th>4</th>\n      <td>132</td>\n      <td>5yxYokipsWlpDCt4Th4VVc</td>\n      <td>Solid Gold Easy Action</td>\n      <td>35</td>\n      <td>140067</td>\n      <td>0</td>\n      <td>0.449</td>\n      <td>0.749</td>\n      <td>9</td>\n      <td>-8.585</td>\n      <td>...</td>\n      <td>0.448</td>\n      <td>106.861</td>\n      <td>Cezary Nóżka</td>\n      <td>Wrocław</td>\n      <td>aleja Olchowa 16</td>\n      <td>[psychedelic rock, country rock, rock en espanol]</td>\n      <td>True</td>\n      <td>[album rock, art rock, classic rock, folk rock...</td>\n      <td>False</td>\n      <td>1</td>\n    </tr>\n    <tr>\n      <th>...</th>\n      <td>...</td>\n      <td>...</td>\n      <td>...</td>\n      <td>...</td>\n      <td>...</td>\n      <td>...</td>\n      <td>...</td>\n      <td>...</td>\n      <td>...</td>\n      <td>...</td>\n      <td>...</td>\n      <td>...</td>\n      <td>...</td>\n      <td>...</td>\n      <td>...</td>\n      <td>...</td>\n      <td>...</td>\n      <td>...</td>\n      <td>...</td>\n      <td>...</td>\n      <td>...</td>\n    </tr>\n    <tr>\n      <th>495</th>\n      <td>119</td>\n      <td>59Pi9lNy6bAGJz5QJkcGpn</td>\n      <td>I Woke up This Morning - 2017 Remaster</td>\n      <td>11</td>\n      <td>332558</td>\n      <td>0</td>\n      <td>0.326</td>\n      <td>0.735</td>\n      <td>9</td>\n      <td>-5.953</td>\n      <td>...</td>\n      <td>0.835</td>\n      <td>174.856</td>\n      <td>Gaja Kafel</td>\n      <td>Poznań</td>\n      <td>pl. Grottgera 57</td>\n      <td>[hard rock, alternative metal, singer-songwriter]</td>\n      <td>False</td>\n      <td>[album rock, art rock, blues, blues rock, brit...</td>\n      <td>False</td>\n      <td>1</td>\n    </tr>\n    <tr>\n      <th>496</th>\n      <td>101</td>\n      <td>2e95TYicnEkTgutf6UNOHA</td>\n      <td>A Slow Song</td>\n      <td>23</td>\n      <td>423360</td>\n      <td>0</td>\n      <td>0.309</td>\n      <td>0.557</td>\n      <td>5</td>\n      <td>-7.049</td>\n      <td>...</td>\n      <td>0.205</td>\n      <td>174.372</td>\n      <td>Klara Herdzik</td>\n      <td>Szczecin</td>\n      <td>pl. Floriana 55/22</td>\n      <td>[permanent wave, mandopop, funk]</td>\n      <td>False</td>\n      <td>[album rock, art rock, classic rock, classic u...</td>\n      <td>True</td>\n      <td>1</td>\n    </tr>\n    <tr>\n      <th>497</th>\n      <td>101</td>\n      <td>2e95TYicnEkTgutf6UNOHA</td>\n      <td>A Slow Song</td>\n      <td>23</td>\n      <td>423360</td>\n      <td>0</td>\n      <td>0.309</td>\n      <td>0.557</td>\n      <td>5</td>\n      <td>-7.049</td>\n      <td>...</td>\n      <td>0.205</td>\n      <td>174.372</td>\n      <td>Klara Herdzik</td>\n      <td>Szczecin</td>\n      <td>pl. Floriana 55/22</td>\n      <td>[permanent wave, mandopop, funk]</td>\n      <td>False</td>\n      <td>[album rock, art rock, classic rock, classic u...</td>\n      <td>True</td>\n      <td>1</td>\n    </tr>\n    <tr>\n      <th>498</th>\n      <td>103</td>\n      <td>2e95TYicnEkTgutf6UNOHA</td>\n      <td>A Slow Song</td>\n      <td>23</td>\n      <td>423360</td>\n      <td>0</td>\n      <td>0.309</td>\n      <td>0.557</td>\n      <td>5</td>\n      <td>-7.049</td>\n      <td>...</td>\n      <td>0.205</td>\n      <td>174.372</td>\n      <td>Szymon Zawal</td>\n      <td>Gdynia</td>\n      <td>al. Głogowa 14/10</td>\n      <td>[filmi, regional mexican, folk]</td>\n      <td>False</td>\n      <td>[album rock, art rock, classic rock, classic u...</td>\n      <td>False</td>\n      <td>0</td>\n    </tr>\n    <tr>\n      <th>499</th>\n      <td>132</td>\n      <td>2e95TYicnEkTgutf6UNOHA</td>\n      <td>A Slow Song</td>\n      <td>23</td>\n      <td>423360</td>\n      <td>0</td>\n      <td>0.309</td>\n      <td>0.557</td>\n      <td>5</td>\n      <td>-7.049</td>\n      <td>...</td>\n      <td>0.205</td>\n      <td>174.372</td>\n      <td>Cezary Nóżka</td>\n      <td>Wrocław</td>\n      <td>aleja Olchowa 16</td>\n      <td>[psychedelic rock, country rock, rock en espanol]</td>\n      <td>True</td>\n      <td>[album rock, art rock, classic rock, classic u...</td>\n      <td>True</td>\n      <td>0</td>\n    </tr>\n  </tbody>\n</table>\n<p>500 rows × 24 columns</p>\n</div>"
     },
     "execution_count": 422,
     "metadata": {},
     "output_type": "execute_result"
    }
   ],
   "source": [
    "merged_data_path = '../data/merged_data.jsonl'\n",
    "data = pd.read_json(merged_data_path, lines=True)\n",
    "\n",
    "# data = data.drop(\n",
    "#     columns=[\"release_date\", \"key\", \"loudness\",\n",
    "#              \"explicit\", \"popularity\", \"duration_ms\", \"danceability\", \"energy\", \"speechiness\",\n",
    "#              \"acousticness\", \"instrumentalness\", \"liveness\", \"valence\", \"tempo\"])\n",
    "\n",
    "data = data.drop(\n",
    "    columns=[\"release_date\", \"name\"])\n",
    "\n",
    "data.head(500)"
   ]
  },
  {
   "cell_type": "code",
   "execution_count": 423,
   "metadata": {},
   "outputs": [
    {
     "name": "stdout",
     "output_type": "stream",
     "text": [
      "unique_favourite_genres 46\n",
      "unique_genres 1766\n",
      "common genres {'blues rock', 'singer-songwriter', 'pop', 'album rock', 'quiet storm', 'ranchera', 'motown', 'vocal jazz', 'classic rock', 'soul', 'art rock', 'pop rock', 'folk', 'lounge', 'j-pop', 'filmi', 'hard rock', 'new wave', 'mellow gold', 'country rock', 'alternative rock', 'permanent wave', 'new romantic', 'new wave pop', 'latin alternative', 'soft rock', 'rock en espanol', 'c-pop', 'brill building pop', 'adult standards', 'alternative metal', 'mpb', 'turkish pop', 'funk', 'europop', 'hoerspiel', 'latin', 'latin pop', 'latin rock', 'tropical', 'mandopop', 'regional mexican', 'metal', 'psychedelic rock', 'rock', 'dance pop'}\n"
     ]
    },
    {
     "data": {
      "text/plain": "   user_id                track_id                  name_x  popularity   \n0      101  2PmGtDUyJIpYBEtI1hQIVp       Ballrooms Of Mars          34  \\\n1      103  2PmGtDUyJIpYBEtI1hQIVp       Ballrooms Of Mars          34   \n2      132  2PmGtDUyJIpYBEtI1hQIVp       Ballrooms Of Mars          34   \n3      132  5yxYokipsWlpDCt4Th4VVc  Solid Gold Easy Action          35   \n4      132  5yxYokipsWlpDCt4Th4VVc  Solid Gold Easy Action          35   \n\n   duration_ms  explicit  danceability  energy  key  loudness  ...  valence   \n0       247707         0         0.491   0.606    7   -10.172  ...    0.669  \\\n1       247707         0         0.491   0.606    7   -10.172  ...    0.669   \n2       247707         0         0.491   0.606    7   -10.172  ...    0.669   \n3       140067         0         0.449   0.749    9    -8.585  ...    0.448   \n4       140067         0         0.449   0.749    9    -8.585  ...    0.448   \n\n     tempo         name_y      city              street   \n0  123.025  Klara Herdzik  Szczecin  pl. Floriana 55/22  \\\n1  123.025   Szymon Zawal    Gdynia   al. Głogowa 14/10   \n2  123.025   Cezary Nóżka   Wrocław    aleja Olchowa 16   \n3  106.861   Cezary Nóżka   Wrocław    aleja Olchowa 16   \n4  106.861   Cezary Nóżka   Wrocław    aleja Olchowa 16   \n\n                                    favourite_genres premium_user   \n0                   [permanent wave, mandopop, funk]        False  \\\n1                    [filmi, regional mexican, folk]        False   \n2  [psychedelic rock, country rock, rock en espanol]         True   \n3  [psychedelic rock, country rock, rock en espanol]         True   \n4  [psychedelic rock, country rock, rock en espanol]         True   \n\n                                              genres skipped   \n0  [album rock, art rock, classic rock, psychedel...   False  \\\n1  [album rock, art rock, classic rock, psychedel...   False   \n2  [album rock, art rock, classic rock, psychedel...   False   \n3  [album rock, art rock, classic rock, psychedel...   False   \n4  [album rock, art rock, classic rock, psychedel...   False   \n\n  number_of_matching_genres  \n0                         0  \n1                         0  \n2                         1  \n3                         1  \n4                         1  \n\n[5 rows x 24 columns]",
      "text/html": "<div>\n<style scoped>\n    .dataframe tbody tr th:only-of-type {\n        vertical-align: middle;\n    }\n\n    .dataframe tbody tr th {\n        vertical-align: top;\n    }\n\n    .dataframe thead th {\n        text-align: right;\n    }\n</style>\n<table border=\"1\" class=\"dataframe\">\n  <thead>\n    <tr style=\"text-align: right;\">\n      <th></th>\n      <th>user_id</th>\n      <th>track_id</th>\n      <th>name_x</th>\n      <th>popularity</th>\n      <th>duration_ms</th>\n      <th>explicit</th>\n      <th>danceability</th>\n      <th>energy</th>\n      <th>key</th>\n      <th>loudness</th>\n      <th>...</th>\n      <th>valence</th>\n      <th>tempo</th>\n      <th>name_y</th>\n      <th>city</th>\n      <th>street</th>\n      <th>favourite_genres</th>\n      <th>premium_user</th>\n      <th>genres</th>\n      <th>skipped</th>\n      <th>number_of_matching_genres</th>\n    </tr>\n  </thead>\n  <tbody>\n    <tr>\n      <th>0</th>\n      <td>101</td>\n      <td>2PmGtDUyJIpYBEtI1hQIVp</td>\n      <td>Ballrooms Of Mars</td>\n      <td>34</td>\n      <td>247707</td>\n      <td>0</td>\n      <td>0.491</td>\n      <td>0.606</td>\n      <td>7</td>\n      <td>-10.172</td>\n      <td>...</td>\n      <td>0.669</td>\n      <td>123.025</td>\n      <td>Klara Herdzik</td>\n      <td>Szczecin</td>\n      <td>pl. Floriana 55/22</td>\n      <td>[permanent wave, mandopop, funk]</td>\n      <td>False</td>\n      <td>[album rock, art rock, classic rock, psychedel...</td>\n      <td>False</td>\n      <td>0</td>\n    </tr>\n    <tr>\n      <th>1</th>\n      <td>103</td>\n      <td>2PmGtDUyJIpYBEtI1hQIVp</td>\n      <td>Ballrooms Of Mars</td>\n      <td>34</td>\n      <td>247707</td>\n      <td>0</td>\n      <td>0.491</td>\n      <td>0.606</td>\n      <td>7</td>\n      <td>-10.172</td>\n      <td>...</td>\n      <td>0.669</td>\n      <td>123.025</td>\n      <td>Szymon Zawal</td>\n      <td>Gdynia</td>\n      <td>al. Głogowa 14/10</td>\n      <td>[filmi, regional mexican, folk]</td>\n      <td>False</td>\n      <td>[album rock, art rock, classic rock, psychedel...</td>\n      <td>False</td>\n      <td>0</td>\n    </tr>\n    <tr>\n      <th>2</th>\n      <td>132</td>\n      <td>2PmGtDUyJIpYBEtI1hQIVp</td>\n      <td>Ballrooms Of Mars</td>\n      <td>34</td>\n      <td>247707</td>\n      <td>0</td>\n      <td>0.491</td>\n      <td>0.606</td>\n      <td>7</td>\n      <td>-10.172</td>\n      <td>...</td>\n      <td>0.669</td>\n      <td>123.025</td>\n      <td>Cezary Nóżka</td>\n      <td>Wrocław</td>\n      <td>aleja Olchowa 16</td>\n      <td>[psychedelic rock, country rock, rock en espanol]</td>\n      <td>True</td>\n      <td>[album rock, art rock, classic rock, psychedel...</td>\n      <td>False</td>\n      <td>1</td>\n    </tr>\n    <tr>\n      <th>3</th>\n      <td>132</td>\n      <td>5yxYokipsWlpDCt4Th4VVc</td>\n      <td>Solid Gold Easy Action</td>\n      <td>35</td>\n      <td>140067</td>\n      <td>0</td>\n      <td>0.449</td>\n      <td>0.749</td>\n      <td>9</td>\n      <td>-8.585</td>\n      <td>...</td>\n      <td>0.448</td>\n      <td>106.861</td>\n      <td>Cezary Nóżka</td>\n      <td>Wrocław</td>\n      <td>aleja Olchowa 16</td>\n      <td>[psychedelic rock, country rock, rock en espanol]</td>\n      <td>True</td>\n      <td>[album rock, art rock, classic rock, psychedel...</td>\n      <td>False</td>\n      <td>1</td>\n    </tr>\n    <tr>\n      <th>4</th>\n      <td>132</td>\n      <td>5yxYokipsWlpDCt4Th4VVc</td>\n      <td>Solid Gold Easy Action</td>\n      <td>35</td>\n      <td>140067</td>\n      <td>0</td>\n      <td>0.449</td>\n      <td>0.749</td>\n      <td>9</td>\n      <td>-8.585</td>\n      <td>...</td>\n      <td>0.448</td>\n      <td>106.861</td>\n      <td>Cezary Nóżka</td>\n      <td>Wrocław</td>\n      <td>aleja Olchowa 16</td>\n      <td>[psychedelic rock, country rock, rock en espanol]</td>\n      <td>True</td>\n      <td>[album rock, art rock, classic rock, psychedel...</td>\n      <td>False</td>\n      <td>1</td>\n    </tr>\n  </tbody>\n</table>\n<p>5 rows × 24 columns</p>\n</div>"
     },
     "execution_count": 423,
     "metadata": {},
     "output_type": "execute_result"
    }
   ],
   "source": [
    "unique_favourite_genres = set()\n",
    "for genres in data['favourite_genres']:\n",
    "  for genre in genres:\n",
    "    unique_favourite_genres.add(genre)\n",
    "\n",
    "unique_genres = set()\n",
    "for genres in data['genres']:\n",
    "  for genre in genres:\n",
    "    unique_genres.add(genre)\n",
    "\n",
    "# show all common genres between all favourite_genres and genres\n",
    "print(\"unique_favourite_genres\", len(unique_favourite_genres))\n",
    "print(\"unique_genres\", len(unique_genres))\n",
    "common_genres = unique_favourite_genres.intersection(unique_genres)\n",
    "print(\"common genres\", common_genres)\n",
    "\n",
    "# remove genres that are not in favourite_genres\n",
    "data['genres'] = data['genres'].apply(\n",
    "    lambda x: [genre for genre in x if genre in unique_favourite_genres])\n",
    "\n",
    "data.head()\n",
    "\n",
    "# TODO remove ??? moze niepotrzebne"
   ]
  },
  {
   "cell_type": "code",
   "execution_count": 424,
   "metadata": {},
   "outputs": [
    {
     "data": {
      "text/plain": "   popularity  popularity_normalized  duration_ms  duration_ms_normalized   \n0          34               0.354167       247707                0.092836  \\\n1          34               0.354167       247707                0.092836   \n2          34               0.354167       247707                0.092836   \n3          35               0.364583       140067                0.046724   \n4          35               0.364583       140067                0.046724   \n\n   number_of_matching_genres  number_of_matching_genres_normalized  skipped  \n0                          0                              0.000000    False  \n1                          0                              0.000000    False  \n2                          1                              0.333333    False  \n3                          1                              0.333333    False  \n4                          1                              0.333333    False  ",
      "text/html": "<div>\n<style scoped>\n    .dataframe tbody tr th:only-of-type {\n        vertical-align: middle;\n    }\n\n    .dataframe tbody tr th {\n        vertical-align: top;\n    }\n\n    .dataframe thead th {\n        text-align: right;\n    }\n</style>\n<table border=\"1\" class=\"dataframe\">\n  <thead>\n    <tr style=\"text-align: right;\">\n      <th></th>\n      <th>popularity</th>\n      <th>popularity_normalized</th>\n      <th>duration_ms</th>\n      <th>duration_ms_normalized</th>\n      <th>number_of_matching_genres</th>\n      <th>number_of_matching_genres_normalized</th>\n      <th>skipped</th>\n    </tr>\n  </thead>\n  <tbody>\n    <tr>\n      <th>0</th>\n      <td>34</td>\n      <td>0.354167</td>\n      <td>247707</td>\n      <td>0.092836</td>\n      <td>0</td>\n      <td>0.000000</td>\n      <td>False</td>\n    </tr>\n    <tr>\n      <th>1</th>\n      <td>34</td>\n      <td>0.354167</td>\n      <td>247707</td>\n      <td>0.092836</td>\n      <td>0</td>\n      <td>0.000000</td>\n      <td>False</td>\n    </tr>\n    <tr>\n      <th>2</th>\n      <td>34</td>\n      <td>0.354167</td>\n      <td>247707</td>\n      <td>0.092836</td>\n      <td>1</td>\n      <td>0.333333</td>\n      <td>False</td>\n    </tr>\n    <tr>\n      <th>3</th>\n      <td>35</td>\n      <td>0.364583</td>\n      <td>140067</td>\n      <td>0.046724</td>\n      <td>1</td>\n      <td>0.333333</td>\n      <td>False</td>\n    </tr>\n    <tr>\n      <th>4</th>\n      <td>35</td>\n      <td>0.364583</td>\n      <td>140067</td>\n      <td>0.046724</td>\n      <td>1</td>\n      <td>0.333333</td>\n      <td>False</td>\n    </tr>\n  </tbody>\n</table>\n</div>"
     },
     "execution_count": 424,
     "metadata": {},
     "output_type": "execute_result"
    }
   ],
   "source": [
    "# Combine genres and favourite_genres\n",
    "all_genres = list(data['favourite_genres'] + data['genres'])\n",
    "\n",
    "# One-hot encode the genres\n",
    "mlb = MultiLabelBinarizer()\n",
    "mlb.fit(all_genres)\n",
    "\n",
    "encoded_all_genres = mlb.fit_transform(all_genres)\n",
    "\n",
    "# Split encoded_genres into genres and favourite_genres\n",
    "# encoded_favourite_genres = encoded_all_genres[:, :len(data['favourite_genres'][0])]\n",
    "# encoded_genres = encoded_all_genres[:, len(data['favourite_genres'][0]):]\n",
    "\n",
    "encoded_favourite_genres = mlb.transform(data['favourite_genres'])\n",
    "encoded_genres = mlb.transform(data['genres'])\n",
    "# encoded_common_genres = mlb.transform(data['common_genres'])\n",
    "\n",
    "popularity_normalized = data['popularity'].values.reshape(-1, 1)\n",
    "popularity_normalized = (popularity_normalized - np.min(popularity_normalized)) / (\n",
    "    np.max(popularity_normalized) - np.min(popularity_normalized))\n",
    "\n",
    "duration_ms_normalized = data['duration_ms'].values.reshape(-1, 1)\n",
    "duration_ms_normalized = (duration_ms_normalized - np.min(duration_ms_normalized)) / (\n",
    "    np.max(duration_ms_normalized) - np.min(duration_ms_normalized))\n",
    "\n",
    "danceability_normalized = data['danceability'].values.reshape(-1, 1)\n",
    "danceability_normalized = (danceability_normalized - np.min(danceability_normalized)) / (\n",
    "    np.max(danceability_normalized) - np.min(danceability_normalized))\n",
    "\n",
    "energy_normalized = data['energy'].values.reshape(-1, 1)\n",
    "energy_normalized = (energy_normalized - np.min(energy_normalized)) / (\n",
    "    np.max(energy_normalized) - np.min(energy_normalized))\n",
    "\n",
    "number_of_matching_genres_normalized = data['number_of_matching_genres'].values.reshape(-1, 1)\n",
    "number_of_matching_genres_normalized = (number_of_matching_genres_normalized - np.min(\n",
    "    number_of_matching_genres_normalized)) / (np.max(number_of_matching_genres_normalized) - np.min(\n",
    "    number_of_matching_genres_normalized))\n",
    "\n",
    "# create data frame from data genres, data favourite_genres, encoded genres, encoded favourite_genres\n",
    "df = pd.DataFrame(\n",
    "    data={'popularity': data['popularity'],\n",
    "          'popularity_normalized': popularity_normalized.reshape(-1),\n",
    "          'duration_ms': data['duration_ms'],\n",
    "          'duration_ms_normalized': duration_ms_normalized.reshape(-1),\n",
    "          'number_of_matching_genres': data['number_of_matching_genres'],\n",
    "          'number_of_matching_genres_normalized': number_of_matching_genres_normalized.reshape(-1),\n",
    "          'skipped': data['skipped']})\n",
    "\n",
    "df.head(5)"
   ]
  },
  {
   "cell_type": "code",
   "execution_count": 425,
   "metadata": {},
   "outputs": [
    {
     "name": "stdout",
     "output_type": "stream",
     "text": [
      "(9881, 92)\n",
      "Y_train not skipped 1232\n",
      "Y_train skipped 745\n",
      "Y_train skipped % 0.3768335862417805\n"
     ]
    }
   ],
   "source": [
    "# TODO uzywac keras tokenizer?\n",
    "\n",
    "# Concatenate the one-hot encoded columns\n",
    "X = np.concatenate([encoded_favourite_genres, encoded_genres], axis=1)\n",
    "# X = np.concatenate(\n",
    "#     [popularity_normalized, duration_ms_normalized, danceability_normalized, energy_normalized,\n",
    "#      number_of_matching_genres_normalized], axis=1)\n",
    "\n",
    "# create df from X\n",
    "df = pd.DataFrame(data=X)\n",
    "print(df.shape)\n",
    "#\n",
    "# Extract the labels\n",
    "y = data['skipped'].astype(int).values\n",
    "\n",
    "# Split the data into training and testing sets\n",
    "X_train, X_test, y_train, y_test = train_test_split(X, y, test_size=0.2, shuffle=True)\n",
    "\n",
    "# count skipped and not skipped songs in X_train\n",
    "print(\"Y_train not skipped\", np.count_nonzero(y_test == 0))\n",
    "print(\"Y_train skipped\", np.count_nonzero(y_test == 1))\n",
    "print(\"Y_train skipped %\", np.count_nonzero(y_test == 1) / len(y_test))\n"
   ]
  },
  {
   "cell_type": "code",
   "execution_count": 426,
   "metadata": {},
   "outputs": [],
   "source": [
    "def build_model(hp):\n",
    "  model = Sequential()\n",
    "  model.add(Dense(92 * 2, activation='relu', input_shape=(X_train.shape[1],)))\n",
    "  model.add(Dropout(0.5))\n",
    "  model.add(Dense(92, activation='relu'))\n",
    "  model.add(Dropout(0.5))\n",
    "  # model.add(Dense(1000, activation='relu'))\n",
    "  # model.add(Dropout(0.5))\n",
    "  model.add(Dense(1, activation='sigmoid'))\n",
    "\n",
    "  # model.compile(\n",
    "  #     optimizer=keras.optimizers.Adam(hp.Choice('learning_date', values=[0.5, 0.1, 0.01])),\n",
    "  #     loss='binary_crossentropy', metrics=['accuracy'])\n",
    "  model.compile(\n",
    "      optimizer=Adam(),\n",
    "      loss='binary_crossentropy', metrics=['accuracy'])\n",
    "  return model\n"
   ]
  },
  {
   "cell_type": "code",
   "execution_count": null,
   "metadata": {
    "pycharm": {
     "is_executing": true
    }
   },
   "outputs": [
    {
     "name": "stdout",
     "output_type": "stream",
     "text": [
      "Epoch 1/100\n",
      "247/247 - 2s - loss: 0.6205 - accuracy: 0.6536 - val_loss: 0.5773 - val_accuracy: 0.6849 - 2s/epoch - 9ms/step\n",
      "Epoch 2/100\n",
      "247/247 - 1s - loss: 0.5811 - accuracy: 0.6841 - val_loss: 0.5687 - val_accuracy: 0.6915 - 1s/epoch - 5ms/step\n",
      "Epoch 3/100\n",
      "247/247 - 1s - loss: 0.5697 - accuracy: 0.6908 - val_loss: 0.5673 - val_accuracy: 0.6925 - 1s/epoch - 4ms/step\n",
      "Epoch 4/100\n",
      "247/247 - 1s - loss: 0.5652 - accuracy: 0.7019 - val_loss: 0.5643 - val_accuracy: 0.6935 - 1s/epoch - 4ms/step\n",
      "Epoch 5/100\n",
      "247/247 - 1s - loss: 0.5594 - accuracy: 0.7037 - val_loss: 0.5633 - val_accuracy: 0.7001 - 1s/epoch - 4ms/step\n",
      "Epoch 6/100\n",
      "247/247 - 1s - loss: 0.5572 - accuracy: 0.7082 - val_loss: 0.5657 - val_accuracy: 0.6920 - 1s/epoch - 4ms/step\n",
      "Epoch 7/100\n",
      "247/247 - 1s - loss: 0.5522 - accuracy: 0.7142 - val_loss: 0.5648 - val_accuracy: 0.7031 - 1s/epoch - 5ms/step\n",
      "Epoch 8/100\n",
      "247/247 - 1s - loss: 0.5546 - accuracy: 0.7136 - val_loss: 0.5659 - val_accuracy: 0.7051 - 1s/epoch - 5ms/step\n",
      "Epoch 9/100\n",
      "247/247 - 1s - loss: 0.5494 - accuracy: 0.7139 - val_loss: 0.5637 - val_accuracy: 0.7046 - 1s/epoch - 5ms/step\n",
      "Epoch 10/100\n",
      "247/247 - 1s - loss: 0.5462 - accuracy: 0.7114 - val_loss: 0.5618 - val_accuracy: 0.7031 - 1s/epoch - 4ms/step\n",
      "Epoch 11/100\n",
      "247/247 - 1s - loss: 0.5443 - accuracy: 0.7186 - val_loss: 0.5652 - val_accuracy: 0.6925 - 1s/epoch - 4ms/step\n",
      "Epoch 12/100\n",
      "247/247 - 1s - loss: 0.5424 - accuracy: 0.7203 - val_loss: 0.5653 - val_accuracy: 0.6995 - 1s/epoch - 5ms/step\n",
      "Epoch 13/100\n",
      "247/247 - 1s - loss: 0.5395 - accuracy: 0.7224 - val_loss: 0.5657 - val_accuracy: 0.6970 - 1s/epoch - 5ms/step\n",
      "Epoch 14/100\n",
      "247/247 - 1s - loss: 0.5363 - accuracy: 0.7231 - val_loss: 0.5651 - val_accuracy: 0.6980 - 1s/epoch - 5ms/step\n",
      "Epoch 15/100\n",
      "247/247 - 1s - loss: 0.5383 - accuracy: 0.7244 - val_loss: 0.5652 - val_accuracy: 0.6965 - 1s/epoch - 5ms/step\n",
      "Epoch 16/100\n",
      "247/247 - 1s - loss: 0.5352 - accuracy: 0.7266 - val_loss: 0.5682 - val_accuracy: 0.6960 - 1s/epoch - 5ms/step\n",
      "Epoch 17/100\n",
      "247/247 - 1s - loss: 0.5314 - accuracy: 0.7266 - val_loss: 0.5665 - val_accuracy: 0.6955 - 1s/epoch - 5ms/step\n",
      "Epoch 18/100\n",
      "247/247 - 1s - loss: 0.5316 - accuracy: 0.7267 - val_loss: 0.5773 - val_accuracy: 0.7001 - 1s/epoch - 4ms/step\n",
      "Epoch 19/100\n",
      "247/247 - 1s - loss: 0.5315 - accuracy: 0.7281 - val_loss: 0.5696 - val_accuracy: 0.6970 - 1s/epoch - 5ms/step\n",
      "Epoch 20/100\n",
      "247/247 - 1s - loss: 0.5298 - accuracy: 0.7300 - val_loss: 0.5684 - val_accuracy: 0.6960 - 1s/epoch - 5ms/step\n",
      "Epoch 21/100\n",
      "247/247 - 1s - loss: 0.5246 - accuracy: 0.7319 - val_loss: 0.5733 - val_accuracy: 0.6990 - 1s/epoch - 5ms/step\n",
      "Epoch 22/100\n",
      "247/247 - 1s - loss: 0.5245 - accuracy: 0.7332 - val_loss: 0.5726 - val_accuracy: 0.6930 - 1s/epoch - 5ms/step\n",
      "Epoch 23/100\n",
      "247/247 - 1s - loss: 0.5236 - accuracy: 0.7356 - val_loss: 0.5749 - val_accuracy: 0.6909 - 1s/epoch - 5ms/step\n",
      "Epoch 24/100\n",
      "247/247 - 1s - loss: 0.5200 - accuracy: 0.7315 - val_loss: 0.5772 - val_accuracy: 0.6940 - 1s/epoch - 5ms/step\n",
      "Epoch 25/100\n",
      "247/247 - 1s - loss: 0.5180 - accuracy: 0.7398 - val_loss: 0.5776 - val_accuracy: 0.6975 - 1s/epoch - 5ms/step\n",
      "Epoch 26/100\n",
      "247/247 - 1s - loss: 0.5162 - accuracy: 0.7380 - val_loss: 0.5804 - val_accuracy: 0.6975 - 1s/epoch - 5ms/step\n",
      "Epoch 27/100\n",
      "247/247 - 1s - loss: 0.5161 - accuracy: 0.7391 - val_loss: 0.5803 - val_accuracy: 0.6930 - 1s/epoch - 5ms/step\n",
      "Epoch 28/100\n",
      "247/247 - 1s - loss: 0.5104 - accuracy: 0.7394 - val_loss: 0.5792 - val_accuracy: 0.6955 - 1s/epoch - 5ms/step\n",
      "Epoch 29/100\n",
      "247/247 - 1s - loss: 0.5111 - accuracy: 0.7381 - val_loss: 0.5813 - val_accuracy: 0.6935 - 1s/epoch - 5ms/step\n",
      "Epoch 30/100\n",
      "247/247 - 1s - loss: 0.5079 - accuracy: 0.7444 - val_loss: 0.5855 - val_accuracy: 0.6960 - 1s/epoch - 5ms/step\n",
      "Epoch 31/100\n",
      "247/247 - 1s - loss: 0.5101 - accuracy: 0.7410 - val_loss: 0.5851 - val_accuracy: 0.6920 - 1s/epoch - 5ms/step\n",
      "Epoch 32/100\n",
      "247/247 - 1s - loss: 0.5065 - accuracy: 0.7449 - val_loss: 0.5900 - val_accuracy: 0.6920 - 1s/epoch - 5ms/step\n",
      "Epoch 33/100\n",
      "247/247 - 1s - loss: 0.5077 - accuracy: 0.7404 - val_loss: 0.5881 - val_accuracy: 0.6889 - 1s/epoch - 5ms/step\n",
      "Epoch 34/100\n",
      "247/247 - 1s - loss: 0.5039 - accuracy: 0.7468 - val_loss: 0.5928 - val_accuracy: 0.6915 - 1s/epoch - 5ms/step\n",
      "Epoch 35/100\n",
      "247/247 - 1s - loss: 0.5046 - accuracy: 0.7461 - val_loss: 0.5927 - val_accuracy: 0.6920 - 1s/epoch - 5ms/step\n",
      "Epoch 36/100\n",
      "247/247 - 1s - loss: 0.5013 - accuracy: 0.7487 - val_loss: 0.5927 - val_accuracy: 0.6909 - 1s/epoch - 5ms/step\n",
      "Epoch 37/100\n",
      "247/247 - 1s - loss: 0.4989 - accuracy: 0.7491 - val_loss: 0.5971 - val_accuracy: 0.6899 - 1s/epoch - 5ms/step\n",
      "Epoch 38/100\n",
      "247/247 - 1s - loss: 0.5022 - accuracy: 0.7486 - val_loss: 0.5923 - val_accuracy: 0.6909 - 1s/epoch - 6ms/step\n",
      "Epoch 39/100\n",
      "247/247 - 1s - loss: 0.4954 - accuracy: 0.7495 - val_loss: 0.5979 - val_accuracy: 0.6884 - 1s/epoch - 5ms/step\n",
      "Epoch 40/100\n",
      "247/247 - 1s - loss: 0.4964 - accuracy: 0.7485 - val_loss: 0.5968 - val_accuracy: 0.6920 - 1s/epoch - 4ms/step\n",
      "Epoch 41/100\n",
      "247/247 - 1s - loss: 0.4943 - accuracy: 0.7503 - val_loss: 0.6034 - val_accuracy: 0.6889 - 1s/epoch - 5ms/step\n",
      "Epoch 42/100\n",
      "247/247 - 1s - loss: 0.4950 - accuracy: 0.7489 - val_loss: 0.5958 - val_accuracy: 0.6920 - 1s/epoch - 5ms/step\n",
      "Epoch 43/100\n",
      "247/247 - 1s - loss: 0.4936 - accuracy: 0.7534 - val_loss: 0.6022 - val_accuracy: 0.6904 - 1s/epoch - 5ms/step\n",
      "Epoch 44/100\n",
      "247/247 - 1s - loss: 0.4908 - accuracy: 0.7546 - val_loss: 0.6006 - val_accuracy: 0.6879 - 1s/epoch - 6ms/step\n",
      "Epoch 45/100\n",
      "247/247 - 1s - loss: 0.4872 - accuracy: 0.7509 - val_loss: 0.6001 - val_accuracy: 0.6920 - 1s/epoch - 5ms/step\n",
      "Epoch 46/100\n",
      "247/247 - 1s - loss: 0.4883 - accuracy: 0.7572 - val_loss: 0.6058 - val_accuracy: 0.6894 - 1s/epoch - 5ms/step\n",
      "Epoch 47/100\n",
      "247/247 - 1s - loss: 0.4881 - accuracy: 0.7533 - val_loss: 0.6087 - val_accuracy: 0.6869 - 1s/epoch - 5ms/step\n",
      "Epoch 48/100\n",
      "247/247 - 1s - loss: 0.4853 - accuracy: 0.7549 - val_loss: 0.6097 - val_accuracy: 0.6864 - 1s/epoch - 5ms/step\n",
      "Epoch 49/100\n",
      "247/247 - 1s - loss: 0.4839 - accuracy: 0.7558 - val_loss: 0.6084 - val_accuracy: 0.6869 - 1s/epoch - 5ms/step\n",
      "Epoch 50/100\n",
      "247/247 - 1s - loss: 0.4867 - accuracy: 0.7544 - val_loss: 0.6112 - val_accuracy: 0.6909 - 1s/epoch - 5ms/step\n",
      "Epoch 51/100\n",
      "247/247 - 1s - loss: 0.4894 - accuracy: 0.7549 - val_loss: 0.6144 - val_accuracy: 0.6884 - 1s/epoch - 5ms/step\n",
      "Epoch 52/100\n",
      "247/247 - 1s - loss: 0.4843 - accuracy: 0.7586 - val_loss: 0.6102 - val_accuracy: 0.6925 - 1s/epoch - 6ms/step\n",
      "Epoch 53/100\n",
      "247/247 - 1s - loss: 0.4823 - accuracy: 0.7535 - val_loss: 0.6165 - val_accuracy: 0.6915 - 1s/epoch - 5ms/step\n",
      "Epoch 54/100\n",
      "247/247 - 1s - loss: 0.4806 - accuracy: 0.7562 - val_loss: 0.6155 - val_accuracy: 0.6915 - 1s/epoch - 5ms/step\n",
      "Epoch 55/100\n",
      "247/247 - 1s - loss: 0.4836 - accuracy: 0.7616 - val_loss: 0.6147 - val_accuracy: 0.6859 - 1s/epoch - 5ms/step\n",
      "Epoch 56/100\n",
      "247/247 - 2s - loss: 0.4826 - accuracy: 0.7561 - val_loss: 0.6181 - val_accuracy: 0.6899 - 2s/epoch - 6ms/step\n",
      "Epoch 57/100\n",
      "247/247 - 1s - loss: 0.4741 - accuracy: 0.7614 - val_loss: 0.6217 - val_accuracy: 0.6879 - 1s/epoch - 5ms/step\n",
      "Epoch 58/100\n",
      "247/247 - 1s - loss: 0.4789 - accuracy: 0.7571 - val_loss: 0.6243 - val_accuracy: 0.6884 - 1s/epoch - 5ms/step\n",
      "Epoch 59/100\n",
      "247/247 - 1s - loss: 0.4784 - accuracy: 0.7584 - val_loss: 0.6271 - val_accuracy: 0.6894 - 1s/epoch - 5ms/step\n",
      "Epoch 60/100\n",
      "247/247 - 1s - loss: 0.4773 - accuracy: 0.7618 - val_loss: 0.6261 - val_accuracy: 0.6879 - 1s/epoch - 5ms/step\n",
      "Epoch 61/100\n",
      "247/247 - 1s - loss: 0.4802 - accuracy: 0.7577 - val_loss: 0.6314 - val_accuracy: 0.6879 - 1s/epoch - 5ms/step\n",
      "Epoch 62/100\n",
      "247/247 - 1s - loss: 0.4745 - accuracy: 0.7611 - val_loss: 0.6271 - val_accuracy: 0.6909 - 1s/epoch - 5ms/step\n",
      "Epoch 63/100\n",
      "247/247 - 1s - loss: 0.4787 - accuracy: 0.7606 - val_loss: 0.6241 - val_accuracy: 0.6894 - 1s/epoch - 4ms/step\n",
      "Epoch 64/100\n",
      "247/247 - 1s - loss: 0.4738 - accuracy: 0.7644 - val_loss: 0.6322 - val_accuracy: 0.6879 - 1s/epoch - 5ms/step\n",
      "Epoch 65/100\n",
      "247/247 - 1s - loss: 0.4721 - accuracy: 0.7643 - val_loss: 0.6334 - val_accuracy: 0.6884 - 1s/epoch - 5ms/step\n",
      "Epoch 66/100\n",
      "247/247 - 1s - loss: 0.4726 - accuracy: 0.7644 - val_loss: 0.6344 - val_accuracy: 0.6869 - 1s/epoch - 5ms/step\n",
      "Epoch 67/100\n",
      "247/247 - 1s - loss: 0.4697 - accuracy: 0.7623 - val_loss: 0.6309 - val_accuracy: 0.6879 - 1s/epoch - 5ms/step\n",
      "Epoch 68/100\n",
      "247/247 - 1s - loss: 0.4698 - accuracy: 0.7629 - val_loss: 0.6402 - val_accuracy: 0.6849 - 1s/epoch - 5ms/step\n",
      "Epoch 69/100\n",
      "247/247 - 1s - loss: 0.4681 - accuracy: 0.7656 - val_loss: 0.6410 - val_accuracy: 0.6889 - 1s/epoch - 5ms/step\n",
      "Epoch 70/100\n",
      "247/247 - 1s - loss: 0.4703 - accuracy: 0.7623 - val_loss: 0.6354 - val_accuracy: 0.6869 - 1s/epoch - 5ms/step\n",
      "Epoch 71/100\n",
      "247/247 - 1s - loss: 0.4661 - accuracy: 0.7683 - val_loss: 0.6401 - val_accuracy: 0.6834 - 1s/epoch - 5ms/step\n",
      "Epoch 72/100\n",
      "247/247 - 1s - loss: 0.4663 - accuracy: 0.7664 - val_loss: 0.6425 - val_accuracy: 0.6879 - 1s/epoch - 5ms/step\n",
      "Epoch 73/100\n",
      "247/247 - 1s - loss: 0.4682 - accuracy: 0.7645 - val_loss: 0.6407 - val_accuracy: 0.6899 - 1s/epoch - 5ms/step\n",
      "Epoch 74/100\n",
      "247/247 - 1s - loss: 0.4689 - accuracy: 0.7629 - val_loss: 0.6460 - val_accuracy: 0.6920 - 1s/epoch - 5ms/step\n",
      "Epoch 75/100\n",
      "247/247 - 1s - loss: 0.4647 - accuracy: 0.7706 - val_loss: 0.6424 - val_accuracy: 0.6879 - 1s/epoch - 5ms/step\n",
      "Epoch 76/100\n",
      "247/247 - 1s - loss: 0.4629 - accuracy: 0.7676 - val_loss: 0.6651 - val_accuracy: 0.6920 - 1s/epoch - 5ms/step\n",
      "Epoch 77/100\n",
      "247/247 - 1s - loss: 0.4669 - accuracy: 0.7635 - val_loss: 0.6425 - val_accuracy: 0.6874 - 1s/epoch - 5ms/step\n",
      "Epoch 78/100\n",
      "247/247 - 1s - loss: 0.4680 - accuracy: 0.7657 - val_loss: 0.6426 - val_accuracy: 0.6864 - 1s/epoch - 5ms/step\n",
      "Epoch 79/100\n"
     ]
    }
   ],
   "source": [
    "epochs = 100\n",
    "batch_size = 32\n",
    "\n",
    "model = build_model(None)\n",
    "\n",
    "history = model.fit(\n",
    "    X_train,\n",
    "    y_train,\n",
    "    validation_data=(X_test, y_test),\n",
    "    epochs=epochs,\n",
    "    batch_size=batch_size,\n",
    "    verbose=2\n",
    ")\n",
    "\n",
    "# tuner = keras_tuner.tuners.Hyperband(\n",
    "#     build_model,\n",
    "#     objective='val_accuracy',\n",
    "#     max_epochs=50,\n",
    "#     max_trials=10,\n",
    "#     executions_per_trial=2,\n",
    "#     directory='my_dir')\n"
   ]
  },
  {
   "cell_type": "code",
   "execution_count": null,
   "metadata": {
    "pycharm": {
     "is_executing": true
    }
   },
   "outputs": [],
   "source": [
    "# tuner.search(\n",
    "#     (X_train, y_train),\n",
    "#     validation_data=(X_test, y_test),\n",
    "# )"
   ]
  },
  {
   "cell_type": "code",
   "execution_count": null,
   "metadata": {
    "pycharm": {
     "is_executing": true
    }
   },
   "outputs": [],
   "source": [
    "# Evaluate the model on the test set\n",
    "loss, accuracy = model.evaluate(X_test, y_test, verbose=2)\n",
    "print(\"Test set accuracy:\", accuracy)\n",
    "\n",
    "print(\"TEST\")\n",
    "y_pred = model.predict(X_test)\n",
    "y_pred_classes = (y_pred > 0.5).astype(int)\n",
    "print(\"Accuracy:\", accuracy_score(y_test, y_pred_classes))\n",
    "print(\"Confusion matrix:\\n\", confusion_matrix(y_test, y_pred_classes))\n",
    "print(\"Classification report:\\n\", classification_report(y_test, y_pred_classes))\n",
    "\n",
    "print(\"TRAIN\")\n",
    "y_pred = model.predict(X_train)\n",
    "y_pred_classes = (y_pred > 0.5).astype(int)\n",
    "print(\"Accuracy:\", accuracy_score(y_train, y_pred_classes))\n",
    "print(\"Confusion matrix:\\n\", confusion_matrix(y_train, y_pred_classes))\n",
    "print(\"Classification report:\\n\", classification_report(y_train, y_pred_classes))"
   ]
  },
  {
   "cell_type": "code",
   "execution_count": null,
   "metadata": {
    "pycharm": {
     "is_executing": true
    }
   },
   "outputs": [],
   "source": [
    "# # Make predictions on the test set\n",
    "# y_pred = model.predict(X_test)\n",
    "# y_pred_classes = (y_pred > 0.5).astype(int)\n",
    "#\n",
    "# # Print the predicted and actual labels\n",
    "# print(\"Predicted labels:\", y_pred_classes.flatten())\n",
    "# print(\"Actual labels:\", y_test)"
   ]
  },
  {
   "cell_type": "code",
   "execution_count": null,
   "metadata": {
    "pycharm": {
     "is_executing": true
    }
   },
   "outputs": [],
   "source": [
    "# # test with new data\n",
    "#\n",
    "# new_data = [\n",
    "#   ([\"dominican pop\", \"merengue\", \"merengue tipico\", \"tropical\"],\n",
    "#    [\"blues rock\", \"country rock\", \"lounge\"])\n",
    "# ]\n",
    "#\n",
    "# labels = [\n",
    "#\n",
    "# ]\n",
    "#\n",
    "# new_df = pd.DataFrame(new_data, columns=[\"genres\", \"favourite_genres\"])\n",
    "#\n",
    "# # Combine genres and favourite_genres\n",
    "# all_new_genres = list(new_df['genres'] + new_df['favourite_genres'])\n",
    "#\n",
    "# # One-hot encode the genres using the previously fit MultiLabelBinarizer (mlb)\n",
    "# encoded_new_genres = mlb.transform(all_new_genres)\n",
    "#\n",
    "# # Split encoded_new_genres into genres and favourite_genres\n",
    "# encoded_new_genres1 = encoded_new_genres[:, :len(new_df['genres'][0])]\n",
    "# encoded_new_genres2 = encoded_new_genres[:, len(new_df['genres'][0]):]\n",
    "#\n",
    "# # Concatenate the one-hot encoded columns\n",
    "# X_new = np.concatenate([encoded_new_genres1, encoded_new_genres2], axis=1)\n",
    "#\n",
    "# y_new_pred = model.predict(X_new)\n",
    "# y_new_pred_classes = (y_new_pred > 0.5).astype(int)\n",
    "#\n",
    "# # Print the predicted labels\n",
    "# print(\"Predicted labels:\", y_new_pred_classes.flatten())\n",
    "# print(\"Actual labels:\", labels)\n"
   ]
  }
 ],
 "metadata": {
  "kernelspec": {
   "display_name": "Python 3.10 (IUM)",
   "language": "python",
   "name": "ium"
  },
  "language_info": {
   "codemirror_mode": {
    "name": "ipython",
    "version": 3
   },
   "file_extension": ".py",
   "mimetype": "text/x-python",
   "name": "python",
   "nbconvert_exporter": "python",
   "pygments_lexer": "ipython3",
   "version": "3.10.10"
  }
 },
 "nbformat": 4,
 "nbformat_minor": 1
}
