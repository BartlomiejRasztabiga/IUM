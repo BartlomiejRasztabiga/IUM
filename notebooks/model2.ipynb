{
 "cells": [
  {
   "cell_type": "code",
   "execution_count": 1,
   "metadata": {
    "collapsed": true
   },
   "outputs": [],
   "source": [
    "import pandas as pd\n",
    "import numpy as np\n",
    "from keras.optimizers import Adam\n",
    "from sklearn.metrics import confusion_matrix, classification_report, accuracy_score\n",
    "from sklearn.preprocessing import MultiLabelBinarizer, OneHotEncoder\n",
    "from sklearn.model_selection import train_test_split\n",
    "\n",
    "from tensorflow import keras\n",
    "\n",
    "from keras.models import Sequential\n",
    "from keras.layers import Dense, Dropout\n",
    "# import keras_tuner"
   ]
  },
  {
   "cell_type": "code",
   "execution_count": 2,
   "metadata": {},
   "outputs": [
    {
     "data": {
      "text/plain": "                timestamp  user_id                track_id  session_id   \n0 2023-01-04 00:12:59.000      101  0NPjiwqT1xrA3ck05xKoA8         124  \\\n1 2023-02-04 01:20:47.302      926  0NPjiwqT1xrA3ck05xKoA8       11284   \n2 2023-01-28 02:30:48.635      926  1hviQqMhM4NyY4O6CWZABO       11281   \n3 2023-02-14 21:59:20.619      940  0NPjiwqT1xrA3ck05xKoA8       11473   \n4 2023-02-06 18:41:13.873     1095  0NPjiwqT1xrA3ck05xKoA8       13459   \n\n                                       track_name  popularity  duration_ms   \n0                   Anton skaffar sig hund, del 4          21       159812  \\\n1                   Anton skaffar sig hund, del 4          21       159812   \n2  Det finns väl ingen med kniv här i stan, del 3          20       113858   \n3                   Anton skaffar sig hund, del 4          21       159812   \n4                   Anton skaffar sig hund, del 4          21       159812   \n\n   explicit               id_artist release_date  ...  premium_user   \n0         0  1c6OwPjqCGGUg770n3zhbq         1975  ...         False  \\\n1         0  1c6OwPjqCGGUg770n3zhbq         1975  ...         False   \n2         0  1c6OwPjqCGGUg770n3zhbq   1992-10-30  ...         False   \n3         0  1c6OwPjqCGGUg770n3zhbq         1975  ...          True   \n4         0  1c6OwPjqCGGUg770n3zhbq         1975  ...          True   \n\n               name       genres  skipped  number_of_matching_genres  month   \n0  Margaretha Krook  [barnsagor]    False                          0      1  \\\n1  Margaretha Krook  [barnsagor]    False                          0      2   \n2  Margaretha Krook  [barnsagor]     True                          0      1   \n3  Margaretha Krook  [barnsagor]     True                          0      2   \n4  Margaretha Krook  [barnsagor]    False                          0      2   \n\n   day_of_week  hour_of_day   \n0            2            0  \\\n1            5            1   \n2            5            2   \n3            1           21   \n4            0           18   \n\n                        genres_with_favourite_genres   \n0        [barnsagor, permanent wave, mandopop, funk]  \\\n1        [barnsagor, alternative metal, rock, c-pop]   \n2        [barnsagor, alternative metal, rock, c-pop]   \n3      [barnsagor, ranchera, pop, latin alternative]   \n4  [barnsagor, singer-songwriter, pop rock, post-...   \n\n                                       common_genres  \n0        [permanent wave, mandopop, barnsagor, funk]  \n1        [rock, barnsagor, alternative metal, c-pop]  \n2        [rock, barnsagor, alternative metal, c-pop]  \n3      [latin alternative, barnsagor, pop, ranchera]  \n4  [post-teen pop, barnsagor, pop rock, singer-so...  \n\n[5 rows x 35 columns]",
      "text/html": "<div>\n<style scoped>\n    .dataframe tbody tr th:only-of-type {\n        vertical-align: middle;\n    }\n\n    .dataframe tbody tr th {\n        vertical-align: top;\n    }\n\n    .dataframe thead th {\n        text-align: right;\n    }\n</style>\n<table border=\"1\" class=\"dataframe\">\n  <thead>\n    <tr style=\"text-align: right;\">\n      <th></th>\n      <th>timestamp</th>\n      <th>user_id</th>\n      <th>track_id</th>\n      <th>session_id</th>\n      <th>track_name</th>\n      <th>popularity</th>\n      <th>duration_ms</th>\n      <th>explicit</th>\n      <th>id_artist</th>\n      <th>release_date</th>\n      <th>...</th>\n      <th>premium_user</th>\n      <th>name</th>\n      <th>genres</th>\n      <th>skipped</th>\n      <th>number_of_matching_genres</th>\n      <th>month</th>\n      <th>day_of_week</th>\n      <th>hour_of_day</th>\n      <th>genres_with_favourite_genres</th>\n      <th>common_genres</th>\n    </tr>\n  </thead>\n  <tbody>\n    <tr>\n      <th>0</th>\n      <td>2023-01-04 00:12:59.000</td>\n      <td>101</td>\n      <td>0NPjiwqT1xrA3ck05xKoA8</td>\n      <td>124</td>\n      <td>Anton skaffar sig hund, del 4</td>\n      <td>21</td>\n      <td>159812</td>\n      <td>0</td>\n      <td>1c6OwPjqCGGUg770n3zhbq</td>\n      <td>1975</td>\n      <td>...</td>\n      <td>False</td>\n      <td>Margaretha Krook</td>\n      <td>[barnsagor]</td>\n      <td>False</td>\n      <td>0</td>\n      <td>1</td>\n      <td>2</td>\n      <td>0</td>\n      <td>[barnsagor, permanent wave, mandopop, funk]</td>\n      <td>[permanent wave, mandopop, barnsagor, funk]</td>\n    </tr>\n    <tr>\n      <th>1</th>\n      <td>2023-02-04 01:20:47.302</td>\n      <td>926</td>\n      <td>0NPjiwqT1xrA3ck05xKoA8</td>\n      <td>11284</td>\n      <td>Anton skaffar sig hund, del 4</td>\n      <td>21</td>\n      <td>159812</td>\n      <td>0</td>\n      <td>1c6OwPjqCGGUg770n3zhbq</td>\n      <td>1975</td>\n      <td>...</td>\n      <td>False</td>\n      <td>Margaretha Krook</td>\n      <td>[barnsagor]</td>\n      <td>False</td>\n      <td>0</td>\n      <td>2</td>\n      <td>5</td>\n      <td>1</td>\n      <td>[barnsagor, alternative metal, rock, c-pop]</td>\n      <td>[rock, barnsagor, alternative metal, c-pop]</td>\n    </tr>\n    <tr>\n      <th>2</th>\n      <td>2023-01-28 02:30:48.635</td>\n      <td>926</td>\n      <td>1hviQqMhM4NyY4O6CWZABO</td>\n      <td>11281</td>\n      <td>Det finns väl ingen med kniv här i stan, del 3</td>\n      <td>20</td>\n      <td>113858</td>\n      <td>0</td>\n      <td>1c6OwPjqCGGUg770n3zhbq</td>\n      <td>1992-10-30</td>\n      <td>...</td>\n      <td>False</td>\n      <td>Margaretha Krook</td>\n      <td>[barnsagor]</td>\n      <td>True</td>\n      <td>0</td>\n      <td>1</td>\n      <td>5</td>\n      <td>2</td>\n      <td>[barnsagor, alternative metal, rock, c-pop]</td>\n      <td>[rock, barnsagor, alternative metal, c-pop]</td>\n    </tr>\n    <tr>\n      <th>3</th>\n      <td>2023-02-14 21:59:20.619</td>\n      <td>940</td>\n      <td>0NPjiwqT1xrA3ck05xKoA8</td>\n      <td>11473</td>\n      <td>Anton skaffar sig hund, del 4</td>\n      <td>21</td>\n      <td>159812</td>\n      <td>0</td>\n      <td>1c6OwPjqCGGUg770n3zhbq</td>\n      <td>1975</td>\n      <td>...</td>\n      <td>True</td>\n      <td>Margaretha Krook</td>\n      <td>[barnsagor]</td>\n      <td>True</td>\n      <td>0</td>\n      <td>2</td>\n      <td>1</td>\n      <td>21</td>\n      <td>[barnsagor, ranchera, pop, latin alternative]</td>\n      <td>[latin alternative, barnsagor, pop, ranchera]</td>\n    </tr>\n    <tr>\n      <th>4</th>\n      <td>2023-02-06 18:41:13.873</td>\n      <td>1095</td>\n      <td>0NPjiwqT1xrA3ck05xKoA8</td>\n      <td>13459</td>\n      <td>Anton skaffar sig hund, del 4</td>\n      <td>21</td>\n      <td>159812</td>\n      <td>0</td>\n      <td>1c6OwPjqCGGUg770n3zhbq</td>\n      <td>1975</td>\n      <td>...</td>\n      <td>True</td>\n      <td>Margaretha Krook</td>\n      <td>[barnsagor]</td>\n      <td>False</td>\n      <td>0</td>\n      <td>2</td>\n      <td>0</td>\n      <td>18</td>\n      <td>[barnsagor, singer-songwriter, pop rock, post-...</td>\n      <td>[post-teen pop, barnsagor, pop rock, singer-so...</td>\n    </tr>\n  </tbody>\n</table>\n<p>5 rows × 35 columns</p>\n</div>"
     },
     "execution_count": 2,
     "metadata": {},
     "output_type": "execute_result"
    }
   ],
   "source": [
    "merged_data_path = '../data/merged_data.jsonl'\n",
    "data = pd.read_json(merged_data_path, lines=True)\n",
    "\n",
    "# data = data.drop(\n",
    "#     columns=[\"release_date\", \"key\", \"loudness\",\n",
    "#              \"explicit\", \"popularity\", \"duration_ms\", \"danceability\", \"energy\", \"speechiness\",\n",
    "#              \"acousticness\", \"instrumentalness\", \"liveness\", \"valence\", \"tempo\"])\n",
    "\n",
    "# data = data.drop(\n",
    "#     columns=[\"release_date\", \"name\"])\n",
    "\n",
    "data.head(5)"
   ]
  },
  {
   "cell_type": "code",
   "execution_count": 3,
   "metadata": {},
   "outputs": [
    {
     "name": "stdout",
     "output_type": "stream",
     "text": [
      "unique_favourite_genres 50\n",
      "unique_genres 2875\n",
      "common genres {'latin', 'lounge', 'folk', 'dance pop', 'classic rock', 'mellow gold', 'mpb', 'alternative rock', 'psychedelic rock', 'tropical', 'post-teen pop', 'folk rock', 'funk', 'pop', 'europop', 'c-pop', 'latin alternative', 'country rock', 'filmi', 'metal', 'quiet storm', 'roots rock', 'permanent wave', 'hard rock', 'new romantic', 'alternative metal', 'soul', 'turkish pop', 'rock en espanol', 'blues rock', 'latin rock', 'new wave pop', 'brill building pop', 'art rock', 'adult standards', 'rock', 'latin pop', 'soft rock', 'hoerspiel', 'regional mexican', 'singer-songwriter', 'vocal jazz', 'mandopop', 'argentine rock', 'pop rock', 'new wave', 'album rock', 'ranchera', 'j-pop', 'motown'}\n"
     ]
    },
    {
     "data": {
      "text/plain": "                timestamp  user_id                track_id  session_id   \n0 2023-01-04 00:12:59.000      101  0NPjiwqT1xrA3ck05xKoA8         124  \\\n1 2023-02-04 01:20:47.302      926  0NPjiwqT1xrA3ck05xKoA8       11284   \n2 2023-01-28 02:30:48.635      926  1hviQqMhM4NyY4O6CWZABO       11281   \n3 2023-02-14 21:59:20.619      940  0NPjiwqT1xrA3ck05xKoA8       11473   \n4 2023-02-06 18:41:13.873     1095  0NPjiwqT1xrA3ck05xKoA8       13459   \n\n                                       track_name  popularity  duration_ms   \n0                   Anton skaffar sig hund, del 4          21       159812  \\\n1                   Anton skaffar sig hund, del 4          21       159812   \n2  Det finns väl ingen med kniv här i stan, del 3          20       113858   \n3                   Anton skaffar sig hund, del 4          21       159812   \n4                   Anton skaffar sig hund, del 4          21       159812   \n\n   explicit               id_artist release_date  ...  premium_user   \n0         0  1c6OwPjqCGGUg770n3zhbq         1975  ...         False  \\\n1         0  1c6OwPjqCGGUg770n3zhbq         1975  ...         False   \n2         0  1c6OwPjqCGGUg770n3zhbq   1992-10-30  ...         False   \n3         0  1c6OwPjqCGGUg770n3zhbq         1975  ...          True   \n4         0  1c6OwPjqCGGUg770n3zhbq         1975  ...          True   \n\n               name  genres  skipped  number_of_matching_genres  month   \n0  Margaretha Krook      []    False                          0      1  \\\n1  Margaretha Krook      []    False                          0      2   \n2  Margaretha Krook      []     True                          0      1   \n3  Margaretha Krook      []     True                          0      2   \n4  Margaretha Krook      []    False                          0      2   \n\n   day_of_week  hour_of_day   \n0            2            0  \\\n1            5            1   \n2            5            2   \n3            1           21   \n4            0           18   \n\n                        genres_with_favourite_genres   \n0        [barnsagor, permanent wave, mandopop, funk]  \\\n1        [barnsagor, alternative metal, rock, c-pop]   \n2        [barnsagor, alternative metal, rock, c-pop]   \n3      [barnsagor, ranchera, pop, latin alternative]   \n4  [barnsagor, singer-songwriter, pop rock, post-...   \n\n                                       common_genres  \n0        [permanent wave, mandopop, barnsagor, funk]  \n1        [rock, barnsagor, alternative metal, c-pop]  \n2        [rock, barnsagor, alternative metal, c-pop]  \n3      [latin alternative, barnsagor, pop, ranchera]  \n4  [post-teen pop, barnsagor, pop rock, singer-so...  \n\n[5 rows x 35 columns]",
      "text/html": "<div>\n<style scoped>\n    .dataframe tbody tr th:only-of-type {\n        vertical-align: middle;\n    }\n\n    .dataframe tbody tr th {\n        vertical-align: top;\n    }\n\n    .dataframe thead th {\n        text-align: right;\n    }\n</style>\n<table border=\"1\" class=\"dataframe\">\n  <thead>\n    <tr style=\"text-align: right;\">\n      <th></th>\n      <th>timestamp</th>\n      <th>user_id</th>\n      <th>track_id</th>\n      <th>session_id</th>\n      <th>track_name</th>\n      <th>popularity</th>\n      <th>duration_ms</th>\n      <th>explicit</th>\n      <th>id_artist</th>\n      <th>release_date</th>\n      <th>...</th>\n      <th>premium_user</th>\n      <th>name</th>\n      <th>genres</th>\n      <th>skipped</th>\n      <th>number_of_matching_genres</th>\n      <th>month</th>\n      <th>day_of_week</th>\n      <th>hour_of_day</th>\n      <th>genres_with_favourite_genres</th>\n      <th>common_genres</th>\n    </tr>\n  </thead>\n  <tbody>\n    <tr>\n      <th>0</th>\n      <td>2023-01-04 00:12:59.000</td>\n      <td>101</td>\n      <td>0NPjiwqT1xrA3ck05xKoA8</td>\n      <td>124</td>\n      <td>Anton skaffar sig hund, del 4</td>\n      <td>21</td>\n      <td>159812</td>\n      <td>0</td>\n      <td>1c6OwPjqCGGUg770n3zhbq</td>\n      <td>1975</td>\n      <td>...</td>\n      <td>False</td>\n      <td>Margaretha Krook</td>\n      <td>[]</td>\n      <td>False</td>\n      <td>0</td>\n      <td>1</td>\n      <td>2</td>\n      <td>0</td>\n      <td>[barnsagor, permanent wave, mandopop, funk]</td>\n      <td>[permanent wave, mandopop, barnsagor, funk]</td>\n    </tr>\n    <tr>\n      <th>1</th>\n      <td>2023-02-04 01:20:47.302</td>\n      <td>926</td>\n      <td>0NPjiwqT1xrA3ck05xKoA8</td>\n      <td>11284</td>\n      <td>Anton skaffar sig hund, del 4</td>\n      <td>21</td>\n      <td>159812</td>\n      <td>0</td>\n      <td>1c6OwPjqCGGUg770n3zhbq</td>\n      <td>1975</td>\n      <td>...</td>\n      <td>False</td>\n      <td>Margaretha Krook</td>\n      <td>[]</td>\n      <td>False</td>\n      <td>0</td>\n      <td>2</td>\n      <td>5</td>\n      <td>1</td>\n      <td>[barnsagor, alternative metal, rock, c-pop]</td>\n      <td>[rock, barnsagor, alternative metal, c-pop]</td>\n    </tr>\n    <tr>\n      <th>2</th>\n      <td>2023-01-28 02:30:48.635</td>\n      <td>926</td>\n      <td>1hviQqMhM4NyY4O6CWZABO</td>\n      <td>11281</td>\n      <td>Det finns väl ingen med kniv här i stan, del 3</td>\n      <td>20</td>\n      <td>113858</td>\n      <td>0</td>\n      <td>1c6OwPjqCGGUg770n3zhbq</td>\n      <td>1992-10-30</td>\n      <td>...</td>\n      <td>False</td>\n      <td>Margaretha Krook</td>\n      <td>[]</td>\n      <td>True</td>\n      <td>0</td>\n      <td>1</td>\n      <td>5</td>\n      <td>2</td>\n      <td>[barnsagor, alternative metal, rock, c-pop]</td>\n      <td>[rock, barnsagor, alternative metal, c-pop]</td>\n    </tr>\n    <tr>\n      <th>3</th>\n      <td>2023-02-14 21:59:20.619</td>\n      <td>940</td>\n      <td>0NPjiwqT1xrA3ck05xKoA8</td>\n      <td>11473</td>\n      <td>Anton skaffar sig hund, del 4</td>\n      <td>21</td>\n      <td>159812</td>\n      <td>0</td>\n      <td>1c6OwPjqCGGUg770n3zhbq</td>\n      <td>1975</td>\n      <td>...</td>\n      <td>True</td>\n      <td>Margaretha Krook</td>\n      <td>[]</td>\n      <td>True</td>\n      <td>0</td>\n      <td>2</td>\n      <td>1</td>\n      <td>21</td>\n      <td>[barnsagor, ranchera, pop, latin alternative]</td>\n      <td>[latin alternative, barnsagor, pop, ranchera]</td>\n    </tr>\n    <tr>\n      <th>4</th>\n      <td>2023-02-06 18:41:13.873</td>\n      <td>1095</td>\n      <td>0NPjiwqT1xrA3ck05xKoA8</td>\n      <td>13459</td>\n      <td>Anton skaffar sig hund, del 4</td>\n      <td>21</td>\n      <td>159812</td>\n      <td>0</td>\n      <td>1c6OwPjqCGGUg770n3zhbq</td>\n      <td>1975</td>\n      <td>...</td>\n      <td>True</td>\n      <td>Margaretha Krook</td>\n      <td>[]</td>\n      <td>False</td>\n      <td>0</td>\n      <td>2</td>\n      <td>0</td>\n      <td>18</td>\n      <td>[barnsagor, singer-songwriter, pop rock, post-...</td>\n      <td>[post-teen pop, barnsagor, pop rock, singer-so...</td>\n    </tr>\n  </tbody>\n</table>\n<p>5 rows × 35 columns</p>\n</div>"
     },
     "execution_count": 3,
     "metadata": {},
     "output_type": "execute_result"
    }
   ],
   "source": [
    "unique_favourite_genres = set()\n",
    "for genres in data['favourite_genres']:\n",
    "  for genre in genres:\n",
    "    unique_favourite_genres.add(genre)\n",
    "\n",
    "unique_genres = set()\n",
    "for genres in data['genres']:\n",
    "  for genre in genres:\n",
    "    unique_genres.add(genre)\n",
    "\n",
    "# show all common genres between all favourite_genres and genres\n",
    "# TODO chyba zle zliczam genres, skoro w analize wyszlo 2875 gatunkow\n",
    "print(\"unique_favourite_genres\", len(unique_favourite_genres))\n",
    "print(\"unique_genres\", len(unique_genres))\n",
    "common_genres = unique_favourite_genres.intersection(unique_genres)\n",
    "print(\"common genres\", common_genres)\n",
    "\n",
    "# remove genres that are not in favourite_genres\n",
    "data['genres'] = data['genres'].apply(\n",
    "    lambda x: [genre for genre in x if genre in unique_favourite_genres])\n",
    "\n",
    "data.head()\n",
    "\n",
    "# TODO remove ??? moze niepotrzebne"
   ]
  },
  {
   "cell_type": "code",
   "execution_count": 4,
   "metadata": {},
   "outputs": [
    {
     "name": "stdout",
     "output_type": "stream",
     "text": [
      "skipped_data (457145, 35)\n",
      "not_skipped_data (819365, 35)\n"
     ]
    },
    {
     "data": {
      "text/plain": "                timestamp  user_id                track_id  session_id   \n0 2023-03-04 15:30:45.519      816  7H6ev70Weq6DdpZyyTmUXk        9799  \\\n1 2023-03-15 02:08:12.302     2064  726FgclkT72fRnkuz6bmD2       26629   \n2 2023-03-09 12:47:03.014     3145  2CqqyQ1jH8TOGuYRX3XqBY       40984   \n3 2023-03-06 17:32:56.113     2970  380FbszCi2WPjFUPfBL75n       38603   \n4 2023-01-27 13:31:54.071     4388  5bx4stZRInFwFz40fHDa7h       57842   \n\n                                          track_name  popularity  duration_ms   \n0                                        Say My Name          77       271333  \\\n1  Living Loving Maid (She's Just a Woman) - Rema...          38       159301   \n2                                        İyileşmiyor          39       217840   \n3                              Bir Kulunu Çok Sevdim          29       285427   \n4                                       Hiphop N RnB          62       165283   \n\n   explicit               id_artist release_date  ...  premium_user   \n0         0  1Y8cdNmUJH7yBTd9yOvr5i   1999-07-27  ...          True  \\\n1         0  36QJpDe2go2KgaRleHCDTp   1969-10-22  ...         False   \n2         0  6rGDR3wmkz5DKMrZxpO1mZ   2014-05-06  ...          True   \n3         0  4cMwyqmHCwJjRZ3frIVHTr   2005-10-21  ...          True   \n4         1  6rYEqmajzlhGVaayOJ2bpJ   2020-05-22  ...         False   \n\n              name                                       genres  skipped   \n0  Destiny's Child                             [dance pop, pop]     True  \\\n1     Led Zeppelin  [album rock, classic rock, hard rock, rock]    False   \n2             Gece                                           []     True   \n3    Müslüm Gürses                                           []    False   \n4            Yasin                                           []    False   \n\n   number_of_matching_genres  month  day_of_week  hour_of_day   \n0                          0      3            5           15  \\\n1                          1      3            2            2   \n2                          0      3            3           12   \n3                          0      3            0           17   \n4                          0      1            4           13   \n\n                        genres_with_favourite_genres   \n0  [dance pop, girl group, hip pop, neo soul, pop...  \\\n1  [album rock, classic rock, hard rock, rock, ho...   \n2  [turkish alternative, turkish alternative rock...   \n3    [arabesk, tropical, country rock, new wave pop]   \n4  [swedish gangsta rap, swedish hip hop, swedish...   \n\n                                       common_genres  \n0  [filmi, girl group, j-pop, hip pop, pop, r&b, ...  \n1  [album rock, permanent wave, rock, hard rock, ...  \n2  [j-pop, album rock, turkish alternative rock, ...  \n3    [new wave pop, country rock, tropical, arabesk]  \n4  [new romantic, soft rock, turkish pop, swedish...  \n\n[5 rows x 35 columns]",
      "text/html": "<div>\n<style scoped>\n    .dataframe tbody tr th:only-of-type {\n        vertical-align: middle;\n    }\n\n    .dataframe tbody tr th {\n        vertical-align: top;\n    }\n\n    .dataframe thead th {\n        text-align: right;\n    }\n</style>\n<table border=\"1\" class=\"dataframe\">\n  <thead>\n    <tr style=\"text-align: right;\">\n      <th></th>\n      <th>timestamp</th>\n      <th>user_id</th>\n      <th>track_id</th>\n      <th>session_id</th>\n      <th>track_name</th>\n      <th>popularity</th>\n      <th>duration_ms</th>\n      <th>explicit</th>\n      <th>id_artist</th>\n      <th>release_date</th>\n      <th>...</th>\n      <th>premium_user</th>\n      <th>name</th>\n      <th>genres</th>\n      <th>skipped</th>\n      <th>number_of_matching_genres</th>\n      <th>month</th>\n      <th>day_of_week</th>\n      <th>hour_of_day</th>\n      <th>genres_with_favourite_genres</th>\n      <th>common_genres</th>\n    </tr>\n  </thead>\n  <tbody>\n    <tr>\n      <th>0</th>\n      <td>2023-03-04 15:30:45.519</td>\n      <td>816</td>\n      <td>7H6ev70Weq6DdpZyyTmUXk</td>\n      <td>9799</td>\n      <td>Say My Name</td>\n      <td>77</td>\n      <td>271333</td>\n      <td>0</td>\n      <td>1Y8cdNmUJH7yBTd9yOvr5i</td>\n      <td>1999-07-27</td>\n      <td>...</td>\n      <td>True</td>\n      <td>Destiny's Child</td>\n      <td>[dance pop, pop]</td>\n      <td>True</td>\n      <td>0</td>\n      <td>3</td>\n      <td>5</td>\n      <td>15</td>\n      <td>[dance pop, girl group, hip pop, neo soul, pop...</td>\n      <td>[filmi, girl group, j-pop, hip pop, pop, r&amp;b, ...</td>\n    </tr>\n    <tr>\n      <th>1</th>\n      <td>2023-03-15 02:08:12.302</td>\n      <td>2064</td>\n      <td>726FgclkT72fRnkuz6bmD2</td>\n      <td>26629</td>\n      <td>Living Loving Maid (She's Just a Woman) - Rema...</td>\n      <td>38</td>\n      <td>159301</td>\n      <td>0</td>\n      <td>36QJpDe2go2KgaRleHCDTp</td>\n      <td>1969-10-22</td>\n      <td>...</td>\n      <td>False</td>\n      <td>Led Zeppelin</td>\n      <td>[album rock, classic rock, hard rock, rock]</td>\n      <td>False</td>\n      <td>1</td>\n      <td>3</td>\n      <td>2</td>\n      <td>2</td>\n      <td>[album rock, classic rock, hard rock, rock, ho...</td>\n      <td>[album rock, permanent wave, rock, hard rock, ...</td>\n    </tr>\n    <tr>\n      <th>2</th>\n      <td>2023-03-09 12:47:03.014</td>\n      <td>3145</td>\n      <td>2CqqyQ1jH8TOGuYRX3XqBY</td>\n      <td>40984</td>\n      <td>İyileşmiyor</td>\n      <td>39</td>\n      <td>217840</td>\n      <td>0</td>\n      <td>6rGDR3wmkz5DKMrZxpO1mZ</td>\n      <td>2014-05-06</td>\n      <td>...</td>\n      <td>True</td>\n      <td>Gece</td>\n      <td>[]</td>\n      <td>True</td>\n      <td>0</td>\n      <td>3</td>\n      <td>3</td>\n      <td>12</td>\n      <td>[turkish alternative, turkish alternative rock...</td>\n      <td>[j-pop, album rock, turkish alternative rock, ...</td>\n    </tr>\n    <tr>\n      <th>3</th>\n      <td>2023-03-06 17:32:56.113</td>\n      <td>2970</td>\n      <td>380FbszCi2WPjFUPfBL75n</td>\n      <td>38603</td>\n      <td>Bir Kulunu Çok Sevdim</td>\n      <td>29</td>\n      <td>285427</td>\n      <td>0</td>\n      <td>4cMwyqmHCwJjRZ3frIVHTr</td>\n      <td>2005-10-21</td>\n      <td>...</td>\n      <td>True</td>\n      <td>Müslüm Gürses</td>\n      <td>[]</td>\n      <td>False</td>\n      <td>0</td>\n      <td>3</td>\n      <td>0</td>\n      <td>17</td>\n      <td>[arabesk, tropical, country rock, new wave pop]</td>\n      <td>[new wave pop, country rock, tropical, arabesk]</td>\n    </tr>\n    <tr>\n      <th>4</th>\n      <td>2023-01-27 13:31:54.071</td>\n      <td>4388</td>\n      <td>5bx4stZRInFwFz40fHDa7h</td>\n      <td>57842</td>\n      <td>Hiphop N RnB</td>\n      <td>62</td>\n      <td>165283</td>\n      <td>1</td>\n      <td>6rYEqmajzlhGVaayOJ2bpJ</td>\n      <td>2020-05-22</td>\n      <td>...</td>\n      <td>False</td>\n      <td>Yasin</td>\n      <td>[]</td>\n      <td>False</td>\n      <td>0</td>\n      <td>1</td>\n      <td>4</td>\n      <td>13</td>\n      <td>[swedish gangsta rap, swedish hip hop, swedish...</td>\n      <td>[new romantic, soft rock, turkish pop, swedish...</td>\n    </tr>\n  </tbody>\n</table>\n<p>5 rows × 35 columns</p>\n</div>"
     },
     "execution_count": 4,
     "metadata": {},
     "output_type": "execute_result"
    }
   ],
   "source": [
    "# balance set\n",
    "\n",
    "skipped_data = data[data[\"skipped\"] == 1]\n",
    "not_skipped_data = data[data[\"skipped\"] == 0]\n",
    "\n",
    "# Split the dataset into subsets based on class labels\n",
    "print(\"skipped_data\", skipped_data.shape)\n",
    "print(\"not_skipped_data\", not_skipped_data.shape)\n",
    "\n",
    "# Calculate the minimum number of samples among all classes\n",
    "min_samples = min(len(skipped_data), len(not_skipped_data))\n",
    "\n",
    "# Randomly select samples from each class subset to match the minimum number of samples\n",
    "skipped_data_balanced = skipped_data.sample(n=min_samples, random_state=42)\n",
    "not_skipped_data_balanced = not_skipped_data.sample(n=min_samples, random_state=42)\n",
    "\n",
    "# Merge the balanced subsets to create the final balanced dataset\n",
    "balanced_data = pd.concat([skipped_data_balanced, not_skipped_data_balanced], axis=0)\n",
    "\n",
    "# Shuffle the balanced dataset\n",
    "balanced_data = balanced_data.sample(frac=1, random_state=42).reset_index(drop=True)\n",
    "balanced_data.head()"
   ]
  },
  {
   "cell_type": "code",
   "execution_count": 5,
   "metadata": {},
   "outputs": [
    {
     "data": {
      "text/plain": "                                               genres   \n0                                    [dance pop, pop]  \\\n1         [album rock, classic rock, hard rock, rock]   \n2                                                  []   \n3                                                  []   \n4                                                  []   \n5   [album rock, classic rock, mellow gold, new wa...   \n6                                                  []   \n7                    [new wave, permanent wave, rock]   \n8   [adult standards, brill building pop, folk, fo...   \n9   [album rock, blues rock, classic rock, hard ro...   \n10                                              [pop]   \n11  [album rock, mellow gold, new romantic, new wa...   \n12  [album rock, classic rock, mellow gold, rock, ...   \n13                                            [latin]   \n14                                                 []   \n15                                              [pop]   \n16                   [new wave, permanent wave, rock]   \n17  [album rock, blues rock, classic rock, country...   \n18                                                 []   \n19                                                 []   \n20                     [art rock, new wave pop, rock]   \n21                                                 []   \n22            [dance pop, europop, new wave pop, pop]   \n23  [album rock, mellow gold, pop rock, rock, soft...   \n24                                                 []   \n25                                                 []   \n26  [album rock, classic rock, mellow gold, rock, ...   \n27        [adult standards, lounge, soul, vocal jazz]   \n28                   [blues rock, classic rock, soul]   \n29                                                 []   \n30                                                 []   \n31                                                 []   \n32                                                 []   \n33        [album rock, classic rock, hard rock, rock]   \n34  [album rock, blues rock, classic rock, folk ro...   \n35                                            [filmi]   \n36                                          [europop]   \n37  [blues rock, classic rock, mellow gold, rock, ...   \n38                                         [tropical]   \n39                                                 []   \n40                                  [latin, tropical]   \n41                                                 []   \n42  [alternative rock, art rock, new romantic, new...   \n43                               [classic rock, rock]   \n44  [adult standards, classic rock, folk, folk roc...   \n45               [album rock, hard rock, metal, rock]   \n46                                                 []   \n47  [album rock, classic rock, hard rock, metal, r...   \n48                                                 []   \n49  [album rock, classic rock, hard rock, metal, r...   \n\n                                  favourite_genres  skipped  \n0                          [europop, filmi, j-pop]     True  \n1                [hoerspiel, rock, permanent wave]    False  \n2                        [album rock, j-pop, folk]     True  \n3           [tropical, country rock, new wave pop]    False  \n4           [turkish pop, soft rock, new romantic]    False  \n5                [new wave, post-teen pop, lounge]    False  \n6             [country rock, folk rock, dance pop]    False  \n7             [latin, art rock, latin alternative]     True  \n8          [soft rock, new wave pop, new romantic]    False  \n9             [singer-songwriter, pop, roots rock]    False  \n10                      [rock, c-pop, quiet storm]    False  \n11      [hoerspiel, adult standards, country rock]    False  \n12                [hard rock, mellow gold, motown]    False  \n13               [hard rock, argentine rock, funk]     True  \n14                [mandopop, country rock, lounge]     True  \n15               [argentine rock, filmi, ranchera]    False  \n16             [soft rock, pop, alternative metal]     True  \n17                      [j-pop, hard rock, motown]     True  \n18          [roots rock, album rock, classic rock]    False  \n19                 [pop, post-teen pop, folk rock]    False  \n20                          [j-pop, funk, europop]    False  \n21          [alternative metal, metal, vocal jazz]    False  \n22                  [regional mexican, folk, funk]     True  \n23  [regional mexican, ranchera, regional mexican]    False  \n24                               [pop, filmi, pop]    False  \n25                  [turkish pop, hard rock, soul]    False  \n26                   [hoerspiel, pop rock, lounge]    False  \n27                  [europop, tropical, soft rock]     True  \n28       [mellow gold, latin alternative, europop]    False  \n29                     [motown, j-pop, roots rock]    False  \n30          [quiet storm, classic rock, folk rock]    False  \n31                   [pop rock, j-pop, blues rock]    False  \n32                           [filmi, metal, metal]     True  \n33                          [c-pop, art rock, mpb]    False  \n34         [latin pop, mandopop, psychedelic rock]    False  \n35              [folk, argentine rock, latin rock]    False  \n36         [mellow gold, classic rock, vocal jazz]     True  \n37            [singer-songwriter, pop, roots rock]    False  \n38            [alternative metal, j-pop, new wave]    False  \n39   [adult standards, psychedelic rock, new wave]    False  \n40          [latin alternative, metal, roots rock]    False  \n41       [soft rock, permanent wave, classic rock]     True  \n42       [psychedelic rock, album rock, hard rock]    False  \n43                 [soft rock, filmi, turkish pop]    False  \n44                 [soul, singer-songwriter, rock]     True  \n45                     [mpb, hard rock, hard rock]     True  \n46              [album rock, j-pop, post-teen pop]     True  \n47           [latin, mandopop, brill building pop]    False  \n48                    [tropical, j-pop, latin pop]    False  \n49        [art rock, alternative metal, soft rock]    False  ",
      "text/html": "<div>\n<style scoped>\n    .dataframe tbody tr th:only-of-type {\n        vertical-align: middle;\n    }\n\n    .dataframe tbody tr th {\n        vertical-align: top;\n    }\n\n    .dataframe thead th {\n        text-align: right;\n    }\n</style>\n<table border=\"1\" class=\"dataframe\">\n  <thead>\n    <tr style=\"text-align: right;\">\n      <th></th>\n      <th>genres</th>\n      <th>favourite_genres</th>\n      <th>skipped</th>\n    </tr>\n  </thead>\n  <tbody>\n    <tr>\n      <th>0</th>\n      <td>[dance pop, pop]</td>\n      <td>[europop, filmi, j-pop]</td>\n      <td>True</td>\n    </tr>\n    <tr>\n      <th>1</th>\n      <td>[album rock, classic rock, hard rock, rock]</td>\n      <td>[hoerspiel, rock, permanent wave]</td>\n      <td>False</td>\n    </tr>\n    <tr>\n      <th>2</th>\n      <td>[]</td>\n      <td>[album rock, j-pop, folk]</td>\n      <td>True</td>\n    </tr>\n    <tr>\n      <th>3</th>\n      <td>[]</td>\n      <td>[tropical, country rock, new wave pop]</td>\n      <td>False</td>\n    </tr>\n    <tr>\n      <th>4</th>\n      <td>[]</td>\n      <td>[turkish pop, soft rock, new romantic]</td>\n      <td>False</td>\n    </tr>\n    <tr>\n      <th>5</th>\n      <td>[album rock, classic rock, mellow gold, new wa...</td>\n      <td>[new wave, post-teen pop, lounge]</td>\n      <td>False</td>\n    </tr>\n    <tr>\n      <th>6</th>\n      <td>[]</td>\n      <td>[country rock, folk rock, dance pop]</td>\n      <td>False</td>\n    </tr>\n    <tr>\n      <th>7</th>\n      <td>[new wave, permanent wave, rock]</td>\n      <td>[latin, art rock, latin alternative]</td>\n      <td>True</td>\n    </tr>\n    <tr>\n      <th>8</th>\n      <td>[adult standards, brill building pop, folk, fo...</td>\n      <td>[soft rock, new wave pop, new romantic]</td>\n      <td>False</td>\n    </tr>\n    <tr>\n      <th>9</th>\n      <td>[album rock, blues rock, classic rock, hard ro...</td>\n      <td>[singer-songwriter, pop, roots rock]</td>\n      <td>False</td>\n    </tr>\n    <tr>\n      <th>10</th>\n      <td>[pop]</td>\n      <td>[rock, c-pop, quiet storm]</td>\n      <td>False</td>\n    </tr>\n    <tr>\n      <th>11</th>\n      <td>[album rock, mellow gold, new romantic, new wa...</td>\n      <td>[hoerspiel, adult standards, country rock]</td>\n      <td>False</td>\n    </tr>\n    <tr>\n      <th>12</th>\n      <td>[album rock, classic rock, mellow gold, rock, ...</td>\n      <td>[hard rock, mellow gold, motown]</td>\n      <td>False</td>\n    </tr>\n    <tr>\n      <th>13</th>\n      <td>[latin]</td>\n      <td>[hard rock, argentine rock, funk]</td>\n      <td>True</td>\n    </tr>\n    <tr>\n      <th>14</th>\n      <td>[]</td>\n      <td>[mandopop, country rock, lounge]</td>\n      <td>True</td>\n    </tr>\n    <tr>\n      <th>15</th>\n      <td>[pop]</td>\n      <td>[argentine rock, filmi, ranchera]</td>\n      <td>False</td>\n    </tr>\n    <tr>\n      <th>16</th>\n      <td>[new wave, permanent wave, rock]</td>\n      <td>[soft rock, pop, alternative metal]</td>\n      <td>True</td>\n    </tr>\n    <tr>\n      <th>17</th>\n      <td>[album rock, blues rock, classic rock, country...</td>\n      <td>[j-pop, hard rock, motown]</td>\n      <td>True</td>\n    </tr>\n    <tr>\n      <th>18</th>\n      <td>[]</td>\n      <td>[roots rock, album rock, classic rock]</td>\n      <td>False</td>\n    </tr>\n    <tr>\n      <th>19</th>\n      <td>[]</td>\n      <td>[pop, post-teen pop, folk rock]</td>\n      <td>False</td>\n    </tr>\n    <tr>\n      <th>20</th>\n      <td>[art rock, new wave pop, rock]</td>\n      <td>[j-pop, funk, europop]</td>\n      <td>False</td>\n    </tr>\n    <tr>\n      <th>21</th>\n      <td>[]</td>\n      <td>[alternative metal, metal, vocal jazz]</td>\n      <td>False</td>\n    </tr>\n    <tr>\n      <th>22</th>\n      <td>[dance pop, europop, new wave pop, pop]</td>\n      <td>[regional mexican, folk, funk]</td>\n      <td>True</td>\n    </tr>\n    <tr>\n      <th>23</th>\n      <td>[album rock, mellow gold, pop rock, rock, soft...</td>\n      <td>[regional mexican, ranchera, regional mexican]</td>\n      <td>False</td>\n    </tr>\n    <tr>\n      <th>24</th>\n      <td>[]</td>\n      <td>[pop, filmi, pop]</td>\n      <td>False</td>\n    </tr>\n    <tr>\n      <th>25</th>\n      <td>[]</td>\n      <td>[turkish pop, hard rock, soul]</td>\n      <td>False</td>\n    </tr>\n    <tr>\n      <th>26</th>\n      <td>[album rock, classic rock, mellow gold, rock, ...</td>\n      <td>[hoerspiel, pop rock, lounge]</td>\n      <td>False</td>\n    </tr>\n    <tr>\n      <th>27</th>\n      <td>[adult standards, lounge, soul, vocal jazz]</td>\n      <td>[europop, tropical, soft rock]</td>\n      <td>True</td>\n    </tr>\n    <tr>\n      <th>28</th>\n      <td>[blues rock, classic rock, soul]</td>\n      <td>[mellow gold, latin alternative, europop]</td>\n      <td>False</td>\n    </tr>\n    <tr>\n      <th>29</th>\n      <td>[]</td>\n      <td>[motown, j-pop, roots rock]</td>\n      <td>False</td>\n    </tr>\n    <tr>\n      <th>30</th>\n      <td>[]</td>\n      <td>[quiet storm, classic rock, folk rock]</td>\n      <td>False</td>\n    </tr>\n    <tr>\n      <th>31</th>\n      <td>[]</td>\n      <td>[pop rock, j-pop, blues rock]</td>\n      <td>False</td>\n    </tr>\n    <tr>\n      <th>32</th>\n      <td>[]</td>\n      <td>[filmi, metal, metal]</td>\n      <td>True</td>\n    </tr>\n    <tr>\n      <th>33</th>\n      <td>[album rock, classic rock, hard rock, rock]</td>\n      <td>[c-pop, art rock, mpb]</td>\n      <td>False</td>\n    </tr>\n    <tr>\n      <th>34</th>\n      <td>[album rock, blues rock, classic rock, folk ro...</td>\n      <td>[latin pop, mandopop, psychedelic rock]</td>\n      <td>False</td>\n    </tr>\n    <tr>\n      <th>35</th>\n      <td>[filmi]</td>\n      <td>[folk, argentine rock, latin rock]</td>\n      <td>False</td>\n    </tr>\n    <tr>\n      <th>36</th>\n      <td>[europop]</td>\n      <td>[mellow gold, classic rock, vocal jazz]</td>\n      <td>True</td>\n    </tr>\n    <tr>\n      <th>37</th>\n      <td>[blues rock, classic rock, mellow gold, rock, ...</td>\n      <td>[singer-songwriter, pop, roots rock]</td>\n      <td>False</td>\n    </tr>\n    <tr>\n      <th>38</th>\n      <td>[tropical]</td>\n      <td>[alternative metal, j-pop, new wave]</td>\n      <td>False</td>\n    </tr>\n    <tr>\n      <th>39</th>\n      <td>[]</td>\n      <td>[adult standards, psychedelic rock, new wave]</td>\n      <td>False</td>\n    </tr>\n    <tr>\n      <th>40</th>\n      <td>[latin, tropical]</td>\n      <td>[latin alternative, metal, roots rock]</td>\n      <td>False</td>\n    </tr>\n    <tr>\n      <th>41</th>\n      <td>[]</td>\n      <td>[soft rock, permanent wave, classic rock]</td>\n      <td>True</td>\n    </tr>\n    <tr>\n      <th>42</th>\n      <td>[alternative rock, art rock, new romantic, new...</td>\n      <td>[psychedelic rock, album rock, hard rock]</td>\n      <td>False</td>\n    </tr>\n    <tr>\n      <th>43</th>\n      <td>[classic rock, rock]</td>\n      <td>[soft rock, filmi, turkish pop]</td>\n      <td>False</td>\n    </tr>\n    <tr>\n      <th>44</th>\n      <td>[adult standards, classic rock, folk, folk roc...</td>\n      <td>[soul, singer-songwriter, rock]</td>\n      <td>True</td>\n    </tr>\n    <tr>\n      <th>45</th>\n      <td>[album rock, hard rock, metal, rock]</td>\n      <td>[mpb, hard rock, hard rock]</td>\n      <td>True</td>\n    </tr>\n    <tr>\n      <th>46</th>\n      <td>[]</td>\n      <td>[album rock, j-pop, post-teen pop]</td>\n      <td>True</td>\n    </tr>\n    <tr>\n      <th>47</th>\n      <td>[album rock, classic rock, hard rock, metal, r...</td>\n      <td>[latin, mandopop, brill building pop]</td>\n      <td>False</td>\n    </tr>\n    <tr>\n      <th>48</th>\n      <td>[]</td>\n      <td>[tropical, j-pop, latin pop]</td>\n      <td>False</td>\n    </tr>\n    <tr>\n      <th>49</th>\n      <td>[album rock, classic rock, hard rock, metal, r...</td>\n      <td>[art rock, alternative metal, soft rock]</td>\n      <td>False</td>\n    </tr>\n  </tbody>\n</table>\n</div>"
     },
     "execution_count": 5,
     "metadata": {},
     "output_type": "execute_result"
    }
   ],
   "source": [
    "def normalize(data):\n",
    "  return (data - np.min(data)) / (np.max(data) - np.min(data))\n",
    "\n",
    "# # Combine genres and favourite_genres\n",
    "all_genres = list(balanced_data['favourite_genres'] + balanced_data['genres'])\n",
    "\n",
    "# # One-hot encode the genres\n",
    "mlb = MultiLabelBinarizer()\n",
    "mlb.fit(all_genres)\n",
    "\n",
    "# encoded_all_genres = mlb.fit_transform(all_genres)\n",
    "\n",
    "# TODO moze trzeba inaczej enkodowac?\n",
    "#encoded_genres_with_favourite_genres = mlb.fit_transform(balanced_data['genres_with_favourite_genres'])\n",
    "# encoded_common_genres = mlb.fit_transform(balanced_data['common_genres'])\n",
    "\n",
    "# TODO enkodowac genres_with_favourite_genres naraz\n",
    "\n",
    "# Split encoded_genres into genres and favourite_genres\n",
    "# encoded_favourite_genres = encoded_all_genres[:, :len(balanced_data['favourite_genres'][0])]\n",
    "# encoded_genres = encoded_all_genres[:, len(balanced_data['favourite_genres'][0]):]\n",
    "\n",
    "encoded_favourite_genres = mlb.transform(balanced_data['favourite_genres'])\n",
    "encoded_genres = mlb.transform(balanced_data['genres'])\n",
    "# encoded_common_genres = mlb.transform(data['common_genres'])\n",
    "\n",
    "timestamp_normalized = balanced_data['timestamp'].values.reshape(-1, 1)\n",
    "timestamp_normalized = normalize(timestamp_normalized)\n",
    "\n",
    "popularity_normalized = balanced_data['popularity'].values.reshape(-1, 1)\n",
    "popularity_normalized = normalize(popularity_normalized)\n",
    "\n",
    "tempo_normalized = balanced_data['tempo'].values.reshape(-1, 1)\n",
    "tempo_normalized = normalize(tempo_normalized)\n",
    "\n",
    "duration_ms_normalized = balanced_data['duration_ms'].values.reshape(-1, 1)\n",
    "duration_ms_normalized = normalize(duration_ms_normalized)\n",
    "\n",
    "loudness_normalized = balanced_data['loudness'].values.reshape(-1, 1)\n",
    "loudness_normalized = normalize(loudness_normalized)\n",
    "\n",
    "danceability_normalized = balanced_data['danceability'].values.reshape(-1, 1)\n",
    "danceability_normalized = normalize(danceability_normalized)\n",
    "\n",
    "energy_normalized = balanced_data['energy'].values.reshape(-1, 1)\n",
    "energy_normalized = normalize(energy_normalized)\n",
    "\n",
    "number_of_matching_genres_normalized = balanced_data['number_of_matching_genres'].values.reshape(-1, 1)\n",
    "number_of_matching_genres_normalized = normalize(number_of_matching_genres_normalized)\n",
    "\n",
    "hour_of_day_normalized = balanced_data['hour_of_day'].values.reshape(-1, 1)\n",
    "hour_of_day_normalized = normalize(hour_of_day_normalized)\n",
    "\n",
    "day_of_week_normalized = balanced_data['day_of_week'].values.reshape(-1, 1)\n",
    "day_of_week_normalized = normalize(day_of_week_normalized)\n",
    "\n",
    "premium_user_normalized = balanced_data['premium_user'].astype(int).values.reshape(-1, 1)\n",
    "premium_user_normalized = normalize(premium_user_normalized)\n",
    "\n",
    "# create data frame from data genres, data favourite_genres, encoded genres, encoded favourite_genres\n",
    "df = pd.DataFrame(\n",
    "    data={\n",
    "          'genres': balanced_data['genres'],\n",
    "          'favourite_genres': balanced_data['favourite_genres'],\n",
    "          'skipped': balanced_data['skipped']})\n",
    "\n",
    "df.head(50)"
   ]
  },
  {
   "cell_type": "code",
   "execution_count": 6,
   "metadata": {},
   "outputs": [],
   "source": [
    "# rearrange X in such way, that it containts equal number of skipped=True and skipped=False\n"
   ]
  },
  {
   "cell_type": "code",
   "execution_count": 7,
   "metadata": {},
   "outputs": [
    {
     "name": "stdout",
     "output_type": "stream",
     "text": [
      "Y_train not skipped 365481\n",
      "Y_train skipped 365951\n",
      "Y_train skipped % 0.5003212875564645\n"
     ]
    }
   ],
   "source": [
    "# TODO pewnie trzeba zbalansowac set najpierw \n",
    "\n",
    "# # create pandas dataframe from encoded_genres, encoded_favourite_genres and skipped\n",
    "# new_data = np.concatenate([encoded_genres, encoded_favourite_genres, data['skipped'].astype(int).values], axis=1)\n",
    "\n",
    "# skipped_data = new_data[new_data[\"skipped\"] == 1]\n",
    "# not_skipped_data = new_data[new_data[\"skipped\"] == 0]\n",
    "\n",
    "# # Split the dataset into subsets based on class labels\n",
    "# print(\"skipped_data\", skipped_data.shape)\n",
    "# print(\"not_skipped_data\", not_skipped_data.shape)\n",
    "\n",
    "# # Calculate the minimum number of samples among all classes\n",
    "# min_samples = min(len(skipped_data), len(not_skipped_data))\n",
    "\n",
    "# # Randomly select samples from each class subset to match the minimum number of samples\n",
    "# skipped_data_balanced = skipped_data.sample(n=min_samples, random_state=42)\n",
    "# not_skipped_data_balanced = not_skipped_data.sample(n=min_samples, random_state=42)\n",
    "\n",
    "# # Merge the balanced subsets to create the final balanced dataset\n",
    "# balanced_data = pd.concat([skipped_data_balanced, not_skipped_data_balanced], axis=0)\n",
    "\n",
    "# # Shuffle the balanced dataset\n",
    "# balanced_data = balanced_data.sample(frac=1, random_state=42).reset_index(drop=True)\n",
    "# print(balanced_data.head())\n",
    "\n",
    "\n",
    "# Concatenate the one-hot encoded columns\n",
    "X = np.concatenate([encoded_genres, encoded_favourite_genres], axis=1)\n",
    "# X = np.concatenate([encoded_track_name], axis=1)\n",
    "# X = np.concatenate(\n",
    "#     [popularity_normalized, duration_ms_normalized, danceability_normalized, energy_normalized,\n",
    "#      number_of_matching_genres_normalized], axis=1)\n",
    "\n",
    "#\n",
    "# Extract the labels\n",
    "y = balanced_data['skipped'].astype(int).values\n",
    "\n",
    "# Split the data into training and testing sets\n",
    "X_train, X_test, y_train, y_test = train_test_split(X, y, test_size=0.2, shuffle=True)\n",
    "\n",
    "# count skipped and not skipped songs in X_train\n",
    "print(\"Y_train not skipped\", np.count_nonzero(y_train == 0))\n",
    "print(\"Y_train skipped\", np.count_nonzero(y_train == 1))\n",
    "print(\"Y_train skipped %\", np.count_nonzero(y_train == 1) / len(y_train))\n"
   ]
  },
  {
   "cell_type": "code",
   "execution_count": 8,
   "metadata": {},
   "outputs": [],
   "source": [
    "def build_model(hp):\n",
    "  model = Sequential()\n",
    "  model.add(Dense(3000 * 2, activation='relu', input_shape=(X_train.shape[1],)))\n",
    "  model.add(Dropout(0.5))\n",
    "  model.add(Dense(3000, activation='relu'))\n",
    "  model.add(Dropout(0.5))\n",
    "  # model.add(Dense(1000, activation='relu'))\n",
    "  # model.add(Dropout(0.5))\n",
    "  model.add(Dense(1, activation='sigmoid'))\n",
    "\n",
    "  # model.compile(\n",
    "  #     optimizer=keras.optimizers.Adam(hp.Choice('learning_date', values=[0.5, 0.1, 0.01])),\n",
    "  #     loss='binary_crossentropy', metrics=['accuracy'])\n",
    "  model.compile(\n",
    "      optimizer=Adam(),\n",
    "      loss='binary_crossentropy', metrics=['accuracy'])\n",
    "  return model\n"
   ]
  },
  {
   "cell_type": "code",
   "execution_count": 9,
   "metadata": {},
   "outputs": [
    {
     "name": "stdout",
     "output_type": "stream",
     "text": [
      "Metal device set to: Apple M2 Pro\n",
      "Epoch 1/100\n"
     ]
    },
    {
     "name": "stderr",
     "output_type": "stream",
     "text": [
      "2023-04-16 20:30:47.251892: W tensorflow/tsl/platform/profile_utils/cpu_utils.cc:128] Failed to get CPU frequency: 0 Hz\n"
     ]
    },
    {
     "name": "stdout",
     "output_type": "stream",
     "text": [
      "11429/11429 - 147s - loss: 0.6557 - accuracy: 0.6023 - val_loss: 0.6168 - val_accuracy: 0.6580 - 147s/epoch - 13ms/step\n",
      "Epoch 2/100\n",
      "11429/11429 - 146s - loss: 0.6135 - accuracy: 0.6621 - val_loss: 0.5974 - val_accuracy: 0.6838 - 146s/epoch - 13ms/step\n",
      "Epoch 3/100\n",
      "11429/11429 - 149s - loss: 0.5997 - accuracy: 0.6767 - val_loss: 0.5900 - val_accuracy: 0.6922 - 149s/epoch - 13ms/step\n",
      "Epoch 4/100\n",
      "11429/11429 - 153s - loss: 0.5925 - accuracy: 0.6847 - val_loss: 0.5869 - val_accuracy: 0.6956 - 153s/epoch - 13ms/step\n",
      "Epoch 5/100\n",
      "11429/11429 - 147s - loss: 0.5868 - accuracy: 0.6903 - val_loss: 0.5875 - val_accuracy: 0.6976 - 147s/epoch - 13ms/step\n",
      "Epoch 6/100\n"
     ]
    },
    {
     "ename": "KeyboardInterrupt",
     "evalue": "",
     "output_type": "error",
     "traceback": [
      "\u001B[0;31m---------------------------------------------------------------------------\u001B[0m",
      "\u001B[0;31mKeyboardInterrupt\u001B[0m                         Traceback (most recent call last)",
      "Cell \u001B[0;32mIn[9], line 6\u001B[0m\n\u001B[1;32m      2\u001B[0m batch_size \u001B[38;5;241m=\u001B[39m \u001B[38;5;241m64\u001B[39m\n\u001B[1;32m      4\u001B[0m model \u001B[38;5;241m=\u001B[39m build_model(\u001B[38;5;28;01mNone\u001B[39;00m)\n\u001B[0;32m----> 6\u001B[0m history \u001B[38;5;241m=\u001B[39m \u001B[43mmodel\u001B[49m\u001B[38;5;241;43m.\u001B[39;49m\u001B[43mfit\u001B[49m\u001B[43m(\u001B[49m\n\u001B[1;32m      7\u001B[0m \u001B[43m    \u001B[49m\u001B[43mX_train\u001B[49m\u001B[43m,\u001B[49m\n\u001B[1;32m      8\u001B[0m \u001B[43m    \u001B[49m\u001B[43my_train\u001B[49m\u001B[43m,\u001B[49m\n\u001B[1;32m      9\u001B[0m \u001B[43m    \u001B[49m\u001B[43mvalidation_data\u001B[49m\u001B[38;5;241;43m=\u001B[39;49m\u001B[43m(\u001B[49m\u001B[43mX_test\u001B[49m\u001B[43m,\u001B[49m\u001B[43m \u001B[49m\u001B[43my_test\u001B[49m\u001B[43m)\u001B[49m\u001B[43m,\u001B[49m\n\u001B[1;32m     10\u001B[0m \u001B[43m    \u001B[49m\u001B[43mepochs\u001B[49m\u001B[38;5;241;43m=\u001B[39;49m\u001B[43mepochs\u001B[49m\u001B[43m,\u001B[49m\n\u001B[1;32m     11\u001B[0m \u001B[43m    \u001B[49m\u001B[43mbatch_size\u001B[49m\u001B[38;5;241;43m=\u001B[39;49m\u001B[43mbatch_size\u001B[49m\u001B[43m,\u001B[49m\n\u001B[1;32m     12\u001B[0m \u001B[43m    \u001B[49m\u001B[43mverbose\u001B[49m\u001B[38;5;241;43m=\u001B[39;49m\u001B[38;5;241;43m2\u001B[39;49m\n\u001B[1;32m     13\u001B[0m \u001B[43m)\u001B[49m\n\u001B[1;32m     15\u001B[0m \u001B[38;5;66;03m# tuner = keras_tuner.tuners.Hyperband(\u001B[39;00m\n\u001B[1;32m     16\u001B[0m \u001B[38;5;66;03m#     build_model,\u001B[39;00m\n\u001B[1;32m     17\u001B[0m \u001B[38;5;66;03m#     objective='val_accuracy',\u001B[39;00m\n\u001B[0;32m   (...)\u001B[0m\n\u001B[1;32m     20\u001B[0m \u001B[38;5;66;03m#     executions_per_trial=2,\u001B[39;00m\n\u001B[1;32m     21\u001B[0m \u001B[38;5;66;03m#     directory='my_dir')\u001B[39;00m\n",
      "File \u001B[0;32m~/anaconda3/envs/IUM/lib/python3.10/site-packages/keras/utils/traceback_utils.py:65\u001B[0m, in \u001B[0;36mfilter_traceback.<locals>.error_handler\u001B[0;34m(*args, **kwargs)\u001B[0m\n\u001B[1;32m     63\u001B[0m filtered_tb \u001B[38;5;241m=\u001B[39m \u001B[38;5;28;01mNone\u001B[39;00m\n\u001B[1;32m     64\u001B[0m \u001B[38;5;28;01mtry\u001B[39;00m:\n\u001B[0;32m---> 65\u001B[0m     \u001B[38;5;28;01mreturn\u001B[39;00m \u001B[43mfn\u001B[49m\u001B[43m(\u001B[49m\u001B[38;5;241;43m*\u001B[39;49m\u001B[43margs\u001B[49m\u001B[43m,\u001B[49m\u001B[43m \u001B[49m\u001B[38;5;241;43m*\u001B[39;49m\u001B[38;5;241;43m*\u001B[39;49m\u001B[43mkwargs\u001B[49m\u001B[43m)\u001B[49m\n\u001B[1;32m     66\u001B[0m \u001B[38;5;28;01mexcept\u001B[39;00m \u001B[38;5;167;01mException\u001B[39;00m \u001B[38;5;28;01mas\u001B[39;00m e:\n\u001B[1;32m     67\u001B[0m     filtered_tb \u001B[38;5;241m=\u001B[39m _process_traceback_frames(e\u001B[38;5;241m.\u001B[39m__traceback__)\n",
      "File \u001B[0;32m~/anaconda3/envs/IUM/lib/python3.10/site-packages/keras/engine/training.py:1685\u001B[0m, in \u001B[0;36mModel.fit\u001B[0;34m(self, x, y, batch_size, epochs, verbose, callbacks, validation_split, validation_data, shuffle, class_weight, sample_weight, initial_epoch, steps_per_epoch, validation_steps, validation_batch_size, validation_freq, max_queue_size, workers, use_multiprocessing)\u001B[0m\n\u001B[1;32m   1677\u001B[0m \u001B[38;5;28;01mwith\u001B[39;00m tf\u001B[38;5;241m.\u001B[39mprofiler\u001B[38;5;241m.\u001B[39mexperimental\u001B[38;5;241m.\u001B[39mTrace(\n\u001B[1;32m   1678\u001B[0m     \u001B[38;5;124m\"\u001B[39m\u001B[38;5;124mtrain\u001B[39m\u001B[38;5;124m\"\u001B[39m,\n\u001B[1;32m   1679\u001B[0m     epoch_num\u001B[38;5;241m=\u001B[39mepoch,\n\u001B[0;32m   (...)\u001B[0m\n\u001B[1;32m   1682\u001B[0m     _r\u001B[38;5;241m=\u001B[39m\u001B[38;5;241m1\u001B[39m,\n\u001B[1;32m   1683\u001B[0m ):\n\u001B[1;32m   1684\u001B[0m     callbacks\u001B[38;5;241m.\u001B[39mon_train_batch_begin(step)\n\u001B[0;32m-> 1685\u001B[0m     tmp_logs \u001B[38;5;241m=\u001B[39m \u001B[38;5;28;43mself\u001B[39;49m\u001B[38;5;241;43m.\u001B[39;49m\u001B[43mtrain_function\u001B[49m\u001B[43m(\u001B[49m\u001B[43miterator\u001B[49m\u001B[43m)\u001B[49m\n\u001B[1;32m   1686\u001B[0m     \u001B[38;5;28;01mif\u001B[39;00m data_handler\u001B[38;5;241m.\u001B[39mshould_sync:\n\u001B[1;32m   1687\u001B[0m         context\u001B[38;5;241m.\u001B[39masync_wait()\n",
      "File \u001B[0;32m~/anaconda3/envs/IUM/lib/python3.10/site-packages/tensorflow/python/util/traceback_utils.py:150\u001B[0m, in \u001B[0;36mfilter_traceback.<locals>.error_handler\u001B[0;34m(*args, **kwargs)\u001B[0m\n\u001B[1;32m    148\u001B[0m filtered_tb \u001B[38;5;241m=\u001B[39m \u001B[38;5;28;01mNone\u001B[39;00m\n\u001B[1;32m    149\u001B[0m \u001B[38;5;28;01mtry\u001B[39;00m:\n\u001B[0;32m--> 150\u001B[0m   \u001B[38;5;28;01mreturn\u001B[39;00m \u001B[43mfn\u001B[49m\u001B[43m(\u001B[49m\u001B[38;5;241;43m*\u001B[39;49m\u001B[43margs\u001B[49m\u001B[43m,\u001B[49m\u001B[43m \u001B[49m\u001B[38;5;241;43m*\u001B[39;49m\u001B[38;5;241;43m*\u001B[39;49m\u001B[43mkwargs\u001B[49m\u001B[43m)\u001B[49m\n\u001B[1;32m    151\u001B[0m \u001B[38;5;28;01mexcept\u001B[39;00m \u001B[38;5;167;01mException\u001B[39;00m \u001B[38;5;28;01mas\u001B[39;00m e:\n\u001B[1;32m    152\u001B[0m   filtered_tb \u001B[38;5;241m=\u001B[39m _process_traceback_frames(e\u001B[38;5;241m.\u001B[39m__traceback__)\n",
      "File \u001B[0;32m~/anaconda3/envs/IUM/lib/python3.10/site-packages/tensorflow/python/eager/polymorphic_function/polymorphic_function.py:894\u001B[0m, in \u001B[0;36mFunction.__call__\u001B[0;34m(self, *args, **kwds)\u001B[0m\n\u001B[1;32m    891\u001B[0m compiler \u001B[38;5;241m=\u001B[39m \u001B[38;5;124m\"\u001B[39m\u001B[38;5;124mxla\u001B[39m\u001B[38;5;124m\"\u001B[39m \u001B[38;5;28;01mif\u001B[39;00m \u001B[38;5;28mself\u001B[39m\u001B[38;5;241m.\u001B[39m_jit_compile \u001B[38;5;28;01melse\u001B[39;00m \u001B[38;5;124m\"\u001B[39m\u001B[38;5;124mnonXla\u001B[39m\u001B[38;5;124m\"\u001B[39m\n\u001B[1;32m    893\u001B[0m \u001B[38;5;28;01mwith\u001B[39;00m OptionalXlaContext(\u001B[38;5;28mself\u001B[39m\u001B[38;5;241m.\u001B[39m_jit_compile):\n\u001B[0;32m--> 894\u001B[0m   result \u001B[38;5;241m=\u001B[39m \u001B[38;5;28;43mself\u001B[39;49m\u001B[38;5;241;43m.\u001B[39;49m\u001B[43m_call\u001B[49m\u001B[43m(\u001B[49m\u001B[38;5;241;43m*\u001B[39;49m\u001B[43margs\u001B[49m\u001B[43m,\u001B[49m\u001B[43m \u001B[49m\u001B[38;5;241;43m*\u001B[39;49m\u001B[38;5;241;43m*\u001B[39;49m\u001B[43mkwds\u001B[49m\u001B[43m)\u001B[49m\n\u001B[1;32m    896\u001B[0m new_tracing_count \u001B[38;5;241m=\u001B[39m \u001B[38;5;28mself\u001B[39m\u001B[38;5;241m.\u001B[39mexperimental_get_tracing_count()\n\u001B[1;32m    897\u001B[0m without_tracing \u001B[38;5;241m=\u001B[39m (tracing_count \u001B[38;5;241m==\u001B[39m new_tracing_count)\n",
      "File \u001B[0;32m~/anaconda3/envs/IUM/lib/python3.10/site-packages/tensorflow/python/eager/polymorphic_function/polymorphic_function.py:926\u001B[0m, in \u001B[0;36mFunction._call\u001B[0;34m(self, *args, **kwds)\u001B[0m\n\u001B[1;32m    923\u001B[0m   \u001B[38;5;28mself\u001B[39m\u001B[38;5;241m.\u001B[39m_lock\u001B[38;5;241m.\u001B[39mrelease()\n\u001B[1;32m    924\u001B[0m   \u001B[38;5;66;03m# In this case we have created variables on the first call, so we run the\u001B[39;00m\n\u001B[1;32m    925\u001B[0m   \u001B[38;5;66;03m# defunned version which is guaranteed to never create variables.\u001B[39;00m\n\u001B[0;32m--> 926\u001B[0m   \u001B[38;5;28;01mreturn\u001B[39;00m \u001B[38;5;28;43mself\u001B[39;49m\u001B[38;5;241;43m.\u001B[39;49m\u001B[43m_no_variable_creation_fn\u001B[49m\u001B[43m(\u001B[49m\u001B[38;5;241;43m*\u001B[39;49m\u001B[43margs\u001B[49m\u001B[43m,\u001B[49m\u001B[43m \u001B[49m\u001B[38;5;241;43m*\u001B[39;49m\u001B[38;5;241;43m*\u001B[39;49m\u001B[43mkwds\u001B[49m\u001B[43m)\u001B[49m  \u001B[38;5;66;03m# pylint: disable=not-callable\u001B[39;00m\n\u001B[1;32m    927\u001B[0m \u001B[38;5;28;01melif\u001B[39;00m \u001B[38;5;28mself\u001B[39m\u001B[38;5;241m.\u001B[39m_variable_creation_fn \u001B[38;5;129;01mis\u001B[39;00m \u001B[38;5;129;01mnot\u001B[39;00m \u001B[38;5;28;01mNone\u001B[39;00m:\n\u001B[1;32m    928\u001B[0m   \u001B[38;5;66;03m# Release the lock early so that multiple threads can perform the call\u001B[39;00m\n\u001B[1;32m    929\u001B[0m   \u001B[38;5;66;03m# in parallel.\u001B[39;00m\n\u001B[1;32m    930\u001B[0m   \u001B[38;5;28mself\u001B[39m\u001B[38;5;241m.\u001B[39m_lock\u001B[38;5;241m.\u001B[39mrelease()\n",
      "File \u001B[0;32m~/anaconda3/envs/IUM/lib/python3.10/site-packages/tensorflow/python/eager/polymorphic_function/tracing_compiler.py:143\u001B[0m, in \u001B[0;36mTracingCompiler.__call__\u001B[0;34m(self, *args, **kwargs)\u001B[0m\n\u001B[1;32m    140\u001B[0m \u001B[38;5;28;01mwith\u001B[39;00m \u001B[38;5;28mself\u001B[39m\u001B[38;5;241m.\u001B[39m_lock:\n\u001B[1;32m    141\u001B[0m   (concrete_function,\n\u001B[1;32m    142\u001B[0m    filtered_flat_args) \u001B[38;5;241m=\u001B[39m \u001B[38;5;28mself\u001B[39m\u001B[38;5;241m.\u001B[39m_maybe_define_function(args, kwargs)\n\u001B[0;32m--> 143\u001B[0m \u001B[38;5;28;01mreturn\u001B[39;00m \u001B[43mconcrete_function\u001B[49m\u001B[38;5;241;43m.\u001B[39;49m\u001B[43m_call_flat\u001B[49m\u001B[43m(\u001B[49m\n\u001B[1;32m    144\u001B[0m \u001B[43m    \u001B[49m\u001B[43mfiltered_flat_args\u001B[49m\u001B[43m,\u001B[49m\u001B[43m \u001B[49m\u001B[43mcaptured_inputs\u001B[49m\u001B[38;5;241;43m=\u001B[39;49m\u001B[43mconcrete_function\u001B[49m\u001B[38;5;241;43m.\u001B[39;49m\u001B[43mcaptured_inputs\u001B[49m\u001B[43m)\u001B[49m\n",
      "File \u001B[0;32m~/anaconda3/envs/IUM/lib/python3.10/site-packages/tensorflow/python/eager/polymorphic_function/monomorphic_function.py:1757\u001B[0m, in \u001B[0;36mConcreteFunction._call_flat\u001B[0;34m(self, args, captured_inputs, cancellation_manager)\u001B[0m\n\u001B[1;32m   1753\u001B[0m possible_gradient_type \u001B[38;5;241m=\u001B[39m gradients_util\u001B[38;5;241m.\u001B[39mPossibleTapeGradientTypes(args)\n\u001B[1;32m   1754\u001B[0m \u001B[38;5;28;01mif\u001B[39;00m (possible_gradient_type \u001B[38;5;241m==\u001B[39m gradients_util\u001B[38;5;241m.\u001B[39mPOSSIBLE_GRADIENT_TYPES_NONE\n\u001B[1;32m   1755\u001B[0m     \u001B[38;5;129;01mand\u001B[39;00m executing_eagerly):\n\u001B[1;32m   1756\u001B[0m   \u001B[38;5;66;03m# No tape is watching; skip to running the function.\u001B[39;00m\n\u001B[0;32m-> 1757\u001B[0m   \u001B[38;5;28;01mreturn\u001B[39;00m \u001B[38;5;28mself\u001B[39m\u001B[38;5;241m.\u001B[39m_build_call_outputs(\u001B[38;5;28;43mself\u001B[39;49m\u001B[38;5;241;43m.\u001B[39;49m\u001B[43m_inference_function\u001B[49m\u001B[38;5;241;43m.\u001B[39;49m\u001B[43mcall\u001B[49m\u001B[43m(\u001B[49m\n\u001B[1;32m   1758\u001B[0m \u001B[43m      \u001B[49m\u001B[43mctx\u001B[49m\u001B[43m,\u001B[49m\u001B[43m \u001B[49m\u001B[43margs\u001B[49m\u001B[43m,\u001B[49m\u001B[43m \u001B[49m\u001B[43mcancellation_manager\u001B[49m\u001B[38;5;241;43m=\u001B[39;49m\u001B[43mcancellation_manager\u001B[49m\u001B[43m)\u001B[49m)\n\u001B[1;32m   1759\u001B[0m forward_backward \u001B[38;5;241m=\u001B[39m \u001B[38;5;28mself\u001B[39m\u001B[38;5;241m.\u001B[39m_select_forward_and_backward_functions(\n\u001B[1;32m   1760\u001B[0m     args,\n\u001B[1;32m   1761\u001B[0m     possible_gradient_type,\n\u001B[1;32m   1762\u001B[0m     executing_eagerly)\n\u001B[1;32m   1763\u001B[0m forward_function, args_with_tangents \u001B[38;5;241m=\u001B[39m forward_backward\u001B[38;5;241m.\u001B[39mforward()\n",
      "File \u001B[0;32m~/anaconda3/envs/IUM/lib/python3.10/site-packages/tensorflow/python/eager/polymorphic_function/monomorphic_function.py:381\u001B[0m, in \u001B[0;36m_EagerDefinedFunction.call\u001B[0;34m(self, ctx, args, cancellation_manager)\u001B[0m\n\u001B[1;32m    379\u001B[0m \u001B[38;5;28;01mwith\u001B[39;00m _InterpolateFunctionError(\u001B[38;5;28mself\u001B[39m):\n\u001B[1;32m    380\u001B[0m   \u001B[38;5;28;01mif\u001B[39;00m cancellation_manager \u001B[38;5;129;01mis\u001B[39;00m \u001B[38;5;28;01mNone\u001B[39;00m:\n\u001B[0;32m--> 381\u001B[0m     outputs \u001B[38;5;241m=\u001B[39m \u001B[43mexecute\u001B[49m\u001B[38;5;241;43m.\u001B[39;49m\u001B[43mexecute\u001B[49m\u001B[43m(\u001B[49m\n\u001B[1;32m    382\u001B[0m \u001B[43m        \u001B[49m\u001B[38;5;28;43mstr\u001B[39;49m\u001B[43m(\u001B[49m\u001B[38;5;28;43mself\u001B[39;49m\u001B[38;5;241;43m.\u001B[39;49m\u001B[43msignature\u001B[49m\u001B[38;5;241;43m.\u001B[39;49m\u001B[43mname\u001B[49m\u001B[43m)\u001B[49m\u001B[43m,\u001B[49m\n\u001B[1;32m    383\u001B[0m \u001B[43m        \u001B[49m\u001B[43mnum_outputs\u001B[49m\u001B[38;5;241;43m=\u001B[39;49m\u001B[38;5;28;43mself\u001B[39;49m\u001B[38;5;241;43m.\u001B[39;49m\u001B[43m_num_outputs\u001B[49m\u001B[43m,\u001B[49m\n\u001B[1;32m    384\u001B[0m \u001B[43m        \u001B[49m\u001B[43minputs\u001B[49m\u001B[38;5;241;43m=\u001B[39;49m\u001B[43margs\u001B[49m\u001B[43m,\u001B[49m\n\u001B[1;32m    385\u001B[0m \u001B[43m        \u001B[49m\u001B[43mattrs\u001B[49m\u001B[38;5;241;43m=\u001B[39;49m\u001B[43mattrs\u001B[49m\u001B[43m,\u001B[49m\n\u001B[1;32m    386\u001B[0m \u001B[43m        \u001B[49m\u001B[43mctx\u001B[49m\u001B[38;5;241;43m=\u001B[39;49m\u001B[43mctx\u001B[49m\u001B[43m)\u001B[49m\n\u001B[1;32m    387\u001B[0m   \u001B[38;5;28;01melse\u001B[39;00m:\n\u001B[1;32m    388\u001B[0m     outputs \u001B[38;5;241m=\u001B[39m execute\u001B[38;5;241m.\u001B[39mexecute_with_cancellation(\n\u001B[1;32m    389\u001B[0m         \u001B[38;5;28mstr\u001B[39m(\u001B[38;5;28mself\u001B[39m\u001B[38;5;241m.\u001B[39msignature\u001B[38;5;241m.\u001B[39mname),\n\u001B[1;32m    390\u001B[0m         num_outputs\u001B[38;5;241m=\u001B[39m\u001B[38;5;28mself\u001B[39m\u001B[38;5;241m.\u001B[39m_num_outputs,\n\u001B[0;32m   (...)\u001B[0m\n\u001B[1;32m    393\u001B[0m         ctx\u001B[38;5;241m=\u001B[39mctx,\n\u001B[1;32m    394\u001B[0m         cancellation_manager\u001B[38;5;241m=\u001B[39mcancellation_manager)\n",
      "File \u001B[0;32m~/anaconda3/envs/IUM/lib/python3.10/site-packages/tensorflow/python/eager/execute.py:52\u001B[0m, in \u001B[0;36mquick_execute\u001B[0;34m(op_name, num_outputs, inputs, attrs, ctx, name)\u001B[0m\n\u001B[1;32m     50\u001B[0m \u001B[38;5;28;01mtry\u001B[39;00m:\n\u001B[1;32m     51\u001B[0m   ctx\u001B[38;5;241m.\u001B[39mensure_initialized()\n\u001B[0;32m---> 52\u001B[0m   tensors \u001B[38;5;241m=\u001B[39m \u001B[43mpywrap_tfe\u001B[49m\u001B[38;5;241;43m.\u001B[39;49m\u001B[43mTFE_Py_Execute\u001B[49m\u001B[43m(\u001B[49m\u001B[43mctx\u001B[49m\u001B[38;5;241;43m.\u001B[39;49m\u001B[43m_handle\u001B[49m\u001B[43m,\u001B[49m\u001B[43m \u001B[49m\u001B[43mdevice_name\u001B[49m\u001B[43m,\u001B[49m\u001B[43m \u001B[49m\u001B[43mop_name\u001B[49m\u001B[43m,\u001B[49m\n\u001B[1;32m     53\u001B[0m \u001B[43m                                      \u001B[49m\u001B[43minputs\u001B[49m\u001B[43m,\u001B[49m\u001B[43m \u001B[49m\u001B[43mattrs\u001B[49m\u001B[43m,\u001B[49m\u001B[43m \u001B[49m\u001B[43mnum_outputs\u001B[49m\u001B[43m)\u001B[49m\n\u001B[1;32m     54\u001B[0m \u001B[38;5;28;01mexcept\u001B[39;00m core\u001B[38;5;241m.\u001B[39m_NotOkStatusException \u001B[38;5;28;01mas\u001B[39;00m e:\n\u001B[1;32m     55\u001B[0m   \u001B[38;5;28;01mif\u001B[39;00m name \u001B[38;5;129;01mis\u001B[39;00m \u001B[38;5;129;01mnot\u001B[39;00m \u001B[38;5;28;01mNone\u001B[39;00m:\n",
      "\u001B[0;31mKeyboardInterrupt\u001B[0m: "
     ]
    }
   ],
   "source": [
    "epochs = 100\n",
    "batch_size = 128\n",
    "\n",
    "model = build_model(None)\n",
    "\n",
    "callbacks = [\n",
    "  keras.callbacks.ModelCheckpoint(\n",
    "      filepath='models/model2_{epoch}',\n",
    "      save_freq='epoch')\n",
    "]\n",
    "\n",
    "history = model.fit(\n",
    "    X_train,\n",
    "    y_train,\n",
    "    validation_data=(X_test, y_test),\n",
    "    epochs=epochs,\n",
    "    batch_size=batch_size,\n",
    "    callbacks=callbacks,\n",
    "    verbose=2\n",
    ")\n",
    "\n",
    "# tuner = keras_tuner.tuners.Hyperband(\n",
    "#     build_model,\n",
    "#     objective='val_accuracy',\n",
    "#     max_epochs=50,\n",
    "#     max_trials=10,\n",
    "#     executions_per_trial=2,\n",
    "#     directory='my_dir')\n"
   ]
  },
  {
   "cell_type": "code",
   "execution_count": null,
   "metadata": {},
   "outputs": [],
   "source": [
    "# tuner.search(\n",
    "#     (X_train, y_train),\n",
    "#     validation_data=(X_test, y_test),\n",
    "# )"
   ]
  },
  {
   "cell_type": "code",
   "execution_count": null,
   "metadata": {},
   "outputs": [],
   "source": [
    "# Evaluate the model on the test set\n",
    "loss, accuracy = model.evaluate(X_test, y_test, verbose=2)\n",
    "print(\"Test set accuracy:\", accuracy)\n",
    "\n",
    "print(\"TEST\")\n",
    "y_pred = model.predict(X_test)\n",
    "y_pred_classes = (y_pred > 0.5).astype(int)\n",
    "print(\"Accuracy:\", accuracy_score(y_test, y_pred_classes))\n",
    "print(\"Confusion matrix:\\n\", confusion_matrix(y_test, y_pred_classes))\n",
    "print(\"Classification report:\\n\", classification_report(y_test, y_pred_classes))\n",
    "\n",
    "print(\"TRAIN\")\n",
    "y_pred = model.predict(X_train)\n",
    "y_pred_classes = (y_pred > 0.5).astype(int)\n",
    "print(\"Accuracy:\", accuracy_score(y_train, y_pred_classes))\n",
    "print(\"Confusion matrix:\\n\", confusion_matrix(y_train, y_pred_classes))\n",
    "print(\"Classification report:\\n\", classification_report(y_train, y_pred_classes))\n"
   ]
  }
 ],
 "metadata": {
  "kernelspec": {
   "display_name": "Python 3.10 (IUM)",
   "language": "python",
   "name": "ium"
  },
  "language_info": {
   "codemirror_mode": {
    "name": "ipython",
    "version": 3
   },
   "file_extension": ".py",
   "mimetype": "text/x-python",
   "name": "python",
   "nbconvert_exporter": "python",
   "pygments_lexer": "ipython3",
   "version": "3.10.10"
  }
 },
 "nbformat": 4,
 "nbformat_minor": 1
}
