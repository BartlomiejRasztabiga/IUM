{
 "cells": [
  {
   "cell_type": "code",
   "execution_count": 424,
   "metadata": {
    "ExecuteTime": {
     "end_time": "2023-04-27T16:45:29.254452Z",
     "start_time": "2023-04-27T16:45:29.088384Z"
    },
    "collapsed": true
   },
   "outputs": [],
   "source": [
    "import pandas as pd\n",
    "import numpy as np\n",
    "import pickle\n",
    "from sklearn.feature_extraction.text import TfidfVectorizer\n",
    "from sklearn.cluster import KMeans\n",
    "from keras.optimizers import Adam\n",
    "from sklearn.metrics import confusion_matrix, classification_report, accuracy_score\n",
    "from sklearn.preprocessing import MultiLabelBinarizer\n",
    "from sklearn.model_selection import train_test_split\n",
    "\n",
    "from tensorflow import keras\n",
    "\n",
    "from keras.models import Sequential\n",
    "from keras.layers import Dense, Dropout"
   ]
  },
  {
   "cell_type": "code",
   "execution_count": 425,
   "metadata": {
    "ExecuteTime": {
     "end_time": "2023-04-27T16:45:29.471102Z",
     "start_time": "2023-04-27T16:45:29.092628Z"
    }
   },
   "outputs": [],
   "source": [
    "merged_data_path = '../data/v2/merged_data.jsonl'\n",
    "data = pd.read_json(merged_data_path, lines=True)"
   ]
  },
  {
   "cell_type": "code",
   "execution_count": 426,
   "metadata": {},
   "outputs": [],
   "source": [
    "# K-MEANS\n",
    "\n",
    "# Prepare the list of unique genres\n",
    "unique_genres = list(set([genre for genres in data['genres'] for genre in genres]) | set([genre for genres in data['favourite_genres'] for genre in genres]))\n",
    "\n",
    "# Convert the genres to a matrix of TF-IDF features\n",
    "vectorizer = TfidfVectorizer()\n",
    "vectorized = vectorizer.fit_transform(unique_genres)\n",
    "\n",
    "# Apply K-means clustering\n",
    "num_clusters = 100  # Adjust this value according to your needs\n",
    "kmeans = KMeans(n_clusters=num_clusters, random_state=42, n_init='auto')\n",
    "kmeans.fit(vectorized)\n",
    "labels = kmeans.labels_\n",
    "\n",
    "# Group the genres based on the cluster labels\n",
    "clustered_genres = {}\n",
    "for i, label in enumerate(labels):\n",
    "    if label not in clustered_genres:\n",
    "        clustered_genres[label] = []\n",
    "    clustered_genres[label].append(unique_genres[i])\n",
    "\n",
    "# Map genres to their cluster label\n",
    "genre_to_cluster = {genre: label for label, genres in clustered_genres.items() for genre in genres}\n",
    "\n",
    "# Define the function for mapping genres to simpler forms\n",
    "def map_genre(genre):\n",
    "    cluster_label = genre_to_cluster[genre]\n",
    "    representative_genre = clustered_genres[cluster_label][0]  # Use the first genre in the cluster as the representative\n",
    "    return representative_genre\n",
    "\n",
    "# Save the genre_to_cluster and clustered_genres dictionaries to use for new data prediction\n",
    "with open('../models/model2_genre_to_cluster.pickle', 'wb') as f:\n",
    "    pickle.dump(genre_to_cluster, f)\n",
    "\n",
    "with open('../models/model2_clustered_genres.pickle', 'wb') as f:\n",
    "    pickle.dump(clustered_genres, f)\n",
    "\n",
    "# Apply the mapping function to both 'genres' and 'favourite_genres' columns\n",
    "data['genres'] = data['genres'].apply(lambda x: [map_genre(genre) for genre in x])\n",
    "data['favourite_genres'] = data['favourite_genres'].apply(lambda x: [map_genre(genre) for genre in x])\n",
    "\n",
    "# Delete not unique genres\n",
    "data['genres'] = data['genres'].apply(lambda x: list(set(x)))\n",
    "data['favourite_genres'] = data['favourite_genres'].apply(lambda x: list(set(x)))\n"
   ]
  },
  {
   "cell_type": "code",
   "execution_count": 427,
   "metadata": {},
   "outputs": [
    {
     "name": "stdout",
     "output_type": "stream",
     "text": [
      "100\n"
     ]
    },
    {
     "data": {
      "text/plain": [
       "[('poezja spiewana', 5548),\n",
       " ('rock quebecois', 4689),\n",
       " ('classic luk thung', 3074),\n",
       " ('greek pop', 2523),\n",
       " ('pakistani folk', 1630),\n",
       " ('hard trance', 1141),\n",
       " ('dark wave', 988),\n",
       " ('country blues', 987),\n",
       " ('italo dance', 686),\n",
       " ('rap francais', 658),\n",
       " ('polish post-punk', 589),\n",
       " ('comic metal', 577),\n",
       " ('modern alternative rock', 557),\n",
       " ('estonian hip hop', 551),\n",
       " ('israeli singer-songwriter', 544),\n",
       " ('jazz pop', 532),\n",
       " ('british dance band', 479),\n",
       " ('classic israeli pop', 471),\n",
       " ('trap', 381),\n",
       " ('latin classical', 374),\n",
       " ('new orleans funk', 319),\n",
       " ('classic canadian rock', 295),\n",
       " ('glam punk', 295),\n",
       " ('okc indie', 250),\n",
       " ('neo classical metal', 221),\n",
       " ('progressive house', 215),\n",
       " ('disco polo', 180),\n",
       " ('barrelhouse piano', 176),\n",
       " ('vocal house', 176),\n",
       " ('modern power pop', 139),\n",
       " ('reggaeton cristiano', 125),\n",
       " ('old school rap francais', 120),\n",
       " ('edm', 104),\n",
       " ('world fusion', 102),\n",
       " ('australian pop', 102),\n",
       " ('big room', 99),\n",
       " ('swedish electronic', 89),\n",
       " ('forro tradicional', 87),\n",
       " ('dutch indie', 85),\n",
       " ('vintage swedish pop', 79),\n",
       " ('argentine hip hop', 78),\n",
       " ('neo-synthpop', 77),\n",
       " ('thrash metal', 73),\n",
       " ('french indie folk', 69),\n",
       " ('reggae rock', 69),\n",
       " ('traditional folk', 62),\n",
       " ('mexican classic rock', 59),\n",
       " ('classic danish rock', 58),\n",
       " ('ska argentino', 58),\n",
       " ('italian adult pop', 58),\n",
       " ('deep regional mexican', 56),\n",
       " ('samba reggae', 53),\n",
       " ('acid house', 52),\n",
       " ('russian pop', 52),\n",
       " ('cumbia paraguaya', 51),\n",
       " ('christian music', 49),\n",
       " ('spanish rock', 45),\n",
       " ('iskelma', 44),\n",
       " ('classic thai pop', 43),\n",
       " ('musica gaucha tradicionalista', 41),\n",
       " ('folklore argentino', 37),\n",
       " ('salsa international', 36),\n",
       " ('swedish eurodance', 36),\n",
       " ('drill tuga', 35),\n",
       " ('japanese vgm', 34),\n",
       " ('brazilian ccm', 33),\n",
       " ('indonesian worship', 31),\n",
       " ('classic norwegian pop', 31),\n",
       " ('norwegian country', 31),\n",
       " ('deep classic garage rock', 30),\n",
       " ('dessin anime', 30),\n",
       " ('polish reggae', 28),\n",
       " ('lithuanian electronic', 27),\n",
       " ('classic colombian pop', 27),\n",
       " ('canto popular uruguayo', 25),\n",
       " ('african-american classical', 25),\n",
       " ('progressive death metal', 21),\n",
       " ('happy hardcore', 21),\n",
       " ('turkish psych', 19),\n",
       " ('portuguese indie rock', 18),\n",
       " ('dangdut koplo', 17),\n",
       " ('belgian black metal', 16),\n",
       " ('haitian gospel', 16),\n",
       " ('metal guitar', 15),\n",
       " ('merengue', 15),\n",
       " ('banda', 14),\n",
       " ('cuban rumba', 14),\n",
       " ('south african gospel', 14),\n",
       " ('classic schlager', 12),\n",
       " (\"children's music\", 7),\n",
       " ('ambient pop', 7),\n",
       " ('tamil pop', 6),\n",
       " ('panamanian pop', 5),\n",
       " ('desert blues', 4),\n",
       " ('son cubano', 3),\n",
       " ('detske pisnicky', 2),\n",
       " ('hong kong rock', 2),\n",
       " ('albanian hip hop', 2),\n",
       " ('euphoric hardstyle', 2),\n",
       " ('cumbia lagunera', 1)]"
      ]
     },
     "execution_count": 427,
     "metadata": {},
     "output_type": "execute_result"
    }
   ],
   "source": [
    "# count unique genres\n",
    "unique_genres = set()\n",
    "for genres in data['genres']:\n",
    "    unique_genres.update(genres)\n",
    "for genres in data['favourite_genres']:\n",
    "    unique_genres.update(genres)\n",
    "print(len(unique_genres))\n",
    "\n",
    "# how many tracks are per genre\n",
    "genre_count = {}\n",
    "for genres in data['genres']:\n",
    "    for genre in genres:\n",
    "        if genre not in genre_count:\n",
    "            genre_count[genre] = 0\n",
    "        genre_count[genre] += 1\n",
    "\n",
    "genre_count = sorted(genre_count.items(), key=lambda x: x[1], reverse=True)\n",
    "genre_count"
   ]
  },
  {
   "cell_type": "code",
   "execution_count": 428,
   "metadata": {
    "ExecuteTime": {
     "end_time": "2023-04-27T16:45:29.545713Z",
     "start_time": "2023-04-27T16:45:29.475341Z"
    }
   },
   "outputs": [
    {
     "name": "stdout",
     "output_type": "stream",
     "text": [
      "skipped_data (3621, 3)\n",
      "not_skipped_data (6260, 3)\n"
     ]
    }
   ],
   "source": [
    "# balance set\n",
    "skipped_data = data[data[\"skipped\"] == 1]\n",
    "not_skipped_data = data[data[\"skipped\"] == 0]\n",
    "\n",
    "# Split the dataset into subsets based on class labels\n",
    "print(\"skipped_data\", skipped_data.shape)\n",
    "print(\"not_skipped_data\", not_skipped_data.shape)\n",
    "\n",
    "# Calculate the minimum number of samples among all classes\n",
    "min_samples = min(len(skipped_data), len(not_skipped_data))\n",
    "\n",
    "# Randomly select samples from each class subset to match the minimum number of samples\n",
    "skipped_data_balanced = skipped_data.sample(n=min_samples, random_state=42)\n",
    "not_skipped_data_balanced = not_skipped_data.sample(n=min_samples, random_state=42)\n",
    "\n",
    "# Merge the balanced subsets to create the final balanced dataset\n",
    "balanced_data = pd.concat([skipped_data_balanced, not_skipped_data_balanced], axis=0)\n",
    "\n",
    "# Shuffle the balanced dataset\n",
    "balanced_data = balanced_data.sample(frac=1, random_state=42).reset_index(drop=True)"
   ]
  },
  {
   "cell_type": "code",
   "execution_count": 429,
   "metadata": {
    "ExecuteTime": {
     "end_time": "2023-04-27T16:36:02.187991Z",
     "start_time": "2023-04-27T16:36:02.115285Z"
    },
    "pycharm": {
     "is_executing": true
    }
   },
   "outputs": [],
   "source": [
    "# Combine genres and favourite_genres\n",
    "mlb = MultiLabelBinarizer()\n",
    "\n",
    "data['combined_genres'] = data.apply(lambda x: x['genres'] + x['favourite_genres'], axis=1)\n",
    "mlb.fit(data['combined_genres'])\n",
    "\n",
    "encoded_favourite_genres = mlb.transform(balanced_data['favourite_genres'])\n",
    "encoded_genres = mlb.transform(balanced_data['genres'])\n",
    "\n",
    "# save mlb to file\n",
    "with open('../models/model2_mlb.pickle', 'wb') as f:\n",
    "    pickle.dump(mlb, f)\n"
   ]
  },
  {
   "cell_type": "code",
   "execution_count": 430,
   "metadata": {
    "ExecuteTime": {
     "end_time": "2023-04-27T16:36:02.188192Z",
     "start_time": "2023-04-27T16:36:02.130018Z"
    },
    "pycharm": {
     "is_executing": true
    }
   },
   "outputs": [
    {
     "name": "stdout",
     "output_type": "stream",
     "text": [
      "X (7242, 200)\n"
     ]
    }
   ],
   "source": [
    "X = np.concatenate([encoded_genres, encoded_favourite_genres], axis=1)\n",
    "\n",
    "# Extract the labels\n",
    "y = balanced_data['skipped'].astype(int).values\n",
    "\n",
    "# Split the data into training and testing sets\n",
    "X_train, X_test, y_train, y_test = train_test_split(X, y, test_size=0.2, shuffle=True)\n",
    "\n",
    "# count skipped and not skipped songs in X_train\n",
    "# print(\"Y_train not skipped\", np.count_nonzero(y_train == 0))\n",
    "# print(\"Y_train skipped\", np.count_nonzero(y_train == 1))\n",
    "# print(\"Y_train skipped %\", np.count_nonzero(y_train == 1) / len(y_train))"
   ]
  },
  {
   "cell_type": "code",
   "execution_count": 431,
   "metadata": {
    "ExecuteTime": {
     "end_time": "2023-04-27T16:36:02.188230Z",
     "start_time": "2023-04-27T16:36:02.135922Z"
    },
    "pycharm": {
     "is_executing": true
    }
   },
   "outputs": [],
   "source": [
    "def build_model(hp):\n",
    "  model = Sequential()\n",
    "  model.add(Dense(10 * 2, activation='relu', input_shape=(X_train.shape[1],)))\n",
    "  model.add(Dropout(0.5))\n",
    "  model.add(Dense(10, activation='relu'))\n",
    "  model.add(Dropout(0.5))\n",
    "  model.add(Dense(1, activation='sigmoid'))\n",
    "\n",
    "  model.compile(\n",
    "      optimizer=Adam(),\n",
    "      loss='binary_crossentropy', metrics=['accuracy'])\n",
    "  return model"
   ]
  },
  {
   "cell_type": "code",
   "execution_count": 432,
   "metadata": {
    "ExecuteTime": {
     "end_time": "2023-04-27T16:36:16.010901Z",
     "start_time": "2023-04-27T16:36:02.139531Z"
    },
    "pycharm": {
     "is_executing": true
    }
   },
   "outputs": [
    {
     "name": "stdout",
     "output_type": "stream",
     "text": [
      "Epoch 1/50\n",
      "182/182 - 2s - loss: 0.6944 - accuracy: 0.5032 - val_loss: 0.6904 - val_accuracy: 0.5452 - 2s/epoch - 13ms/step\n",
      "Epoch 2/50\n",
      "182/182 - 1s - loss: 0.6928 - accuracy: 0.5068 - val_loss: 0.6878 - val_accuracy: 0.5721 - 1s/epoch - 7ms/step\n",
      "Epoch 3/50\n",
      "182/182 - 1s - loss: 0.6878 - accuracy: 0.5251 - val_loss: 0.6815 - val_accuracy: 0.5880 - 1s/epoch - 7ms/step\n",
      "Epoch 4/50\n",
      "182/182 - 1s - loss: 0.6820 - accuracy: 0.5584 - val_loss: 0.6726 - val_accuracy: 0.6149 - 1s/epoch - 8ms/step\n",
      "Epoch 5/50\n",
      "182/182 - 1s - loss: 0.6761 - accuracy: 0.5683 - val_loss: 0.6652 - val_accuracy: 0.6094 - 1s/epoch - 7ms/step\n",
      "Epoch 6/50\n",
      "182/182 - 1s - loss: 0.6696 - accuracy: 0.5835 - val_loss: 0.6587 - val_accuracy: 0.6156 - 1s/epoch - 7ms/step\n",
      "Epoch 7/50\n",
      "182/182 - 1s - loss: 0.6654 - accuracy: 0.5938 - val_loss: 0.6541 - val_accuracy: 0.6266 - 1s/epoch - 6ms/step\n",
      "Epoch 8/50\n",
      "182/182 - 1s - loss: 0.6600 - accuracy: 0.6066 - val_loss: 0.6504 - val_accuracy: 0.6342 - 1s/epoch - 6ms/step\n",
      "Epoch 9/50\n",
      "182/182 - 1s - loss: 0.6527 - accuracy: 0.6164 - val_loss: 0.6461 - val_accuracy: 0.6363 - 1s/epoch - 6ms/step\n",
      "Epoch 10/50\n",
      "182/182 - 1s - loss: 0.6545 - accuracy: 0.6189 - val_loss: 0.6485 - val_accuracy: 0.6280 - 1s/epoch - 6ms/step\n",
      "Epoch 11/50\n",
      "182/182 - 1s - loss: 0.6515 - accuracy: 0.6173 - val_loss: 0.6450 - val_accuracy: 0.6349 - 1s/epoch - 6ms/step\n",
      "Epoch 12/50\n",
      "182/182 - 1s - loss: 0.6482 - accuracy: 0.6244 - val_loss: 0.6436 - val_accuracy: 0.6370 - 1s/epoch - 6ms/step\n",
      "Epoch 13/50\n",
      "182/182 - 1s - loss: 0.6421 - accuracy: 0.6377 - val_loss: 0.6384 - val_accuracy: 0.6494 - 1s/epoch - 6ms/step\n",
      "Epoch 14/50\n",
      "182/182 - 1s - loss: 0.6406 - accuracy: 0.6335 - val_loss: 0.6408 - val_accuracy: 0.6329 - 1s/epoch - 6ms/step\n",
      "Epoch 15/50\n",
      "182/182 - 1s - loss: 0.6403 - accuracy: 0.6432 - val_loss: 0.6406 - val_accuracy: 0.6294 - 1s/epoch - 6ms/step\n",
      "Epoch 16/50\n",
      "182/182 - 1s - loss: 0.6370 - accuracy: 0.6389 - val_loss: 0.6349 - val_accuracy: 0.6625 - 1s/epoch - 6ms/step\n",
      "Epoch 17/50\n",
      "182/182 - 1s - loss: 0.6374 - accuracy: 0.6352 - val_loss: 0.6348 - val_accuracy: 0.6570 - 1s/epoch - 6ms/step\n",
      "Epoch 18/50\n",
      "182/182 - 1s - loss: 0.6378 - accuracy: 0.6399 - val_loss: 0.6354 - val_accuracy: 0.6570 - 1s/epoch - 6ms/step\n",
      "Epoch 19/50\n",
      "182/182 - 1s - loss: 0.6314 - accuracy: 0.6461 - val_loss: 0.6342 - val_accuracy: 0.6584 - 1s/epoch - 6ms/step\n",
      "Epoch 20/50\n",
      "182/182 - 1s - loss: 0.6254 - accuracy: 0.6527 - val_loss: 0.6339 - val_accuracy: 0.6660 - 1s/epoch - 6ms/step\n",
      "Epoch 21/50\n",
      "182/182 - 1s - loss: 0.6291 - accuracy: 0.6451 - val_loss: 0.6337 - val_accuracy: 0.6536 - 1s/epoch - 6ms/step\n",
      "Epoch 22/50\n",
      "182/182 - 1s - loss: 0.6241 - accuracy: 0.6499 - val_loss: 0.6339 - val_accuracy: 0.6563 - 1s/epoch - 6ms/step\n",
      "Epoch 23/50\n",
      "182/182 - 1s - loss: 0.6254 - accuracy: 0.6542 - val_loss: 0.6329 - val_accuracy: 0.6542 - 1s/epoch - 6ms/step\n",
      "Epoch 24/50\n",
      "182/182 - 1s - loss: 0.6212 - accuracy: 0.6618 - val_loss: 0.6345 - val_accuracy: 0.6542 - 1s/epoch - 6ms/step\n",
      "Epoch 25/50\n",
      "182/182 - 1s - loss: 0.6256 - accuracy: 0.6516 - val_loss: 0.6321 - val_accuracy: 0.6605 - 1s/epoch - 6ms/step\n",
      "Epoch 26/50\n",
      "182/182 - 1s - loss: 0.6221 - accuracy: 0.6627 - val_loss: 0.6339 - val_accuracy: 0.6667 - 1s/epoch - 6ms/step\n",
      "Epoch 27/50\n",
      "182/182 - 1s - loss: 0.6229 - accuracy: 0.6596 - val_loss: 0.6312 - val_accuracy: 0.6632 - 1s/epoch - 6ms/step\n",
      "Epoch 28/50\n",
      "182/182 - 1s - loss: 0.6199 - accuracy: 0.6613 - val_loss: 0.6319 - val_accuracy: 0.6570 - 1s/epoch - 6ms/step\n",
      "Epoch 29/50\n",
      "182/182 - 1s - loss: 0.6198 - accuracy: 0.6656 - val_loss: 0.6326 - val_accuracy: 0.6577 - 1s/epoch - 6ms/step\n",
      "Epoch 30/50\n",
      "182/182 - 1s - loss: 0.6194 - accuracy: 0.6611 - val_loss: 0.6322 - val_accuracy: 0.6570 - 1s/epoch - 6ms/step\n",
      "Epoch 31/50\n",
      "182/182 - 1s - loss: 0.6164 - accuracy: 0.6634 - val_loss: 0.6279 - val_accuracy: 0.6611 - 1s/epoch - 6ms/step\n",
      "Epoch 32/50\n",
      "182/182 - 1s - loss: 0.6178 - accuracy: 0.6601 - val_loss: 0.6303 - val_accuracy: 0.6584 - 1s/epoch - 6ms/step\n",
      "Epoch 33/50\n",
      "182/182 - 1s - loss: 0.6180 - accuracy: 0.6655 - val_loss: 0.6290 - val_accuracy: 0.6625 - 1s/epoch - 7ms/step\n",
      "Epoch 34/50\n",
      "182/182 - 1s - loss: 0.6126 - accuracy: 0.6617 - val_loss: 0.6285 - val_accuracy: 0.6584 - 1s/epoch - 7ms/step\n",
      "Epoch 35/50\n",
      "182/182 - 1s - loss: 0.6121 - accuracy: 0.6642 - val_loss: 0.6296 - val_accuracy: 0.6653 - 1s/epoch - 7ms/step\n",
      "Epoch 36/50\n",
      "182/182 - 2s - loss: 0.6121 - accuracy: 0.6653 - val_loss: 0.6319 - val_accuracy: 0.6480 - 2s/epoch - 9ms/step\n",
      "Epoch 37/50\n",
      "182/182 - 1s - loss: 0.6116 - accuracy: 0.6687 - val_loss: 0.6289 - val_accuracy: 0.6563 - 1s/epoch - 7ms/step\n",
      "Epoch 38/50\n",
      "182/182 - 1s - loss: 0.6166 - accuracy: 0.6639 - val_loss: 0.6274 - val_accuracy: 0.6618 - 1s/epoch - 6ms/step\n",
      "Epoch 39/50\n",
      "182/182 - 1s - loss: 0.6046 - accuracy: 0.6672 - val_loss: 0.6295 - val_accuracy: 0.6563 - 1s/epoch - 6ms/step\n",
      "Epoch 40/50\n",
      "182/182 - 1s - loss: 0.6106 - accuracy: 0.6694 - val_loss: 0.6280 - val_accuracy: 0.6577 - 1s/epoch - 6ms/step\n",
      "Epoch 41/50\n",
      "182/182 - 1s - loss: 0.6079 - accuracy: 0.6663 - val_loss: 0.6294 - val_accuracy: 0.6611 - 1s/epoch - 6ms/step\n",
      "Epoch 42/50\n",
      "182/182 - 1s - loss: 0.6090 - accuracy: 0.6751 - val_loss: 0.6299 - val_accuracy: 0.6625 - 1s/epoch - 6ms/step\n",
      "Epoch 43/50\n",
      "182/182 - 1s - loss: 0.6044 - accuracy: 0.6743 - val_loss: 0.6290 - val_accuracy: 0.6584 - 1s/epoch - 6ms/step\n",
      "Epoch 44/50\n",
      "182/182 - 1s - loss: 0.6064 - accuracy: 0.6668 - val_loss: 0.6318 - val_accuracy: 0.6515 - 1s/epoch - 6ms/step\n",
      "Epoch 45/50\n",
      "182/182 - 1s - loss: 0.6051 - accuracy: 0.6694 - val_loss: 0.6304 - val_accuracy: 0.6515 - 1s/epoch - 6ms/step\n",
      "Epoch 46/50\n",
      "182/182 - 1s - loss: 0.6055 - accuracy: 0.6705 - val_loss: 0.6306 - val_accuracy: 0.6529 - 1s/epoch - 6ms/step\n",
      "Epoch 47/50\n",
      "182/182 - 1s - loss: 0.6013 - accuracy: 0.6731 - val_loss: 0.6315 - val_accuracy: 0.6542 - 1s/epoch - 6ms/step\n",
      "Epoch 48/50\n",
      "182/182 - 1s - loss: 0.6043 - accuracy: 0.6750 - val_loss: 0.6290 - val_accuracy: 0.6577 - 1s/epoch - 6ms/step\n",
      "Epoch 49/50\n",
      "182/182 - 1s - loss: 0.6042 - accuracy: 0.6686 - val_loss: 0.6292 - val_accuracy: 0.6577 - 1s/epoch - 6ms/step\n",
      "Epoch 50/50\n",
      "182/182 - 1s - loss: 0.5992 - accuracy: 0.6767 - val_loss: 0.6293 - val_accuracy: 0.6549 - 1s/epoch - 6ms/step\n"
     ]
    }
   ],
   "source": [
    "epochs = 50\n",
    "batch_size = 32\n",
    "\n",
    "model = build_model(None)\n",
    "\n",
    "model.fit(\n",
    "    X_train,\n",
    "    y_train,\n",
    "    validation_data=(X_test, y_test),\n",
    "    epochs=epochs,\n",
    "    batch_size=batch_size,\n",
    "    verbose=2\n",
    ")\n",
    "\n",
    "# save model to file\n",
    "model.save('../models/model2.h5')"
   ]
  },
  {
   "cell_type": "code",
   "execution_count": 433,
   "metadata": {
    "ExecuteTime": {
     "end_time": "2023-04-27T16:36:16.849476Z",
     "start_time": "2023-04-27T16:36:16.017925Z"
    },
    "pycharm": {
     "is_executing": true
    }
   },
   "outputs": [
    {
     "name": "stdout",
     "output_type": "stream",
     "text": [
      "TEST\n",
      "46/46 [==============================] - 0s 3ms/step\n",
      "Accuracy: 0.6549344375431332\n",
      "Confusion matrix:\n",
      " [[471 258]\n",
      " [242 478]]\n",
      "Classification report:\n",
      "               precision    recall  f1-score   support\n",
      "\n",
      "           0       0.66      0.65      0.65       729\n",
      "           1       0.65      0.66      0.66       720\n",
      "\n",
      "    accuracy                           0.65      1449\n",
      "   macro avg       0.66      0.65      0.65      1449\n",
      "weighted avg       0.66      0.65      0.65      1449\n",
      "\n",
      "TRAIN\n",
      "182/182 [==============================] - 0s 2ms/step\n",
      "Accuracy: 0.707578111513896\n",
      "Confusion matrix:\n",
      " [[2005  887]\n",
      " [ 807 2094]]\n",
      "Classification report:\n",
      "               precision    recall  f1-score   support\n",
      "\n",
      "           0       0.71      0.69      0.70      2892\n",
      "           1       0.70      0.72      0.71      2901\n",
      "\n",
      "    accuracy                           0.71      5793\n",
      "   macro avg       0.71      0.71      0.71      5793\n",
      "weighted avg       0.71      0.71      0.71      5793\n",
      "\n"
     ]
    }
   ],
   "source": [
    "print(\"TEST\")\n",
    "y_pred = model.predict(X_test)\n",
    "y_pred_classes = (y_pred > 0.5).astype(int)\n",
    "print(\"Accuracy:\", accuracy_score(y_test, y_pred_classes))\n",
    "print(\"Confusion matrix:\\n\", confusion_matrix(y_test, y_pred_classes))\n",
    "print(\"Classification report:\\n\", classification_report(y_test, y_pred_classes))\n",
    "\n",
    "print(\"TRAIN\")\n",
    "y_pred = model.predict(X_train)\n",
    "y_pred_classes = (y_pred > 0.5).astype(int)\n",
    "print(\"Accuracy:\", accuracy_score(y_train, y_pred_classes))\n",
    "print(\"Confusion matrix:\\n\", confusion_matrix(y_train, y_pred_classes))\n",
    "print(\"Classification report:\\n\", classification_report(y_train, y_pred_classes))\n"
   ]
  }
 ],
 "metadata": {
  "kernelspec": {
   "display_name": "Python 3.10 (IUM)",
   "language": "python",
   "name": "ium"
  },
  "language_info": {
   "codemirror_mode": {
    "name": "ipython",
    "version": 3
   },
   "file_extension": ".py",
   "mimetype": "text/x-python",
   "name": "python",
   "nbconvert_exporter": "python",
   "pygments_lexer": "ipython3",
   "version": "3.10.10"
  }
 },
 "nbformat": 4,
 "nbformat_minor": 1
}
