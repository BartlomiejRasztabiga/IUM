{
 "cells": [
  {
   "cell_type": "code",
   "execution_count": 208,
   "metadata": {
    "ExecuteTime": {
     "end_time": "2023-04-27T16:45:29.254452Z",
     "start_time": "2023-04-27T16:45:29.088384Z"
    },
    "collapsed": true
   },
   "outputs": [],
   "source": [
    "import pandas as pd\n",
    "import numpy as np\n",
    "import pickle\n",
    "from sklearn.feature_extraction.text import TfidfVectorizer\n",
    "from sklearn.cluster import KMeans\n",
    "from keras.optimizers import Adam\n",
    "from sklearn.metrics import confusion_matrix, classification_report, accuracy_score\n",
    "from sklearn.preprocessing import MultiLabelBinarizer\n",
    "from sklearn.model_selection import train_test_split\n",
    "\n",
    "from tensorflow import keras\n",
    "\n",
    "from keras.models import Sequential\n",
    "from keras.layers import Dense, Dropout, Input\n",
    "import keras_tuner"
   ]
  },
  {
   "cell_type": "code",
   "execution_count": 209,
   "metadata": {
    "ExecuteTime": {
     "end_time": "2023-04-27T16:45:29.471102Z",
     "start_time": "2023-04-27T16:45:29.092628Z"
    }
   },
   "outputs": [],
   "source": [
    "DATA_VERSION = \"v2\"\n",
    "\n",
    "merged_data_path = f'../data/{DATA_VERSION}/merged_data.jsonl'\n",
    "data = pd.read_json(merged_data_path, lines=True)"
   ]
  },
  {
   "cell_type": "code",
   "execution_count": 210,
   "metadata": {},
   "outputs": [],
   "source": [
    "# K-MEANS\n",
    "\n",
    "# Prepare the list of unique genres\n",
    "unique_genres = list(set([genre for genres in data['genres'] for genre in genres]) | set(\n",
    "    [genre for genres in data['favourite_genres'] for genre in genres]))\n",
    "\n",
    "# Convert the genres to a matrix of TF-IDF features\n",
    "vectorizer = TfidfVectorizer()\n",
    "vectorized = vectorizer.fit_transform(unique_genres)\n",
    "\n",
    "# Apply K-means clustering\n",
    "num_clusters = 100  # Adjust this value according to your needs\n",
    "kmeans = KMeans(n_clusters=num_clusters, random_state=42, n_init='auto')\n",
    "kmeans.fit(vectorized)\n",
    "labels = kmeans.labels_\n",
    "\n",
    "# Group the genres based on the cluster labels\n",
    "clustered_genres = {}\n",
    "for i, label in enumerate(labels):\n",
    "    if label not in clustered_genres:\n",
    "        clustered_genres[label] = []\n",
    "    clustered_genres[label].append(unique_genres[i])\n",
    "\n",
    "# Map genres to their cluster label\n",
    "genre_to_cluster = {genre: label for label, genres in clustered_genres.items() for genre in genres}\n",
    "\n",
    "\n",
    "# Define the function for mapping genres to simpler forms\n",
    "def map_genre(genre):\n",
    "    cluster_label = genre_to_cluster[genre]\n",
    "    representative_genre = clustered_genres[cluster_label][\n",
    "        0]  # Use the first genre in the cluster as the representative\n",
    "    return representative_genre\n",
    "\n",
    "\n",
    "# Save the genre_to_cluster and clustered_genres dictionaries to use for new data prediction\n",
    "with open('../models/model2_genre_to_cluster.pickle', 'wb') as f:\n",
    "    pickle.dump(genre_to_cluster, f)\n",
    "\n",
    "with open('../models/model2_clustered_genres.pickle', 'wb') as f:\n",
    "    pickle.dump(clustered_genres, f)\n",
    "\n",
    "# Apply the mapping function to both 'genres' and 'favourite_genres' columns\n",
    "data['genres'] = data['genres'].apply(lambda x: [map_genre(genre) for genre in x])\n",
    "data['favourite_genres'] = data['favourite_genres'].apply(lambda x: [map_genre(genre) for genre in x])\n",
    "\n",
    "# Delete not unique genres\n",
    "data['genres'] = data['genres'].apply(lambda x: list(set(x)))\n",
    "data['favourite_genres'] = data['favourite_genres'].apply(lambda x: list(set(x)))\n"
   ]
  },
  {
   "cell_type": "code",
   "execution_count": 211,
   "metadata": {},
   "outputs": [
    {
     "name": "stdout",
     "output_type": "stream",
     "text": [
      "100\n"
     ]
    },
    {
     "data": {
      "text/plain": [
       "[('murcia indie', 5937),\n",
       " ('slovak rock', 4521),\n",
       " ('swamp pop', 2722),\n",
       " ('classic italian folk pop', 1554),\n",
       " ('hard rock', 1141),\n",
       " ('art rock', 1126),\n",
       " ('country quebecois', 993),\n",
       " ('piano blues', 919),\n",
       " ('permanent wave', 915),\n",
       " ('jazz rap', 658),\n",
       " ('bubblegum dance', 622),\n",
       " ('post-metal', 589),\n",
       " ('symphonic metal', 576),\n",
       " ('swedish singer-songwriter', 544),\n",
       " ('jewish hip hop', 541),\n",
       " ('alternative r&b', 519),\n",
       " ('northern soul', 440),\n",
       " ('latin metal', 374),\n",
       " ('trap', 354),\n",
       " ('modern rock', 321),\n",
       " ('p funk', 319),\n",
       " ('classic canadian rock', 295),\n",
       " ('polish punk', 268),\n",
       " ('acid house', 216),\n",
       " ('rockabilly', 194),\n",
       " ('deep disco', 180),\n",
       " ('j-pop boy group', 145),\n",
       " ('power-pop punk', 139),\n",
       " ('nz reggae', 111),\n",
       " ('mexican pop punk', 108),\n",
       " ('pop flamenco', 105),\n",
       " ('turkish trap pop', 105),\n",
       " ('pop edm', 104),\n",
       " ('australian pop', 102),\n",
       " ('deep talent show', 99),\n",
       " ('german metal', 97),\n",
       " ('hardcore', 82),\n",
       " ('irish folk', 81),\n",
       " ('german thrash metal', 81),\n",
       " ('neo-synthpop', 77),\n",
       " ('classic dutch pop', 71),\n",
       " ('finnish tango', 68),\n",
       " ('chanson quebecois', 66),\n",
       " ('danish electropop', 58),\n",
       " ('ska', 58),\n",
       " ('french pop', 58),\n",
       " ('samba-enredo', 53),\n",
       " ('cumbia andina mexicana', 52),\n",
       " ('israeli pop', 52),\n",
       " ('classic russian pop', 51),\n",
       " ('scottish indie', 49),\n",
       " ('rock urbano mexicano', 47),\n",
       " ('greek hip hop', 45),\n",
       " ('thai indie', 43),\n",
       " ('icelandic indie', 42),\n",
       " ('electronic rock', 40),\n",
       " ('norwegian pop', 39),\n",
       " ('experimental rock', 38),\n",
       " ('garage psych', 37),\n",
       " ('salsa international', 36),\n",
       " ('brooklyn drill', 34),\n",
       " ('czech folk', 33),\n",
       " ('canadian ccm', 33),\n",
       " ('christmas instrumental', 32),\n",
       " ('indonesian r&b', 31),\n",
       " ('christian music', 31),\n",
       " ('lo-fi', 28),\n",
       " ('italian soundtrack', 27),\n",
       " ('new americana', 25),\n",
       " ('industrial rock', 24),\n",
       " ('nashville sound', 20),\n",
       " ('classic portuguese pop', 18),\n",
       " ('country gospel', 17),\n",
       " ('australian indie folk', 15),\n",
       " ('metal guitar', 15),\n",
       " ('taiwan idol pop', 15),\n",
       " ('world', 15),\n",
       " ('chilean hardcore', 14),\n",
       " ('banda caliente', 14),\n",
       " ('south african punk', 14),\n",
       " ('polish prog', 11),\n",
       " ('rap francais', 10),\n",
       " ('beat italiano', 10),\n",
       " (\"canzone d'autore\", 10),\n",
       " ('stomp and holler', 9),\n",
       " ('romanian folk', 9),\n",
       " ('proto-techno', 8),\n",
       " (\"children's folk\", 7),\n",
       " ('latvian rock', 6),\n",
       " ('deep minimal techno', 6),\n",
       " ('techno kayo', 6),\n",
       " ('reggaeton cristiano', 6),\n",
       " ('classic kollywood', 6),\n",
       " ('vocal harmony group', 4),\n",
       " ('vintage french electronic', 3),\n",
       " ('musica sarda', 3),\n",
       " ('neue deutsche welle', 3),\n",
       " ('nordnorsk musikk', 2),\n",
       " ('folklore panameno', 1),\n",
       " ('neo-crust', 1)]"
      ]
     },
     "execution_count": 211,
     "metadata": {},
     "output_type": "execute_result"
    }
   ],
   "source": [
    "# count unique genres\n",
    "unique_genres = set()\n",
    "for genres in data['genres']:\n",
    "    unique_genres.update(genres)\n",
    "for genres in data['favourite_genres']:\n",
    "    unique_genres.update(genres)\n",
    "print(len(unique_genres))\n",
    "\n",
    "# how many tracks are per genre\n",
    "genre_count = {}\n",
    "for genres in data['genres']:\n",
    "    for genre in genres:\n",
    "        if genre not in genre_count:\n",
    "            genre_count[genre] = 0\n",
    "        genre_count[genre] += 1\n",
    "\n",
    "genre_count = sorted(genre_count.items(), key=lambda x: x[1], reverse=True)\n",
    "genre_count"
   ]
  },
  {
   "cell_type": "code",
   "execution_count": 212,
   "metadata": {
    "ExecuteTime": {
     "end_time": "2023-04-27T16:45:29.545713Z",
     "start_time": "2023-04-27T16:45:29.475341Z"
    }
   },
   "outputs": [
    {
     "name": "stdout",
     "output_type": "stream",
     "text": [
      "skipped_data (3621, 3)\n",
      "not_skipped_data (6260, 3)\n"
     ]
    }
   ],
   "source": [
    "# balance set\n",
    "skipped_data = data[data[\"skipped\"] == 1]\n",
    "not_skipped_data = data[data[\"skipped\"] == 0]\n",
    "\n",
    "# Split the dataset into subsets based on class labels\n",
    "print(\"skipped_data\", skipped_data.shape)\n",
    "print(\"not_skipped_data\", not_skipped_data.shape)\n",
    "\n",
    "# Calculate the minimum number of samples among all classes\n",
    "min_samples = min(len(skipped_data), len(not_skipped_data))\n",
    "\n",
    "# Randomly select samples from each class subset to match the minimum number of samples\n",
    "skipped_data_balanced = skipped_data.sample(n=min_samples, random_state=42)\n",
    "not_skipped_data_balanced = not_skipped_data.sample(n=min_samples, random_state=42)\n",
    "\n",
    "# Merge the balanced subsets to create the final balanced dataset\n",
    "balanced_data = pd.concat([skipped_data_balanced, not_skipped_data_balanced], axis=0)\n",
    "\n",
    "# Shuffle the balanced dataset\n",
    "balanced_data = balanced_data.sample(frac=1, random_state=42).reset_index(drop=True)"
   ]
  },
  {
   "cell_type": "code",
   "execution_count": 213,
   "metadata": {
    "ExecuteTime": {
     "end_time": "2023-04-27T16:36:02.187991Z",
     "start_time": "2023-04-27T16:36:02.115285Z"
    },
    "pycharm": {
     "is_executing": true
    }
   },
   "outputs": [],
   "source": [
    "# Combine genres and favourite_genres\n",
    "mlb = MultiLabelBinarizer()\n",
    "\n",
    "data['combined_genres'] = data.apply(lambda x: x['genres'] + x['favourite_genres'], axis=1)\n",
    "mlb.fit(data['combined_genres'])\n",
    "\n",
    "encoded_favourite_genres = mlb.transform(balanced_data['favourite_genres'])\n",
    "encoded_genres = mlb.transform(balanced_data['genres'])\n",
    "\n",
    "# save mlb to file\n",
    "with open('../models/model2_mlb.pickle', 'wb') as f:\n",
    "    pickle.dump(mlb, f)\n"
   ]
  },
  {
   "cell_type": "code",
   "execution_count": 214,
   "metadata": {
    "ExecuteTime": {
     "end_time": "2023-04-27T16:36:02.188192Z",
     "start_time": "2023-04-27T16:36:02.130018Z"
    },
    "pycharm": {
     "is_executing": true
    }
   },
   "outputs": [
    {
     "name": "stdout",
     "output_type": "stream",
     "text": [
      "Y_train not skipped 2873\n",
      "Y_train skipped 2920\n",
      "Y_train skipped % 0.5040566200586916\n"
     ]
    }
   ],
   "source": [
    "X = np.concatenate([encoded_genres, encoded_favourite_genres], axis=1)\n",
    "\n",
    "# Extract the labels\n",
    "y = balanced_data['skipped'].astype(int).values\n",
    "\n",
    "# Split the data into training and testing sets\n",
    "X_train, X_test, y_train, y_test = train_test_split(X, y, test_size=0.2, shuffle=True)\n",
    "\n",
    "# count skipped and not skipped songs in X_train\n",
    "print(\"Y_train not skipped\", np.count_nonzero(y_train == 0))\n",
    "print(\"Y_train skipped\", np.count_nonzero(y_train == 1))\n",
    "print(\"Y_train skipped %\", np.count_nonzero(y_train == 1) / len(y_train))"
   ]
  },
  {
   "cell_type": "code",
   "execution_count": 215,
   "metadata": {},
   "outputs": [],
   "source": [
    "mode = \"train\"\n",
    "# mode = \"tune\"\n",
    "\n",
    "# NOTATKI Z TRAINU\n",
    "# 1 layer - ???\n",
    "# 2 layer - 16,8 neuronow 0.0015 learning rate (50 epok, 0.648 ac) dropout (0.5)\n",
    "\n",
    "# NOTATKI Z TUNINGU\n",
    "# 1 layer - 946 neuronow, 0.001 learning rate (10 epok, 0.680 acc) dropout (0.5)\n",
    "# 2 layer - 108,376 neuronow, 0.0015 learning rate (10 epok, 0.641 acc) dropout (0.5)\n",
    "# 3 layer - 836,2576,166 neuronow, 0.0015 learning rate (10 epok, 0.652 acc) dropout (0.5)"
   ]
  },
  {
   "cell_type": "code",
   "execution_count": 216,
   "metadata": {},
   "outputs": [],
   "source": [
    "def build_model(hp):\n",
    "    if mode == \"train\":\n",
    "        model = Sequential()\n",
    "        model.add(Input(shape=(X_train.shape[1])))\n",
    "        model.add(Dense(units=16, activation=\"relu\"))\n",
    "        model.add(Dropout(0.5))\n",
    "        model.add(Dense(units=8, activation=\"relu\"))\n",
    "        model.add(Dropout(0.5))\n",
    "        model.add(Dense(1, activation=\"sigmoid\"))\n",
    "\n",
    "        model.compile(\n",
    "            optimizer=Adam(learning_rate=0.0015),\n",
    "            loss='binary_crossentropy', metrics=['accuracy'])\n",
    "    else:\n",
    "        model = Sequential()\n",
    "        model.add(Input(shape=(X_train.shape[1])))\n",
    "\n",
    "        for i in range(hp.Int(\"num_layers\", min_value=1, max_value=3)):\n",
    "            model.add(Dense(units=hp.Int(f\"units_{i}\", min_value=1, max_value=3000, step=5), activation=\"relu\"))\n",
    "            if hp.Boolean(\"dropout\"):\n",
    "                model.add(Dropout(hp.Float(\"dropout_rate\", min_value=0.1, max_value=0.99)))\n",
    "\n",
    "        model.add(Dense(1, activation=\"sigmoid\"))\n",
    "\n",
    "        model.compile(optimizer=Adam(learning_rate=hp.Float(\"learning_rate\", min_value=0.001, max_value=0.01)),loss='binary_crossentropy', metrics=['accuracy'])\n",
    "\n",
    "    return model"
   ]
  },
  {
   "cell_type": "code",
   "execution_count": 217,
   "metadata": {
    "ExecuteTime": {
     "end_time": "2023-04-27T16:36:16.010901Z",
     "start_time": "2023-04-27T16:36:02.139531Z"
    },
    "pycharm": {
     "is_executing": true
    }
   },
   "outputs": [
    {
     "name": "stdout",
     "output_type": "stream",
     "text": [
      "Trial 5 Complete [00h 00m 15s]\n",
      "val_accuracy: 0.6328502297401428\n",
      "\n",
      "Best val_accuracy So Far: 0.639061450958252\n",
      "Total elapsed time: 00h 01m 28s\n",
      "INFO:tensorflow:Oracle triggered exit\n",
      "Results summary\n",
      "Results in tuner/IUM\n",
      "Showing 10 best trials\n",
      "<keras_tuner.engine.objective.Objective object at 0x359d8bcd0>\n",
      "Trial summary\n",
      "Hyperparameters:\n",
      "num_layers: 3\n",
      "units_0: 611\n",
      "dropout: False\n",
      "learning_rate: 0.005390015309739632\n",
      "units_1: 1836\n",
      "units_2: 2051\n",
      "dropout_rate: 0.4511226946998379\n",
      "Score: 0.639061450958252\n",
      "Trial summary\n",
      "Hyperparameters:\n",
      "num_layers: 2\n",
      "units_0: 1211\n",
      "dropout: True\n",
      "learning_rate: 0.008414265177676794\n",
      "units_1: 2121\n",
      "units_2: 2931\n",
      "dropout_rate: 0.1\n",
      "Score: 0.6363009214401245\n",
      "Trial summary\n",
      "Hyperparameters:\n",
      "num_layers: 1\n",
      "units_0: 2236\n",
      "dropout: False\n",
      "learning_rate: 0.008086612225360367\n",
      "units_1: 2346\n",
      "units_2: 1056\n",
      "dropout_rate: 0.3884727844115068\n",
      "Score: 0.6328502297401428\n",
      "Trial summary\n",
      "Hyperparameters:\n",
      "num_layers: 1\n",
      "units_0: 1556\n",
      "dropout: True\n",
      "learning_rate: 0.0058727861910414176\n",
      "units_1: 286\n",
      "units_2: 51\n",
      "dropout_rate: 0.2590557755741979\n",
      "Score: 0.6280193328857422\n",
      "Trial summary\n",
      "Hyperparameters:\n",
      "num_layers: 3\n",
      "units_0: 1346\n",
      "dropout: False\n",
      "learning_rate: 0.002200016500491799\n",
      "units_1: 1\n",
      "units_2: 1\n",
      "Score: 0.4837819039821625\n"
     ]
    }
   ],
   "source": [
    "if mode == \"train\":\n",
    "    model = build_model(None)\n",
    "    model.fit(\n",
    "        X_train,\n",
    "        y_train,\n",
    "        validation_data=(X_test, y_test),\n",
    "        epochs=50,\n",
    "        batch_size=32,\n",
    "        verbose=2\n",
    "    )\n",
    "else:\n",
    "    tuner = keras_tuner.RandomSearch(\n",
    "        hypermodel=build_model,\n",
    "        objective=\"val_accuracy\",\n",
    "        max_trials=5,\n",
    "        executions_per_trial=1,\n",
    "        overwrite=True,\n",
    "        directory=\"tuner\",\n",
    "        project_name=\"IUM\",\n",
    "    )\n",
    "\n",
    "    tuner.search_space_summary()\n",
    "\n",
    "    tuner.search(X_train, y_train, epochs=10, validation_data=(X_test, y_test))\n",
    "\n",
    "    tuner.results_summary()"
   ]
  },
  {
   "cell_type": "code",
   "execution_count": 218,
   "metadata": {},
   "outputs": [],
   "source": [
    "if mode == \"train\":\n",
    "    # save model to file\n",
    "    model.save('../models/model2.h5')\n",
    "\n",
    "    print(\"TEST\")\n",
    "    y_pred = model.predict(X_test)\n",
    "    y_pred_classes = (y_pred > 0.5).astype(int)\n",
    "    print(\"Accuracy:\", accuracy_score(y_test, y_pred_classes))\n",
    "    print(\"Confusion matrix:\\n\", confusion_matrix(y_test, y_pred_classes))\n",
    "    print(\"Classification report:\\n\", classification_report(y_test, y_pred_classes))\n",
    "\n",
    "    print(\"TRAIN\")\n",
    "    y_pred = model.predict(X_train)\n",
    "    y_pred_classes = (y_pred > 0.5).astype(int)\n",
    "    print(\"Accuracy:\", accuracy_score(y_train, y_pred_classes))\n",
    "    print(\"Confusion matrix:\\n\", confusion_matrix(y_train, y_pred_classes))\n",
    "    print(\"Classification report:\\n\", classification_report(y_train, y_pred_classes))\n"
   ]
  }
 ],
 "metadata": {
  "kernelspec": {
   "display_name": "Python 3.10 (IUM)",
   "language": "python",
   "name": "ium"
  },
  "language_info": {
   "codemirror_mode": {
    "name": "ipython",
    "version": 3
   },
   "file_extension": ".py",
   "mimetype": "text/x-python",
   "name": "python",
   "nbconvert_exporter": "python",
   "pygments_lexer": "ipython3",
   "version": "3.10.10"
  }
 },
 "nbformat": 4,
 "nbformat_minor": 1
}
