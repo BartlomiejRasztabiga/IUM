{
 "cells": [
  {
   "cell_type": "code",
   "execution_count": 1,
   "metadata": {
    "collapsed": true
   },
   "outputs": [],
   "source": [
    "import pandas as pd\n",
    "import numpy as np\n",
    "from sklearn.preprocessing import MultiLabelBinarizer, LabelEncoder\n",
    "from sklearn.model_selection import train_test_split\n",
    "\n",
    "from tensorflow import keras\n",
    "\n",
    "from keras.models import Sequential\n",
    "from keras.layers import Dense"
   ]
  },
  {
   "cell_type": "code",
   "execution_count": 2,
   "outputs": [
    {
     "data": {
      "text/plain": "                                    favourite_genres   \n0                   [permanent wave, mandopop, funk]  \\\n1                    [filmi, regional mexican, folk]   \n2  [psychedelic rock, country rock, rock en espanol]   \n3  [psychedelic rock, country rock, rock en espanol]   \n4  [psychedelic rock, country rock, rock en espanol]   \n\n                                              genres  skipped  \n0  [album rock, art rock, classic rock, folk rock...    False  \n1  [album rock, art rock, classic rock, folk rock...    False  \n2  [album rock, art rock, classic rock, folk rock...    False  \n3  [album rock, art rock, classic rock, folk rock...    False  \n4  [album rock, art rock, classic rock, folk rock...    False  ",
      "text/html": "<div>\n<style scoped>\n    .dataframe tbody tr th:only-of-type {\n        vertical-align: middle;\n    }\n\n    .dataframe tbody tr th {\n        vertical-align: top;\n    }\n\n    .dataframe thead th {\n        text-align: right;\n    }\n</style>\n<table border=\"1\" class=\"dataframe\">\n  <thead>\n    <tr style=\"text-align: right;\">\n      <th></th>\n      <th>favourite_genres</th>\n      <th>genres</th>\n      <th>skipped</th>\n    </tr>\n  </thead>\n  <tbody>\n    <tr>\n      <th>0</th>\n      <td>[permanent wave, mandopop, funk]</td>\n      <td>[album rock, art rock, classic rock, folk rock...</td>\n      <td>False</td>\n    </tr>\n    <tr>\n      <th>1</th>\n      <td>[filmi, regional mexican, folk]</td>\n      <td>[album rock, art rock, classic rock, folk rock...</td>\n      <td>False</td>\n    </tr>\n    <tr>\n      <th>2</th>\n      <td>[psychedelic rock, country rock, rock en espanol]</td>\n      <td>[album rock, art rock, classic rock, folk rock...</td>\n      <td>False</td>\n    </tr>\n    <tr>\n      <th>3</th>\n      <td>[psychedelic rock, country rock, rock en espanol]</td>\n      <td>[album rock, art rock, classic rock, folk rock...</td>\n      <td>False</td>\n    </tr>\n    <tr>\n      <th>4</th>\n      <td>[psychedelic rock, country rock, rock en espanol]</td>\n      <td>[album rock, art rock, classic rock, folk rock...</td>\n      <td>False</td>\n    </tr>\n  </tbody>\n</table>\n</div>"
     },
     "execution_count": 2,
     "metadata": {},
     "output_type": "execute_result"
    }
   ],
   "source": [
    "merged_data_path = '../data/merged_data.jsonl'\n",
    "data = pd.read_json(merged_data_path, lines=True)\n",
    "\n",
    "data = data.drop(columns=[\"user_id\", \"track_id\"])\n",
    "\n",
    "data = data.drop(\n",
    "    columns=[\"release_date\", \"key\", \"loudness\", \"popularity\",\n",
    "             \"duration_ms\", \"explicit\",\n",
    "             \"danceability\", \"energy\", \"speechiness\",\n",
    "             \"acousticness\", \"instrumentalness\", \"liveness\", \"valence\", \"tempo\"])\n",
    "\n",
    "data.head(5)"
   ],
   "metadata": {
    "collapsed": false
   }
  },
  {
   "cell_type": "code",
   "execution_count": 5,
   "outputs": [],
   "source": [
    "# Combine genres and favourite_genres\n",
    "all_genres = list(data['favourite_genres'] + data['genres'])\n",
    "\n",
    "# One-hot encode the genres\n",
    "mlb = MultiLabelBinarizer()\n",
    "encoded_all_genres = mlb.fit_transform(all_genres)\n",
    "\n",
    "# Split encoded_genres into genres and favourite_genres\n",
    "encoded_favourite_genres = encoded_all_genres[:, :len(data['favourite_genres'][0])]\n",
    "encoded_genres = encoded_all_genres[:, len(data['favourite_genres'][0]):]"
   ],
   "metadata": {
    "collapsed": false
   }
  },
  {
   "cell_type": "code",
   "execution_count": 6,
   "outputs": [],
   "source": [
    "# Concatenate the one-hot encoded columns\n",
    "X = np.concatenate([encoded_favourite_genres, encoded_genres], axis=1)\n",
    "\n",
    "# Extract the labels\n",
    "y = data['skipped'].astype(int).values\n",
    "\n",
    "# Split the data into training and testing sets\n",
    "X_train, X_test, y_train, y_test = train_test_split(X, y, test_size=0.2, random_state=42)"
   ],
   "metadata": {
    "collapsed": false
   }
  },
  {
   "cell_type": "code",
   "execution_count": 7,
   "outputs": [
    {
     "name": "stdout",
     "output_type": "stream",
     "text": [
      "Metal device set to: Apple M2 Pro\n"
     ]
    }
   ],
   "source": [
    "model = Sequential()\n",
    "model.add(Dense(1977*2, activation='relu', input_shape=(X_train.shape[1],)))\n",
    "model.add(Dense(1977, activation='relu'))\n",
    "model.add(Dense(1, activation='sigmoid'))\n",
    "\n",
    "model.compile(optimizer='adam', loss='binary_crossentropy', metrics=['accuracy'])\n"
   ],
   "metadata": {
    "collapsed": false
   }
  },
  {
   "cell_type": "code",
   "execution_count": 8,
   "outputs": [
    {
     "name": "stdout",
     "output_type": "stream",
     "text": [
      "Epoch 1/20\n"
     ]
    },
    {
     "name": "stderr",
     "output_type": "stream",
     "text": [
      "2023-04-04 13:57:13.144721: W tensorflow/tsl/platform/profile_utils/cpu_utils.cc:128] Failed to get CPU frequency: 0 Hz\n"
     ]
    },
    {
     "name": "stdout",
     "output_type": "stream",
     "text": [
      "791/791 - 10s - loss: 0.6149 - accuracy: 0.6706 - val_loss: 0.5930 - val_accuracy: 0.6806 - 10s/epoch - 13ms/step\n",
      "Epoch 2/20\n",
      "791/791 - 8s - loss: 0.5391 - accuracy: 0.7131 - val_loss: 0.6249 - val_accuracy: 0.6528 - 8s/epoch - 10ms/step\n",
      "Epoch 3/20\n",
      "791/791 - 8s - loss: 0.4816 - accuracy: 0.7508 - val_loss: 0.7041 - val_accuracy: 0.6686 - 8s/epoch - 10ms/step\n",
      "Epoch 4/20\n",
      "791/791 - 8s - loss: 0.4093 - accuracy: 0.7947 - val_loss: 0.7891 - val_accuracy: 0.6509 - 8s/epoch - 10ms/step\n",
      "Epoch 5/20\n",
      "791/791 - 8s - loss: 0.3533 - accuracy: 0.8267 - val_loss: 0.8339 - val_accuracy: 0.6483 - 8s/epoch - 10ms/step\n",
      "Epoch 6/20\n",
      "791/791 - 8s - loss: 0.3137 - accuracy: 0.8430 - val_loss: 1.0805 - val_accuracy: 0.6673 - 8s/epoch - 10ms/step\n",
      "Epoch 7/20\n",
      "791/791 - 9s - loss: 0.2853 - accuracy: 0.8567 - val_loss: 1.1635 - val_accuracy: 0.6515 - 9s/epoch - 11ms/step\n",
      "Epoch 8/20\n",
      "791/791 - 8s - loss: 0.2560 - accuracy: 0.8709 - val_loss: 1.3332 - val_accuracy: 0.6546 - 8s/epoch - 10ms/step\n",
      "Epoch 9/20\n",
      "791/791 - 8s - loss: 0.2465 - accuracy: 0.8765 - val_loss: 1.3134 - val_accuracy: 0.6458 - 8s/epoch - 10ms/step\n",
      "Epoch 10/20\n",
      "791/791 - 8s - loss: 0.2268 - accuracy: 0.8838 - val_loss: 1.5539 - val_accuracy: 0.6483 - 8s/epoch - 10ms/step\n",
      "Epoch 11/20\n",
      "791/791 - 8s - loss: 0.2145 - accuracy: 0.8863 - val_loss: 1.4418 - val_accuracy: 0.6338 - 8s/epoch - 10ms/step\n",
      "Epoch 12/20\n",
      "791/791 - 8s - loss: 0.2101 - accuracy: 0.8898 - val_loss: 1.6228 - val_accuracy: 0.6534 - 8s/epoch - 10ms/step\n",
      "Epoch 13/20\n",
      "791/791 - 8s - loss: 0.2010 - accuracy: 0.8913 - val_loss: 1.8622 - val_accuracy: 0.6749 - 8s/epoch - 10ms/step\n",
      "Epoch 14/20\n",
      "791/791 - 9s - loss: 0.1942 - accuracy: 0.8980 - val_loss: 1.7717 - val_accuracy: 0.6420 - 9s/epoch - 11ms/step\n",
      "Epoch 15/20\n",
      "791/791 - 8s - loss: 0.1897 - accuracy: 0.8955 - val_loss: 2.0428 - val_accuracy: 0.6401 - 8s/epoch - 10ms/step\n",
      "Epoch 16/20\n",
      "791/791 - 8s - loss: 0.1869 - accuracy: 0.8974 - val_loss: 1.8468 - val_accuracy: 0.6724 - 8s/epoch - 10ms/step\n",
      "Epoch 17/20\n",
      "791/791 - 9s - loss: 0.1792 - accuracy: 0.9021 - val_loss: 2.1861 - val_accuracy: 0.6705 - 9s/epoch - 11ms/step\n",
      "Epoch 18/20\n",
      "791/791 - 9s - loss: 0.1790 - accuracy: 0.8994 - val_loss: 1.8958 - val_accuracy: 0.6515 - 9s/epoch - 11ms/step\n",
      "Epoch 19/20\n",
      "791/791 - 8s - loss: 0.1738 - accuracy: 0.9048 - val_loss: 2.0822 - val_accuracy: 0.6616 - 8s/epoch - 10ms/step\n",
      "Epoch 20/20\n",
      "791/791 - 9s - loss: 0.1710 - accuracy: 0.9059 - val_loss: 2.0454 - val_accuracy: 0.6490 - 9s/epoch - 11ms/step\n"
     ]
    }
   ],
   "source": [
    "epochs = 20\n",
    "batch_size = 8\n",
    "\n",
    "history = model.fit(\n",
    "    X_train,\n",
    "    y_train,\n",
    "    validation_split=0.2,\n",
    "    epochs=epochs,\n",
    "    batch_size=batch_size,\n",
    "    verbose=2\n",
    ")\n"
   ],
   "metadata": {
    "collapsed": false
   }
  },
  {
   "cell_type": "code",
   "execution_count": 7,
   "outputs": [
    {
     "name": "stdout",
     "output_type": "stream",
     "text": [
      "62/62 - 1s - loss: 1.7006 - accuracy: 0.6388 - 683ms/epoch - 11ms/step\n",
      "Test set accuracy: 0.638846755027771\n"
     ]
    }
   ],
   "source": [
    "# Evaluate the model on the test set\n",
    "loss, accuracy = model.evaluate(X_test, y_test, verbose=2)\n",
    "print(\"Test set accuracy:\", accuracy)\n"
   ],
   "metadata": {
    "collapsed": false
   }
  },
  {
   "cell_type": "code",
   "execution_count": 8,
   "outputs": [
    {
     "name": "stdout",
     "output_type": "stream",
     "text": [
      "62/62 [==============================] - 0s 2ms/step\n",
      "Predicted labels: [1 0 1 ... 1 0 1]\n",
      "Actual labels: [0 0 0 ... 1 1 0]\n"
     ]
    }
   ],
   "source": [
    "# Make predictions on the test set\n",
    "y_pred = model.predict(X_test)\n",
    "y_pred_classes = (y_pred > 0.5).astype(int)\n",
    "\n",
    "# Print the predicted and actual labels\n",
    "print(\"Predicted labels:\", y_pred_classes.flatten())\n",
    "print(\"Actual labels:\", y_test)\n"
   ],
   "metadata": {
    "collapsed": false
   }
  },
  {
   "cell_type": "code",
   "execution_count": null,
   "outputs": [],
   "source": [
    "# test with new data\n",
    "\n",
    "new_data = [\n",
    "  ([\"dominican pop\",\"merengue\",\"merengue tipico\",\"tropical\"], [\"blues rock\",\"country rock\",\"lounge\"])\n",
    "]\n",
    "\n",
    "labels = [\n",
    "\n",
    "]\n",
    "\n",
    "new_df = pd.DataFrame(new_data, columns=[\"genres\", \"favourite_genres\"])\n",
    "\n",
    "# Combine genres and favourite_genres\n",
    "all_new_genres = list(new_df['genres'] + new_df['favourite_genres'])\n",
    "\n",
    "# One-hot encode the genres using the previously fit MultiLabelBinarizer (mlb)\n",
    "encoded_new_genres = mlb.transform(all_new_genres)\n",
    "\n",
    "# Split encoded_new_genres into genres and favourite_genres\n",
    "encoded_new_genres1 = encoded_new_genres[:, :len(new_df['genres'][0])]\n",
    "encoded_new_genres2 = encoded_new_genres[:, len(new_df['genres'][0]):]\n",
    "\n",
    "# Concatenate the one-hot encoded columns\n",
    "X_new = np.concatenate([encoded_new_genres1, encoded_new_genres2], axis=1)\n",
    "\n",
    "y_new_pred = model.predict(X_new)\n",
    "y_new_pred_classes = (y_new_pred > 0.5).astype(int)\n",
    "\n",
    "# Print the predicted labels\n",
    "print(\"Predicted labels:\", y_new_pred_classes.flatten())\n",
    "print(\"Actual labels:\", labels)\n"
   ],
   "metadata": {
    "collapsed": false
   }
  }
 ],
 "metadata": {
  "kernelspec": {
   "name": "ium",
   "language": "python",
   "display_name": "Python 3.10 (IUM)"
  },
  "language_info": {
   "codemirror_mode": {
    "name": "ipython",
    "version": 2
   },
   "file_extension": ".py",
   "mimetype": "text/x-python",
   "name": "python",
   "nbconvert_exporter": "python",
   "pygments_lexer": "ipython2",
   "version": "2.7.6"
  }
 },
 "nbformat": 4,
 "nbformat_minor": 0
}
