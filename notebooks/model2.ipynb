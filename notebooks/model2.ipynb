{
 "cells": [
  {
   "cell_type": "code",
   "execution_count": 89,
   "metadata": {
    "collapsed": true,
    "ExecuteTime": {
     "start_time": "2023-04-27T16:45:29.088384Z",
     "end_time": "2023-04-27T16:45:29.254452Z"
    }
   },
   "outputs": [],
   "source": [
    "import pandas as pd\n",
    "import numpy as np\n",
    "from keras.optimizers import Adam\n",
    "from sklearn.metrics import confusion_matrix, classification_report, accuracy_score\n",
    "from sklearn.preprocessing import MultiLabelBinarizer\n",
    "from sklearn.model_selection import train_test_split\n",
    "\n",
    "from tensorflow import keras\n",
    "\n",
    "from keras.models import Sequential\n",
    "from keras.layers import Dense, Dropout"
   ]
  },
  {
   "cell_type": "code",
   "execution_count": 90,
   "metadata": {
    "ExecuteTime": {
     "start_time": "2023-04-27T16:45:29.092628Z",
     "end_time": "2023-04-27T16:45:29.471102Z"
    }
   },
   "outputs": [
    {
     "data": {
      "text/plain": "                timestamp  user_id                track_id  session_id   \n0 2023-01-03 05:09:55.000      101  2PmGtDUyJIpYBEtI1hQIVp         124  \\\n1 2023-02-08 21:41:02.507      103  2PmGtDUyJIpYBEtI1hQIVp         151   \n2 2023-02-12 01:17:14.946      132  2PmGtDUyJIpYBEtI1hQIVp         544   \n3 2023-01-03 03:59:59.738      132  5yxYokipsWlpDCt4Th4VVc         534   \n4 2023-03-07 14:28:25.702      132  5yxYokipsWlpDCt4Th4VVc         547   \n\n               track_name  popularity  duration_ms  explicit   \n0       Ballrooms Of Mars          34       247707         0  \\\n1       Ballrooms Of Mars          34       247707         0   \n2       Ballrooms Of Mars          34       247707         0   \n3  Solid Gold Easy Action          35       140067         0   \n4  Solid Gold Easy Action          35       140067         0   \n\n                id_artist release_date  ...  premium_user    name   \n0  3dBVyJ7JuOMt4GE9607Qin   1972-07-21  ...         False  T. Rex  \\\n1  3dBVyJ7JuOMt4GE9607Qin   1972-07-21  ...         False  T. Rex   \n2  3dBVyJ7JuOMt4GE9607Qin   1972-07-21  ...          True  T. Rex   \n3  3dBVyJ7JuOMt4GE9607Qin   1973-03-16  ...          True  T. Rex   \n4  3dBVyJ7JuOMt4GE9607Qin   1973-03-16  ...          True  T. Rex   \n\n                                              genres  skipped   \n0  [album rock, art rock, classic rock, folk rock...    False  \\\n1  [album rock, art rock, classic rock, folk rock...    False   \n2  [album rock, art rock, classic rock, folk rock...    False   \n3  [album rock, art rock, classic rock, folk rock...    False   \n4  [album rock, art rock, classic rock, folk rock...    False   \n\n   number_of_matching_genres  month  day_of_week  hour_of_day   \n0                          0      1            1            5  \\\n1                          0      2            2           21   \n2                          1      2            6            1   \n3                          1      1            1            3   \n4                          1      3            1           14   \n\n                        genres_with_favourite_genres   \n0  [album rock, art rock, classic rock, folk rock...  \\\n1  [album rock, art rock, classic rock, folk rock...   \n2  [album rock, art rock, classic rock, folk rock...   \n3  [album rock, art rock, classic rock, folk rock...   \n4  [album rock, art rock, classic rock, folk rock...   \n\n                                       common_genres  \n0  [protopunk, rock, glam rock, mandopop, album r...  \n1  [folk, protopunk, rock, regional mexican, glam...  \n2  [protopunk, rock, rock en espanol, glam rock, ...  \n3  [protopunk, rock, rock en espanol, glam rock, ...  \n4  [protopunk, rock, rock en espanol, glam rock, ...  \n\n[5 rows x 34 columns]",
      "text/html": "<div>\n<style scoped>\n    .dataframe tbody tr th:only-of-type {\n        vertical-align: middle;\n    }\n\n    .dataframe tbody tr th {\n        vertical-align: top;\n    }\n\n    .dataframe thead th {\n        text-align: right;\n    }\n</style>\n<table border=\"1\" class=\"dataframe\">\n  <thead>\n    <tr style=\"text-align: right;\">\n      <th></th>\n      <th>timestamp</th>\n      <th>user_id</th>\n      <th>track_id</th>\n      <th>session_id</th>\n      <th>track_name</th>\n      <th>popularity</th>\n      <th>duration_ms</th>\n      <th>explicit</th>\n      <th>id_artist</th>\n      <th>release_date</th>\n      <th>...</th>\n      <th>premium_user</th>\n      <th>name</th>\n      <th>genres</th>\n      <th>skipped</th>\n      <th>number_of_matching_genres</th>\n      <th>month</th>\n      <th>day_of_week</th>\n      <th>hour_of_day</th>\n      <th>genres_with_favourite_genres</th>\n      <th>common_genres</th>\n    </tr>\n  </thead>\n  <tbody>\n    <tr>\n      <th>0</th>\n      <td>2023-01-03 05:09:55.000</td>\n      <td>101</td>\n      <td>2PmGtDUyJIpYBEtI1hQIVp</td>\n      <td>124</td>\n      <td>Ballrooms Of Mars</td>\n      <td>34</td>\n      <td>247707</td>\n      <td>0</td>\n      <td>3dBVyJ7JuOMt4GE9607Qin</td>\n      <td>1972-07-21</td>\n      <td>...</td>\n      <td>False</td>\n      <td>T. Rex</td>\n      <td>[album rock, art rock, classic rock, folk rock...</td>\n      <td>False</td>\n      <td>0</td>\n      <td>1</td>\n      <td>1</td>\n      <td>5</td>\n      <td>[album rock, art rock, classic rock, folk rock...</td>\n      <td>[protopunk, rock, glam rock, mandopop, album r...</td>\n    </tr>\n    <tr>\n      <th>1</th>\n      <td>2023-02-08 21:41:02.507</td>\n      <td>103</td>\n      <td>2PmGtDUyJIpYBEtI1hQIVp</td>\n      <td>151</td>\n      <td>Ballrooms Of Mars</td>\n      <td>34</td>\n      <td>247707</td>\n      <td>0</td>\n      <td>3dBVyJ7JuOMt4GE9607Qin</td>\n      <td>1972-07-21</td>\n      <td>...</td>\n      <td>False</td>\n      <td>T. Rex</td>\n      <td>[album rock, art rock, classic rock, folk rock...</td>\n      <td>False</td>\n      <td>0</td>\n      <td>2</td>\n      <td>2</td>\n      <td>21</td>\n      <td>[album rock, art rock, classic rock, folk rock...</td>\n      <td>[folk, protopunk, rock, regional mexican, glam...</td>\n    </tr>\n    <tr>\n      <th>2</th>\n      <td>2023-02-12 01:17:14.946</td>\n      <td>132</td>\n      <td>2PmGtDUyJIpYBEtI1hQIVp</td>\n      <td>544</td>\n      <td>Ballrooms Of Mars</td>\n      <td>34</td>\n      <td>247707</td>\n      <td>0</td>\n      <td>3dBVyJ7JuOMt4GE9607Qin</td>\n      <td>1972-07-21</td>\n      <td>...</td>\n      <td>True</td>\n      <td>T. Rex</td>\n      <td>[album rock, art rock, classic rock, folk rock...</td>\n      <td>False</td>\n      <td>1</td>\n      <td>2</td>\n      <td>6</td>\n      <td>1</td>\n      <td>[album rock, art rock, classic rock, folk rock...</td>\n      <td>[protopunk, rock, rock en espanol, glam rock, ...</td>\n    </tr>\n    <tr>\n      <th>3</th>\n      <td>2023-01-03 03:59:59.738</td>\n      <td>132</td>\n      <td>5yxYokipsWlpDCt4Th4VVc</td>\n      <td>534</td>\n      <td>Solid Gold Easy Action</td>\n      <td>35</td>\n      <td>140067</td>\n      <td>0</td>\n      <td>3dBVyJ7JuOMt4GE9607Qin</td>\n      <td>1973-03-16</td>\n      <td>...</td>\n      <td>True</td>\n      <td>T. Rex</td>\n      <td>[album rock, art rock, classic rock, folk rock...</td>\n      <td>False</td>\n      <td>1</td>\n      <td>1</td>\n      <td>1</td>\n      <td>3</td>\n      <td>[album rock, art rock, classic rock, folk rock...</td>\n      <td>[protopunk, rock, rock en espanol, glam rock, ...</td>\n    </tr>\n    <tr>\n      <th>4</th>\n      <td>2023-03-07 14:28:25.702</td>\n      <td>132</td>\n      <td>5yxYokipsWlpDCt4Th4VVc</td>\n      <td>547</td>\n      <td>Solid Gold Easy Action</td>\n      <td>35</td>\n      <td>140067</td>\n      <td>0</td>\n      <td>3dBVyJ7JuOMt4GE9607Qin</td>\n      <td>1973-03-16</td>\n      <td>...</td>\n      <td>True</td>\n      <td>T. Rex</td>\n      <td>[album rock, art rock, classic rock, folk rock...</td>\n      <td>False</td>\n      <td>1</td>\n      <td>3</td>\n      <td>1</td>\n      <td>14</td>\n      <td>[album rock, art rock, classic rock, folk rock...</td>\n      <td>[protopunk, rock, rock en espanol, glam rock, ...</td>\n    </tr>\n  </tbody>\n</table>\n<p>5 rows × 34 columns</p>\n</div>"
     },
     "execution_count": 90,
     "metadata": {},
     "output_type": "execute_result"
    }
   ],
   "source": [
    "merged_data_path = '../data/merged_data.jsonl'\n",
    "data = pd.read_json(merged_data_path, lines=True)\n",
    "\n",
    "data.head(5)"
   ]
  },
  {
   "cell_type": "code",
   "execution_count": 91,
   "metadata": {
    "ExecuteTime": {
     "start_time": "2023-04-27T16:45:29.470795Z",
     "end_time": "2023-04-27T16:45:29.472958Z"
    }
   },
   "outputs": [],
   "source": [
    "# unique_favourite_genres = set()\n",
    "# for favourite_genres in data['favourite_genres']:\n",
    "#     unique_favourite_genres.update(favourite_genres)\n",
    "#\n",
    "# unique_genres = set()\n",
    "# for genres in data['genres']:\n",
    "#     unique_genres.update(genres)\n",
    "#\n",
    "# print(\"unique_favourite_genres\", len(unique_favourite_genres))\n",
    "# print(\"unique_genres\", len(unique_genres))\n",
    "# common_genres = unique_favourite_genres.intersection(unique_genres)\n",
    "# print(\"common genres\", common_genres)\n",
    "\n",
    "# remove genres that are not in favourite_genres\n",
    "# data['genres'] = data['genres'].apply(\n",
    "#     lambda x: [genre for genre in x if genre in unique_favourite_genres])\n",
    "\n",
    "# data.head()"
   ]
  },
  {
   "cell_type": "code",
   "execution_count": 92,
   "metadata": {
    "ExecuteTime": {
     "start_time": "2023-04-27T16:45:29.475341Z",
     "end_time": "2023-04-27T16:45:29.545713Z"
    }
   },
   "outputs": [
    {
     "name": "stdout",
     "output_type": "stream",
     "text": [
      "skipped_data (3621, 34)\n",
      "not_skipped_data (6260, 34)\n"
     ]
    },
    {
     "data": {
      "text/plain": "                timestamp  user_id                track_id  session_id   \n0 2023-03-23 18:05:18.096      147  0kVB6PeqBbN2HhwJdWumeZ         732  \\\n1 2023-01-22 05:30:03.002      141  4pJKzul9oXW1lBQmOpf96m         646   \n2 2023-02-23 05:54:20.102      125  7t6zMZSO6DfCeE4IcinxUJ         443   \n3 2023-02-26 04:48:49.355      149  62UVjAjo8ra1PVSeHfnxk3         754   \n4 2023-01-31 09:21:51.897      134  7DDfGy1cstvJGETyYYnfig         559   \n\n                  track_name  popularity  duration_ms  explicit   \n0    The Wall Street Shuffle          40       236373         0  \\\n1          Deep Dark Dungeon          38       129133         0   \n2        Chala Chala Navbala           0       193320         0   \n3               I Love Paris          21       353200         0   \n4  The One to Sing the Blues          30       187213         0   \n\n                id_artist release_date  ...  premium_user             name   \n0  6i6WlGzQtXtz7GcC5H5st5         1974  ...          True             10cc  \\\n1  06nsZ3qSOYZ2hPVIMcr1IN      1981-02  ...         False        J.J. Cale   \n2  61JrslREXq98hurYL2hYoc   1943-12-31  ...         False  Lata Mangeshkar   \n3  3XOVABzceOUTbR3iEz0ImO   1959-01-01  ...         False       Cal Tjader   \n4  1DFr97A9HnbV3SKTJFu62M   1991-02-26  ...          True        Motörhead   \n\n                                              genres  skipped   \n0  [album rock, art rock, classic rock, classic u...     True  \\\n1  [album rock, blues, blues rock, classic rock, ...    False   \n2         [classic bollywood, desi pop, filmi, sufi]    False   \n3  [bossa nova, cool jazz, jazz, jazz funk, jazz ...     True   \n4  [album rock, alternative metal, hard rock, met...     True   \n\n   number_of_matching_genres  month  day_of_week  hour_of_day   \n0                          1      3            3           18  \\\n1                          1      1            6            5   \n2                          0      2            3            5   \n3                          0      2            6            4   \n4                          0      1            1            9   \n\n                        genres_with_favourite_genres   \n0  [album rock, art rock, classic rock, classic u...  \\\n1  [album rock, blues, blues rock, classic rock, ...   \n2  [classic bollywood, desi pop, filmi, sufi, cla...   \n3  [bossa nova, cool jazz, jazz, jazz funk, jazz ...   \n4  [album rock, alternative metal, hard rock, met...   \n\n                                       common_genres  \n0  [rock, classic uk pop, glam rock, hoerspiel, a...  \n1  [rock, album rock, country rock, folk rock, cl...  \n2  [regional mexican, classic bollywood, sufi, cl...  \n3  [new wave pop, latin jazz, jazz, lounge, bossa...  \n4  [rock, album rock, brill building pop, metal, ...  \n\n[5 rows x 34 columns]",
      "text/html": "<div>\n<style scoped>\n    .dataframe tbody tr th:only-of-type {\n        vertical-align: middle;\n    }\n\n    .dataframe tbody tr th {\n        vertical-align: top;\n    }\n\n    .dataframe thead th {\n        text-align: right;\n    }\n</style>\n<table border=\"1\" class=\"dataframe\">\n  <thead>\n    <tr style=\"text-align: right;\">\n      <th></th>\n      <th>timestamp</th>\n      <th>user_id</th>\n      <th>track_id</th>\n      <th>session_id</th>\n      <th>track_name</th>\n      <th>popularity</th>\n      <th>duration_ms</th>\n      <th>explicit</th>\n      <th>id_artist</th>\n      <th>release_date</th>\n      <th>...</th>\n      <th>premium_user</th>\n      <th>name</th>\n      <th>genres</th>\n      <th>skipped</th>\n      <th>number_of_matching_genres</th>\n      <th>month</th>\n      <th>day_of_week</th>\n      <th>hour_of_day</th>\n      <th>genres_with_favourite_genres</th>\n      <th>common_genres</th>\n    </tr>\n  </thead>\n  <tbody>\n    <tr>\n      <th>0</th>\n      <td>2023-03-23 18:05:18.096</td>\n      <td>147</td>\n      <td>0kVB6PeqBbN2HhwJdWumeZ</td>\n      <td>732</td>\n      <td>The Wall Street Shuffle</td>\n      <td>40</td>\n      <td>236373</td>\n      <td>0</td>\n      <td>6i6WlGzQtXtz7GcC5H5st5</td>\n      <td>1974</td>\n      <td>...</td>\n      <td>True</td>\n      <td>10cc</td>\n      <td>[album rock, art rock, classic rock, classic u...</td>\n      <td>True</td>\n      <td>1</td>\n      <td>3</td>\n      <td>3</td>\n      <td>18</td>\n      <td>[album rock, art rock, classic rock, classic u...</td>\n      <td>[rock, classic uk pop, glam rock, hoerspiel, a...</td>\n    </tr>\n    <tr>\n      <th>1</th>\n      <td>2023-01-22 05:30:03.002</td>\n      <td>141</td>\n      <td>4pJKzul9oXW1lBQmOpf96m</td>\n      <td>646</td>\n      <td>Deep Dark Dungeon</td>\n      <td>38</td>\n      <td>129133</td>\n      <td>0</td>\n      <td>06nsZ3qSOYZ2hPVIMcr1IN</td>\n      <td>1981-02</td>\n      <td>...</td>\n      <td>False</td>\n      <td>J.J. Cale</td>\n      <td>[album rock, blues, blues rock, classic rock, ...</td>\n      <td>False</td>\n      <td>1</td>\n      <td>1</td>\n      <td>6</td>\n      <td>5</td>\n      <td>[album rock, blues, blues rock, classic rock, ...</td>\n      <td>[rock, album rock, country rock, folk rock, cl...</td>\n    </tr>\n    <tr>\n      <th>2</th>\n      <td>2023-02-23 05:54:20.102</td>\n      <td>125</td>\n      <td>7t6zMZSO6DfCeE4IcinxUJ</td>\n      <td>443</td>\n      <td>Chala Chala Navbala</td>\n      <td>0</td>\n      <td>193320</td>\n      <td>0</td>\n      <td>61JrslREXq98hurYL2hYoc</td>\n      <td>1943-12-31</td>\n      <td>...</td>\n      <td>False</td>\n      <td>Lata Mangeshkar</td>\n      <td>[classic bollywood, desi pop, filmi, sufi]</td>\n      <td>False</td>\n      <td>0</td>\n      <td>2</td>\n      <td>3</td>\n      <td>5</td>\n      <td>[classic bollywood, desi pop, filmi, sufi, cla...</td>\n      <td>[regional mexican, classic bollywood, sufi, cl...</td>\n    </tr>\n    <tr>\n      <th>3</th>\n      <td>2023-02-26 04:48:49.355</td>\n      <td>149</td>\n      <td>62UVjAjo8ra1PVSeHfnxk3</td>\n      <td>754</td>\n      <td>I Love Paris</td>\n      <td>21</td>\n      <td>353200</td>\n      <td>0</td>\n      <td>3XOVABzceOUTbR3iEz0ImO</td>\n      <td>1959-01-01</td>\n      <td>...</td>\n      <td>False</td>\n      <td>Cal Tjader</td>\n      <td>[bossa nova, cool jazz, jazz, jazz funk, jazz ...</td>\n      <td>True</td>\n      <td>0</td>\n      <td>2</td>\n      <td>6</td>\n      <td>4</td>\n      <td>[bossa nova, cool jazz, jazz, jazz funk, jazz ...</td>\n      <td>[new wave pop, latin jazz, jazz, lounge, bossa...</td>\n    </tr>\n    <tr>\n      <th>4</th>\n      <td>2023-01-31 09:21:51.897</td>\n      <td>134</td>\n      <td>7DDfGy1cstvJGETyYYnfig</td>\n      <td>559</td>\n      <td>The One to Sing the Blues</td>\n      <td>30</td>\n      <td>187213</td>\n      <td>0</td>\n      <td>1DFr97A9HnbV3SKTJFu62M</td>\n      <td>1991-02-26</td>\n      <td>...</td>\n      <td>True</td>\n      <td>Motörhead</td>\n      <td>[album rock, alternative metal, hard rock, met...</td>\n      <td>True</td>\n      <td>0</td>\n      <td>1</td>\n      <td>1</td>\n      <td>9</td>\n      <td>[album rock, alternative metal, hard rock, met...</td>\n      <td>[rock, album rock, brill building pop, metal, ...</td>\n    </tr>\n  </tbody>\n</table>\n<p>5 rows × 34 columns</p>\n</div>"
     },
     "execution_count": 92,
     "metadata": {},
     "output_type": "execute_result"
    }
   ],
   "source": [
    "# balance set\n",
    "skipped_data = data[data[\"skipped\"] == 1]\n",
    "not_skipped_data = data[data[\"skipped\"] == 0]\n",
    "\n",
    "# Split the dataset into subsets based on class labels\n",
    "print(\"skipped_data\", skipped_data.shape)\n",
    "print(\"not_skipped_data\", not_skipped_data.shape)\n",
    "\n",
    "# Calculate the minimum number of samples among all classes\n",
    "min_samples = min(len(skipped_data), len(not_skipped_data))\n",
    "\n",
    "# Randomly select samples from each class subset to match the minimum number of samples\n",
    "skipped_data_balanced = skipped_data.sample(n=min_samples, random_state=42)\n",
    "not_skipped_data_balanced = not_skipped_data.sample(n=min_samples, random_state=42)\n",
    "\n",
    "# Merge the balanced subsets to create the final balanced dataset\n",
    "balanced_data = pd.concat([skipped_data_balanced, not_skipped_data_balanced], axis=0)\n",
    "\n",
    "# Shuffle the balanced dataset\n",
    "balanced_data = balanced_data.sample(frac=1, random_state=42).reset_index(drop=True)\n",
    "balanced_data.head()"
   ]
  },
  {
   "cell_type": "code",
   "execution_count": null,
   "metadata": {
    "ExecuteTime": {
     "start_time": "2023-04-27T16:36:02.115285Z",
     "end_time": "2023-04-27T16:36:02.187991Z"
    },
    "pycharm": {
     "is_executing": true
    }
   },
   "outputs": [],
   "source": [
    "# Combine genres and favourite_genres\n",
    "all_genres = list(balanced_data['favourite_genres'] + balanced_data['genres'])\n",
    "print(all_genres)\n",
    "\n",
    "# One-hot encode the genres\n",
    "mlb = MultiLabelBinarizer()\n",
    "mlb.fit(all_genres)\n",
    "\n",
    "encoded_favourite_genres = mlb.transform(balanced_data['favourite_genres'])\n",
    "encoded_genres = mlb.transform(balanced_data['genres'])"
   ]
  },
  {
   "cell_type": "code",
   "execution_count": null,
   "metadata": {
    "ExecuteTime": {
     "start_time": "2023-04-27T16:36:02.130018Z",
     "end_time": "2023-04-27T16:36:02.188192Z"
    },
    "pycharm": {
     "is_executing": true
    }
   },
   "outputs": [],
   "source": [
    "X = np.concatenate([encoded_genres, encoded_favourite_genres], axis=1)\n",
    "\n",
    "# Extract the labels\n",
    "y = balanced_data['skipped'].astype(int).values\n",
    "\n",
    "# Split the data into training and testing sets\n",
    "X_train, X_test, y_train, y_test = train_test_split(X, y, test_size=0.2, shuffle=True)\n",
    "\n",
    "# count skipped and not skipped songs in X_train\n",
    "print(\"Y_train not skipped\", np.count_nonzero(y_train == 0))\n",
    "print(\"Y_train skipped\", np.count_nonzero(y_train == 1))\n",
    "print(\"Y_train skipped %\", np.count_nonzero(y_train == 1) / len(y_train))\n"
   ]
  },
  {
   "cell_type": "code",
   "execution_count": null,
   "metadata": {
    "ExecuteTime": {
     "start_time": "2023-04-27T16:36:02.135922Z",
     "end_time": "2023-04-27T16:36:02.188230Z"
    },
    "pycharm": {
     "is_executing": true
    }
   },
   "outputs": [],
   "source": [
    "def build_model(hp):\n",
    "  model = Sequential()\n",
    "  model.add(Dense(3000 * 2, activation='relu', input_shape=(X_train.shape[1],)))\n",
    "  model.add(Dropout(0.5))\n",
    "  model.add(Dense(3000, activation='relu'))\n",
    "  model.add(Dropout(0.5))\n",
    "  model.add(Dense(1, activation='sigmoid'))\n",
    "\n",
    "  model.compile(\n",
    "      optimizer=Adam(),\n",
    "      loss='binary_crossentropy', metrics=['accuracy'])\n",
    "  return model\n"
   ]
  },
  {
   "cell_type": "code",
   "execution_count": null,
   "metadata": {
    "ExecuteTime": {
     "start_time": "2023-04-27T16:36:02.139531Z",
     "end_time": "2023-04-27T16:36:16.010901Z"
    },
    "pycharm": {
     "is_executing": true
    }
   },
   "outputs": [],
   "source": [
    "epochs = 10\n",
    "batch_size = 128\n",
    "\n",
    "model = build_model(None)\n",
    "\n",
    "callbacks = [\n",
    "  keras.callbacks.ModelCheckpoint(\n",
    "      filepath='../models/model2_{epoch}',\n",
    "      save_freq='epoch')\n",
    "]\n",
    "\n",
    "model.fit(\n",
    "    X_train,\n",
    "    y_train,\n",
    "    validation_data=(X_test, y_test),\n",
    "    epochs=epochs,\n",
    "    batch_size=batch_size,\n",
    "    callbacks=callbacks,\n",
    "    verbose=2\n",
    ")\n"
   ]
  },
  {
   "cell_type": "code",
   "execution_count": null,
   "metadata": {
    "ExecuteTime": {
     "start_time": "2023-04-27T16:36:16.011545Z",
     "end_time": "2023-04-27T16:36:16.012967Z"
    },
    "pycharm": {
     "is_executing": true
    }
   },
   "outputs": [],
   "source": [
    "# tuner.search(\n",
    "#     (X_train, y_train),\n",
    "#     validation_data=(X_test, y_test),\n",
    "# )"
   ]
  },
  {
   "cell_type": "code",
   "execution_count": null,
   "metadata": {
    "ExecuteTime": {
     "start_time": "2023-04-27T16:36:16.017925Z",
     "end_time": "2023-04-27T16:36:16.849476Z"
    },
    "pycharm": {
     "is_executing": true
    }
   },
   "outputs": [],
   "source": [
    "# Evaluate the model on the test set\n",
    "loss, accuracy = model.evaluate(X_test, y_test, verbose=2)\n",
    "print(\"Test set accuracy:\", accuracy)\n",
    "\n",
    "print(\"TEST\")\n",
    "y_pred = model.predict(X_test)\n",
    "y_pred_classes = (y_pred > 0.5).astype(int)\n",
    "print(\"Accuracy:\", accuracy_score(y_test, y_pred_classes))\n",
    "print(\"Confusion matrix:\\n\", confusion_matrix(y_test, y_pred_classes))\n",
    "print(\"Classification report:\\n\", classification_report(y_test, y_pred_classes))\n",
    "\n",
    "print(\"TRAIN\")\n",
    "y_pred = model.predict(X_train)\n",
    "y_pred_classes = (y_pred > 0.5).astype(int)\n",
    "print(\"Accuracy:\", accuracy_score(y_train, y_pred_classes))\n",
    "print(\"Confusion matrix:\\n\", confusion_matrix(y_train, y_pred_classes))\n",
    "print(\"Classification report:\\n\", classification_report(y_train, y_pred_classes))\n"
   ]
  }
 ],
 "metadata": {
  "kernelspec": {
   "display_name": "Python 3.10 (IUM)",
   "language": "python",
   "name": "ium"
  },
  "language_info": {
   "codemirror_mode": {
    "name": "ipython",
    "version": 3
   },
   "file_extension": ".py",
   "mimetype": "text/x-python",
   "name": "python",
   "nbconvert_exporter": "python",
   "pygments_lexer": "ipython3",
   "version": "3.10.10"
  }
 },
 "nbformat": 4,
 "nbformat_minor": 1
}
