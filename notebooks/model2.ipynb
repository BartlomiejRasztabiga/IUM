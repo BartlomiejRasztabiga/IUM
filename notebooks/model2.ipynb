{
 "cells": [
  {
   "cell_type": "code",
   "execution_count": 287,
   "metadata": {
    "ExecuteTime": {
     "end_time": "2023-04-27T16:45:29.254452Z",
     "start_time": "2023-04-27T16:45:29.088384Z"
    },
    "collapsed": true
   },
   "outputs": [],
   "source": [
    "import pandas as pd\n",
    "import numpy as np\n",
    "import pickle\n",
    "from sklearn.feature_extraction.text import TfidfVectorizer\n",
    "from sklearn.cluster import KMeans\n",
    "from keras.optimizers import Adam\n",
    "from sklearn.metrics import confusion_matrix, classification_report, accuracy_score\n",
    "from sklearn.preprocessing import MultiLabelBinarizer\n",
    "from sklearn.model_selection import train_test_split\n",
    "\n",
    "from tensorflow import keras\n",
    "\n",
    "from keras.models import Sequential\n",
    "from keras.layers import Dense, Dropout"
   ]
  },
  {
   "cell_type": "code",
   "execution_count": 288,
   "metadata": {
    "ExecuteTime": {
     "end_time": "2023-04-27T16:45:29.471102Z",
     "start_time": "2023-04-27T16:45:29.092628Z"
    }
   },
   "outputs": [],
   "source": [
    "merged_data_path = '../data/v2/merged_data.jsonl'\n",
    "data = pd.read_json(merged_data_path, lines=True)"
   ]
  },
  {
   "cell_type": "code",
   "execution_count": 289,
   "metadata": {
    "ExecuteTime": {
     "end_time": "2023-04-27T16:45:29.472958Z",
     "start_time": "2023-04-27T16:45:29.470795Z"
    }
   },
   "outputs": [],
   "source": [
    "# unique_favourite_genres = set()\n",
    "# for favourite_genres in data['favourite_genres']:\n",
    "#     unique_favourite_genres.update(favourite_genres)\n",
    "\n",
    "# remove genres that are not in favourite_genres\n",
    "# data['genres'] = data['genres'].apply(\n",
    "#     lambda x: [genre for genre in x if genre in unique_favourite_genres])"
   ]
  },
  {
   "cell_type": "code",
   "execution_count": 290,
   "metadata": {},
   "outputs": [],
   "source": [
    "# K-MEANS\n",
    "\n",
    "# Prepare the list of unique genres\n",
    "unique_genres = list(set([genre for genres in data['genres'] for genre in genres]) | set([genre for genres in data['favourite_genres'] for genre in genres]))\n",
    "\n",
    "# Convert the genres to a matrix of TF-IDF features\n",
    "vectorizer = TfidfVectorizer()\n",
    "vectorized = vectorizer.fit_transform(unique_genres)\n",
    "\n",
    "# Apply K-means clustering\n",
    "num_clusters = 100  # Adjust this value according to your needs\n",
    "kmeans = KMeans(n_clusters=num_clusters, random_state=42, n_init='auto')\n",
    "kmeans.fit(vectorized)\n",
    "labels = kmeans.labels_\n",
    "\n",
    "# Group the genres based on the cluster labels\n",
    "clustered_genres = {}\n",
    "for i, label in enumerate(labels):\n",
    "    if label not in clustered_genres:\n",
    "        clustered_genres[label] = []\n",
    "    clustered_genres[label].append(unique_genres[i])\n",
    "\n",
    "# Map genres to their cluster label\n",
    "genre_to_cluster = {genre: label for label, genres in clustered_genres.items() for genre in genres}\n",
    "\n",
    "# Define the function for mapping genres to simpler forms\n",
    "def map_genre(genre):\n",
    "    cluster_label = genre_to_cluster[genre]\n",
    "    representative_genre = clustered_genres[cluster_label][0]  # Use the first genre in the cluster as the representative\n",
    "    return representative_genre\n",
    "\n",
    "# Apply the mapping function to both 'genres' and 'favourite_genres' columns\n",
    "data['genres'] = data['genres'].apply(lambda x: [map_genre(genre) for genre in x])\n",
    "data['favourite_genres'] = data['favourite_genres'].apply(lambda x: [map_genre(genre) for genre in x])\n",
    "\n",
    "# Delete not unique genres\n",
    "data['genres'] = data['genres'].apply(lambda x: list(set(x)))\n",
    "data['favourite_genres'] = data['favourite_genres'].apply(lambda x: list(set(x)))\n"
   ]
  },
  {
   "cell_type": "code",
   "execution_count": 291,
   "metadata": {},
   "outputs": [
    {
     "name": "stdout",
     "output_type": "stream",
     "text": [
      "100\n"
     ]
    },
    {
     "data": {
      "text/plain": [
       "[('irish pub song', 5455),\n",
       " ('rock alternatif francais', 4688),\n",
       " ('deep classic garage rock', 3017),\n",
       " ('j-pop', 2642),\n",
       " ('polish folk', 1609),\n",
       " ('hard rock', 1141),\n",
       " ('country road', 993),\n",
       " ('punk blues', 915),\n",
       " ('psychedelic hip hop', 817),\n",
       " ('chicano rap', 661),\n",
       " ('british dance band', 623),\n",
       " ('polish post-punk', 589),\n",
       " ('doom metal', 580),\n",
       " ('no wave', 577),\n",
       " ('turkish hip hop', 553),\n",
       " ('taiwan singer-songwriter', 544),\n",
       " ('new age', 532),\n",
       " ('magyar alternative', 526),\n",
       " ('soul blues', 450),\n",
       " ('uk americana', 423),\n",
       " ('latin pop', 373),\n",
       " ('greek trap', 355),\n",
       " ('classic konkani pop', 327),\n",
       " ('modern funk', 319),\n",
       " ('canadian pop punk', 295),\n",
       " ('swedish punk', 294),\n",
       " ('finnish indie', 252),\n",
       " ('j-pop girl group', 215),\n",
       " ('classic house', 212),\n",
       " ('jazz vibraphone', 190),\n",
       " ('nu disco', 180),\n",
       " ('vocal house', 173),\n",
       " ('melodic groove metal', 130),\n",
       " ('old school rap francais', 125),\n",
       " ('reggaeton', 124),\n",
       " ('kleine hoerspiel', 111),\n",
       " ('roots reggae', 110),\n",
       " ('new jack swing', 106),\n",
       " ('garage psych', 105),\n",
       " ('turkish jazz', 104),\n",
       " ('latin talent show', 101),\n",
       " ('pop nacional', 92),\n",
       " ('classic mandopop', 84),\n",
       " ('french synthpop', 77),\n",
       " ('argentine reggae', 77),\n",
       " ('indian fusion', 72),\n",
       " ('dutch prog', 71),\n",
       " ('brazilian rock', 68),\n",
       " ('paisley underground', 66),\n",
       " ('american folk revival', 65),\n",
       " ('vintage schlager', 63),\n",
       " ('musica yucateca', 62),\n",
       " ('italian trance', 59),\n",
       " ('classic danish rock', 58),\n",
       " ('ska punk', 58),\n",
       " ('deep regional mexican', 57),\n",
       " ('mexican son', 56),\n",
       " ('nueva ola chilena', 55),\n",
       " ('samba-enredo', 53),\n",
       " ('cumbia paraguaya', 52),\n",
       " ('electro', 48),\n",
       " ('tagalog worship', 47),\n",
       " ('electronic rock', 45),\n",
       " ('chinese minyao', 45),\n",
       " ('classic icelandic pop', 40),\n",
       " ('classical tenor', 38),\n",
       " ('norwegian jazz', 38),\n",
       " ('folklore uruguayo', 37),\n",
       " ('german heavy metal', 36),\n",
       " ('salsa choke', 36),\n",
       " ('escape room', 36),\n",
       " ('flamenco urbano', 35),\n",
       " ('russian alt pop', 35),\n",
       " ('chicago drill', 35),\n",
       " ('instrumental surf', 32),\n",
       " ('anime score', 30),\n",
       " ('indonesian pop', 29),\n",
       " ('japanese shoegaze', 29),\n",
       " ('industrial rock', 24),\n",
       " ('post-hardcore', 22),\n",
       " ('smooth saxophone', 18),\n",
       " ('portuguese indie', 18),\n",
       " ('dangdut remix', 17),\n",
       " ('gospel antigas', 17),\n",
       " ('dark techno', 16),\n",
       " ('south african trap', 14),\n",
       " ('indie quebecois', 11),\n",
       " ('pinoy praise', 10),\n",
       " (\"preschool children's music\", 7),\n",
       " ('reggaeton cristiano', 6),\n",
       " ('cuarteto', 5),\n",
       " ('belgian black metal', 5),\n",
       " ('vintage western', 5),\n",
       " ('new jersey indie', 3),\n",
       " ('synth funk', 3),\n",
       " ('son cubano', 3),\n",
       " ('riddim', 2),\n",
       " ('spiritual jazz', 2),\n",
       " ('reggae rock', 2),\n",
       " ('neo-crust', 1)]"
      ]
     },
     "execution_count": 291,
     "metadata": {},
     "output_type": "execute_result"
    }
   ],
   "source": [
    "# count unique genres\n",
    "unique_genres = set()\n",
    "for genres in data['genres']:\n",
    "    unique_genres.update(genres)\n",
    "for genres in data['favourite_genres']:\n",
    "    unique_genres.update(genres)\n",
    "print(len(unique_genres))\n",
    "\n",
    "# how many tracks are per genre\n",
    "genre_count = {}\n",
    "for genres in data['genres']:\n",
    "    for genre in genres:\n",
    "        if genre not in genre_count:\n",
    "            genre_count[genre] = 0\n",
    "        genre_count[genre] += 1\n",
    "\n",
    "genre_count = sorted(genre_count.items(), key=lambda x: x[1], reverse=True)\n",
    "genre_count"
   ]
  },
  {
   "cell_type": "code",
   "execution_count": 292,
   "metadata": {
    "ExecuteTime": {
     "end_time": "2023-04-27T16:45:29.545713Z",
     "start_time": "2023-04-27T16:45:29.475341Z"
    }
   },
   "outputs": [
    {
     "name": "stdout",
     "output_type": "stream",
     "text": [
      "skipped_data (3621, 3)\n",
      "not_skipped_data (6260, 3)\n"
     ]
    }
   ],
   "source": [
    "# balance set\n",
    "skipped_data = data[data[\"skipped\"] == 1]\n",
    "not_skipped_data = data[data[\"skipped\"] == 0]\n",
    "\n",
    "# Split the dataset into subsets based on class labels\n",
    "print(\"skipped_data\", skipped_data.shape)\n",
    "print(\"not_skipped_data\", not_skipped_data.shape)\n",
    "\n",
    "# Calculate the minimum number of samples among all classes\n",
    "min_samples = min(len(skipped_data), len(not_skipped_data))\n",
    "\n",
    "# Randomly select samples from each class subset to match the minimum number of samples\n",
    "skipped_data_balanced = skipped_data.sample(n=min_samples, random_state=42)\n",
    "not_skipped_data_balanced = not_skipped_data.sample(n=min_samples, random_state=42)\n",
    "\n",
    "# Merge the balanced subsets to create the final balanced dataset\n",
    "balanced_data = pd.concat([skipped_data_balanced, not_skipped_data_balanced], axis=0)\n",
    "\n",
    "# Shuffle the balanced dataset\n",
    "balanced_data = balanced_data.sample(frac=1, random_state=42).reset_index(drop=True)"
   ]
  },
  {
   "cell_type": "code",
   "execution_count": 293,
   "metadata": {
    "ExecuteTime": {
     "end_time": "2023-04-27T16:36:02.187991Z",
     "start_time": "2023-04-27T16:36:02.115285Z"
    },
    "pycharm": {
     "is_executing": true
    }
   },
   "outputs": [],
   "source": [
    "# Combine genres and favourite_genres\n",
    "mlb = MultiLabelBinarizer()\n",
    "\n",
    "encoded_favourite_genres = mlb.fit_transform(balanced_data['favourite_genres'])\n",
    "encoded_genres = mlb.fit_transform(balanced_data['genres'])\n",
    "\n",
    "# save mlb to file\n",
    "with open('../models/model2_mlb.pickle', 'wb') as f:\n",
    "    pickle.dump(mlb, f)\n"
   ]
  },
  {
   "cell_type": "code",
   "execution_count": 294,
   "metadata": {
    "ExecuteTime": {
     "end_time": "2023-04-27T16:36:02.188192Z",
     "start_time": "2023-04-27T16:36:02.130018Z"
    },
    "pycharm": {
     "is_executing": true
    }
   },
   "outputs": [],
   "source": [
    "X = np.concatenate([encoded_genres, encoded_favourite_genres], axis=1)\n",
    "\n",
    "# Extract the labels\n",
    "y = balanced_data['skipped'].astype(int).values\n",
    "\n",
    "# Split the data into training and testing sets\n",
    "X_train, X_test, y_train, y_test = train_test_split(X, y, test_size=0.2, shuffle=True)\n",
    "\n",
    "# count skipped and not skipped songs in X_train\n",
    "# print(\"Y_train not skipped\", np.count_nonzero(y_train == 0))\n",
    "# print(\"Y_train skipped\", np.count_nonzero(y_train == 1))\n",
    "# print(\"Y_train skipped %\", np.count_nonzero(y_train == 1) / len(y_train))\n"
   ]
  },
  {
   "cell_type": "code",
   "execution_count": 295,
   "metadata": {
    "ExecuteTime": {
     "end_time": "2023-04-27T16:36:02.188230Z",
     "start_time": "2023-04-27T16:36:02.135922Z"
    },
    "pycharm": {
     "is_executing": true
    }
   },
   "outputs": [],
   "source": [
    "def build_model(hp):\n",
    "  model = Sequential()\n",
    "  model.add(Dense(10 * 2, activation='relu', input_shape=(X_train.shape[1],)))\n",
    "  model.add(Dropout(0.5))\n",
    "  model.add(Dense(10, activation='relu'))\n",
    "  model.add(Dropout(0.5))\n",
    "  model.add(Dense(1, activation='sigmoid'))\n",
    "\n",
    "  model.compile(\n",
    "      optimizer=Adam(),\n",
    "      loss='binary_crossentropy', metrics=['accuracy'])\n",
    "  return model\n"
   ]
  },
  {
   "cell_type": "code",
   "execution_count": 296,
   "metadata": {
    "ExecuteTime": {
     "end_time": "2023-04-27T16:36:16.010901Z",
     "start_time": "2023-04-27T16:36:02.139531Z"
    },
    "pycharm": {
     "is_executing": true
    }
   },
   "outputs": [
    {
     "name": "stdout",
     "output_type": "stream",
     "text": [
      "Epoch 1/50\n",
      "182/182 - 2s - loss: 0.6956 - accuracy: 0.4987 - val_loss: 0.6923 - val_accuracy: 0.5418 - 2s/epoch - 12ms/step\n",
      "Epoch 2/50\n",
      "182/182 - 1s - loss: 0.6919 - accuracy: 0.5134 - val_loss: 0.6911 - val_accuracy: 0.5569 - 1s/epoch - 7ms/step\n",
      "Epoch 3/50\n",
      "182/182 - 1s - loss: 0.6879 - accuracy: 0.5417 - val_loss: 0.6882 - val_accuracy: 0.5873 - 1s/epoch - 7ms/step\n",
      "Epoch 4/50\n",
      "182/182 - 1s - loss: 0.6825 - accuracy: 0.5555 - val_loss: 0.6796 - val_accuracy: 0.5977 - 1s/epoch - 6ms/step\n",
      "Epoch 5/50\n",
      "182/182 - 1s - loss: 0.6751 - accuracy: 0.5712 - val_loss: 0.6725 - val_accuracy: 0.6059 - 1s/epoch - 6ms/step\n",
      "Epoch 6/50\n",
      "182/182 - 1s - loss: 0.6686 - accuracy: 0.5881 - val_loss: 0.6668 - val_accuracy: 0.6184 - 1s/epoch - 6ms/step\n",
      "Epoch 7/50\n",
      "182/182 - 1s - loss: 0.6598 - accuracy: 0.6056 - val_loss: 0.6598 - val_accuracy: 0.6259 - 1s/epoch - 6ms/step\n",
      "Epoch 8/50\n",
      "182/182 - 1s - loss: 0.6550 - accuracy: 0.6132 - val_loss: 0.6550 - val_accuracy: 0.6411 - 1s/epoch - 6ms/step\n",
      "Epoch 9/50\n",
      "182/182 - 1s - loss: 0.6539 - accuracy: 0.6237 - val_loss: 0.6509 - val_accuracy: 0.6460 - 1s/epoch - 6ms/step\n",
      "Epoch 10/50\n",
      "182/182 - 1s - loss: 0.6498 - accuracy: 0.6237 - val_loss: 0.6473 - val_accuracy: 0.6473 - 1s/epoch - 6ms/step\n",
      "Epoch 11/50\n",
      "182/182 - 1s - loss: 0.6417 - accuracy: 0.6373 - val_loss: 0.6422 - val_accuracy: 0.6529 - 1s/epoch - 6ms/step\n",
      "Epoch 12/50\n",
      "182/182 - 1s - loss: 0.6423 - accuracy: 0.6342 - val_loss: 0.6379 - val_accuracy: 0.6494 - 1s/epoch - 6ms/step\n",
      "Epoch 13/50\n",
      "182/182 - 1s - loss: 0.6374 - accuracy: 0.6418 - val_loss: 0.6367 - val_accuracy: 0.6501 - 1s/epoch - 6ms/step\n",
      "Epoch 14/50\n",
      "182/182 - 1s - loss: 0.6353 - accuracy: 0.6446 - val_loss: 0.6367 - val_accuracy: 0.6591 - 1s/epoch - 6ms/step\n",
      "Epoch 15/50\n",
      "182/182 - 1s - loss: 0.6250 - accuracy: 0.6527 - val_loss: 0.6316 - val_accuracy: 0.6646 - 1s/epoch - 6ms/step\n",
      "Epoch 16/50\n",
      "182/182 - 1s - loss: 0.6233 - accuracy: 0.6537 - val_loss: 0.6319 - val_accuracy: 0.6556 - 1s/epoch - 6ms/step\n",
      "Epoch 17/50\n",
      "182/182 - 1s - loss: 0.6215 - accuracy: 0.6572 - val_loss: 0.6262 - val_accuracy: 0.6591 - 1s/epoch - 6ms/step\n",
      "Epoch 18/50\n",
      "182/182 - 1s - loss: 0.6215 - accuracy: 0.6624 - val_loss: 0.6247 - val_accuracy: 0.6591 - 1s/epoch - 6ms/step\n",
      "Epoch 19/50\n",
      "182/182 - 1s - loss: 0.6192 - accuracy: 0.6655 - val_loss: 0.6290 - val_accuracy: 0.6556 - 1s/epoch - 6ms/step\n",
      "Epoch 20/50\n",
      "182/182 - 1s - loss: 0.6158 - accuracy: 0.6687 - val_loss: 0.6260 - val_accuracy: 0.6563 - 1s/epoch - 6ms/step\n",
      "Epoch 21/50\n",
      "182/182 - 1s - loss: 0.6143 - accuracy: 0.6687 - val_loss: 0.6239 - val_accuracy: 0.6639 - 1s/epoch - 6ms/step\n",
      "Epoch 22/50\n",
      "182/182 - 1s - loss: 0.6148 - accuracy: 0.6629 - val_loss: 0.6252 - val_accuracy: 0.6611 - 1s/epoch - 6ms/step\n",
      "Epoch 23/50\n",
      "182/182 - 1s - loss: 0.6103 - accuracy: 0.6722 - val_loss: 0.6224 - val_accuracy: 0.6646 - 1s/epoch - 6ms/step\n",
      "Epoch 24/50\n",
      "182/182 - 1s - loss: 0.6093 - accuracy: 0.6736 - val_loss: 0.6217 - val_accuracy: 0.6694 - 1s/epoch - 6ms/step\n",
      "Epoch 25/50\n",
      "182/182 - 1s - loss: 0.6051 - accuracy: 0.6770 - val_loss: 0.6222 - val_accuracy: 0.6729 - 1s/epoch - 6ms/step\n",
      "Epoch 26/50\n",
      "182/182 - 1s - loss: 0.6085 - accuracy: 0.6717 - val_loss: 0.6211 - val_accuracy: 0.6715 - 1s/epoch - 6ms/step\n",
      "Epoch 27/50\n",
      "182/182 - 1s - loss: 0.6041 - accuracy: 0.6734 - val_loss: 0.6264 - val_accuracy: 0.6577 - 1s/epoch - 6ms/step\n",
      "Epoch 28/50\n",
      "182/182 - 1s - loss: 0.6013 - accuracy: 0.6815 - val_loss: 0.6204 - val_accuracy: 0.6694 - 1s/epoch - 6ms/step\n",
      "Epoch 29/50\n",
      "182/182 - 1s - loss: 0.5976 - accuracy: 0.6870 - val_loss: 0.6207 - val_accuracy: 0.6667 - 1s/epoch - 6ms/step\n",
      "Epoch 30/50\n",
      "182/182 - 1s - loss: 0.5949 - accuracy: 0.6896 - val_loss: 0.6223 - val_accuracy: 0.6680 - 1s/epoch - 6ms/step\n",
      "Epoch 31/50\n",
      "182/182 - 1s - loss: 0.5920 - accuracy: 0.6848 - val_loss: 0.6213 - val_accuracy: 0.6625 - 1s/epoch - 6ms/step\n",
      "Epoch 32/50\n",
      "182/182 - 1s - loss: 0.5988 - accuracy: 0.6815 - val_loss: 0.6205 - val_accuracy: 0.6653 - 1s/epoch - 6ms/step\n",
      "Epoch 33/50\n",
      "182/182 - 1s - loss: 0.5948 - accuracy: 0.6858 - val_loss: 0.6217 - val_accuracy: 0.6618 - 1s/epoch - 6ms/step\n",
      "Epoch 34/50\n",
      "182/182 - 1s - loss: 0.5874 - accuracy: 0.6853 - val_loss: 0.6276 - val_accuracy: 0.6563 - 1s/epoch - 6ms/step\n",
      "Epoch 35/50\n",
      "182/182 - 1s - loss: 0.5909 - accuracy: 0.6882 - val_loss: 0.6205 - val_accuracy: 0.6605 - 1s/epoch - 6ms/step\n",
      "Epoch 36/50\n",
      "182/182 - 1s - loss: 0.5895 - accuracy: 0.6924 - val_loss: 0.6187 - val_accuracy: 0.6660 - 1s/epoch - 6ms/step\n",
      "Epoch 37/50\n",
      "182/182 - 1s - loss: 0.5826 - accuracy: 0.6948 - val_loss: 0.6199 - val_accuracy: 0.6639 - 1s/epoch - 6ms/step\n",
      "Epoch 38/50\n",
      "182/182 - 1s - loss: 0.5831 - accuracy: 0.6936 - val_loss: 0.6261 - val_accuracy: 0.6549 - 1s/epoch - 6ms/step\n",
      "Epoch 39/50\n",
      "182/182 - 1s - loss: 0.5880 - accuracy: 0.6877 - val_loss: 0.6253 - val_accuracy: 0.6563 - 1s/epoch - 6ms/step\n",
      "Epoch 40/50\n",
      "182/182 - 1s - loss: 0.5808 - accuracy: 0.7021 - val_loss: 0.6242 - val_accuracy: 0.6542 - 1s/epoch - 6ms/step\n",
      "Epoch 41/50\n",
      "182/182 - 1s - loss: 0.5871 - accuracy: 0.6922 - val_loss: 0.6204 - val_accuracy: 0.6639 - 1s/epoch - 6ms/step\n",
      "Epoch 42/50\n",
      "182/182 - 1s - loss: 0.5772 - accuracy: 0.6993 - val_loss: 0.6214 - val_accuracy: 0.6639 - 1s/epoch - 6ms/step\n",
      "Epoch 43/50\n",
      "182/182 - 1s - loss: 0.5794 - accuracy: 0.6974 - val_loss: 0.6178 - val_accuracy: 0.6701 - 1s/epoch - 6ms/step\n",
      "Epoch 44/50\n",
      "182/182 - 1s - loss: 0.5780 - accuracy: 0.7055 - val_loss: 0.6191 - val_accuracy: 0.6618 - 1s/epoch - 6ms/step\n",
      "Epoch 45/50\n",
      "182/182 - 1s - loss: 0.5758 - accuracy: 0.7024 - val_loss: 0.6208 - val_accuracy: 0.6618 - 1s/epoch - 6ms/step\n",
      "Epoch 46/50\n",
      "182/182 - 1s - loss: 0.5800 - accuracy: 0.7010 - val_loss: 0.6227 - val_accuracy: 0.6591 - 1s/epoch - 6ms/step\n",
      "Epoch 47/50\n",
      "182/182 - 1s - loss: 0.5763 - accuracy: 0.7052 - val_loss: 0.6204 - val_accuracy: 0.6632 - 1s/epoch - 6ms/step\n",
      "Epoch 48/50\n",
      "182/182 - 1s - loss: 0.5712 - accuracy: 0.7081 - val_loss: 0.6230 - val_accuracy: 0.6618 - 1s/epoch - 6ms/step\n",
      "Epoch 49/50\n",
      "182/182 - 1s - loss: 0.5713 - accuracy: 0.7041 - val_loss: 0.6252 - val_accuracy: 0.6591 - 1s/epoch - 6ms/step\n",
      "Epoch 50/50\n",
      "182/182 - 1s - loss: 0.5740 - accuracy: 0.7012 - val_loss: 0.6226 - val_accuracy: 0.6618 - 1s/epoch - 6ms/step\n"
     ]
    }
   ],
   "source": [
    "epochs = 50\n",
    "batch_size = 32\n",
    "\n",
    "model = build_model(None)\n",
    "\n",
    "model.fit(\n",
    "    X_train,\n",
    "    y_train,\n",
    "    validation_data=(X_test, y_test),\n",
    "    epochs=epochs,\n",
    "    batch_size=batch_size,\n",
    "    verbose=2\n",
    ")\n",
    "\n",
    "# save model to file\n",
    "model.save('../models/model2.h5')"
   ]
  },
  {
   "cell_type": "code",
   "execution_count": 297,
   "metadata": {
    "ExecuteTime": {
     "end_time": "2023-04-27T16:36:16.849476Z",
     "start_time": "2023-04-27T16:36:16.017925Z"
    },
    "pycharm": {
     "is_executing": true
    }
   },
   "outputs": [
    {
     "name": "stdout",
     "output_type": "stream",
     "text": [
      "TEST\n",
      "46/46 [==============================] - 0s 2ms/step\n",
      "Accuracy: 0.6618357487922706\n",
      "Confusion matrix:\n",
      " [[417 308]\n",
      " [182 542]]\n",
      "Classification report:\n",
      "               precision    recall  f1-score   support\n",
      "\n",
      "           0       0.70      0.58      0.63       725\n",
      "           1       0.64      0.75      0.69       724\n",
      "\n",
      "    accuracy                           0.66      1449\n",
      "   macro avg       0.67      0.66      0.66      1449\n",
      "weighted avg       0.67      0.66      0.66      1449\n",
      "\n",
      "TRAIN\n",
      "182/182 [==============================] - 0s 1ms/step\n",
      "Accuracy: 0.7338166752977732\n",
      "Confusion matrix:\n",
      " [[1854 1042]\n",
      " [ 500 2397]]\n",
      "Classification report:\n",
      "               precision    recall  f1-score   support\n",
      "\n",
      "           0       0.79      0.64      0.71      2896\n",
      "           1       0.70      0.83      0.76      2897\n",
      "\n",
      "    accuracy                           0.73      5793\n",
      "   macro avg       0.74      0.73      0.73      5793\n",
      "weighted avg       0.74      0.73      0.73      5793\n",
      "\n"
     ]
    }
   ],
   "source": [
    "print(\"TEST\")\n",
    "y_pred = model.predict(X_test)\n",
    "y_pred_classes = (y_pred > 0.5).astype(int)\n",
    "print(\"Accuracy:\", accuracy_score(y_test, y_pred_classes))\n",
    "print(\"Confusion matrix:\\n\", confusion_matrix(y_test, y_pred_classes))\n",
    "print(\"Classification report:\\n\", classification_report(y_test, y_pred_classes))\n",
    "\n",
    "print(\"TRAIN\")\n",
    "y_pred = model.predict(X_train)\n",
    "y_pred_classes = (y_pred > 0.5).astype(int)\n",
    "print(\"Accuracy:\", accuracy_score(y_train, y_pred_classes))\n",
    "print(\"Confusion matrix:\\n\", confusion_matrix(y_train, y_pred_classes))\n",
    "print(\"Classification report:\\n\", classification_report(y_train, y_pred_classes))\n"
   ]
  }
 ],
 "metadata": {
  "kernelspec": {
   "display_name": "Python 3.10 (IUM)",
   "language": "python",
   "name": "ium"
  },
  "language_info": {
   "codemirror_mode": {
    "name": "ipython",
    "version": 3
   },
   "file_extension": ".py",
   "mimetype": "text/x-python",
   "name": "python",
   "nbconvert_exporter": "python",
   "pygments_lexer": "ipython3",
   "version": "3.10.10"
  }
 },
 "nbformat": 4,
 "nbformat_minor": 1
}
