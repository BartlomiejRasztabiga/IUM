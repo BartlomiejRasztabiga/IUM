{
 "cells": [
  {
   "cell_type": "code",
   "execution_count": 162,
   "metadata": {
    "ExecuteTime": {
     "end_time": "2023-04-27T16:45:29.254452Z",
     "start_time": "2023-04-27T16:45:29.088384Z"
    },
    "collapsed": true
   },
   "outputs": [],
   "source": [
    "import pandas as pd\n",
    "import numpy as np\n",
    "import pickle\n",
    "from sklearn.feature_extraction.text import TfidfVectorizer\n",
    "from sklearn.cluster import KMeans\n",
    "from keras.optimizers import Adam\n",
    "from sklearn.metrics import confusion_matrix, classification_report, accuracy_score\n",
    "from sklearn.preprocessing import MultiLabelBinarizer\n",
    "from sklearn.model_selection import train_test_split\n",
    "\n",
    "from tensorflow import keras\n",
    "\n",
    "from keras.models import Sequential\n",
    "from keras.layers import Dense, Dropout, Input\n",
    "import keras_tuner\n",
    "\n",
    "from tensorboard.plugins.hparams import api as hp"
   ]
  },
  {
   "cell_type": "code",
   "execution_count": 163,
   "metadata": {
    "ExecuteTime": {
     "end_time": "2023-04-27T16:45:29.471102Z",
     "start_time": "2023-04-27T16:45:29.092628Z"
    }
   },
   "outputs": [],
   "source": [
    "DATA_VERSION = \"v2\"\n",
    "\n",
    "merged_data_path = f'../data/{DATA_VERSION}/merged_data.jsonl'\n",
    "data = pd.read_json(merged_data_path, lines=True)"
   ]
  },
  {
   "cell_type": "code",
   "execution_count": 164,
   "metadata": {},
   "outputs": [],
   "source": [
    "# K-MEANS\n",
    "\n",
    "# Prepare the list of unique genres\n",
    "unique_genres = list(set([genre for genres in data['genres'] for genre in genres]) | set(\n",
    "    [genre for genres in data['favourite_genres'] for genre in genres]))\n",
    "\n",
    "# Convert the genres to a matrix of TF-IDF features\n",
    "vectorizer = TfidfVectorizer()\n",
    "vectorized = vectorizer.fit_transform(unique_genres)\n",
    "\n",
    "# Apply K-means clustering\n",
    "num_clusters = 100  # Adjust this value according to your needs\n",
    "kmeans = KMeans(n_clusters=num_clusters, random_state=42, n_init='auto')\n",
    "kmeans.fit(vectorized)\n",
    "labels = kmeans.labels_\n",
    "\n",
    "# Group the genres based on the cluster labels\n",
    "clustered_genres = {}\n",
    "for i, label in enumerate(labels):\n",
    "    if label not in clustered_genres:\n",
    "        clustered_genres[label] = []\n",
    "    clustered_genres[label].append(unique_genres[i])\n",
    "\n",
    "# Map genres to their cluster label\n",
    "genre_to_cluster = {genre: label for label, genres in clustered_genres.items() for genre in genres}\n",
    "\n",
    "\n",
    "# Define the function for mapping genres to simpler forms\n",
    "def map_genre(genre):\n",
    "    cluster_label = genre_to_cluster[genre]\n",
    "    representative_genre = clustered_genres[cluster_label][\n",
    "        0]  # Use the first genre in the cluster as the representative\n",
    "    return representative_genre\n",
    "\n",
    "\n",
    "# Save the genre_to_cluster and clustered_genres dictionaries to use for new data prediction\n",
    "with open('../microservice/models/model2_genre_to_cluster.pickle', 'wb') as f:\n",
    "    pickle.dump(genre_to_cluster, f)\n",
    "\n",
    "with open('../microservice/models/model2_clustered_genres.pickle', 'wb') as f:\n",
    "    pickle.dump(clustered_genres, f)\n",
    "\n",
    "# Apply the mapping function to both 'genres' and 'favourite_genres' columns\n",
    "data['genres'] = data['genres'].apply(lambda x: [map_genre(genre) for genre in x])\n",
    "data['favourite_genres'] = data['favourite_genres'].apply(lambda x: [map_genre(genre) for genre in x])\n",
    "\n",
    "# Delete not unique genres\n",
    "data['genres'] = data['genres'].apply(lambda x: list(set(x)))\n",
    "data['favourite_genres'] = data['favourite_genres'].apply(lambda x: list(set(x)))\n"
   ]
  },
  {
   "cell_type": "code",
   "execution_count": 165,
   "metadata": {},
   "outputs": [
    {
     "name": "stdout",
     "output_type": "stream",
     "text": [
      "100\n"
     ]
    },
    {
     "data": {
      "text/plain": [
       "[('harlem renaissance', 6923),\n",
       " ('polish alternative', 3707),\n",
       " ('slovak pop', 2860),\n",
       " ('australian indie folk', 1571),\n",
       " ('hard bop', 1140),\n",
       " ('art punk', 1126),\n",
       " ('country road', 991),\n",
       " ('new wave', 916),\n",
       " ('roots rock', 793),\n",
       " ('drone metal', 657),\n",
       " ('russian dance', 619),\n",
       " ('uk hip hop', 554),\n",
       " ('taiwan singer-songwriter', 544),\n",
       " ('gangster rap', 499),\n",
       " ('british dance band', 470),\n",
       " ('psychedelic soul', 447),\n",
       " ('uk doom metal', 445),\n",
       " ('progressive bluegrass', 408),\n",
       " ('latin', 373),\n",
       " ('trap latino', 373),\n",
       " ('neon pop punk', 329),\n",
       " ('early modern classical', 321),\n",
       " ('funk', 319),\n",
       " ('jazz organ', 311),\n",
       " ('english indie rock', 242),\n",
       " ('canadian folk', 228),\n",
       " ('brazilian emo', 202),\n",
       " ('acid house', 197),\n",
       " ('piano rock', 173),\n",
       " ('chicago drill', 165),\n",
       " ('spanish rockabilly', 151),\n",
       " ('southern rock', 142),\n",
       " ('us power metal', 139),\n",
       " ('melodic thrash', 131),\n",
       " ('canadian pop punk', 112),\n",
       " ('modern reggae', 110),\n",
       " ('mexican son', 108),\n",
       " ('swing italiano', 108),\n",
       " ('german literature', 105),\n",
       " ('edm', 104),\n",
       " ('turkish punk', 102),\n",
       " ('deep talent show', 99),\n",
       " ('nu gaze', 98),\n",
       " ('rock nacional brasileiro', 92),\n",
       " ('sertanejo', 80),\n",
       " ('early synthpop', 77),\n",
       " ('argentine metal', 77),\n",
       " ('piano mpb', 69),\n",
       " ('girl group', 67),\n",
       " ('vintage swing', 67),\n",
       " ('chanson quebecois', 66),\n",
       " ('swamp pop', 62),\n",
       " ('french rock', 62),\n",
       " ('american modern classical', 60),\n",
       " ('italian alternative', 60),\n",
       " ('danish pop rock', 58),\n",
       " ('russian punk rock', 56),\n",
       " ('samba de roda', 53),\n",
       " ('cumbia ecuatoriana', 52),\n",
       " ('trance', 51),\n",
       " ('dark electro', 50),\n",
       " ('world worship', 47),\n",
       " ('greek pop', 45),\n",
       " ('spanish invasion', 44),\n",
       " ('thai indie pop', 43),\n",
       " ('classic norwegian pop', 38),\n",
       " ('taiwan idol pop', 36),\n",
       " ('flamenco fusion', 35),\n",
       " ('russian alt pop', 35),\n",
       " ('greek drill', 35),\n",
       " ('japanese r&b', 34),\n",
       " ('hungarian punk', 32),\n",
       " ('anime', 30),\n",
       " ('indonesian metal', 29),\n",
       " ('classic opm', 28),\n",
       " ('soundtrack', 27),\n",
       " ('celtic', 24),\n",
       " ('chilean hardcore', 20),\n",
       " ('portuguese pop', 18),\n",
       " ('malaysian pop', 18),\n",
       " ('melodic death metal', 17),\n",
       " ('acoustic pop', 16),\n",
       " ('banda', 14),\n",
       " ('south african gospel', 14),\n",
       " ('belgian hip hop', 13),\n",
       " ('rap tuga underground', 11),\n",
       " ('pakistani pop', 11),\n",
       " ('gothic metal', 9),\n",
       " ('forro', 7),\n",
       " ('freak folk', 6),\n",
       " ('rock cristiano', 6),\n",
       " ('indie quebecois', 5),\n",
       " ('pagan black metal', 5),\n",
       " ('croatian pop', 4),\n",
       " ('ontario indie', 3),\n",
       " ('hong kong indie', 2),\n",
       " ('new mexico music', 1),\n",
       " ('volkspop', 1),\n",
       " ('kolsche karneval', 1),\n",
       " ('indonesian folk', 1)]"
      ]
     },
     "execution_count": 165,
     "metadata": {},
     "output_type": "execute_result"
    }
   ],
   "source": [
    "# count unique genres\n",
    "unique_genres = set()\n",
    "for genres in data['genres']:\n",
    "    unique_genres.update(genres)\n",
    "for genres in data['favourite_genres']:\n",
    "    unique_genres.update(genres)\n",
    "print(len(unique_genres))\n",
    "\n",
    "# how many tracks are per genre\n",
    "genre_count = {}\n",
    "for genres in data['genres']:\n",
    "    for genre in genres:\n",
    "        if genre not in genre_count:\n",
    "            genre_count[genre] = 0\n",
    "        genre_count[genre] += 1\n",
    "\n",
    "genre_count = sorted(genre_count.items(), key=lambda x: x[1], reverse=True)\n",
    "genre_count"
   ]
  },
  {
   "cell_type": "code",
   "execution_count": 166,
   "metadata": {
    "ExecuteTime": {
     "end_time": "2023-04-27T16:45:29.545713Z",
     "start_time": "2023-04-27T16:45:29.475341Z"
    }
   },
   "outputs": [
    {
     "name": "stdout",
     "output_type": "stream",
     "text": [
      "skipped_data (3621, 3)\n",
      "not_skipped_data (6260, 3)\n"
     ]
    }
   ],
   "source": [
    "# balance set\n",
    "skipped_data = data[data[\"skipped\"] == 1]\n",
    "not_skipped_data = data[data[\"skipped\"] == 0]\n",
    "\n",
    "# Split the dataset into subsets based on class labels\n",
    "print(\"skipped_data\", skipped_data.shape)\n",
    "print(\"not_skipped_data\", not_skipped_data.shape)\n",
    "\n",
    "# Calculate the minimum number of samples among all classes\n",
    "min_samples = min(len(skipped_data), len(not_skipped_data))\n",
    "\n",
    "# Randomly select samples from each class subset to match the minimum number of samples\n",
    "skipped_data_balanced = skipped_data.sample(n=min_samples, random_state=42)\n",
    "not_skipped_data_balanced = not_skipped_data.sample(n=min_samples, random_state=42)\n",
    "\n",
    "# Merge the balanced subsets to create the final balanced dataset\n",
    "balanced_data = pd.concat([skipped_data_balanced, not_skipped_data_balanced], axis=0)\n",
    "\n",
    "# Shuffle the balanced dataset\n",
    "balanced_data = balanced_data.sample(frac=1, random_state=42).reset_index(drop=True)"
   ]
  },
  {
   "cell_type": "code",
   "execution_count": 167,
   "metadata": {
    "ExecuteTime": {
     "end_time": "2023-04-27T16:36:02.187991Z",
     "start_time": "2023-04-27T16:36:02.115285Z"
    },
    "pycharm": {
     "is_executing": true
    }
   },
   "outputs": [],
   "source": [
    "# Combine genres and favourite_genres\n",
    "mlb = MultiLabelBinarizer()\n",
    "\n",
    "data['combined_genres'] = data.apply(lambda x: x['genres'] + x['favourite_genres'], axis=1)\n",
    "mlb.fit(data['combined_genres'])\n",
    "\n",
    "encoded_favourite_genres = mlb.transform(balanced_data['favourite_genres'])\n",
    "encoded_genres = mlb.transform(balanced_data['genres'])\n",
    "\n",
    "# save mlb to file\n",
    "with open('../microservice/models/model2_mlb.pickle', 'wb') as f:\n",
    "    pickle.dump(mlb, f)"
   ]
  },
  {
   "cell_type": "code",
   "execution_count": 168,
   "metadata": {
    "ExecuteTime": {
     "end_time": "2023-04-27T16:36:02.188192Z",
     "start_time": "2023-04-27T16:36:02.130018Z"
    },
    "pycharm": {
     "is_executing": true
    }
   },
   "outputs": [
    {
     "name": "stdout",
     "output_type": "stream",
     "text": [
      "Y_train not skipped 2895\n",
      "Y_train skipped 2898\n",
      "Y_train skipped % 0.5002589331952356\n"
     ]
    }
   ],
   "source": [
    "X = np.concatenate([encoded_genres, encoded_favourite_genres], axis=1)\n",
    "\n",
    "# Extract the labels\n",
    "y = balanced_data['skipped'].astype(int).values\n",
    "\n",
    "# Split the data into training and testing sets\n",
    "X_train, X_test, y_train, y_test = train_test_split(X, y, test_size=0.2, shuffle=True)\n",
    "\n",
    "# count skipped and not skipped songs in X_train\n",
    "print(\"Y_train not skipped\", np.count_nonzero(y_train == 0))\n",
    "print(\"Y_train skipped\", np.count_nonzero(y_train == 1))\n",
    "print(\"Y_train skipped %\", np.count_nonzero(y_train == 1) / len(y_train))"
   ]
  },
  {
   "cell_type": "code",
   "execution_count": 169,
   "metadata": {},
   "outputs": [],
   "source": [
    "mode = \"train\"\n",
    "# mode = \"tune\"\n",
    "\n",
    "# NOTATKI Z TRAINU\n",
    "# 2 layer - 111,41  neuronow 0.003 learning rate (20 epok, 0.670 acc) dropout (0.5)\n",
    "\n",
    "# NOTATKI Z TUNINGU\n"
   ]
  },
  {
   "cell_type": "code",
   "execution_count": 170,
   "metadata": {},
   "outputs": [],
   "source": [
    "def build_model(hp):\n",
    "    if mode == \"train\":\n",
    "        model = Sequential()\n",
    "        model.add(Input(shape=(X_train.shape[1])))\n",
    "        model.add(Dense(units=111, activation=\"relu\"))\n",
    "        model.add(Dropout(0.5))\n",
    "        model.add(Dense(units=41, activation=\"relu\"))\n",
    "        model.add(Dropout(0.5))\n",
    "        model.add(Dense(1, activation=\"sigmoid\"))\n",
    "\n",
    "        model.compile(\n",
    "            optimizer=Adam(learning_rate=0.003),\n",
    "            loss='binary_crossentropy', metrics=['accuracy'])\n",
    "    else:\n",
    "        model = Sequential()\n",
    "        model.add(Input(shape=(X_train.shape[1])))\n",
    "\n",
    "        for i in range(hp.Int(\"num_layers\", min_value=1, max_value=3)):\n",
    "            model.add(Dense(units=hp.Int(f\"units_{i}\", min_value=1, max_value=1000, step=5), activation=\"relu\"))\n",
    "            if hp.Boolean(\"dropout\"):\n",
    "                model.add(Dropout(0.5))\n",
    "\n",
    "        model.add(Dense(1, activation=\"sigmoid\"))\n",
    "\n",
    "        model.compile(optimizer=Adam(learning_rate=hp.Float(\"learning_rate\", min_value=0.001, max_value=0.01, sampling=\"log\")),loss='binary_crossentropy', metrics=['accuracy'])\n",
    "\n",
    "    return model"
   ]
  },
  {
   "cell_type": "code",
   "execution_count": 171,
   "metadata": {
    "ExecuteTime": {
     "end_time": "2023-04-27T16:36:16.010901Z",
     "start_time": "2023-04-27T16:36:02.139531Z"
    },
    "pycharm": {
     "is_executing": true
    }
   },
   "outputs": [
    {
     "name": "stdout",
     "output_type": "stream",
     "text": [
      "Epoch 1/20\n",
      "182/182 - 3s - loss: 0.6844 - accuracy: 0.5574 - val_loss: 0.6626 - val_accuracy: 0.5935 - 3s/epoch - 16ms/step\n",
      "Epoch 2/20\n",
      "182/182 - 2s - loss: 0.6633 - accuracy: 0.5869 - val_loss: 0.6492 - val_accuracy: 0.5977 - 2s/epoch - 8ms/step\n",
      "Epoch 3/20\n",
      "182/182 - 1s - loss: 0.6515 - accuracy: 0.6107 - val_loss: 0.6370 - val_accuracy: 0.6156 - 1s/epoch - 7ms/step\n",
      "Epoch 4/20\n",
      "182/182 - 1s - loss: 0.6445 - accuracy: 0.6059 - val_loss: 0.6353 - val_accuracy: 0.6149 - 1s/epoch - 7ms/step\n",
      "Epoch 5/20\n",
      "182/182 - 2s - loss: 0.6382 - accuracy: 0.6268 - val_loss: 0.6379 - val_accuracy: 0.6308 - 2s/epoch - 11ms/step\n",
      "Epoch 6/20\n",
      "182/182 - 2s - loss: 0.6305 - accuracy: 0.6389 - val_loss: 0.6394 - val_accuracy: 0.6356 - 2s/epoch - 9ms/step\n",
      "Epoch 7/20\n",
      "182/182 - 1s - loss: 0.6239 - accuracy: 0.6437 - val_loss: 0.6364 - val_accuracy: 0.6391 - 1s/epoch - 7ms/step\n",
      "Epoch 8/20\n",
      "182/182 - 1s - loss: 0.6157 - accuracy: 0.6456 - val_loss: 0.6335 - val_accuracy: 0.6494 - 1s/epoch - 8ms/step\n",
      "Epoch 9/20\n",
      "182/182 - 2s - loss: 0.6106 - accuracy: 0.6477 - val_loss: 0.6343 - val_accuracy: 0.6398 - 2s/epoch - 9ms/step\n",
      "Epoch 10/20\n",
      "182/182 - 1s - loss: 0.6074 - accuracy: 0.6605 - val_loss: 0.6347 - val_accuracy: 0.6432 - 1s/epoch - 7ms/step\n",
      "Epoch 11/20\n",
      "182/182 - 1s - loss: 0.6060 - accuracy: 0.6636 - val_loss: 0.6390 - val_accuracy: 0.6384 - 1s/epoch - 8ms/step\n",
      "Epoch 12/20\n",
      "182/182 - 1s - loss: 0.6005 - accuracy: 0.6668 - val_loss: 0.6390 - val_accuracy: 0.6322 - 1s/epoch - 7ms/step\n",
      "Epoch 13/20\n",
      "182/182 - 1s - loss: 0.5928 - accuracy: 0.6694 - val_loss: 0.6398 - val_accuracy: 0.6342 - 1s/epoch - 7ms/step\n",
      "Epoch 14/20\n",
      "182/182 - 1s - loss: 0.5861 - accuracy: 0.6803 - val_loss: 0.6520 - val_accuracy: 0.6329 - 1s/epoch - 7ms/step\n",
      "Epoch 15/20\n",
      "182/182 - 1s - loss: 0.5881 - accuracy: 0.6746 - val_loss: 0.6521 - val_accuracy: 0.6322 - 1s/epoch - 7ms/step\n",
      "Epoch 16/20\n",
      "182/182 - 1s - loss: 0.5800 - accuracy: 0.6806 - val_loss: 0.6568 - val_accuracy: 0.6308 - 1s/epoch - 7ms/step\n",
      "Epoch 17/20\n",
      "182/182 - 1s - loss: 0.5717 - accuracy: 0.6858 - val_loss: 0.6566 - val_accuracy: 0.6294 - 1s/epoch - 7ms/step\n",
      "Epoch 18/20\n",
      "182/182 - 2s - loss: 0.5693 - accuracy: 0.6969 - val_loss: 0.6531 - val_accuracy: 0.6404 - 2s/epoch - 11ms/step\n",
      "Epoch 19/20\n",
      "182/182 - 1s - loss: 0.5664 - accuracy: 0.6967 - val_loss: 0.6608 - val_accuracy: 0.6446 - 1s/epoch - 8ms/step\n",
      "Epoch 20/20\n",
      "182/182 - 1s - loss: 0.5606 - accuracy: 0.6953 - val_loss: 0.6561 - val_accuracy: 0.6432 - 1s/epoch - 7ms/step\n"
     ]
    }
   ],
   "source": [
    "if mode == \"train\":\n",
    "    model = build_model(None)\n",
    "    model.fit(\n",
    "        X_train,\n",
    "        y_train,\n",
    "        validation_data=(X_test, y_test),\n",
    "        epochs=20,\n",
    "        batch_size=32,\n",
    "        verbose=2\n",
    "    )\n",
    "else:\n",
    "    tuner = keras_tuner.RandomSearch(\n",
    "        hypermodel=build_model,\n",
    "        objective=\"val_accuracy\",\n",
    "        max_trials=100,\n",
    "        executions_per_trial=1,\n",
    "        overwrite=True,\n",
    "        directory=\"tuner\",\n",
    "        project_name=\"IUM\",\n",
    "    )\n",
    "\n",
    "    stop_early = keras.callbacks.EarlyStopping(monitor='val_loss', patience=5)\n",
    "    tensorboard_callback = keras.callbacks.TensorBoard(log_dir=\"logs\")\n",
    "\n",
    "    tuner.search_space_summary()\n",
    "\n",
    "    tuner.search(X_train, y_train, epochs=20, validation_data=(X_test, y_test), callbacks=[stop_early, tensorboard_callback])\n",
    "\n",
    "    tuner.results_summary()"
   ]
  },
  {
   "cell_type": "code",
   "execution_count": 172,
   "metadata": {},
   "outputs": [
    {
     "name": "stdout",
     "output_type": "stream",
     "text": [
      "TEST\n",
      "46/46 [==============================] - 0s 3ms/step\n",
      "Accuracy: 0.6432022084195997\n",
      "Confusion matrix:\n",
      " [[427 299]\n",
      " [218 505]]\n",
      "Classification report:\n",
      "               precision    recall  f1-score   support\n",
      "\n",
      "           0       0.66      0.59      0.62       726\n",
      "           1       0.63      0.70      0.66       723\n",
      "\n",
      "    accuracy                           0.64      1449\n",
      "   macro avg       0.65      0.64      0.64      1449\n",
      "weighted avg       0.65      0.64      0.64      1449\n",
      "\n",
      "TRAIN\n",
      "182/182 [==============================] - 0s 2ms/step\n",
      "Accuracy: 0.7279475228724323\n",
      "Confusion matrix:\n",
      " [[1983  912]\n",
      " [ 664 2234]]\n",
      "Classification report:\n",
      "               precision    recall  f1-score   support\n",
      "\n",
      "           0       0.75      0.68      0.72      2895\n",
      "           1       0.71      0.77      0.74      2898\n",
      "\n",
      "    accuracy                           0.73      5793\n",
      "   macro avg       0.73      0.73      0.73      5793\n",
      "weighted avg       0.73      0.73      0.73      5793\n",
      "\n",
      "ALL\n",
      "227/227 [==============================] - 0s 2ms/step\n",
      "Accuracy: 0.7109914388290528\n",
      "Confusion matrix:\n",
      " [[2410 1211]\n",
      " [ 882 2739]]\n",
      "Classification report:\n",
      "               precision    recall  f1-score   support\n",
      "\n",
      "           0       0.73      0.67      0.70      3621\n",
      "           1       0.69      0.76      0.72      3621\n",
      "\n",
      "    accuracy                           0.71      7242\n",
      "   macro avg       0.71      0.71      0.71      7242\n",
      "weighted avg       0.71      0.71      0.71      7242\n",
      "\n"
     ]
    }
   ],
   "source": [
    "if mode == \"train\":\n",
    "    # save model to file\n",
    "    model.save('../microservice/models/model2.h5')\n",
    "\n",
    "    print(\"TEST\")\n",
    "    y_pred = model.predict(X_test)\n",
    "    y_pred_classes = (y_pred > 0.5).astype(int)\n",
    "    print(\"Accuracy:\", accuracy_score(y_test, y_pred_classes))\n",
    "    print(\"Confusion matrix:\\n\", confusion_matrix(y_test, y_pred_classes))\n",
    "    print(\"Classification report:\\n\", classification_report(y_test, y_pred_classes))\n",
    "\n",
    "    print(\"TRAIN\")\n",
    "    y_pred = model.predict(X_train)\n",
    "    y_pred_classes = (y_pred > 0.5).astype(int)\n",
    "    print(\"Accuracy:\", accuracy_score(y_train, y_pred_classes))\n",
    "    print(\"Confusion matrix:\\n\", confusion_matrix(y_train, y_pred_classes))\n",
    "    print(\"Classification report:\\n\", classification_report(y_train, y_pred_classes))\n",
    "\n",
    "    print(\"ALL\")\n",
    "    y_pred = model.predict(X)\n",
    "    y_pred_classes = (y_pred > 0.5).astype(int)\n",
    "    print(\"Accuracy:\", accuracy_score(y, y_pred_classes))\n",
    "    print(\"Confusion matrix:\\n\", confusion_matrix(y, y_pred_classes))\n",
    "    print(\"Classification report:\\n\", classification_report(y, y_pred_classes))\n"
   ]
  }
 ],
 "metadata": {
  "kernelspec": {
   "display_name": "Python 3.10 (IUM)",
   "language": "python",
   "name": "ium"
  },
  "language_info": {
   "codemirror_mode": {
    "name": "ipython",
    "version": 3
   },
   "file_extension": ".py",
   "mimetype": "text/x-python",
   "name": "python",
   "nbconvert_exporter": "python",
   "pygments_lexer": "ipython3",
   "version": "3.10.10"
  }
 },
 "nbformat": 4,
 "nbformat_minor": 1
}
