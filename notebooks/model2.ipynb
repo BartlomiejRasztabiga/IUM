{
 "cells": [
  {
   "cell_type": "code",
   "execution_count": 14,
   "metadata": {
    "collapsed": true
   },
   "outputs": [],
   "source": [
    "import pandas as pd\n",
    "import numpy as np\n",
    "from sklearn.metrics import confusion_matrix, classification_report, accuracy_score\n",
    "from sklearn.preprocessing import MultiLabelBinarizer\n",
    "from sklearn.model_selection import train_test_split\n",
    "\n",
    "from tensorflow import keras\n",
    "\n",
    "from keras.models import Sequential\n",
    "from keras.layers import Dense, Dropout"
   ]
  },
  {
   "cell_type": "code",
   "execution_count": 15,
   "outputs": [
    {
     "data": {
      "text/plain": "                timestamp  session_id   \n0 2023-01-03 05:09:55.000         124  \\\n1 2023-02-08 21:41:02.507         151   \n2 2023-02-12 01:17:14.946         544   \n3 2023-01-03 03:59:59.738         534   \n4 2023-03-07 14:28:25.702         547   \n\n                                    favourite_genres   \n0                   [permanent wave, mandopop, funk]  \\\n1                    [filmi, regional mexican, folk]   \n2  [psychedelic rock, country rock, rock en espanol]   \n3  [psychedelic rock, country rock, rock en espanol]   \n4  [psychedelic rock, country rock, rock en espanol]   \n\n                                              genres  skipped  \n0  [album rock, art rock, classic rock, folk rock...    False  \n1  [album rock, art rock, classic rock, folk rock...    False  \n2  [album rock, art rock, classic rock, folk rock...    False  \n3  [album rock, art rock, classic rock, folk rock...    False  \n4  [album rock, art rock, classic rock, folk rock...    False  ",
      "text/html": "<div>\n<style scoped>\n    .dataframe tbody tr th:only-of-type {\n        vertical-align: middle;\n    }\n\n    .dataframe tbody tr th {\n        vertical-align: top;\n    }\n\n    .dataframe thead th {\n        text-align: right;\n    }\n</style>\n<table border=\"1\" class=\"dataframe\">\n  <thead>\n    <tr style=\"text-align: right;\">\n      <th></th>\n      <th>timestamp</th>\n      <th>session_id</th>\n      <th>favourite_genres</th>\n      <th>genres</th>\n      <th>skipped</th>\n    </tr>\n  </thead>\n  <tbody>\n    <tr>\n      <th>0</th>\n      <td>2023-01-03 05:09:55.000</td>\n      <td>124</td>\n      <td>[permanent wave, mandopop, funk]</td>\n      <td>[album rock, art rock, classic rock, folk rock...</td>\n      <td>False</td>\n    </tr>\n    <tr>\n      <th>1</th>\n      <td>2023-02-08 21:41:02.507</td>\n      <td>151</td>\n      <td>[filmi, regional mexican, folk]</td>\n      <td>[album rock, art rock, classic rock, folk rock...</td>\n      <td>False</td>\n    </tr>\n    <tr>\n      <th>2</th>\n      <td>2023-02-12 01:17:14.946</td>\n      <td>544</td>\n      <td>[psychedelic rock, country rock, rock en espanol]</td>\n      <td>[album rock, art rock, classic rock, folk rock...</td>\n      <td>False</td>\n    </tr>\n    <tr>\n      <th>3</th>\n      <td>2023-01-03 03:59:59.738</td>\n      <td>534</td>\n      <td>[psychedelic rock, country rock, rock en espanol]</td>\n      <td>[album rock, art rock, classic rock, folk rock...</td>\n      <td>False</td>\n    </tr>\n    <tr>\n      <th>4</th>\n      <td>2023-03-07 14:28:25.702</td>\n      <td>547</td>\n      <td>[psychedelic rock, country rock, rock en espanol]</td>\n      <td>[album rock, art rock, classic rock, folk rock...</td>\n      <td>False</td>\n    </tr>\n  </tbody>\n</table>\n</div>"
     },
     "execution_count": 15,
     "metadata": {},
     "output_type": "execute_result"
    }
   ],
   "source": [
    "merged_data_path = '../data/merged_data.jsonl'\n",
    "data = pd.read_json(merged_data_path, lines=True)\n",
    "\n",
    "data = data.drop(columns=[\"user_id\", \"track_id\"])\n",
    "\n",
    "data = data.drop(\n",
    "    columns=[\"release_date\", \"key\", \"loudness\", \"popularity\",\n",
    "             \"duration_ms\", \"explicit\",\n",
    "             \"danceability\", \"energy\", \"speechiness\",\n",
    "             \"acousticness\", \"instrumentalness\", \"liveness\", \"valence\", \"tempo\"])\n",
    "\n",
    "data.head(5)"
   ],
   "metadata": {
    "collapsed": false
   }
  },
  {
   "cell_type": "code",
   "execution_count": 16,
   "outputs": [],
   "source": [
    "# Combine genres and favourite_genres\n",
    "all_genres = list(data['favourite_genres'] + data['genres'])\n",
    "\n",
    "# One-hot encode the genres\n",
    "mlb = MultiLabelBinarizer()\n",
    "encoded_all_genres = mlb.fit_transform(all_genres)\n",
    "\n",
    "# Split encoded_genres into genres and favourite_genres\n",
    "encoded_favourite_genres = encoded_all_genres[:, :len(data['favourite_genres'][0])]\n",
    "encoded_genres = encoded_all_genres[:, len(data['favourite_genres'][0]):]"
   ],
   "metadata": {
    "collapsed": false
   }
  },
  {
   "cell_type": "code",
   "execution_count": 17,
   "outputs": [],
   "source": [
    "# Concatenate the one-hot encoded columns\n",
    "X = np.concatenate([encoded_favourite_genres, encoded_genres], axis=1)\n",
    "\n",
    "# Extract the labels\n",
    "y = data['skipped'].astype(int).values\n",
    "\n",
    "# Split the data into training and testing sets\n",
    "X_train, X_test, y_train, y_test = train_test_split(X, y, test_size=0.2, random_state=42)"
   ],
   "metadata": {
    "collapsed": false
   }
  },
  {
   "cell_type": "code",
   "execution_count": 18,
   "outputs": [],
   "source": [
    "model = Sequential()\n",
    "model.add(Dense(6000, activation='relu', input_shape=(X_train.shape[1],)))\n",
    "model.add(Dropout(0.5))\n",
    "model.add(Dense(3000, activation='relu'))\n",
    "model.add(Dropout(0.5))\n",
    "model.add(Dense(1000, activation='relu'))\n",
    "model.add(Dropout(0.5))\n",
    "model.add(Dense(1, activation='sigmoid'))\n",
    "\n",
    "model.compile(optimizer='adam', loss='binary_crossentropy', metrics=['accuracy'])\n"
   ],
   "metadata": {
    "collapsed": false
   }
  },
  {
   "cell_type": "code",
   "execution_count": 19,
   "outputs": [
    {
     "name": "stdout",
     "output_type": "stream",
     "text": [
      "Epoch 1/50\n",
      "198/198 - 5s - loss: 0.6134 - accuracy: 0.6655 - val_loss: 0.6011 - val_accuracy: 0.6831 - 5s/epoch - 24ms/step\n",
      "Epoch 2/50\n",
      "198/198 - 3s - loss: 0.5430 - accuracy: 0.7179 - val_loss: 0.6205 - val_accuracy: 0.6799 - 3s/epoch - 16ms/step\n",
      "Epoch 3/50\n",
      "198/198 - 3s - loss: 0.4699 - accuracy: 0.7636 - val_loss: 0.6685 - val_accuracy: 0.6686 - 3s/epoch - 15ms/step\n",
      "Epoch 4/50\n",
      "198/198 - 3s - loss: 0.4035 - accuracy: 0.8066 - val_loss: 0.7605 - val_accuracy: 0.6654 - 3s/epoch - 15ms/step\n",
      "Epoch 5/50\n",
      "198/198 - 3s - loss: 0.3532 - accuracy: 0.8311 - val_loss: 0.8664 - val_accuracy: 0.6578 - 3s/epoch - 15ms/step\n",
      "Epoch 6/50\n",
      "198/198 - 3s - loss: 0.3128 - accuracy: 0.8477 - val_loss: 1.0232 - val_accuracy: 0.6553 - 3s/epoch - 15ms/step\n",
      "Epoch 7/50\n",
      "198/198 - 3s - loss: 0.2782 - accuracy: 0.8653 - val_loss: 1.0803 - val_accuracy: 0.6509 - 3s/epoch - 15ms/step\n",
      "Epoch 8/50\n",
      "198/198 - 3s - loss: 0.2638 - accuracy: 0.8714 - val_loss: 1.1853 - val_accuracy: 0.6660 - 3s/epoch - 15ms/step\n",
      "Epoch 9/50\n",
      "198/198 - 3s - loss: 0.2412 - accuracy: 0.8785 - val_loss: 1.3971 - val_accuracy: 0.6635 - 3s/epoch - 15ms/step\n",
      "Epoch 10/50\n",
      "198/198 - 3s - loss: 0.2267 - accuracy: 0.8864 - val_loss: 1.5827 - val_accuracy: 0.6496 - 3s/epoch - 15ms/step\n",
      "Epoch 11/50\n",
      "198/198 - 3s - loss: 0.2106 - accuracy: 0.8912 - val_loss: 1.6304 - val_accuracy: 0.6584 - 3s/epoch - 15ms/step\n",
      "Epoch 12/50\n",
      "198/198 - 3s - loss: 0.2032 - accuracy: 0.8956 - val_loss: 1.8799 - val_accuracy: 0.6597 - 3s/epoch - 15ms/step\n",
      "Epoch 13/50\n",
      "198/198 - 3s - loss: 0.1895 - accuracy: 0.8991 - val_loss: 1.9997 - val_accuracy: 0.6584 - 3s/epoch - 15ms/step\n",
      "Epoch 14/50\n",
      "198/198 - 3s - loss: 0.1878 - accuracy: 0.9000 - val_loss: 1.9362 - val_accuracy: 0.6698 - 3s/epoch - 15ms/step\n",
      "Epoch 15/50\n",
      "198/198 - 3s - loss: 0.1835 - accuracy: 0.9016 - val_loss: 1.6836 - val_accuracy: 0.6439 - 3s/epoch - 15ms/step\n",
      "Epoch 16/50\n",
      "198/198 - 3s - loss: 0.1859 - accuracy: 0.9023 - val_loss: 1.7646 - val_accuracy: 0.6616 - 3s/epoch - 15ms/step\n",
      "Epoch 17/50\n",
      "198/198 - 3s - loss: 0.1734 - accuracy: 0.9070 - val_loss: 1.7326 - val_accuracy: 0.6546 - 3s/epoch - 15ms/step\n",
      "Epoch 18/50\n",
      "198/198 - 3s - loss: 0.1692 - accuracy: 0.9070 - val_loss: 2.4690 - val_accuracy: 0.6597 - 3s/epoch - 15ms/step\n",
      "Epoch 19/50\n",
      "198/198 - 3s - loss: 0.1723 - accuracy: 0.9084 - val_loss: 2.1896 - val_accuracy: 0.6509 - 3s/epoch - 15ms/step\n",
      "Epoch 20/50\n",
      "198/198 - 3s - loss: 0.1812 - accuracy: 0.9072 - val_loss: 1.3556 - val_accuracy: 0.6483 - 3s/epoch - 15ms/step\n",
      "Epoch 21/50\n",
      "198/198 - 3s - loss: 0.1727 - accuracy: 0.9097 - val_loss: 2.0372 - val_accuracy: 0.6603 - 3s/epoch - 15ms/step\n",
      "Epoch 22/50\n",
      "198/198 - 3s - loss: 0.1706 - accuracy: 0.9091 - val_loss: 1.9063 - val_accuracy: 0.6528 - 3s/epoch - 15ms/step\n",
      "Epoch 23/50\n",
      "198/198 - 3s - loss: 0.1699 - accuracy: 0.9129 - val_loss: 1.6856 - val_accuracy: 0.6540 - 3s/epoch - 15ms/step\n",
      "Epoch 24/50\n",
      "198/198 - 3s - loss: 0.1574 - accuracy: 0.9136 - val_loss: 2.2789 - val_accuracy: 0.6553 - 3s/epoch - 15ms/step\n",
      "Epoch 25/50\n",
      "198/198 - 3s - loss: 0.1523 - accuracy: 0.9119 - val_loss: 2.6220 - val_accuracy: 0.6534 - 3s/epoch - 15ms/step\n",
      "Epoch 26/50\n",
      "198/198 - 3s - loss: 0.1499 - accuracy: 0.9152 - val_loss: 2.7290 - val_accuracy: 0.6565 - 3s/epoch - 15ms/step\n",
      "Epoch 27/50\n",
      "198/198 - 3s - loss: 0.1493 - accuracy: 0.9186 - val_loss: 2.5487 - val_accuracy: 0.6445 - 3s/epoch - 16ms/step\n",
      "Epoch 28/50\n",
      "198/198 - 3s - loss: 0.1510 - accuracy: 0.9141 - val_loss: 2.6019 - val_accuracy: 0.6553 - 3s/epoch - 17ms/step\n",
      "Epoch 29/50\n",
      "198/198 - 3s - loss: 0.1619 - accuracy: 0.9154 - val_loss: 2.5943 - val_accuracy: 0.6452 - 3s/epoch - 17ms/step\n",
      "Epoch 30/50\n",
      "198/198 - 3s - loss: 0.1597 - accuracy: 0.9146 - val_loss: 1.8217 - val_accuracy: 0.6635 - 3s/epoch - 17ms/step\n",
      "Epoch 31/50\n",
      "198/198 - 3s - loss: 0.1577 - accuracy: 0.9151 - val_loss: 2.2874 - val_accuracy: 0.6572 - 3s/epoch - 16ms/step\n",
      "Epoch 32/50\n",
      "198/198 - 3s - loss: 0.1510 - accuracy: 0.9151 - val_loss: 2.6475 - val_accuracy: 0.6565 - 3s/epoch - 17ms/step\n",
      "Epoch 33/50\n",
      "198/198 - 3s - loss: 0.1498 - accuracy: 0.9151 - val_loss: 2.7963 - val_accuracy: 0.6667 - 3s/epoch - 17ms/step\n",
      "Epoch 34/50\n",
      "198/198 - 3s - loss: 0.1506 - accuracy: 0.9154 - val_loss: 2.9350 - val_accuracy: 0.6572 - 3s/epoch - 16ms/step\n",
      "Epoch 35/50\n",
      "198/198 - 3s - loss: 0.1552 - accuracy: 0.9118 - val_loss: 2.1626 - val_accuracy: 0.6603 - 3s/epoch - 15ms/step\n",
      "Epoch 36/50\n",
      "198/198 - 3s - loss: 0.1463 - accuracy: 0.9144 - val_loss: 2.1428 - val_accuracy: 0.6572 - 3s/epoch - 16ms/step\n",
      "Epoch 37/50\n",
      "198/198 - 3s - loss: 0.1541 - accuracy: 0.9157 - val_loss: 2.1801 - val_accuracy: 0.6648 - 3s/epoch - 16ms/step\n",
      "Epoch 38/50\n",
      "198/198 - 3s - loss: 0.1589 - accuracy: 0.9138 - val_loss: 2.2309 - val_accuracy: 0.6572 - 3s/epoch - 16ms/step\n",
      "Epoch 39/50\n",
      "198/198 - 3s - loss: 0.1626 - accuracy: 0.9116 - val_loss: 1.9393 - val_accuracy: 0.6477 - 3s/epoch - 16ms/step\n",
      "Epoch 40/50\n",
      "198/198 - 3s - loss: 0.1694 - accuracy: 0.9129 - val_loss: 1.7434 - val_accuracy: 0.6515 - 3s/epoch - 15ms/step\n",
      "Epoch 41/50\n",
      "198/198 - 3s - loss: 0.1601 - accuracy: 0.9133 - val_loss: 2.1129 - val_accuracy: 0.6610 - 3s/epoch - 15ms/step\n",
      "Epoch 42/50\n",
      "198/198 - 3s - loss: 0.1484 - accuracy: 0.9165 - val_loss: 2.4275 - val_accuracy: 0.6490 - 3s/epoch - 15ms/step\n",
      "Epoch 43/50\n",
      "198/198 - 3s - loss: 0.1395 - accuracy: 0.9214 - val_loss: 2.7377 - val_accuracy: 0.6565 - 3s/epoch - 15ms/step\n",
      "Epoch 44/50\n",
      "198/198 - 3s - loss: 0.1414 - accuracy: 0.9192 - val_loss: 2.6860 - val_accuracy: 0.6458 - 3s/epoch - 16ms/step\n",
      "Epoch 45/50\n",
      "198/198 - 3s - loss: 0.1473 - accuracy: 0.9211 - val_loss: 2.3411 - val_accuracy: 0.6559 - 3s/epoch - 15ms/step\n",
      "Epoch 46/50\n",
      "198/198 - 3s - loss: 0.1417 - accuracy: 0.9214 - val_loss: 2.5623 - val_accuracy: 0.6603 - 3s/epoch - 15ms/step\n",
      "Epoch 47/50\n",
      "198/198 - 3s - loss: 0.1386 - accuracy: 0.9216 - val_loss: 3.2065 - val_accuracy: 0.6464 - 3s/epoch - 16ms/step\n",
      "Epoch 48/50\n",
      "198/198 - 3s - loss: 0.1387 - accuracy: 0.9193 - val_loss: 3.3306 - val_accuracy: 0.6483 - 3s/epoch - 16ms/step\n",
      "Epoch 49/50\n",
      "198/198 - 3s - loss: 0.1481 - accuracy: 0.9182 - val_loss: 2.8885 - val_accuracy: 0.6616 - 3s/epoch - 16ms/step\n",
      "Epoch 50/50\n",
      "198/198 - 3s - loss: 0.1390 - accuracy: 0.9203 - val_loss: 3.0373 - val_accuracy: 0.6515 - 3s/epoch - 15ms/step\n"
     ]
    }
   ],
   "source": [
    "epochs = 25\n",
    "batch_size = 32\n",
    "\n",
    "history = model.fit(\n",
    "    X_train,\n",
    "    y_train,\n",
    "    validation_split=0.2,\n",
    "    epochs=epochs,\n",
    "    batch_size=batch_size,\n",
    "    verbose=2\n",
    ")\n"
   ],
   "metadata": {
    "collapsed": false
   }
  },
  {
   "cell_type": "code",
   "execution_count": 20,
   "outputs": [
    {
     "name": "stdout",
     "output_type": "stream",
     "text": [
      "62/62 - 0s - loss: 3.2886 - accuracy: 0.6368 - 229ms/epoch - 4ms/step\n",
      "Test set accuracy: 0.6368234753608704\n",
      "TEST\n",
      "62/62 [==============================] - 0s 3ms/step\n",
      "Accuracy: 0.6368234699038948\n",
      "Confusion matrix:\n",
      " [[905 356]\n",
      " [362 354]]\n",
      "Classification report:\n",
      "               precision    recall  f1-score   support\n",
      "\n",
      "           0       0.71      0.72      0.72      1261\n",
      "           1       0.50      0.49      0.50       716\n",
      "\n",
      "    accuracy                           0.64      1977\n",
      "   macro avg       0.61      0.61      0.61      1977\n",
      "weighted avg       0.64      0.64      0.64      1977\n",
      "\n",
      "TRAIN\n",
      "247/247 [==============================] - 1s 3ms/step\n",
      "Accuracy: 0.8701923076923077\n",
      "Confusion matrix:\n",
      " [[4459  540]\n",
      " [ 486 2419]]\n",
      "Classification report:\n",
      "               precision    recall  f1-score   support\n",
      "\n",
      "           0       0.90      0.89      0.90      4999\n",
      "           1       0.82      0.83      0.83      2905\n",
      "\n",
      "    accuracy                           0.87      7904\n",
      "   macro avg       0.86      0.86      0.86      7904\n",
      "weighted avg       0.87      0.87      0.87      7904\n",
      "\n"
     ]
    }
   ],
   "source": [
    "# Evaluate the model on the test set\n",
    "loss, accuracy = model.evaluate(X_test, y_test, verbose=2)\n",
    "print(\"Test set accuracy:\", accuracy)\n",
    "\n",
    "\n",
    "print(\"TEST\")\n",
    "y_pred = model.predict(X_test)\n",
    "y_pred_classes = (y_pred > 0.5).astype(int)\n",
    "print(\"Accuracy:\", accuracy_score(y_test, y_pred_classes))\n",
    "print(\"Confusion matrix:\\n\", confusion_matrix(y_test, y_pred_classes))\n",
    "print(\"Classification report:\\n\", classification_report(y_test, y_pred_classes))\n",
    "\n",
    "print(\"TRAIN\")\n",
    "y_pred = model.predict(X_train)\n",
    "y_pred_classes = (y_pred > 0.5).astype(int)\n",
    "print(\"Accuracy:\", accuracy_score(y_train, y_pred_classes))\n",
    "print(\"Confusion matrix:\\n\", confusion_matrix(y_train, y_pred_classes))\n",
    "print(\"Classification report:\\n\", classification_report(y_train, y_pred_classes))"
   ],
   "metadata": {
    "collapsed": false
   }
  },
  {
   "cell_type": "code",
   "execution_count": 21,
   "outputs": [
    {
     "name": "stdout",
     "output_type": "stream",
     "text": [
      "62/62 [==============================] - 0s 3ms/step\n",
      "Predicted labels: [0 0 1 ... 1 0 1]\n",
      "Actual labels: [0 0 0 ... 1 1 0]\n"
     ]
    }
   ],
   "source": [
    "# Make predictions on the test set\n",
    "y_pred = model.predict(X_test)\n",
    "y_pred_classes = (y_pred > 0.5).astype(int)\n",
    "\n",
    "# Print the predicted and actual labels\n",
    "print(\"Predicted labels:\", y_pred_classes.flatten())\n",
    "print(\"Actual labels:\", y_test)"
   ],
   "metadata": {
    "collapsed": false
   }
  },
  {
   "cell_type": "code",
   "execution_count": 22,
   "outputs": [
    {
     "name": "stdout",
     "output_type": "stream",
     "text": [
      "1/1 [==============================] - 0s 332ms/step\n",
      "Predicted labels: [0]\n",
      "Actual labels: []\n"
     ]
    }
   ],
   "source": [
    "# test with new data\n",
    "\n",
    "new_data = [\n",
    "  ([\"dominican pop\",\"merengue\",\"merengue tipico\",\"tropical\"], [\"blues rock\",\"country rock\",\"lounge\"])\n",
    "]\n",
    "\n",
    "labels = [\n",
    "\n",
    "]\n",
    "\n",
    "new_df = pd.DataFrame(new_data, columns=[\"genres\", \"favourite_genres\"])\n",
    "\n",
    "# Combine genres and favourite_genres\n",
    "all_new_genres = list(new_df['genres'] + new_df['favourite_genres'])\n",
    "\n",
    "# One-hot encode the genres using the previously fit MultiLabelBinarizer (mlb)\n",
    "encoded_new_genres = mlb.transform(all_new_genres)\n",
    "\n",
    "# Split encoded_new_genres into genres and favourite_genres\n",
    "encoded_new_genres1 = encoded_new_genres[:, :len(new_df['genres'][0])]\n",
    "encoded_new_genres2 = encoded_new_genres[:, len(new_df['genres'][0]):]\n",
    "\n",
    "# Concatenate the one-hot encoded columns\n",
    "X_new = np.concatenate([encoded_new_genres1, encoded_new_genres2], axis=1)\n",
    "\n",
    "y_new_pred = model.predict(X_new)\n",
    "y_new_pred_classes = (y_new_pred > 0.5).astype(int)\n",
    "\n",
    "# Print the predicted labels\n",
    "print(\"Predicted labels:\", y_new_pred_classes.flatten())\n",
    "print(\"Actual labels:\", labels)\n"
   ],
   "metadata": {
    "collapsed": false
   }
  }
 ],
 "metadata": {
  "kernelspec": {
   "name": "ium",
   "language": "python",
   "display_name": "Python 3.10 (IUM)"
  },
  "language_info": {
   "codemirror_mode": {
    "name": "ipython",
    "version": 2
   },
   "file_extension": ".py",
   "mimetype": "text/x-python",
   "name": "python",
   "nbconvert_exporter": "python",
   "pygments_lexer": "ipython2",
   "version": "2.7.6"
  }
 },
 "nbformat": 4,
 "nbformat_minor": 0
}
