{
 "cells": [
  {
   "cell_type": "code",
   "execution_count": 823,
   "metadata": {
    "ExecuteTime": {
     "end_time": "2023-04-27T16:45:29.254452Z",
     "start_time": "2023-04-27T16:45:29.088384Z"
    },
    "collapsed": true
   },
   "outputs": [],
   "source": [
    "import pandas as pd\n",
    "import numpy as np\n",
    "import pickle\n",
    "from sklearn.feature_extraction.text import TfidfVectorizer\n",
    "from sklearn.cluster import KMeans\n",
    "from keras.optimizers import Adam\n",
    "from sklearn.metrics import confusion_matrix, classification_report, accuracy_score\n",
    "from sklearn.preprocessing import MultiLabelBinarizer\n",
    "from sklearn.model_selection import train_test_split\n",
    "\n",
    "from tensorflow import keras\n",
    "\n",
    "from keras.models import Sequential\n",
    "from keras.layers import Dense, Dropout, Input\n",
    "import keras_tuner"
   ]
  },
  {
   "cell_type": "code",
   "execution_count": 824,
   "metadata": {
    "ExecuteTime": {
     "end_time": "2023-04-27T16:45:29.471102Z",
     "start_time": "2023-04-27T16:45:29.092628Z"
    }
   },
   "outputs": [],
   "source": [
    "DATA_VERSION = \"v2\"\n",
    "\n",
    "merged_data_path = f'../data/{DATA_VERSION}/merged_data.jsonl'\n",
    "data = pd.read_json(merged_data_path, lines=True)"
   ]
  },
  {
   "cell_type": "code",
   "execution_count": 825,
   "metadata": {},
   "outputs": [],
   "source": [
    "# K-MEANS\n",
    "\n",
    "# Prepare the list of unique genres\n",
    "unique_genres = list(set([genre for genres in data['genres'] for genre in genres]) | set(\n",
    "    [genre for genres in data['favourite_genres'] for genre in genres]))\n",
    "\n",
    "# Convert the genres to a matrix of TF-IDF features\n",
    "vectorizer = TfidfVectorizer()\n",
    "vectorized = vectorizer.fit_transform(unique_genres)\n",
    "\n",
    "# Apply K-means clustering\n",
    "num_clusters = 100  # Adjust this value according to your needs\n",
    "kmeans = KMeans(n_clusters=num_clusters, random_state=42, n_init='auto')\n",
    "kmeans.fit(vectorized)\n",
    "labels = kmeans.labels_\n",
    "\n",
    "# Group the genres based on the cluster labels\n",
    "clustered_genres = {}\n",
    "for i, label in enumerate(labels):\n",
    "    if label not in clustered_genres:\n",
    "        clustered_genres[label] = []\n",
    "    clustered_genres[label].append(unique_genres[i])\n",
    "\n",
    "# Map genres to their cluster label\n",
    "genre_to_cluster = {genre: label for label, genres in clustered_genres.items() for genre in genres}\n",
    "\n",
    "\n",
    "# Define the function for mapping genres to simpler forms\n",
    "def map_genre(genre):\n",
    "    cluster_label = genre_to_cluster[genre]\n",
    "    representative_genre = clustered_genres[cluster_label][\n",
    "        0]  # Use the first genre in the cluster as the representative\n",
    "    return representative_genre\n",
    "\n",
    "\n",
    "# Save the genre_to_cluster and clustered_genres dictionaries to use for new data prediction\n",
    "with open('../microservice/models/model2_genre_to_cluster.pickle', 'wb') as f:\n",
    "    pickle.dump(genre_to_cluster, f)\n",
    "\n",
    "with open('../microservice/models/model2_clustered_genres.pickle', 'wb') as f:\n",
    "    pickle.dump(clustered_genres, f)\n",
    "\n",
    "# Apply the mapping function to both 'genres' and 'favourite_genres' columns\n",
    "data['genres'] = data['genres'].apply(lambda x: [map_genre(genre) for genre in x])\n",
    "data['favourite_genres'] = data['favourite_genres'].apply(lambda x: [map_genre(genre) for genre in x])\n",
    "\n",
    "# Delete not unique genres\n",
    "data['genres'] = data['genres'].apply(lambda x: list(set(x)))\n",
    "data['favourite_genres'] = data['favourite_genres'].apply(lambda x: list(set(x)))\n"
   ]
  },
  {
   "cell_type": "code",
   "execution_count": 826,
   "metadata": {},
   "outputs": [
    {
     "name": "stdout",
     "output_type": "stream",
     "text": [
      "100\n"
     ]
    },
    {
     "data": {
      "text/plain": [
       "[('copla', 5319),\n",
       " ('christian rock', 4667),\n",
       " ('classic uk pop', 3360),\n",
       " ('sunshine pop', 2649),\n",
       " ('scottish folk', 1585),\n",
       " ('melodic hard rock', 1154),\n",
       " ('dark wave', 961),\n",
       " ('classic country pop', 941),\n",
       " ('canadian blues', 893),\n",
       " ('latin alternative', 640),\n",
       " ('intelligent dance music', 618),\n",
       " ('russian heavy metal', 583),\n",
       " ('czsk hip hop', 547),\n",
       " ('houston rap', 546),\n",
       " ('german singer-songwriter', 544),\n",
       " ('japanese post-hardcore', 510),\n",
       " ('british folk', 457),\n",
       " ('southern soul', 450),\n",
       " ('gothic metal', 430),\n",
       " ('progressive electro house', 418),\n",
       " ('trap argentino', 374),\n",
       " ('danish punk', 323),\n",
       " ('p funk', 319),\n",
       " ('taiwan indie', 251),\n",
       " ('australian talent show', 234),\n",
       " ('jazz organ', 207),\n",
       " ('japanese emo', 202),\n",
       " ('filter house', 199),\n",
       " ('urban contemporary', 198),\n",
       " ('disco polo', 180),\n",
       " ('piano rock', 176),\n",
       " ('vocal harmony group', 175),\n",
       " ('neo mellow', 166),\n",
       " ('chicago punk', 165),\n",
       " ('classic dutch pop', 137),\n",
       " ('reggae en espanol', 137),\n",
       " ('mariachi cristiano', 130),\n",
       " ('dancehall', 123),\n",
       " ('mexican rock', 111),\n",
       " ('beat italiano', 108),\n",
       " ('turkish alt pop', 107),\n",
       " ('french reggae', 104),\n",
       " ('vintage cantonese pop', 80),\n",
       " ('sertanejo pop', 80),\n",
       " ('argentine metal', 78),\n",
       " ('finnish progressive rock', 73),\n",
       " ('swedish metal', 67),\n",
       " ('ska', 58),\n",
       " ('j-pixie', 58),\n",
       " ('italian soundtrack', 57),\n",
       " ('musica sarda', 55),\n",
       " ('cumbia paraguaya', 52),\n",
       " ('israeli hip hop', 52),\n",
       " ('samba de roda', 51),\n",
       " ('hard trance', 51),\n",
       " ('library music', 49),\n",
       " ('brazilian rock', 46),\n",
       " ('britpop', 45),\n",
       " ('greek punk', 45),\n",
       " ('spanish modern rock', 45),\n",
       " ('thai folk rock', 43),\n",
       " ('experimental', 38),\n",
       " ('classic norwegian pop', 38),\n",
       " ('folklore paraguayo', 37),\n",
       " ('modern salsa', 36),\n",
       " ('japanese punk rock', 35),\n",
       " ('flamenco guitar', 35),\n",
       " ('hungarian punk', 32),\n",
       " ('indonesian worship', 31),\n",
       " ('dessin anime', 30),\n",
       " ('italian bass', 27),\n",
       " ('electro-industrial', 24),\n",
       " ('hardcore', 24),\n",
       " ('new orleans funk', 21),\n",
       " (\"canzone d'autore\", 19),\n",
       " ('classic portuguese pop', 18),\n",
       " ('classic malaysian pop', 18),\n",
       " ('swedish death metal', 17),\n",
       " ('gospel', 17),\n",
       " ('uk doom metal', 16),\n",
       " ('merengue tipico', 15),\n",
       " ('world', 15),\n",
       " ('banda caliente', 14),\n",
       " ('south african jazz', 14),\n",
       " ('arab pop', 13),\n",
       " ('visual kei', 12),\n",
       " ('nueva trova chilena', 8),\n",
       " ('surf music', 8),\n",
       " ('forro tradicional', 7),\n",
       " ('compositional ambient', 7),\n",
       " ('musique pour enfant quebecois', 7),\n",
       " ('swedish black metal', 5),\n",
       " ('disney horspiele', 5),\n",
       " ('belly dance', 5),\n",
       " ('kodomo no ongaku', 4),\n",
       " ('soca', 3),\n",
       " ('swedish synth', 3),\n",
       " ('rap abc paulista', 3),\n",
       " ('jazz orchestra', 1),\n",
       " ('musica per bambini', 1)]"
      ]
     },
     "execution_count": 826,
     "metadata": {},
     "output_type": "execute_result"
    }
   ],
   "source": [
    "# count unique genres\n",
    "unique_genres = set()\n",
    "for genres in data['genres']:\n",
    "    unique_genres.update(genres)\n",
    "for genres in data['favourite_genres']:\n",
    "    unique_genres.update(genres)\n",
    "print(len(unique_genres))\n",
    "\n",
    "# how many tracks are per genre\n",
    "genre_count = {}\n",
    "for genres in data['genres']:\n",
    "    for genre in genres:\n",
    "        if genre not in genre_count:\n",
    "            genre_count[genre] = 0\n",
    "        genre_count[genre] += 1\n",
    "\n",
    "genre_count = sorted(genre_count.items(), key=lambda x: x[1], reverse=True)\n",
    "genre_count"
   ]
  },
  {
   "cell_type": "code",
   "execution_count": 827,
   "metadata": {
    "ExecuteTime": {
     "end_time": "2023-04-27T16:45:29.545713Z",
     "start_time": "2023-04-27T16:45:29.475341Z"
    }
   },
   "outputs": [
    {
     "name": "stdout",
     "output_type": "stream",
     "text": [
      "skipped_data (3621, 4)\n",
      "not_skipped_data (6260, 4)\n"
     ]
    }
   ],
   "source": [
    "# balance set\n",
    "skipped_data = data[data[\"skipped\"] == 1]\n",
    "not_skipped_data = data[data[\"skipped\"] == 0]\n",
    "\n",
    "# Split the dataset into subsets based on class labels\n",
    "print(\"skipped_data\", skipped_data.shape)\n",
    "print(\"not_skipped_data\", not_skipped_data.shape)\n",
    "\n",
    "# Calculate the minimum number of samples among all classes\n",
    "min_samples = min(len(skipped_data), len(not_skipped_data))\n",
    "\n",
    "# Randomly select samples from each class subset to match the minimum number of samples\n",
    "skipped_data_balanced = skipped_data.sample(n=min_samples, random_state=42)\n",
    "not_skipped_data_balanced = not_skipped_data.sample(n=min_samples, random_state=42)\n",
    "\n",
    "# Merge the balanced subsets to create the final balanced dataset\n",
    "balanced_data = pd.concat([skipped_data_balanced, not_skipped_data_balanced], axis=0)\n",
    "\n",
    "# Shuffle the balanced dataset\n",
    "balanced_data = balanced_data.sample(frac=1, random_state=42).reset_index(drop=True)"
   ]
  },
  {
   "cell_type": "code",
   "execution_count": 828,
   "metadata": {
    "ExecuteTime": {
     "end_time": "2023-04-27T16:36:02.187991Z",
     "start_time": "2023-04-27T16:36:02.115285Z"
    },
    "pycharm": {
     "is_executing": true
    }
   },
   "outputs": [],
   "source": [
    "# Combine genres and favourite_genres\n",
    "mlb = MultiLabelBinarizer()\n",
    "\n",
    "data['combined_genres'] = data.apply(lambda x: x['genres'] + x['favourite_genres'], axis=1)\n",
    "mlb.fit(data['combined_genres'])\n",
    "\n",
    "encoded_favourite_genres = mlb.transform(balanced_data['favourite_genres'])\n",
    "encoded_genres = mlb.transform(balanced_data['genres'])\n",
    "\n",
    "# save mlb to file\n",
    "with open('../microservice/models/model2_mlb.pickle', 'wb') as f:\n",
    "    pickle.dump(mlb, f)\n"
   ]
  },
  {
   "cell_type": "code",
   "execution_count": 829,
   "metadata": {
    "ExecuteTime": {
     "end_time": "2023-04-27T16:36:02.188192Z",
     "start_time": "2023-04-27T16:36:02.130018Z"
    },
    "pycharm": {
     "is_executing": true
    }
   },
   "outputs": [
    {
     "name": "stdout",
     "output_type": "stream",
     "text": [
      "Y_train not skipped 2908\n",
      "Y_train skipped 2885\n",
      "Y_train skipped % 0.4980148455031935\n"
     ]
    }
   ],
   "source": [
    "X = np.concatenate([encoded_genres, encoded_favourite_genres], axis=1)\n",
    "\n",
    "# Extract the labels\n",
    "y = balanced_data['skipped'].astype(int).values\n",
    "\n",
    "# Split the data into training and testing sets\n",
    "X_train, X_test, y_train, y_test = train_test_split(X, y, test_size=0.2, shuffle=True)\n",
    "\n",
    "# count skipped and not skipped songs in X_train\n",
    "print(\"Y_train not skipped\", np.count_nonzero(y_train == 0))\n",
    "print(\"Y_train skipped\", np.count_nonzero(y_train == 1))\n",
    "print(\"Y_train skipped %\", np.count_nonzero(y_train == 1) / len(y_train))"
   ]
  },
  {
   "cell_type": "code",
   "execution_count": 830,
   "metadata": {},
   "outputs": [],
   "source": [
    "mode = \"train\"\n",
    "# mode = \"tune\"\n",
    "\n",
    "# NOTATKI Z TRAINU\n",
    "# 1 layer - ???\n",
    "# 2 layer - 16,8 neuronow 0.0015 learning rate (50 epok, 0.648 ac) dropout (0.5)\n",
    "# 2 layer - 111,41  neuronow 0.003 learning rate (20 epok, 0.670 acc) dropout (0.5)\n",
    "\n",
    "# NOTATKI Z TUNINGU\n",
    "# 2 layer - 100,100 neuronow, 0.001 learning rate (10 epok, 0.641 acc) bez dropoutu"
   ]
  },
  {
   "cell_type": "code",
   "execution_count": 831,
   "metadata": {},
   "outputs": [],
   "source": [
    "def build_model(hp):\n",
    "    if mode == \"train\":\n",
    "        model = Sequential()\n",
    "        model.add(Input(shape=(X_train.shape[1])))\n",
    "        model.add(Dense(units=111, activation=\"relu\"))\n",
    "        model.add(Dropout(0.5))\n",
    "        model.add(Dense(units=41, activation=\"relu\"))\n",
    "        model.add(Dropout(0.5))\n",
    "        model.add(Dense(1, activation=\"sigmoid\"))\n",
    "\n",
    "        model.compile(\n",
    "            optimizer=Adam(learning_rate=0.003),\n",
    "            loss='binary_crossentropy', metrics=['accuracy'])\n",
    "    else:\n",
    "        model = Sequential()\n",
    "        model.add(Input(shape=(X_train.shape[1])))\n",
    "\n",
    "        for i in range(hp.Int(\"num_layers\", min_value=1, max_value=3)):\n",
    "            model.add(Dense(units=hp.Int(f\"units_{i}\", min_value=1, max_value=200, step=5), activation=\"relu\"))\n",
    "            if hp.Boolean(\"dropout\"):\n",
    "                model.add(Dropout(hp.Float(\"dropout_rate\", min_value=0.1, max_value=0.99)))\n",
    "\n",
    "        model.add(Dense(1, activation=\"sigmoid\"))\n",
    "\n",
    "        model.compile(optimizer=Adam(learning_rate=hp.Float(\"learning_rate\", min_value=0.001, max_value=0.01, sampling=\"log\")),loss='binary_crossentropy', metrics=['accuracy'])\n",
    "\n",
    "    return model"
   ]
  },
  {
   "cell_type": "code",
   "execution_count": 832,
   "metadata": {
    "ExecuteTime": {
     "end_time": "2023-04-27T16:36:16.010901Z",
     "start_time": "2023-04-27T16:36:02.139531Z"
    },
    "pycharm": {
     "is_executing": true
    }
   },
   "outputs": [
    {
     "name": "stdout",
     "output_type": "stream",
     "text": [
      "Epoch 1/20\n",
      "182/182 - 3s - loss: 0.6847 - accuracy: 0.5512 - val_loss: 0.6588 - val_accuracy: 0.5990 - 3s/epoch - 16ms/step\n",
      "Epoch 2/20\n",
      "182/182 - 2s - loss: 0.6599 - accuracy: 0.6037 - val_loss: 0.6484 - val_accuracy: 0.6046 - 2s/epoch - 8ms/step\n",
      "Epoch 3/20\n",
      "182/182 - 1s - loss: 0.6489 - accuracy: 0.6116 - val_loss: 0.6402 - val_accuracy: 0.6467 - 1s/epoch - 7ms/step\n",
      "Epoch 4/20\n",
      "182/182 - 1s - loss: 0.6385 - accuracy: 0.6282 - val_loss: 0.6343 - val_accuracy: 0.6418 - 1s/epoch - 7ms/step\n",
      "Epoch 5/20\n",
      "182/182 - 1s - loss: 0.6302 - accuracy: 0.6361 - val_loss: 0.6338 - val_accuracy: 0.6480 - 1s/epoch - 7ms/step\n",
      "Epoch 6/20\n",
      "182/182 - 1s - loss: 0.6259 - accuracy: 0.6378 - val_loss: 0.6319 - val_accuracy: 0.6473 - 1s/epoch - 7ms/step\n",
      "Epoch 7/20\n",
      "182/182 - 1s - loss: 0.6187 - accuracy: 0.6473 - val_loss: 0.6258 - val_accuracy: 0.6418 - 1s/epoch - 7ms/step\n",
      "Epoch 8/20\n",
      "182/182 - 1s - loss: 0.6135 - accuracy: 0.6573 - val_loss: 0.6302 - val_accuracy: 0.6446 - 1s/epoch - 7ms/step\n",
      "Epoch 9/20\n",
      "182/182 - 1s - loss: 0.6030 - accuracy: 0.6639 - val_loss: 0.6323 - val_accuracy: 0.6432 - 1s/epoch - 7ms/step\n",
      "Epoch 10/20\n",
      "182/182 - 1s - loss: 0.6019 - accuracy: 0.6615 - val_loss: 0.6363 - val_accuracy: 0.6377 - 1s/epoch - 6ms/step\n",
      "Epoch 11/20\n",
      "182/182 - 1s - loss: 0.5919 - accuracy: 0.6703 - val_loss: 0.6393 - val_accuracy: 0.6411 - 1s/epoch - 7ms/step\n",
      "Epoch 12/20\n",
      "182/182 - 1s - loss: 0.5886 - accuracy: 0.6718 - val_loss: 0.6469 - val_accuracy: 0.6391 - 1s/epoch - 7ms/step\n",
      "Epoch 13/20\n",
      "182/182 - 1s - loss: 0.5842 - accuracy: 0.6708 - val_loss: 0.6422 - val_accuracy: 0.6404 - 1s/epoch - 7ms/step\n",
      "Epoch 14/20\n",
      "182/182 - 1s - loss: 0.5789 - accuracy: 0.6820 - val_loss: 0.6475 - val_accuracy: 0.6308 - 1s/epoch - 7ms/step\n",
      "Epoch 15/20\n",
      "182/182 - 1s - loss: 0.5740 - accuracy: 0.6789 - val_loss: 0.6483 - val_accuracy: 0.6370 - 1s/epoch - 7ms/step\n",
      "Epoch 16/20\n",
      "182/182 - 1s - loss: 0.5688 - accuracy: 0.6917 - val_loss: 0.6509 - val_accuracy: 0.6480 - 1s/epoch - 8ms/step\n",
      "Epoch 17/20\n",
      "182/182 - 1s - loss: 0.5706 - accuracy: 0.6862 - val_loss: 0.6488 - val_accuracy: 0.6501 - 1s/epoch - 7ms/step\n",
      "Epoch 18/20\n",
      "182/182 - 1s - loss: 0.5586 - accuracy: 0.6917 - val_loss: 0.6577 - val_accuracy: 0.6460 - 1s/epoch - 7ms/step\n",
      "Epoch 19/20\n",
      "182/182 - 1s - loss: 0.5592 - accuracy: 0.6901 - val_loss: 0.6670 - val_accuracy: 0.6446 - 1s/epoch - 7ms/step\n",
      "Epoch 20/20\n",
      "182/182 - 1s - loss: 0.5545 - accuracy: 0.6972 - val_loss: 0.6560 - val_accuracy: 0.6508 - 1s/epoch - 7ms/step\n"
     ]
    }
   ],
   "source": [
    "if mode == \"train\":\n",
    "    model = build_model(None)\n",
    "    model.fit(\n",
    "        X_train,\n",
    "        y_train,\n",
    "        validation_data=(X_test, y_test),\n",
    "        epochs=20,\n",
    "        batch_size=32,\n",
    "        verbose=2\n",
    "    )\n",
    "else:\n",
    "    tuner = keras_tuner.RandomSearch(\n",
    "        hypermodel=build_model,\n",
    "        objective=\"val_accuracy\",\n",
    "        max_trials=50,\n",
    "        executions_per_trial=1,\n",
    "        overwrite=True,\n",
    "        directory=\"tuner\",\n",
    "        project_name=\"IUM\",\n",
    "    )\n",
    "\n",
    "    tuner.search_space_summary()\n",
    "\n",
    "    tuner.search(X_train, y_train, epochs=10, validation_data=(X_test, y_test))\n",
    "\n",
    "    tuner.results_summary()"
   ]
  },
  {
   "cell_type": "code",
   "execution_count": 833,
   "metadata": {},
   "outputs": [
    {
     "name": "stdout",
     "output_type": "stream",
     "text": [
      "TEST\n",
      "46/46 [==============================] - 0s 3ms/step\n",
      "Accuracy: 0.6507936507936508\n",
      "Confusion matrix:\n",
      " [[366 347]\n",
      " [159 577]]\n",
      "Classification report:\n",
      "               precision    recall  f1-score   support\n",
      "\n",
      "           0       0.70      0.51      0.59       713\n",
      "           1       0.62      0.78      0.70       736\n",
      "\n",
      "    accuracy                           0.65      1449\n",
      "   macro avg       0.66      0.65      0.64      1449\n",
      "weighted avg       0.66      0.65      0.64      1449\n",
      "\n",
      "TRAIN\n",
      "182/182 [==============================] - 0s 2ms/step\n",
      "Accuracy: 0.719489038494735\n",
      "Confusion matrix:\n",
      " [[1679 1229]\n",
      " [ 396 2489]]\n",
      "Classification report:\n",
      "               precision    recall  f1-score   support\n",
      "\n",
      "           0       0.81      0.58      0.67      2908\n",
      "           1       0.67      0.86      0.75      2885\n",
      "\n",
      "    accuracy                           0.72      5793\n",
      "   macro avg       0.74      0.72      0.71      5793\n",
      "weighted avg       0.74      0.72      0.71      5793\n",
      "\n",
      "ALL\n",
      "227/227 [==============================] - 0s 2ms/step\n",
      "Accuracy: 0.7057442695388014\n",
      "Confusion matrix:\n",
      " [[2045 1576]\n",
      " [ 555 3066]]\n",
      "Classification report:\n",
      "               precision    recall  f1-score   support\n",
      "\n",
      "           0       0.79      0.56      0.66      3621\n",
      "           1       0.66      0.85      0.74      3621\n",
      "\n",
      "    accuracy                           0.71      7242\n",
      "   macro avg       0.72      0.71      0.70      7242\n",
      "weighted avg       0.72      0.71      0.70      7242\n",
      "\n"
     ]
    }
   ],
   "source": [
    "if mode == \"train\":\n",
    "    # save model to file\n",
    "    model.save('../microservice/models/model2.h5')\n",
    "\n",
    "    print(\"TEST\")\n",
    "    y_pred = model.predict(X_test)\n",
    "    y_pred_classes = (y_pred > 0.5).astype(int)\n",
    "    print(\"Accuracy:\", accuracy_score(y_test, y_pred_classes))\n",
    "    print(\"Confusion matrix:\\n\", confusion_matrix(y_test, y_pred_classes))\n",
    "    print(\"Classification report:\\n\", classification_report(y_test, y_pred_classes))\n",
    "\n",
    "    print(\"TRAIN\")\n",
    "    y_pred = model.predict(X_train)\n",
    "    y_pred_classes = (y_pred > 0.5).astype(int)\n",
    "    print(\"Accuracy:\", accuracy_score(y_train, y_pred_classes))\n",
    "    print(\"Confusion matrix:\\n\", confusion_matrix(y_train, y_pred_classes))\n",
    "    print(\"Classification report:\\n\", classification_report(y_train, y_pred_classes))\n",
    "\n",
    "    print(\"ALL\")\n",
    "    y_pred = model.predict(X)\n",
    "    y_pred_classes = (y_pred > 0.5).astype(int)\n",
    "    print(\"Accuracy:\", accuracy_score(y, y_pred_classes))\n",
    "    print(\"Confusion matrix:\\n\", confusion_matrix(y, y_pred_classes))\n",
    "    print(\"Classification report:\\n\", classification_report(y, y_pred_classes))\n"
   ]
  }
 ],
 "metadata": {
  "kernelspec": {
   "display_name": "Python 3.10 (IUM)",
   "language": "python",
   "name": "ium"
  },
  "language_info": {
   "codemirror_mode": {
    "name": "ipython",
    "version": 3
   },
   "file_extension": ".py",
   "mimetype": "text/x-python",
   "name": "python",
   "nbconvert_exporter": "python",
   "pygments_lexer": "ipython3",
   "version": "3.10.10"
  }
 },
 "nbformat": 4,
 "nbformat_minor": 1
}
