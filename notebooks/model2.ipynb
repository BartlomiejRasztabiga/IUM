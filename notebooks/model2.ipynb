{
 "cells": [
  {
   "cell_type": "code",
   "execution_count": 87,
   "metadata": {
    "ExecuteTime": {
     "end_time": "2023-04-27T16:45:29.254452Z",
     "start_time": "2023-04-27T16:45:29.088384Z"
    },
    "collapsed": true
   },
   "outputs": [],
   "source": [
    "import pandas as pd\n",
    "import numpy as np\n",
    "import pickle\n",
    "from sklearn.feature_extraction.text import TfidfVectorizer\n",
    "from sklearn.cluster import KMeans\n",
    "from keras.optimizers import Adam\n",
    "from sklearn.metrics import confusion_matrix, classification_report, accuracy_score\n",
    "from sklearn.preprocessing import MultiLabelBinarizer\n",
    "from sklearn.model_selection import train_test_split\n",
    "\n",
    "from tensorflow import keras\n",
    "\n",
    "from keras.models import Sequential\n",
    "from keras.layers import Dense, Dropout, Input\n",
    "import keras_tuner"
   ]
  },
  {
   "cell_type": "code",
   "execution_count": 88,
   "metadata": {
    "ExecuteTime": {
     "end_time": "2023-04-27T16:45:29.471102Z",
     "start_time": "2023-04-27T16:45:29.092628Z"
    }
   },
   "outputs": [],
   "source": [
    "DATA_VERSION = \"v2\"\n",
    "\n",
    "merged_data_path = f'../data/{DATA_VERSION}/merged_data.jsonl'\n",
    "data = pd.read_json(merged_data_path, lines=True)"
   ]
  },
  {
   "cell_type": "code",
   "execution_count": 89,
   "metadata": {},
   "outputs": [],
   "source": [
    "# K-MEANS\n",
    "\n",
    "# Prepare the list of unique genres\n",
    "unique_genres = list(set([genre for genres in data['genres'] for genre in genres]) | set(\n",
    "    [genre for genres in data['favourite_genres'] for genre in genres]))\n",
    "\n",
    "# Convert the genres to a matrix of TF-IDF features\n",
    "vectorizer = TfidfVectorizer()\n",
    "vectorized = vectorizer.fit_transform(unique_genres)\n",
    "\n",
    "# Apply K-means clustering\n",
    "num_clusters = 100  # Adjust this value according to your needs\n",
    "kmeans = KMeans(n_clusters=num_clusters, random_state=42, n_init='auto')\n",
    "kmeans.fit(vectorized)\n",
    "labels = kmeans.labels_\n",
    "\n",
    "# Group the genres based on the cluster labels\n",
    "clustered_genres = {}\n",
    "for i, label in enumerate(labels):\n",
    "    if label not in clustered_genres:\n",
    "        clustered_genres[label] = []\n",
    "    clustered_genres[label].append(unique_genres[i])\n",
    "\n",
    "# Map genres to their cluster label\n",
    "genre_to_cluster = {genre: label for label, genres in clustered_genres.items() for genre in genres}\n",
    "\n",
    "\n",
    "# Define the function for mapping genres to simpler forms\n",
    "def map_genre(genre):\n",
    "    cluster_label = genre_to_cluster[genre]\n",
    "    representative_genre = clustered_genres[cluster_label][\n",
    "        0]  # Use the first genre in the cluster as the representative\n",
    "    return representative_genre\n",
    "\n",
    "\n",
    "# Save the genre_to_cluster and clustered_genres dictionaries to use for new data prediction\n",
    "with open('../microservice/models/model2_genre_to_cluster.pickle', 'wb') as f:\n",
    "    pickle.dump(genre_to_cluster, f)\n",
    "\n",
    "with open('../microservice/models/model2_clustered_genres.pickle', 'wb') as f:\n",
    "    pickle.dump(clustered_genres, f)\n",
    "\n",
    "# Apply the mapping function to both 'genres' and 'favourite_genres' columns\n",
    "data['genres'] = data['genres'].apply(lambda x: [map_genre(genre) for genre in x])\n",
    "data['favourite_genres'] = data['favourite_genres'].apply(lambda x: [map_genre(genre) for genre in x])\n",
    "\n",
    "# Delete not unique genres\n",
    "data['genres'] = data['genres'].apply(lambda x: list(set(x)))\n",
    "data['favourite_genres'] = data['favourite_genres'].apply(lambda x: list(set(x)))\n"
   ]
  },
  {
   "cell_type": "code",
   "execution_count": 90,
   "metadata": {},
   "outputs": [
    {
     "name": "stdout",
     "output_type": "stream",
     "text": [
      "100\n"
     ]
    },
    {
     "data": {
      "text/plain": [
       "[('red dirt', 5437),\n",
       " ('peruvian rock', 4656),\n",
       " ('classic j-rock', 3032),\n",
       " ('okinawan pop', 2899),\n",
       " ('croatian folk', 1612),\n",
       " ('hard bop', 1141),\n",
       " ('country pop', 993),\n",
       " ('minimal wave', 953),\n",
       " ('british blues', 915),\n",
       " ('emo rap', 664),\n",
       " ('intelligent dance music', 621),\n",
       " ('post-punk argentina', 587),\n",
       " ('classic dutch pop', 563),\n",
       " ('german singer-songwriter', 544),\n",
       " ('jewish hip hop', 539),\n",
       " ('italian alternative', 528),\n",
       " ('opera metal', 526),\n",
       " ('glam metal', 523),\n",
       " ('philly soul', 450),\n",
       " ('russian trap', 399),\n",
       " ('progressive metal', 369),\n",
       " ('marathi traditional', 364),\n",
       " ('latin classical', 357),\n",
       " ('vocal jazz', 330),\n",
       " ('p funk', 319),\n",
       " ('neo kyma', 217),\n",
       " ('progressive house', 216),\n",
       " ('big beat', 202),\n",
       " ('post-disco', 180),\n",
       " ('girl group', 180),\n",
       " ('barrelhouse piano', 176),\n",
       " ('pop punk', 166),\n",
       " ('chicago drill', 153),\n",
       " ('hungarian punk', 144),\n",
       " ('power-pop punk', 139),\n",
       " ('reggaeton colombiano', 125),\n",
       " ('old school thrash', 120),\n",
       " ('australian dance', 106),\n",
       " ('reggae', 106),\n",
       " ('show tunes', 101),\n",
       " ('vintage cantonese pop', 98),\n",
       " ('pop nacional antigas', 92),\n",
       " ('classic mandopop', 84),\n",
       " ('argentine punk', 82),\n",
       " ('irish banjo', 81),\n",
       " ('black thrash', 73),\n",
       " ('underground rap', 70),\n",
       " ('french indie folk', 62),\n",
       " ('danish indie', 58),\n",
       " ('samba-jazz', 53),\n",
       " ('arab groove', 52),\n",
       " ('cumbia ranchera', 52),\n",
       " ('irish pub song', 48),\n",
       " ('musica yucateca', 47),\n",
       " ('trap mexicano', 47),\n",
       " ('christian rock', 47),\n",
       " ('brazilian indie', 46),\n",
       " ('greek contemporary classical', 45),\n",
       " ('spanish prog', 45),\n",
       " ('naija worship', 45),\n",
       " ('idol kayo', 44),\n",
       " ('thai folk pop', 43),\n",
       " ('icelandic hip hop', 42),\n",
       " ('folklore argentino', 37),\n",
       " ('modern salsa', 36),\n",
       " ('norwegian indie', 36),\n",
       " ('japanese post-hardcore', 35),\n",
       " ('russian alt pop', 35),\n",
       " ('industrial rock', 33),\n",
       " ('czech folk', 33),\n",
       " ('japanese instrumental', 32),\n",
       " ('garage house', 31),\n",
       " ('indonesian psychedelia', 31),\n",
       " ('japanese shoegaze', 31),\n",
       " ('vapor trap', 31),\n",
       " ('classic anime', 30),\n",
       " ('polish punk', 28),\n",
       " ('japanese soundtrack', 27),\n",
       " ('new americana', 25),\n",
       " ('canadian celtic', 24),\n",
       " ('musica popular paraense', 23),\n",
       " ('classical guitar', 20),\n",
       " ('jazz drums', 17),\n",
       " ('dangdut koplo', 17),\n",
       " ('belgian metal', 16),\n",
       " ('african rock', 14),\n",
       " ('swing italiano', 10),\n",
       " ('rap tuga underground', 10),\n",
       " ('bluegrass', 9),\n",
       " ('cyberpunk', 7),\n",
       " ('compositional ambient', 7),\n",
       " ('musique pour enfants', 7),\n",
       " ('pop quebecois', 6),\n",
       " ('musik anak-anak', 5),\n",
       " ('avant-garde', 5),\n",
       " ('japanese jazz fusion', 5),\n",
       " ('jazz cubano', 4),\n",
       " ('post-screamo', 4),\n",
       " ('italian tenor', 3),\n",
       " ('rome indie', 1)]"
      ]
     },
     "execution_count": 90,
     "metadata": {},
     "output_type": "execute_result"
    }
   ],
   "source": [
    "# count unique genres\n",
    "unique_genres = set()\n",
    "for genres in data['genres']:\n",
    "    unique_genres.update(genres)\n",
    "for genres in data['favourite_genres']:\n",
    "    unique_genres.update(genres)\n",
    "print(len(unique_genres))\n",
    "\n",
    "# how many tracks are per genre\n",
    "genre_count = {}\n",
    "for genres in data['genres']:\n",
    "    for genre in genres:\n",
    "        if genre not in genre_count:\n",
    "            genre_count[genre] = 0\n",
    "        genre_count[genre] += 1\n",
    "\n",
    "genre_count = sorted(genre_count.items(), key=lambda x: x[1], reverse=True)\n",
    "genre_count"
   ]
  },
  {
   "cell_type": "code",
   "execution_count": 91,
   "metadata": {
    "ExecuteTime": {
     "end_time": "2023-04-27T16:45:29.545713Z",
     "start_time": "2023-04-27T16:45:29.475341Z"
    }
   },
   "outputs": [
    {
     "name": "stdout",
     "output_type": "stream",
     "text": [
      "skipped_data (3621, 3)\n",
      "not_skipped_data (6260, 3)\n"
     ]
    }
   ],
   "source": [
    "# balance set\n",
    "skipped_data = data[data[\"skipped\"] == 1]\n",
    "not_skipped_data = data[data[\"skipped\"] == 0]\n",
    "\n",
    "# Split the dataset into subsets based on class labels\n",
    "print(\"skipped_data\", skipped_data.shape)\n",
    "print(\"not_skipped_data\", not_skipped_data.shape)\n",
    "\n",
    "# Calculate the minimum number of samples among all classes\n",
    "min_samples = min(len(skipped_data), len(not_skipped_data))\n",
    "\n",
    "# Randomly select samples from each class subset to match the minimum number of samples\n",
    "skipped_data_balanced = skipped_data.sample(n=min_samples, random_state=42)\n",
    "not_skipped_data_balanced = not_skipped_data.sample(n=min_samples, random_state=42)\n",
    "\n",
    "# Merge the balanced subsets to create the final balanced dataset\n",
    "balanced_data = pd.concat([skipped_data_balanced, not_skipped_data_balanced], axis=0)\n",
    "\n",
    "# Shuffle the balanced dataset\n",
    "balanced_data = balanced_data.sample(frac=1, random_state=42).reset_index(drop=True)"
   ]
  },
  {
   "cell_type": "code",
   "execution_count": 92,
   "metadata": {
    "ExecuteTime": {
     "end_time": "2023-04-27T16:36:02.187991Z",
     "start_time": "2023-04-27T16:36:02.115285Z"
    },
    "pycharm": {
     "is_executing": true
    }
   },
   "outputs": [],
   "source": [
    "# Combine genres and favourite_genres\n",
    "mlb = MultiLabelBinarizer()\n",
    "\n",
    "data['combined_genres'] = data.apply(lambda x: x['genres'] + x['favourite_genres'], axis=1)\n",
    "mlb.fit(data['combined_genres'])\n",
    "\n",
    "encoded_favourite_genres = mlb.transform(balanced_data['favourite_genres'])\n",
    "encoded_genres = mlb.transform(balanced_data['genres'])\n",
    "\n",
    "# save mlb to file\n",
    "with open('../microservice/models/model2_mlb.pickle', 'wb') as f:\n",
    "    pickle.dump(mlb, f)\n"
   ]
  },
  {
   "cell_type": "code",
   "execution_count": 93,
   "metadata": {
    "ExecuteTime": {
     "end_time": "2023-04-27T16:36:02.188192Z",
     "start_time": "2023-04-27T16:36:02.130018Z"
    },
    "pycharm": {
     "is_executing": true
    }
   },
   "outputs": [
    {
     "name": "stdout",
     "output_type": "stream",
     "text": [
      "Y_train not skipped 2882\n",
      "Y_train skipped 2911\n",
      "Y_train skipped % 0.5025030208872777\n"
     ]
    }
   ],
   "source": [
    "X = np.concatenate([encoded_genres, encoded_favourite_genres], axis=1)\n",
    "\n",
    "# Extract the labels\n",
    "y = balanced_data['skipped'].astype(int).values\n",
    "\n",
    "# Split the data into training and testing sets\n",
    "X_train, X_test, y_train, y_test = train_test_split(X, y, test_size=0.2, shuffle=True)\n",
    "\n",
    "# count skipped and not skipped songs in X_train\n",
    "print(\"Y_train not skipped\", np.count_nonzero(y_train == 0))\n",
    "print(\"Y_train skipped\", np.count_nonzero(y_train == 1))\n",
    "print(\"Y_train skipped %\", np.count_nonzero(y_train == 1) / len(y_train))"
   ]
  },
  {
   "cell_type": "code",
   "execution_count": 94,
   "metadata": {},
   "outputs": [],
   "source": [
    "# mode = \"train\"\n",
    "mode = \"tune\"\n",
    "\n",
    "# NOTATKI Z TRAINU\n",
    "# 1 layer - ???\n",
    "# 2 layer - 16,8 neuronow 0.0015 learning rate (50 epok, 0.648 ac) dropout (0.5)\n",
    "\n",
    "# NOTATKI Z TUNINGU\n",
    "# 1 layer - 946 neuronow, 0.001 learning rate (10 epok, 0.680 acc) dropout (0.5)\n",
    "# 2 layer - 108,376 neuronow, 0.0015 learning rate (10 epok, 0.641 acc) dropout (0.5)\n",
    "# 3 layer - 836,2576,166 neuronow, 0.0015 learning rate (10 epok, 0.652 acc) dropout (0.5)"
   ]
  },
  {
   "cell_type": "code",
   "execution_count": 95,
   "metadata": {},
   "outputs": [],
   "source": [
    "def build_model(hp):\n",
    "    if mode == \"train\":\n",
    "        model = Sequential()\n",
    "        model.add(Input(shape=(X_train.shape[1])))\n",
    "        model.add(Dense(units=16, activation=\"relu\"))\n",
    "        model.add(Dropout(0.5))\n",
    "        model.add(Dense(units=8, activation=\"relu\"))\n",
    "        model.add(Dropout(0.5))\n",
    "        model.add(Dense(1, activation=\"sigmoid\"))\n",
    "\n",
    "        model.compile(\n",
    "            optimizer=Adam(learning_rate=0.001),\n",
    "            loss='binary_crossentropy', metrics=['accuracy'])\n",
    "    else:\n",
    "        model = Sequential()\n",
    "        model.add(Input(shape=(X_train.shape[1])))\n",
    "\n",
    "        for i in range(hp.Int(\"num_layers\", min_value=1, max_value=3)):\n",
    "            model.add(Dense(units=hp.Int(f\"units_{i}\", min_value=1, max_value=200, step=5), activation=\"relu\"))\n",
    "            if hp.Boolean(\"dropout\"):\n",
    "                model.add(Dropout(hp.Float(\"dropout_rate\", min_value=0.1, max_value=0.99)))\n",
    "\n",
    "        model.add(Dense(1, activation=\"sigmoid\"))\n",
    "\n",
    "        model.compile(optimizer=Adam(learning_rate=hp.Float(\"learning_rate\", min_value=0.001, max_value=0.01, sampling=\"log\")),loss='binary_crossentropy', metrics=['accuracy'])\n",
    "\n",
    "    return model"
   ]
  },
  {
   "cell_type": "code",
   "execution_count": 96,
   "metadata": {
    "ExecuteTime": {
     "end_time": "2023-04-27T16:36:16.010901Z",
     "start_time": "2023-04-27T16:36:02.139531Z"
    },
    "pycharm": {
     "is_executing": true
    }
   },
   "outputs": [
    {
     "name": "stdout",
     "output_type": "stream",
     "text": [
      "Trial 23 Complete [00h 00m 14s]\n",
      "val_accuracy: 0.6432021856307983\n",
      "\n",
      "Best val_accuracy So Far: 0.6487232446670532\n",
      "Total elapsed time: 00h 05m 49s\n",
      "\n",
      "Search: Running Trial #24\n",
      "\n",
      "Value             |Best Value So Far |Hyperparameter\n",
      "2                 |2                 |num_layers\n",
      "186               |51                |units_0\n",
      "False             |False             |dropout\n",
      "0.0035252         |0.0013398         |learning_rate\n",
      "0.29261           |0.61575           |dropout_rate\n",
      "51                |41                |units_1\n",
      "121               |86                |units_2\n",
      "\n",
      "Epoch 1/10\n",
      "182/182 [==============================] - 2s 11ms/step - loss: 0.6730 - accuracy: 0.5757 - val_loss: 0.6444 - val_accuracy: 0.6225\n",
      "Epoch 2/10\n",
      "182/182 [==============================] - 1s 8ms/step - loss: 0.6433 - accuracy: 0.6194 - val_loss: 0.6332 - val_accuracy: 0.6432\n",
      "Epoch 3/10\n",
      "182/182 [==============================] - 1s 8ms/step - loss: 0.6215 - accuracy: 0.6518 - val_loss: 0.6363 - val_accuracy: 0.6197\n",
      "Epoch 4/10\n",
      " 60/182 [========>.....................] - ETA: 0s - loss: 0.6036 - accuracy: 0.6542"
     ]
    }
   ],
   "source": [
    "if mode == \"train\":\n",
    "    model = build_model(None)\n",
    "    model.fit(\n",
    "        X_train,\n",
    "        y_train,\n",
    "        validation_data=(X_test, y_test),\n",
    "        epochs=20,\n",
    "        batch_size=32,\n",
    "        verbose=2\n",
    "    )\n",
    "else:\n",
    "    tuner = keras_tuner.RandomSearch(\n",
    "        hypermodel=build_model,\n",
    "        objective=\"val_accuracy\",\n",
    "        max_trials=50,\n",
    "        executions_per_trial=1,\n",
    "        overwrite=True,\n",
    "        directory=\"tuner\",\n",
    "        project_name=\"IUM\",\n",
    "    )\n",
    "\n",
    "    tuner.search_space_summary()\n",
    "\n",
    "    tuner.search(X_train, y_train, epochs=10, validation_data=(X_test, y_test))\n",
    "\n",
    "    tuner.results_summary()"
   ]
  },
  {
   "cell_type": "code",
   "execution_count": null,
   "metadata": {},
   "outputs": [
    {
     "name": "stdout",
     "output_type": "stream",
     "text": [
      "TEST\n",
      "46/46 [==============================] - 0s 2ms/step\n",
      "Accuracy: 0.6190476190476191\n",
      "Confusion matrix:\n",
      " [[397 315]\n",
      " [237 500]]\n",
      "Classification report:\n",
      "               precision    recall  f1-score   support\n",
      "\n",
      "           0       0.63      0.56      0.59       712\n",
      "           1       0.61      0.68      0.64       737\n",
      "\n",
      "    accuracy                           0.62      1449\n",
      "   macro avg       0.62      0.62      0.62      1449\n",
      "weighted avg       0.62      0.62      0.62      1449\n",
      "\n",
      "TRAIN\n",
      "182/182 [==============================] - 0s 2ms/step\n",
      "Accuracy: 0.6580355601588124\n",
      "Confusion matrix:\n",
      " [[1782 1127]\n",
      " [ 854 2030]]\n",
      "Classification report:\n",
      "               precision    recall  f1-score   support\n",
      "\n",
      "           0       0.68      0.61      0.64      2909\n",
      "           1       0.64      0.70      0.67      2884\n",
      "\n",
      "    accuracy                           0.66      5793\n",
      "   macro avg       0.66      0.66      0.66      5793\n",
      "weighted avg       0.66      0.66      0.66      5793\n",
      "\n",
      "ALL\n",
      "227/227 [==============================] - 0s 2ms/step\n",
      "Accuracy: 0.6502347417840375\n",
      "Confusion matrix:\n",
      " [[2179 1442]\n",
      " [1091 2530]]\n",
      "Classification report:\n",
      "               precision    recall  f1-score   support\n",
      "\n",
      "           0       0.67      0.60      0.63      3621\n",
      "           1       0.64      0.70      0.67      3621\n",
      "\n",
      "    accuracy                           0.65      7242\n",
      "   macro avg       0.65      0.65      0.65      7242\n",
      "weighted avg       0.65      0.65      0.65      7242\n",
      "\n"
     ]
    }
   ],
   "source": [
    "if mode == \"train\":\n",
    "    # save model to file\n",
    "    model.save('../microservice/models/model2.h5')\n",
    "\n",
    "    print(\"TEST\")\n",
    "    y_pred = model.predict(X_test)\n",
    "    y_pred_classes = (y_pred > 0.5).astype(int)\n",
    "    print(\"Accuracy:\", accuracy_score(y_test, y_pred_classes))\n",
    "    print(\"Confusion matrix:\\n\", confusion_matrix(y_test, y_pred_classes))\n",
    "    print(\"Classification report:\\n\", classification_report(y_test, y_pred_classes))\n",
    "\n",
    "    print(\"TRAIN\")\n",
    "    y_pred = model.predict(X_train)\n",
    "    y_pred_classes = (y_pred > 0.5).astype(int)\n",
    "    print(\"Accuracy:\", accuracy_score(y_train, y_pred_classes))\n",
    "    print(\"Confusion matrix:\\n\", confusion_matrix(y_train, y_pred_classes))\n",
    "    print(\"Classification report:\\n\", classification_report(y_train, y_pred_classes))\n",
    "\n",
    "    print(\"ALL\")\n",
    "    y_pred = model.predict(X)\n",
    "    y_pred_classes = (y_pred > 0.5).astype(int)\n",
    "    print(\"Accuracy:\", accuracy_score(y, y_pred_classes))\n",
    "    print(\"Confusion matrix:\\n\", confusion_matrix(y, y_pred_classes))\n",
    "    print(\"Classification report:\\n\", classification_report(y, y_pred_classes))\n"
   ]
  }
 ],
 "metadata": {
  "kernelspec": {
   "display_name": "Python 3.10 (IUM)",
   "language": "python",
   "name": "ium"
  },
  "language_info": {
   "codemirror_mode": {
    "name": "ipython",
    "version": 3
   },
   "file_extension": ".py",
   "mimetype": "text/x-python",
   "name": "python",
   "nbconvert_exporter": "python",
   "pygments_lexer": "ipython3",
   "version": "3.10.10"
  }
 },
 "nbformat": 4,
 "nbformat_minor": 1
}
