{
 "cells": [
  {
   "cell_type": "code",
   "execution_count": 33,
   "metadata": {
    "collapsed": true
   },
   "outputs": [],
   "source": [
    "from sklearn.ensemble import RandomForestClassifier\n",
    "from sklearn.linear_model import LogisticRegression\n",
    "from sklearn.metrics import confusion_matrix, classification_report, accuracy_score\n",
    "from sklearn.preprocessing import MultiLabelBinarizer\n",
    "from sklearn.model_selection import train_test_split\n",
    "\n",
    "import pandas as pd\n",
    "import numpy as np\n"
   ]
  },
  {
   "cell_type": "code",
   "execution_count": 34,
   "outputs": [
    {
     "data": {
      "text/plain": "   popularity  duration_ms  danceability  energy   \n0          34       247707         0.491   0.606  \\\n1          34       247707         0.491   0.606   \n2          34       247707         0.491   0.606   \n3          35       140067         0.449   0.749   \n4          35       140067         0.449   0.749   \n\n                                    favourite_genres    name   \n0                   [permanent wave, mandopop, funk]  T. Rex  \\\n1                    [filmi, regional mexican, folk]  T. Rex   \n2  [psychedelic rock, country rock, rock en espanol]  T. Rex   \n3  [psychedelic rock, country rock, rock en espanol]  T. Rex   \n4  [psychedelic rock, country rock, rock en espanol]  T. Rex   \n\n                                              genres  skipped   \n0  [album rock, art rock, classic rock, folk rock...    False  \\\n1  [album rock, art rock, classic rock, folk rock...    False   \n2  [album rock, art rock, classic rock, folk rock...    False   \n3  [album rock, art rock, classic rock, folk rock...    False   \n4  [album rock, art rock, classic rock, folk rock...    False   \n\n   number_of_matching_genres  \n0                          0  \n1                          0  \n2                          1  \n3                          1  \n4                          1  ",
      "text/html": "<div>\n<style scoped>\n    .dataframe tbody tr th:only-of-type {\n        vertical-align: middle;\n    }\n\n    .dataframe tbody tr th {\n        vertical-align: top;\n    }\n\n    .dataframe thead th {\n        text-align: right;\n    }\n</style>\n<table border=\"1\" class=\"dataframe\">\n  <thead>\n    <tr style=\"text-align: right;\">\n      <th></th>\n      <th>popularity</th>\n      <th>duration_ms</th>\n      <th>danceability</th>\n      <th>energy</th>\n      <th>favourite_genres</th>\n      <th>name</th>\n      <th>genres</th>\n      <th>skipped</th>\n      <th>number_of_matching_genres</th>\n    </tr>\n  </thead>\n  <tbody>\n    <tr>\n      <th>0</th>\n      <td>34</td>\n      <td>247707</td>\n      <td>0.491</td>\n      <td>0.606</td>\n      <td>[permanent wave, mandopop, funk]</td>\n      <td>T. Rex</td>\n      <td>[album rock, art rock, classic rock, folk rock...</td>\n      <td>False</td>\n      <td>0</td>\n    </tr>\n    <tr>\n      <th>1</th>\n      <td>34</td>\n      <td>247707</td>\n      <td>0.491</td>\n      <td>0.606</td>\n      <td>[filmi, regional mexican, folk]</td>\n      <td>T. Rex</td>\n      <td>[album rock, art rock, classic rock, folk rock...</td>\n      <td>False</td>\n      <td>0</td>\n    </tr>\n    <tr>\n      <th>2</th>\n      <td>34</td>\n      <td>247707</td>\n      <td>0.491</td>\n      <td>0.606</td>\n      <td>[psychedelic rock, country rock, rock en espanol]</td>\n      <td>T. Rex</td>\n      <td>[album rock, art rock, classic rock, folk rock...</td>\n      <td>False</td>\n      <td>1</td>\n    </tr>\n    <tr>\n      <th>3</th>\n      <td>35</td>\n      <td>140067</td>\n      <td>0.449</td>\n      <td>0.749</td>\n      <td>[psychedelic rock, country rock, rock en espanol]</td>\n      <td>T. Rex</td>\n      <td>[album rock, art rock, classic rock, folk rock...</td>\n      <td>False</td>\n      <td>1</td>\n    </tr>\n    <tr>\n      <th>4</th>\n      <td>35</td>\n      <td>140067</td>\n      <td>0.449</td>\n      <td>0.749</td>\n      <td>[psychedelic rock, country rock, rock en espanol]</td>\n      <td>T. Rex</td>\n      <td>[album rock, art rock, classic rock, folk rock...</td>\n      <td>False</td>\n      <td>1</td>\n    </tr>\n  </tbody>\n</table>\n</div>"
     },
     "execution_count": 34,
     "metadata": {},
     "output_type": "execute_result"
    }
   ],
   "source": [
    "merged_data_path = '../data/merged_data.jsonl'\n",
    "data = pd.read_json(merged_data_path, lines=True)\n",
    "\n",
    "data = data.drop(\n",
    "    columns=[\"release_date\", \"key\", \"loudness\", \"explicit\",\n",
    "             \"speechiness\",\n",
    "             \"acousticness\", \"instrumentalness\", \"liveness\", \"valence\", \"tempo\"])\n",
    "\n",
    "# data = data.drop(\n",
    "#     columns=[\"release_date\", \"genres\", \"favourite_genres\", \"name\"])\n",
    "\n",
    "data.head(5)"
   ],
   "metadata": {
    "collapsed": false
   }
  },
  {
   "cell_type": "code",
   "execution_count": 35,
   "outputs": [
    {
     "name": "stdout",
     "output_type": "stream",
     "text": [
      "unique_favourite_genres 46\n",
      "unique_genres 1766\n",
      "common genres {'ranchera', 'soul', 'rock', 'vocal jazz', 'new wave pop', 'lounge', 'psychedelic rock', 'permanent wave', 'latin rock', 'country rock', 'new romantic', 'tropical', 'singer-songwriter', 'regional mexican', 'funk', 'folk', 'rock en espanol', 'album rock', 'mandopop', 'pop rock', 'mellow gold', 'alternative metal', 'metal', 'brill building pop', 'adult standards', 'classic rock', 'blues rock', 'europop', 'j-pop', 'turkish pop', 'alternative rock', 'soft rock', 'latin', 'hoerspiel', 'pop', 'c-pop', 'art rock', 'filmi', 'dance pop', 'mpb', 'latin alternative', 'new wave', 'quiet storm', 'hard rock', 'latin pop', 'motown'}\n"
     ]
    },
    {
     "data": {
      "text/plain": "   popularity  duration_ms  danceability  energy   \n0          34       247707         0.491   0.606  \\\n1          34       247707         0.491   0.606   \n2          34       247707         0.491   0.606   \n3          35       140067         0.449   0.749   \n4          35       140067         0.449   0.749   \n\n                                    favourite_genres    name   \n0                   [permanent wave, mandopop, funk]  T. Rex  \\\n1                    [filmi, regional mexican, folk]  T. Rex   \n2  [psychedelic rock, country rock, rock en espanol]  T. Rex   \n3  [psychedelic rock, country rock, rock en espanol]  T. Rex   \n4  [psychedelic rock, country rock, rock en espanol]  T. Rex   \n\n                                              genres  skipped   \n0  [album rock, art rock, classic rock, psychedel...    False  \\\n1  [album rock, art rock, classic rock, psychedel...    False   \n2  [album rock, art rock, classic rock, psychedel...    False   \n3  [album rock, art rock, classic rock, psychedel...    False   \n4  [album rock, art rock, classic rock, psychedel...    False   \n\n   number_of_matching_genres  \n0                          0  \n1                          0  \n2                          1  \n3                          1  \n4                          1  ",
      "text/html": "<div>\n<style scoped>\n    .dataframe tbody tr th:only-of-type {\n        vertical-align: middle;\n    }\n\n    .dataframe tbody tr th {\n        vertical-align: top;\n    }\n\n    .dataframe thead th {\n        text-align: right;\n    }\n</style>\n<table border=\"1\" class=\"dataframe\">\n  <thead>\n    <tr style=\"text-align: right;\">\n      <th></th>\n      <th>popularity</th>\n      <th>duration_ms</th>\n      <th>danceability</th>\n      <th>energy</th>\n      <th>favourite_genres</th>\n      <th>name</th>\n      <th>genres</th>\n      <th>skipped</th>\n      <th>number_of_matching_genres</th>\n    </tr>\n  </thead>\n  <tbody>\n    <tr>\n      <th>0</th>\n      <td>34</td>\n      <td>247707</td>\n      <td>0.491</td>\n      <td>0.606</td>\n      <td>[permanent wave, mandopop, funk]</td>\n      <td>T. Rex</td>\n      <td>[album rock, art rock, classic rock, psychedel...</td>\n      <td>False</td>\n      <td>0</td>\n    </tr>\n    <tr>\n      <th>1</th>\n      <td>34</td>\n      <td>247707</td>\n      <td>0.491</td>\n      <td>0.606</td>\n      <td>[filmi, regional mexican, folk]</td>\n      <td>T. Rex</td>\n      <td>[album rock, art rock, classic rock, psychedel...</td>\n      <td>False</td>\n      <td>0</td>\n    </tr>\n    <tr>\n      <th>2</th>\n      <td>34</td>\n      <td>247707</td>\n      <td>0.491</td>\n      <td>0.606</td>\n      <td>[psychedelic rock, country rock, rock en espanol]</td>\n      <td>T. Rex</td>\n      <td>[album rock, art rock, classic rock, psychedel...</td>\n      <td>False</td>\n      <td>1</td>\n    </tr>\n    <tr>\n      <th>3</th>\n      <td>35</td>\n      <td>140067</td>\n      <td>0.449</td>\n      <td>0.749</td>\n      <td>[psychedelic rock, country rock, rock en espanol]</td>\n      <td>T. Rex</td>\n      <td>[album rock, art rock, classic rock, psychedel...</td>\n      <td>False</td>\n      <td>1</td>\n    </tr>\n    <tr>\n      <th>4</th>\n      <td>35</td>\n      <td>140067</td>\n      <td>0.449</td>\n      <td>0.749</td>\n      <td>[psychedelic rock, country rock, rock en espanol]</td>\n      <td>T. Rex</td>\n      <td>[album rock, art rock, classic rock, psychedel...</td>\n      <td>False</td>\n      <td>1</td>\n    </tr>\n  </tbody>\n</table>\n</div>"
     },
     "execution_count": 35,
     "metadata": {},
     "output_type": "execute_result"
    }
   ],
   "source": [
    "unique_favourite_genres = set()\n",
    "for genres in data['favourite_genres']:\n",
    "  for genre in genres:\n",
    "    unique_favourite_genres.add(genre)\n",
    "\n",
    "unique_genres = set()\n",
    "for genres in data['genres']:\n",
    "  for genre in genres:\n",
    "    unique_genres.add(genre)\n",
    "\n",
    "# show all common genres between all favourite_genres and genres\n",
    "print(\"unique_favourite_genres\", len(unique_favourite_genres))\n",
    "print(\"unique_genres\", len(unique_genres))\n",
    "common_genres = unique_favourite_genres.intersection(unique_genres)\n",
    "print(\"common genres\", common_genres)\n",
    "\n",
    "# remove genres that are not in favourite_genres\n",
    "data['genres'] = data['genres'].apply(\n",
    "    lambda x: [genre for genre in x if genre in common_genres])\n",
    "\n",
    "data.head()\n",
    "\n",
    "# TODO remove ??? moze niepotrzebne"
   ],
   "metadata": {
    "collapsed": false
   }
  },
  {
   "cell_type": "code",
   "execution_count": 36,
   "outputs": [
    {
     "data": {
      "text/plain": "   popularity  popularity_normalized  duration_ms  duration_ms_normalized   \n0          34               0.354167       247707                0.092836  \\\n1          34               0.354167       247707                0.092836   \n2          34               0.354167       247707                0.092836   \n3          35               0.364583       140067                0.046724   \n4          35               0.364583       140067                0.046724   \n\n   number_of_matching_genres  number_of_matching_genres_normalized  skipped  \n0                          0                              0.000000    False  \n1                          0                              0.000000    False  \n2                          1                              0.333333    False  \n3                          1                              0.333333    False  \n4                          1                              0.333333    False  ",
      "text/html": "<div>\n<style scoped>\n    .dataframe tbody tr th:only-of-type {\n        vertical-align: middle;\n    }\n\n    .dataframe tbody tr th {\n        vertical-align: top;\n    }\n\n    .dataframe thead th {\n        text-align: right;\n    }\n</style>\n<table border=\"1\" class=\"dataframe\">\n  <thead>\n    <tr style=\"text-align: right;\">\n      <th></th>\n      <th>popularity</th>\n      <th>popularity_normalized</th>\n      <th>duration_ms</th>\n      <th>duration_ms_normalized</th>\n      <th>number_of_matching_genres</th>\n      <th>number_of_matching_genres_normalized</th>\n      <th>skipped</th>\n    </tr>\n  </thead>\n  <tbody>\n    <tr>\n      <th>0</th>\n      <td>34</td>\n      <td>0.354167</td>\n      <td>247707</td>\n      <td>0.092836</td>\n      <td>0</td>\n      <td>0.000000</td>\n      <td>False</td>\n    </tr>\n    <tr>\n      <th>1</th>\n      <td>34</td>\n      <td>0.354167</td>\n      <td>247707</td>\n      <td>0.092836</td>\n      <td>0</td>\n      <td>0.000000</td>\n      <td>False</td>\n    </tr>\n    <tr>\n      <th>2</th>\n      <td>34</td>\n      <td>0.354167</td>\n      <td>247707</td>\n      <td>0.092836</td>\n      <td>1</td>\n      <td>0.333333</td>\n      <td>False</td>\n    </tr>\n    <tr>\n      <th>3</th>\n      <td>35</td>\n      <td>0.364583</td>\n      <td>140067</td>\n      <td>0.046724</td>\n      <td>1</td>\n      <td>0.333333</td>\n      <td>False</td>\n    </tr>\n    <tr>\n      <th>4</th>\n      <td>35</td>\n      <td>0.364583</td>\n      <td>140067</td>\n      <td>0.046724</td>\n      <td>1</td>\n      <td>0.333333</td>\n      <td>False</td>\n    </tr>\n  </tbody>\n</table>\n</div>"
     },
     "execution_count": 36,
     "metadata": {},
     "output_type": "execute_result"
    }
   ],
   "source": [
    "# Combine genres and favourite_genres\n",
    "all_genres = list(data['favourite_genres'] + data['genres'])\n",
    "\n",
    "# One-hot encode the genres\n",
    "mlb = MultiLabelBinarizer()\n",
    "mlb.fit(all_genres)\n",
    "\n",
    "encoded_all_genres = mlb.fit_transform(all_genres)\n",
    "\n",
    "# Split encoded_genres into genres and favourite_genres\n",
    "# encoded_favourite_genres = encoded_all_genres[:, :len(data['favourite_genres'][0])]\n",
    "# encoded_genres = encoded_all_genres[:, len(data['favourite_genres'][0]):]\n",
    "\n",
    "encoded_favourite_genres = mlb.transform(data['favourite_genres'])\n",
    "encoded_genres = mlb.transform(data['genres'])\n",
    "\n",
    "popularity_normalized = data['popularity'].values.reshape(-1, 1)\n",
    "popularity_normalized = (popularity_normalized - np.min(popularity_normalized)) / (\n",
    "    np.max(popularity_normalized) - np.min(popularity_normalized))\n",
    "\n",
    "duration_ms_normalized = data['duration_ms'].values.reshape(-1, 1)\n",
    "duration_ms_normalized = (duration_ms_normalized - np.min(duration_ms_normalized)) / (\n",
    "    np.max(duration_ms_normalized) - np.min(duration_ms_normalized))\n",
    "\n",
    "danceability_normalized = data['danceability'].values.reshape(-1, 1)\n",
    "danceability_normalized = (danceability_normalized - np.min(danceability_normalized)) / (\n",
    "    np.max(danceability_normalized) - np.min(danceability_normalized))\n",
    "\n",
    "energy_normalized = data['energy'].values.reshape(-1, 1)\n",
    "energy_normalized = (energy_normalized - np.min(energy_normalized)) / (\n",
    "    np.max(energy_normalized) - np.min(energy_normalized))\n",
    "\n",
    "number_of_matching_genres_normalized = data['number_of_matching_genres'].values.reshape(-1, 1)\n",
    "number_of_matching_genres_normalized = (number_of_matching_genres_normalized - np.min(\n",
    "    number_of_matching_genres_normalized)) / (np.max(number_of_matching_genres_normalized) - np.min(\n",
    "    number_of_matching_genres_normalized))\n",
    "\n",
    "# create data frame from data genres, data favourite_genres, encoded genres, encoded favourite_genres\n",
    "df = pd.DataFrame(\n",
    "    data={'popularity': data['popularity'],\n",
    "          'popularity_normalized': popularity_normalized.reshape(-1),\n",
    "          'duration_ms': data['duration_ms'],\n",
    "          'duration_ms_normalized': duration_ms_normalized.reshape(-1),\n",
    "          'number_of_matching_genres': data['number_of_matching_genres'],\n",
    "          'number_of_matching_genres_normalized': number_of_matching_genres_normalized.reshape(-1),\n",
    "          'skipped': data['skipped']})\n",
    "\n",
    "df.head(5)"
   ],
   "metadata": {
    "collapsed": false
   }
  },
  {
   "cell_type": "code",
   "execution_count": 37,
   "outputs": [],
   "source": [
    "# Concatenate the one-hot encoded columns\n",
    "# X = np.concatenate([encoded_favourite_genres, encoded_genres], axis=1)\n",
    "X = np.concatenate([danceability_normalized, energy_normalized], axis=1)\n",
    "# X = np.concatenate([popularity_normalized, duration_ms_normalized, number_of_matching_genres_normalized], axis=1)\n",
    "# X = data.drop(columns=['skipped']).values\n",
    "\n",
    "# Extract the labels\n",
    "y = data['skipped'].astype(int).values\n",
    "\n",
    "# Split the data into training and testing sets\n",
    "X_train, X_test, y_train, y_test = train_test_split(X, y, test_size=0.2, random_state=42)"
   ],
   "metadata": {
    "collapsed": false
   }
  },
  {
   "cell_type": "code",
   "execution_count": 38,
   "outputs": [
    {
     "data": {
      "text/plain": "LogisticRegression()",
      "text/html": "<style>#sk-container-id-5 {color: black;background-color: white;}#sk-container-id-5 pre{padding: 0;}#sk-container-id-5 div.sk-toggleable {background-color: white;}#sk-container-id-5 label.sk-toggleable__label {cursor: pointer;display: block;width: 100%;margin-bottom: 0;padding: 0.3em;box-sizing: border-box;text-align: center;}#sk-container-id-5 label.sk-toggleable__label-arrow:before {content: \"▸\";float: left;margin-right: 0.25em;color: #696969;}#sk-container-id-5 label.sk-toggleable__label-arrow:hover:before {color: black;}#sk-container-id-5 div.sk-estimator:hover label.sk-toggleable__label-arrow:before {color: black;}#sk-container-id-5 div.sk-toggleable__content {max-height: 0;max-width: 0;overflow: hidden;text-align: left;background-color: #f0f8ff;}#sk-container-id-5 div.sk-toggleable__content pre {margin: 0.2em;color: black;border-radius: 0.25em;background-color: #f0f8ff;}#sk-container-id-5 input.sk-toggleable__control:checked~div.sk-toggleable__content {max-height: 200px;max-width: 100%;overflow: auto;}#sk-container-id-5 input.sk-toggleable__control:checked~label.sk-toggleable__label-arrow:before {content: \"▾\";}#sk-container-id-5 div.sk-estimator input.sk-toggleable__control:checked~label.sk-toggleable__label {background-color: #d4ebff;}#sk-container-id-5 div.sk-label input.sk-toggleable__control:checked~label.sk-toggleable__label {background-color: #d4ebff;}#sk-container-id-5 input.sk-hidden--visually {border: 0;clip: rect(1px 1px 1px 1px);clip: rect(1px, 1px, 1px, 1px);height: 1px;margin: -1px;overflow: hidden;padding: 0;position: absolute;width: 1px;}#sk-container-id-5 div.sk-estimator {font-family: monospace;background-color: #f0f8ff;border: 1px dotted black;border-radius: 0.25em;box-sizing: border-box;margin-bottom: 0.5em;}#sk-container-id-5 div.sk-estimator:hover {background-color: #d4ebff;}#sk-container-id-5 div.sk-parallel-item::after {content: \"\";width: 100%;border-bottom: 1px solid gray;flex-grow: 1;}#sk-container-id-5 div.sk-label:hover label.sk-toggleable__label {background-color: #d4ebff;}#sk-container-id-5 div.sk-serial::before {content: \"\";position: absolute;border-left: 1px solid gray;box-sizing: border-box;top: 0;bottom: 0;left: 50%;z-index: 0;}#sk-container-id-5 div.sk-serial {display: flex;flex-direction: column;align-items: center;background-color: white;padding-right: 0.2em;padding-left: 0.2em;position: relative;}#sk-container-id-5 div.sk-item {position: relative;z-index: 1;}#sk-container-id-5 div.sk-parallel {display: flex;align-items: stretch;justify-content: center;background-color: white;position: relative;}#sk-container-id-5 div.sk-item::before, #sk-container-id-5 div.sk-parallel-item::before {content: \"\";position: absolute;border-left: 1px solid gray;box-sizing: border-box;top: 0;bottom: 0;left: 50%;z-index: -1;}#sk-container-id-5 div.sk-parallel-item {display: flex;flex-direction: column;z-index: 1;position: relative;background-color: white;}#sk-container-id-5 div.sk-parallel-item:first-child::after {align-self: flex-end;width: 50%;}#sk-container-id-5 div.sk-parallel-item:last-child::after {align-self: flex-start;width: 50%;}#sk-container-id-5 div.sk-parallel-item:only-child::after {width: 0;}#sk-container-id-5 div.sk-dashed-wrapped {border: 1px dashed gray;margin: 0 0.4em 0.5em 0.4em;box-sizing: border-box;padding-bottom: 0.4em;background-color: white;}#sk-container-id-5 div.sk-label label {font-family: monospace;font-weight: bold;display: inline-block;line-height: 1.2em;}#sk-container-id-5 div.sk-label-container {text-align: center;}#sk-container-id-5 div.sk-container {/* jupyter's `normalize.less` sets `[hidden] { display: none; }` but bootstrap.min.css set `[hidden] { display: none !important; }` so we also need the `!important` here to be able to override the default hidden behavior on the sphinx rendered scikit-learn.org. See: https://github.com/scikit-learn/scikit-learn/issues/21755 */display: inline-block !important;position: relative;}#sk-container-id-5 div.sk-text-repr-fallback {display: none;}</style><div id=\"sk-container-id-5\" class=\"sk-top-container\"><div class=\"sk-text-repr-fallback\"><pre>LogisticRegression()</pre><b>In a Jupyter environment, please rerun this cell to show the HTML representation or trust the notebook. <br />On GitHub, the HTML representation is unable to render, please try loading this page with nbviewer.org.</b></div><div class=\"sk-container\" hidden><div class=\"sk-item\"><div class=\"sk-estimator sk-toggleable\"><input class=\"sk-toggleable__control sk-hidden--visually\" id=\"sk-estimator-id-5\" type=\"checkbox\" checked><label for=\"sk-estimator-id-5\" class=\"sk-toggleable__label sk-toggleable__label-arrow\">LogisticRegression</label><div class=\"sk-toggleable__content\"><pre>LogisticRegression()</pre></div></div></div></div></div>"
     },
     "execution_count": 38,
     "metadata": {},
     "output_type": "execute_result"
    }
   ],
   "source": [
    "rf_model = LogisticRegression()\n",
    "rf_model.fit(X_train, y_train)"
   ],
   "metadata": {
    "collapsed": false
   }
  },
  {
   "cell_type": "code",
   "execution_count": 39,
   "outputs": [
    {
     "name": "stdout",
     "output_type": "stream",
     "text": [
      "TEST\n",
      "Accuracy: 0.6378351036924633\n",
      "Confusion matrix:\n",
      " [[1261    0]\n",
      " [ 716    0]]\n",
      "Classification report:\n",
      "               precision    recall  f1-score   support\n",
      "\n",
      "           0       0.64      1.00      0.78      1261\n",
      "           1       0.00      0.00      0.00       716\n",
      "\n",
      "    accuracy                           0.64      1977\n",
      "   macro avg       0.32      0.50      0.39      1977\n",
      "weighted avg       0.41      0.64      0.50      1977\n",
      "\n",
      "TRAIN\n",
      "Accuracy: 0.6325910931174089\n",
      "Confusion matrix:\n",
      " [[4996    3]\n",
      " [2901    4]]\n",
      "Classification report:\n",
      "               precision    recall  f1-score   support\n",
      "\n",
      "           0       0.63      1.00      0.77      4999\n",
      "           1       0.57      0.00      0.00      2905\n",
      "\n",
      "    accuracy                           0.63      7904\n",
      "   macro avg       0.60      0.50      0.39      7904\n",
      "weighted avg       0.61      0.63      0.49      7904\n",
      "\n"
     ]
    },
    {
     "name": "stderr",
     "output_type": "stream",
     "text": [
      "/Users/rasztabigab/anaconda3/envs/IUM/lib/python3.10/site-packages/sklearn/metrics/_classification.py:1344: UndefinedMetricWarning: Precision and F-score are ill-defined and being set to 0.0 in labels with no predicted samples. Use `zero_division` parameter to control this behavior.\n",
      "  _warn_prf(average, modifier, msg_start, len(result))\n",
      "/Users/rasztabigab/anaconda3/envs/IUM/lib/python3.10/site-packages/sklearn/metrics/_classification.py:1344: UndefinedMetricWarning: Precision and F-score are ill-defined and being set to 0.0 in labels with no predicted samples. Use `zero_division` parameter to control this behavior.\n",
      "  _warn_prf(average, modifier, msg_start, len(result))\n",
      "/Users/rasztabigab/anaconda3/envs/IUM/lib/python3.10/site-packages/sklearn/metrics/_classification.py:1344: UndefinedMetricWarning: Precision and F-score are ill-defined and being set to 0.0 in labels with no predicted samples. Use `zero_division` parameter to control this behavior.\n",
      "  _warn_prf(average, modifier, msg_start, len(result))\n"
     ]
    }
   ],
   "source": [
    "print(\"TEST\")\n",
    "y_pred = rf_model.predict(X_test)\n",
    "print(\"Accuracy:\", accuracy_score(y_test, y_pred))\n",
    "print(\"Confusion matrix:\\n\", confusion_matrix(y_test, y_pred))\n",
    "print(\"Classification report:\\n\", classification_report(y_test, y_pred))\n",
    "\n",
    "print(\"TRAIN\")\n",
    "y_pred = rf_model.predict(X_train)\n",
    "print(\"Accuracy:\", accuracy_score(y_train, y_pred))\n",
    "print(\"Confusion matrix:\\n\", confusion_matrix(y_train, y_pred))\n",
    "print(\"Classification report:\\n\", classification_report(y_train, y_pred))\n"
   ],
   "metadata": {
    "collapsed": false
   }
  },
  {
   "cell_type": "code",
   "execution_count": 39,
   "outputs": [],
   "source": [
    "\n"
   ],
   "metadata": {
    "collapsed": false
   }
  }
 ],
 "metadata": {
  "kernelspec": {
   "display_name": "Python 3",
   "language": "python",
   "name": "python3"
  },
  "language_info": {
   "codemirror_mode": {
    "name": "ipython",
    "version": 2
   },
   "file_extension": ".py",
   "mimetype": "text/x-python",
   "name": "python",
   "nbconvert_exporter": "python",
   "pygments_lexer": "ipython2",
   "version": "2.7.6"
  }
 },
 "nbformat": 4,
 "nbformat_minor": 0
}
