{
 "cells": [
  {
   "cell_type": "markdown",
   "source": [
    "# Notatki z analizy danych\n",
    "## Artyści\n",
    "- 557 artystów ma id ustawione na -1\n",
    "- 28 artystów ma zduplikowaną nazwę (atrybut names)\n",
    "- 531 artystów ma ustawioną wartość null w atrybucie genres\n",
    "## Sesje\n",
    "- 572 wiersze mają ustawioną wartość null atrybutach user_id, track_id lub event_type\n",
    "## Utwory\n",
    "- 1112 utworów ma ustawioną wartość null atrybucie id\n",
    "- 1051 utworów ma ustawioną wartość null w atrybucie name\n",
    "- 1103 utwory ma ustawioną wartość null w atrybucie popularity\n",
    "- 1082 utwory ma ustawioną wartość null w atrybucie id_artist\n",
    "## Użytkownicy\n",
    "- atrybut \"id\" jest zbędny (ustawiony na -1, lub jego brak)\n",
    "- 2 użytkowników ma ustawioną wartość null w atrybucie favourite_genres\n",
    "- 1 użytkownik ma ustawioną wartość null w atrybucie premium_user\n",
    "\n",
    "\n",
    "# sprobowac sklastrowac gatunki\n"
   ],
   "metadata": {
    "collapsed": false
   }
  }
 ],
 "metadata": {
  "kernelspec": {
   "display_name": "Python 3",
   "language": "python",
   "name": "python3"
  },
  "language_info": {
   "codemirror_mode": {
    "name": "ipython",
    "version": 2
   },
   "file_extension": ".py",
   "mimetype": "text/x-python",
   "name": "python",
   "nbconvert_exporter": "python",
   "pygments_lexer": "ipython2",
   "version": "2.7.6"
  }
 },
 "nbformat": 4,
 "nbformat_minor": 0
}
