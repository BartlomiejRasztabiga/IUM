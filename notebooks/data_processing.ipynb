{
 "cells": [
  {
   "cell_type": "code",
   "execution_count": 20,
   "metadata": {
    "collapsed": true
   },
   "outputs": [],
   "source": [
    "import pandas as pd\n",
    "\n",
    "pd.set_option('display.max_rows', None)\n",
    "pd.set_option('display.max_columns', None)\n",
    "pd.set_option('max_colwidth', None)\n",
    "\n",
    "artists_data_path = \"../data/artists.jsonl\"\n",
    "sessions_data_path = \"../data/sessions.jsonl\"\n",
    "track_storage_data_path = \"../data/track_storage.jsonl\"\n",
    "tracks_data_path = \"../data/tracks.jsonl\"\n",
    "users_data_path = \"../data/users.jsonl\"\n",
    "\n",
    "artists_data_frame = pd.read_json(artists_data_path, lines=True)\n",
    "sessions_data_frame = pd.read_json(sessions_data_path, lines=True)\n",
    "tracks_data_frame = pd.read_json(tracks_data_path, lines=True)\n",
    "users_data_frame = pd.read_json(users_data_path, lines=True)"
   ]
  },
  {
   "cell_type": "markdown",
   "metadata": {},
   "source": [
    "# Scalenie danych"
   ]
  },
  {
   "cell_type": "code",
   "execution_count": 21,
   "metadata": {},
   "outputs": [
    {
     "data": {
      "text/plain": "                timestamp  user_id                track_id event_type   \n0 2023-01-04 00:12:59.000      101  0NPjiwqT1xrA3ck05xKoA8       PLAY  \\\n1 2023-02-04 01:20:47.302      926  0NPjiwqT1xrA3ck05xKoA8       PLAY   \n2 2023-02-04 01:22:54.580      926  0NPjiwqT1xrA3ck05xKoA8       LIKE   \n3 2023-01-28 02:29:05.362      926  1hviQqMhM4NyY4O6CWZABO       PLAY   \n4 2023-01-28 02:30:48.635      926  1hviQqMhM4NyY4O6CWZABO       SKIP   \n\n   session_id                    id_x   \n0         124  0NPjiwqT1xrA3ck05xKoA8  \\\n1       11284  0NPjiwqT1xrA3ck05xKoA8   \n2       11284  0NPjiwqT1xrA3ck05xKoA8   \n3       11281  1hviQqMhM4NyY4O6CWZABO   \n4       11281  1hviQqMhM4NyY4O6CWZABO   \n\n                                       track_name  popularity  duration_ms   \n0                   Anton skaffar sig hund, del 4          21       159812  \\\n1                   Anton skaffar sig hund, del 4          21       159812   \n2                   Anton skaffar sig hund, del 4          21       159812   \n3  Det finns väl ingen med kniv här i stan, del 3          20       113858   \n4  Det finns väl ingen med kniv här i stan, del 3          20       113858   \n\n   explicit               id_artist release_date  danceability  energy  key   \n0         0  1c6OwPjqCGGUg770n3zhbq         1975         0.667   0.199    1  \\\n1         0  1c6OwPjqCGGUg770n3zhbq         1975         0.667   0.199    1   \n2         0  1c6OwPjqCGGUg770n3zhbq         1975         0.667   0.199    1   \n3         0  1c6OwPjqCGGUg770n3zhbq   1992-10-30         0.676   0.330    8   \n4         0  1c6OwPjqCGGUg770n3zhbq   1992-10-30         0.676   0.330    8   \n\n   mode  loudness  speechiness  acousticness  instrumentalness  liveness   \n0   NaN   -19.284        0.952         0.470               0.0    0.0882  \\\n1   NaN   -19.284        0.952         0.470               0.0    0.0882   \n2   NaN   -19.284        0.952         0.470               0.0    0.0882   \n3   1.0   -16.983        0.954         0.737               0.0    0.1890   \n4   1.0   -16.983        0.954         0.737               0.0    0.1890   \n\n   valence   tempo  time_signature       artist_name      city   \n0    0.487  96.391               3     Klara Herdzik  Szczecin  \\\n1    0.487  96.391               3  Dagmara Łaszczyk  Szczecin   \n2    0.487  96.391               3  Dagmara Łaszczyk  Szczecin   \n3    0.301  79.707               4  Dagmara Łaszczyk  Szczecin   \n4    0.301  79.707               4  Dagmara Łaszczyk  Szczecin   \n\n                street                  favourite_genres  premium_user   \n0   pl. Floriana 55/22  [permanent wave, mandopop, funk]         False  \\\n1  pl. Lawendowa 35/83  [alternative metal, rock, c-pop]         False   \n2  pl. Lawendowa 35/83  [alternative metal, rock, c-pop]         False   \n3  pl. Lawendowa 35/83  [alternative metal, rock, c-pop]         False   \n4  pl. Lawendowa 35/83  [alternative metal, rock, c-pop]         False   \n\n                     id_y              name       genres  \n0  1c6OwPjqCGGUg770n3zhbq  Margaretha Krook  [barnsagor]  \n1  1c6OwPjqCGGUg770n3zhbq  Margaretha Krook  [barnsagor]  \n2  1c6OwPjqCGGUg770n3zhbq  Margaretha Krook  [barnsagor]  \n3  1c6OwPjqCGGUg770n3zhbq  Margaretha Krook  [barnsagor]  \n4  1c6OwPjqCGGUg770n3zhbq  Margaretha Krook  [barnsagor]  ",
      "text/html": "<div>\n<style scoped>\n    .dataframe tbody tr th:only-of-type {\n        vertical-align: middle;\n    }\n\n    .dataframe tbody tr th {\n        vertical-align: top;\n    }\n\n    .dataframe thead th {\n        text-align: right;\n    }\n</style>\n<table border=\"1\" class=\"dataframe\">\n  <thead>\n    <tr style=\"text-align: right;\">\n      <th></th>\n      <th>timestamp</th>\n      <th>user_id</th>\n      <th>track_id</th>\n      <th>event_type</th>\n      <th>session_id</th>\n      <th>id_x</th>\n      <th>track_name</th>\n      <th>popularity</th>\n      <th>duration_ms</th>\n      <th>explicit</th>\n      <th>id_artist</th>\n      <th>release_date</th>\n      <th>danceability</th>\n      <th>energy</th>\n      <th>key</th>\n      <th>mode</th>\n      <th>loudness</th>\n      <th>speechiness</th>\n      <th>acousticness</th>\n      <th>instrumentalness</th>\n      <th>liveness</th>\n      <th>valence</th>\n      <th>tempo</th>\n      <th>time_signature</th>\n      <th>artist_name</th>\n      <th>city</th>\n      <th>street</th>\n      <th>favourite_genres</th>\n      <th>premium_user</th>\n      <th>id_y</th>\n      <th>name</th>\n      <th>genres</th>\n    </tr>\n  </thead>\n  <tbody>\n    <tr>\n      <th>0</th>\n      <td>2023-01-04 00:12:59.000</td>\n      <td>101</td>\n      <td>0NPjiwqT1xrA3ck05xKoA8</td>\n      <td>PLAY</td>\n      <td>124</td>\n      <td>0NPjiwqT1xrA3ck05xKoA8</td>\n      <td>Anton skaffar sig hund, del 4</td>\n      <td>21</td>\n      <td>159812</td>\n      <td>0</td>\n      <td>1c6OwPjqCGGUg770n3zhbq</td>\n      <td>1975</td>\n      <td>0.667</td>\n      <td>0.199</td>\n      <td>1</td>\n      <td>NaN</td>\n      <td>-19.284</td>\n      <td>0.952</td>\n      <td>0.470</td>\n      <td>0.0</td>\n      <td>0.0882</td>\n      <td>0.487</td>\n      <td>96.391</td>\n      <td>3</td>\n      <td>Klara Herdzik</td>\n      <td>Szczecin</td>\n      <td>pl. Floriana 55/22</td>\n      <td>[permanent wave, mandopop, funk]</td>\n      <td>False</td>\n      <td>1c6OwPjqCGGUg770n3zhbq</td>\n      <td>Margaretha Krook</td>\n      <td>[barnsagor]</td>\n    </tr>\n    <tr>\n      <th>1</th>\n      <td>2023-02-04 01:20:47.302</td>\n      <td>926</td>\n      <td>0NPjiwqT1xrA3ck05xKoA8</td>\n      <td>PLAY</td>\n      <td>11284</td>\n      <td>0NPjiwqT1xrA3ck05xKoA8</td>\n      <td>Anton skaffar sig hund, del 4</td>\n      <td>21</td>\n      <td>159812</td>\n      <td>0</td>\n      <td>1c6OwPjqCGGUg770n3zhbq</td>\n      <td>1975</td>\n      <td>0.667</td>\n      <td>0.199</td>\n      <td>1</td>\n      <td>NaN</td>\n      <td>-19.284</td>\n      <td>0.952</td>\n      <td>0.470</td>\n      <td>0.0</td>\n      <td>0.0882</td>\n      <td>0.487</td>\n      <td>96.391</td>\n      <td>3</td>\n      <td>Dagmara Łaszczyk</td>\n      <td>Szczecin</td>\n      <td>pl. Lawendowa 35/83</td>\n      <td>[alternative metal, rock, c-pop]</td>\n      <td>False</td>\n      <td>1c6OwPjqCGGUg770n3zhbq</td>\n      <td>Margaretha Krook</td>\n      <td>[barnsagor]</td>\n    </tr>\n    <tr>\n      <th>2</th>\n      <td>2023-02-04 01:22:54.580</td>\n      <td>926</td>\n      <td>0NPjiwqT1xrA3ck05xKoA8</td>\n      <td>LIKE</td>\n      <td>11284</td>\n      <td>0NPjiwqT1xrA3ck05xKoA8</td>\n      <td>Anton skaffar sig hund, del 4</td>\n      <td>21</td>\n      <td>159812</td>\n      <td>0</td>\n      <td>1c6OwPjqCGGUg770n3zhbq</td>\n      <td>1975</td>\n      <td>0.667</td>\n      <td>0.199</td>\n      <td>1</td>\n      <td>NaN</td>\n      <td>-19.284</td>\n      <td>0.952</td>\n      <td>0.470</td>\n      <td>0.0</td>\n      <td>0.0882</td>\n      <td>0.487</td>\n      <td>96.391</td>\n      <td>3</td>\n      <td>Dagmara Łaszczyk</td>\n      <td>Szczecin</td>\n      <td>pl. Lawendowa 35/83</td>\n      <td>[alternative metal, rock, c-pop]</td>\n      <td>False</td>\n      <td>1c6OwPjqCGGUg770n3zhbq</td>\n      <td>Margaretha Krook</td>\n      <td>[barnsagor]</td>\n    </tr>\n    <tr>\n      <th>3</th>\n      <td>2023-01-28 02:29:05.362</td>\n      <td>926</td>\n      <td>1hviQqMhM4NyY4O6CWZABO</td>\n      <td>PLAY</td>\n      <td>11281</td>\n      <td>1hviQqMhM4NyY4O6CWZABO</td>\n      <td>Det finns väl ingen med kniv här i stan, del 3</td>\n      <td>20</td>\n      <td>113858</td>\n      <td>0</td>\n      <td>1c6OwPjqCGGUg770n3zhbq</td>\n      <td>1992-10-30</td>\n      <td>0.676</td>\n      <td>0.330</td>\n      <td>8</td>\n      <td>1.0</td>\n      <td>-16.983</td>\n      <td>0.954</td>\n      <td>0.737</td>\n      <td>0.0</td>\n      <td>0.1890</td>\n      <td>0.301</td>\n      <td>79.707</td>\n      <td>4</td>\n      <td>Dagmara Łaszczyk</td>\n      <td>Szczecin</td>\n      <td>pl. Lawendowa 35/83</td>\n      <td>[alternative metal, rock, c-pop]</td>\n      <td>False</td>\n      <td>1c6OwPjqCGGUg770n3zhbq</td>\n      <td>Margaretha Krook</td>\n      <td>[barnsagor]</td>\n    </tr>\n    <tr>\n      <th>4</th>\n      <td>2023-01-28 02:30:48.635</td>\n      <td>926</td>\n      <td>1hviQqMhM4NyY4O6CWZABO</td>\n      <td>SKIP</td>\n      <td>11281</td>\n      <td>1hviQqMhM4NyY4O6CWZABO</td>\n      <td>Det finns väl ingen med kniv här i stan, del 3</td>\n      <td>20</td>\n      <td>113858</td>\n      <td>0</td>\n      <td>1c6OwPjqCGGUg770n3zhbq</td>\n      <td>1992-10-30</td>\n      <td>0.676</td>\n      <td>0.330</td>\n      <td>8</td>\n      <td>1.0</td>\n      <td>-16.983</td>\n      <td>0.954</td>\n      <td>0.737</td>\n      <td>0.0</td>\n      <td>0.1890</td>\n      <td>0.301</td>\n      <td>79.707</td>\n      <td>4</td>\n      <td>Dagmara Łaszczyk</td>\n      <td>Szczecin</td>\n      <td>pl. Lawendowa 35/83</td>\n      <td>[alternative metal, rock, c-pop]</td>\n      <td>False</td>\n      <td>1c6OwPjqCGGUg770n3zhbq</td>\n      <td>Margaretha Krook</td>\n      <td>[barnsagor]</td>\n    </tr>\n  </tbody>\n</table>\n</div>"
     },
     "execution_count": 21,
     "metadata": {},
     "output_type": "execute_result"
    }
   ],
   "source": [
    "merged_data_frame = pd.merge(sessions_data_frame, tracks_data_frame, left_on=\"track_id\",\n",
    "                             right_on=\"id\")\n",
    "merged_data_frame = pd.merge(merged_data_frame, users_data_frame, left_on=\"user_id\",\n",
    "                             right_on=\"user_id\")\n",
    "merged_data_frame = pd.merge(merged_data_frame, artists_data_frame, left_on=\"id_artist\",\n",
    "                             right_on=\"id\")\n",
    "# rename column\n",
    "merged_data_frame = merged_data_frame.rename(columns={\"name_x\": \"track_name\"})\n",
    "merged_data_frame = merged_data_frame.rename(columns={\"name_y\": \"artist_name\"})\n",
    "merged_data_frame.head(5)\n"
   ]
  },
  {
   "cell_type": "markdown",
   "metadata": {},
   "source": [
    "## Wyliczenie etykiety, czy dana piosenka w danej sesji została pominięta przez danego użytkownika"
   ]
  },
  {
   "cell_type": "code",
   "execution_count": 22,
   "metadata": {},
   "outputs": [],
   "source": [
    "# delete rows with event_type other than PLAY and SKIP\n",
    "merged_data_frame = merged_data_frame[merged_data_frame[\"event_type\"].isin([\"PLAY\", \"SKIP\"])]\n",
    "\n",
    "# if for one user_id and track_id and session_id there is only PLAY event, then the track was not skipped\n",
    "merged_data_frame[\"skipped\"] = merged_data_frame.groupby([\"user_id\", \"track_id\", \"session_id\"])[\n",
    "  \"event_type\"].transform(lambda x: x != \"PLAY\").astype(bool)\n",
    "\n",
    "# if there are 2 rows with the same user_id, track_id and session_id, and different \"skipped\" value, remove the row with \"skipped\" = 0\n",
    "merged_data_frame = merged_data_frame.drop_duplicates(subset=[\"user_id\", \"track_id\", \"session_id\"],\n",
    "                                                      keep=\"last\")\n",
    "\n"
   ]
  },
  {
   "attachments": {},
   "cell_type": "markdown",
   "metadata": {},
   "source": [
    "## Dodanie nowych atrybutów"
   ]
  },
  {
   "cell_type": "code",
   "execution_count": 23,
   "metadata": {},
   "outputs": [],
   "source": [
    "merged_data_frame[\"number_of_matching_genres\"] = merged_data_frame.apply(lambda x: len(set(x[\"genres\"]).intersection(set(x[\"favourite_genres\"]))), axis=1)\n",
    "merged_data_frame[\"month\"] = merged_data_frame[\"timestamp\"].dt.month\n",
    "merged_data_frame[\"day_of_week\"] = merged_data_frame[\"timestamp\"].dt.dayofweek\n",
    "merged_data_frame[\"hour_of_day\"] = merged_data_frame[\"timestamp\"].dt.hour\n",
    "merged_data_frame[\"genres_with_favourite_genres\"] = merged_data_frame[\"genres\"] + merged_data_frame[\"favourite_genres\"]\n",
    "merged_data_frame[\"common_genres\"] = merged_data_frame[\"genres_with_favourite_genres\"].apply(lambda x: list(set(x)))"
   ]
  },
  {
   "cell_type": "markdown",
   "metadata": {},
   "source": [
    "## Usunięcie niepotrzebnych kolumn"
   ]
  },
  {
   "cell_type": "code",
   "execution_count": 24,
   "metadata": {},
   "outputs": [
    {
     "data": {
      "text/plain": "                 timestamp  user_id                track_id  session_id   \n0  2023-01-04 00:12:59.000      101  0NPjiwqT1xrA3ck05xKoA8         124  \\\n1  2023-02-04 01:20:47.302      926  0NPjiwqT1xrA3ck05xKoA8       11284   \n4  2023-01-28 02:30:48.635      926  1hviQqMhM4NyY4O6CWZABO       11281   \n6  2023-02-14 21:59:20.619      940  0NPjiwqT1xrA3ck05xKoA8       11473   \n7  2023-02-06 18:41:13.873     1095  0NPjiwqT1xrA3ck05xKoA8       13459   \n8  2023-01-12 06:42:49.000     1295  0NPjiwqT1xrA3ck05xKoA8       16327   \n11 2023-02-15 23:36:35.331     1467  0NPjiwqT1xrA3ck05xKoA8       18574   \n14 2023-03-16 19:24:41.953     1544  0NPjiwqT1xrA3ck05xKoA8       19590   \n16 2023-03-14 16:20:47.409     2039  0NPjiwqT1xrA3ck05xKoA8       26304   \n19 2023-01-13 23:33:23.809     2076  0NPjiwqT1xrA3ck05xKoA8       26766   \n\n                                        track_name  popularity  duration_ms   \n0                    Anton skaffar sig hund, del 4          21       159812  \\\n1                    Anton skaffar sig hund, del 4          21       159812   \n4   Det finns väl ingen med kniv här i stan, del 3          20       113858   \n6                    Anton skaffar sig hund, del 4          21       159812   \n7                    Anton skaffar sig hund, del 4          21       159812   \n8                    Anton skaffar sig hund, del 4          21       159812   \n11                   Anton skaffar sig hund, del 4          21       159812   \n14                   Anton skaffar sig hund, del 4          21       159812   \n16                   Anton skaffar sig hund, del 4          21       159812   \n19                   Anton skaffar sig hund, del 4          21       159812   \n\n    explicit               id_artist release_date  danceability  energy  key   \n0          0  1c6OwPjqCGGUg770n3zhbq         1975         0.667   0.199    1  \\\n1          0  1c6OwPjqCGGUg770n3zhbq         1975         0.667   0.199    1   \n4          0  1c6OwPjqCGGUg770n3zhbq   1992-10-30         0.676   0.330    8   \n6          0  1c6OwPjqCGGUg770n3zhbq         1975         0.667   0.199    1   \n7          0  1c6OwPjqCGGUg770n3zhbq         1975         0.667   0.199    1   \n8          0  1c6OwPjqCGGUg770n3zhbq         1975         0.667   0.199    1   \n11         0  1c6OwPjqCGGUg770n3zhbq         1975         0.667   0.199    1   \n14         0  1c6OwPjqCGGUg770n3zhbq         1975         0.667   0.199    1   \n16         0  1c6OwPjqCGGUg770n3zhbq         1975         0.667   0.199    1   \n19         0  1c6OwPjqCGGUg770n3zhbq         1975         0.667   0.199    1   \n\n    loudness  speechiness  acousticness  instrumentalness  liveness  valence   \n0    -19.284        0.952         0.470               0.0    0.0882    0.487  \\\n1    -19.284        0.952         0.470               0.0    0.0882    0.487   \n4    -16.983        0.954         0.737               0.0    0.1890    0.301   \n6    -19.284        0.952         0.470               0.0    0.0882    0.487   \n7    -19.284        0.952         0.470               0.0    0.0882    0.487   \n8    -19.284        0.952         0.470               0.0    0.0882    0.487   \n11   -19.284        0.952         0.470               0.0    0.0882    0.487   \n14   -19.284        0.952         0.470               0.0    0.0882    0.487   \n16   -19.284        0.952         0.470               0.0    0.0882    0.487   \n19   -19.284        0.952         0.470               0.0    0.0882    0.487   \n\n     tempo  time_signature       artist_name      city               street   \n0   96.391               3     Klara Herdzik  Szczecin   pl. Floriana 55/22  \\\n1   96.391               3  Dagmara Łaszczyk  Szczecin  pl. Lawendowa 35/83   \n4   79.707               4  Dagmara Łaszczyk  Szczecin  pl. Lawendowa 35/83   \n6   96.391               3  Stanisław Butrym   Wrocław      ulica Witosa 13   \n7   96.391               3     Fabian Zbroja   Wrocław  pl. Orzechowa 97/37   \n8   96.391               3     Klara Majzner    Gdynia    plac Witosa 89/15   \n11  96.391               3    Aurelia Miąsko    Poznań    plac Wierzbowa 28   \n14  96.391               3   Dariusz Tokarek    Kraków     pl. Toruńska 266   \n16  96.391               3      Bruno Jeszke  Szczecin     al. Kamienna 457   \n19  96.391               3      Fabian Snoch    Kraków  ulica Sybiraków 305   \n\n                                favourite_genres  premium_user   \n0               [permanent wave, mandopop, funk]         False  \\\n1               [alternative metal, rock, c-pop]         False   \n4               [alternative metal, rock, c-pop]         False   \n6             [ranchera, pop, latin alternative]          True   \n7   [singer-songwriter, pop rock, post-teen pop]          True   \n8                               [pop, pop, funk]          True   \n11   [post-teen pop, argentine rock, latin rock]          True   \n14           [europop, filmi, alternative metal]          True   \n16                 [mpb, soul, alternative rock]          True   \n19        [argentine rock, latin rock, ranchera]         False   \n\n                name       genres  skipped  number_of_matching_genres  month   \n0   Margaretha Krook  [barnsagor]    False                          0      1  \\\n1   Margaretha Krook  [barnsagor]    False                          0      2   \n4   Margaretha Krook  [barnsagor]     True                          0      1   \n6   Margaretha Krook  [barnsagor]     True                          0      2   \n7   Margaretha Krook  [barnsagor]    False                          0      2   \n8   Margaretha Krook  [barnsagor]    False                          0      1   \n11  Margaretha Krook  [barnsagor]     True                          0      2   \n14  Margaretha Krook  [barnsagor]     True                          0      3   \n16  Margaretha Krook  [barnsagor]     True                          0      3   \n19  Margaretha Krook  [barnsagor]     True                          0      1   \n\n    day_of_week  hour_of_day   \n0             2            0  \\\n1             5            1   \n4             5            2   \n6             1           21   \n7             0           18   \n8             3            6   \n11            2           23   \n14            3           19   \n16            1           16   \n19            4           23   \n\n                               genres_with_favourite_genres   \n0               [barnsagor, permanent wave, mandopop, funk]  \\\n1               [barnsagor, alternative metal, rock, c-pop]   \n4               [barnsagor, alternative metal, rock, c-pop]   \n6             [barnsagor, ranchera, pop, latin alternative]   \n7   [barnsagor, singer-songwriter, pop rock, post-teen pop]   \n8                               [barnsagor, pop, pop, funk]   \n11   [barnsagor, post-teen pop, argentine rock, latin rock]   \n14           [barnsagor, europop, filmi, alternative metal]   \n16                 [barnsagor, mpb, soul, alternative rock]   \n19        [barnsagor, argentine rock, latin rock, ranchera]   \n\n                                              common_genres  \n0               [permanent wave, mandopop, barnsagor, funk]  \n1               [rock, barnsagor, alternative metal, c-pop]  \n4               [rock, barnsagor, alternative metal, c-pop]  \n6             [latin alternative, barnsagor, pop, ranchera]  \n7   [post-teen pop, barnsagor, pop rock, singer-songwriter]  \n8                                    [funk, barnsagor, pop]  \n11   [argentine rock, latin rock, barnsagor, post-teen pop]  \n14           [europop, barnsagor, alternative metal, filmi]  \n16                 [alternative rock, mpb, soul, barnsagor]  \n19        [argentine rock, latin rock, barnsagor, ranchera]  ",
      "text/html": "<div>\n<style scoped>\n    .dataframe tbody tr th:only-of-type {\n        vertical-align: middle;\n    }\n\n    .dataframe tbody tr th {\n        vertical-align: top;\n    }\n\n    .dataframe thead th {\n        text-align: right;\n    }\n</style>\n<table border=\"1\" class=\"dataframe\">\n  <thead>\n    <tr style=\"text-align: right;\">\n      <th></th>\n      <th>timestamp</th>\n      <th>user_id</th>\n      <th>track_id</th>\n      <th>session_id</th>\n      <th>track_name</th>\n      <th>popularity</th>\n      <th>duration_ms</th>\n      <th>explicit</th>\n      <th>id_artist</th>\n      <th>release_date</th>\n      <th>danceability</th>\n      <th>energy</th>\n      <th>key</th>\n      <th>loudness</th>\n      <th>speechiness</th>\n      <th>acousticness</th>\n      <th>instrumentalness</th>\n      <th>liveness</th>\n      <th>valence</th>\n      <th>tempo</th>\n      <th>time_signature</th>\n      <th>artist_name</th>\n      <th>city</th>\n      <th>street</th>\n      <th>favourite_genres</th>\n      <th>premium_user</th>\n      <th>name</th>\n      <th>genres</th>\n      <th>skipped</th>\n      <th>number_of_matching_genres</th>\n      <th>month</th>\n      <th>day_of_week</th>\n      <th>hour_of_day</th>\n      <th>genres_with_favourite_genres</th>\n      <th>common_genres</th>\n    </tr>\n  </thead>\n  <tbody>\n    <tr>\n      <th>0</th>\n      <td>2023-01-04 00:12:59.000</td>\n      <td>101</td>\n      <td>0NPjiwqT1xrA3ck05xKoA8</td>\n      <td>124</td>\n      <td>Anton skaffar sig hund, del 4</td>\n      <td>21</td>\n      <td>159812</td>\n      <td>0</td>\n      <td>1c6OwPjqCGGUg770n3zhbq</td>\n      <td>1975</td>\n      <td>0.667</td>\n      <td>0.199</td>\n      <td>1</td>\n      <td>-19.284</td>\n      <td>0.952</td>\n      <td>0.470</td>\n      <td>0.0</td>\n      <td>0.0882</td>\n      <td>0.487</td>\n      <td>96.391</td>\n      <td>3</td>\n      <td>Klara Herdzik</td>\n      <td>Szczecin</td>\n      <td>pl. Floriana 55/22</td>\n      <td>[permanent wave, mandopop, funk]</td>\n      <td>False</td>\n      <td>Margaretha Krook</td>\n      <td>[barnsagor]</td>\n      <td>False</td>\n      <td>0</td>\n      <td>1</td>\n      <td>2</td>\n      <td>0</td>\n      <td>[barnsagor, permanent wave, mandopop, funk]</td>\n      <td>[permanent wave, mandopop, barnsagor, funk]</td>\n    </tr>\n    <tr>\n      <th>1</th>\n      <td>2023-02-04 01:20:47.302</td>\n      <td>926</td>\n      <td>0NPjiwqT1xrA3ck05xKoA8</td>\n      <td>11284</td>\n      <td>Anton skaffar sig hund, del 4</td>\n      <td>21</td>\n      <td>159812</td>\n      <td>0</td>\n      <td>1c6OwPjqCGGUg770n3zhbq</td>\n      <td>1975</td>\n      <td>0.667</td>\n      <td>0.199</td>\n      <td>1</td>\n      <td>-19.284</td>\n      <td>0.952</td>\n      <td>0.470</td>\n      <td>0.0</td>\n      <td>0.0882</td>\n      <td>0.487</td>\n      <td>96.391</td>\n      <td>3</td>\n      <td>Dagmara Łaszczyk</td>\n      <td>Szczecin</td>\n      <td>pl. Lawendowa 35/83</td>\n      <td>[alternative metal, rock, c-pop]</td>\n      <td>False</td>\n      <td>Margaretha Krook</td>\n      <td>[barnsagor]</td>\n      <td>False</td>\n      <td>0</td>\n      <td>2</td>\n      <td>5</td>\n      <td>1</td>\n      <td>[barnsagor, alternative metal, rock, c-pop]</td>\n      <td>[rock, barnsagor, alternative metal, c-pop]</td>\n    </tr>\n    <tr>\n      <th>4</th>\n      <td>2023-01-28 02:30:48.635</td>\n      <td>926</td>\n      <td>1hviQqMhM4NyY4O6CWZABO</td>\n      <td>11281</td>\n      <td>Det finns väl ingen med kniv här i stan, del 3</td>\n      <td>20</td>\n      <td>113858</td>\n      <td>0</td>\n      <td>1c6OwPjqCGGUg770n3zhbq</td>\n      <td>1992-10-30</td>\n      <td>0.676</td>\n      <td>0.330</td>\n      <td>8</td>\n      <td>-16.983</td>\n      <td>0.954</td>\n      <td>0.737</td>\n      <td>0.0</td>\n      <td>0.1890</td>\n      <td>0.301</td>\n      <td>79.707</td>\n      <td>4</td>\n      <td>Dagmara Łaszczyk</td>\n      <td>Szczecin</td>\n      <td>pl. Lawendowa 35/83</td>\n      <td>[alternative metal, rock, c-pop]</td>\n      <td>False</td>\n      <td>Margaretha Krook</td>\n      <td>[barnsagor]</td>\n      <td>True</td>\n      <td>0</td>\n      <td>1</td>\n      <td>5</td>\n      <td>2</td>\n      <td>[barnsagor, alternative metal, rock, c-pop]</td>\n      <td>[rock, barnsagor, alternative metal, c-pop]</td>\n    </tr>\n    <tr>\n      <th>6</th>\n      <td>2023-02-14 21:59:20.619</td>\n      <td>940</td>\n      <td>0NPjiwqT1xrA3ck05xKoA8</td>\n      <td>11473</td>\n      <td>Anton skaffar sig hund, del 4</td>\n      <td>21</td>\n      <td>159812</td>\n      <td>0</td>\n      <td>1c6OwPjqCGGUg770n3zhbq</td>\n      <td>1975</td>\n      <td>0.667</td>\n      <td>0.199</td>\n      <td>1</td>\n      <td>-19.284</td>\n      <td>0.952</td>\n      <td>0.470</td>\n      <td>0.0</td>\n      <td>0.0882</td>\n      <td>0.487</td>\n      <td>96.391</td>\n      <td>3</td>\n      <td>Stanisław Butrym</td>\n      <td>Wrocław</td>\n      <td>ulica Witosa 13</td>\n      <td>[ranchera, pop, latin alternative]</td>\n      <td>True</td>\n      <td>Margaretha Krook</td>\n      <td>[barnsagor]</td>\n      <td>True</td>\n      <td>0</td>\n      <td>2</td>\n      <td>1</td>\n      <td>21</td>\n      <td>[barnsagor, ranchera, pop, latin alternative]</td>\n      <td>[latin alternative, barnsagor, pop, ranchera]</td>\n    </tr>\n    <tr>\n      <th>7</th>\n      <td>2023-02-06 18:41:13.873</td>\n      <td>1095</td>\n      <td>0NPjiwqT1xrA3ck05xKoA8</td>\n      <td>13459</td>\n      <td>Anton skaffar sig hund, del 4</td>\n      <td>21</td>\n      <td>159812</td>\n      <td>0</td>\n      <td>1c6OwPjqCGGUg770n3zhbq</td>\n      <td>1975</td>\n      <td>0.667</td>\n      <td>0.199</td>\n      <td>1</td>\n      <td>-19.284</td>\n      <td>0.952</td>\n      <td>0.470</td>\n      <td>0.0</td>\n      <td>0.0882</td>\n      <td>0.487</td>\n      <td>96.391</td>\n      <td>3</td>\n      <td>Fabian Zbroja</td>\n      <td>Wrocław</td>\n      <td>pl. Orzechowa 97/37</td>\n      <td>[singer-songwriter, pop rock, post-teen pop]</td>\n      <td>True</td>\n      <td>Margaretha Krook</td>\n      <td>[barnsagor]</td>\n      <td>False</td>\n      <td>0</td>\n      <td>2</td>\n      <td>0</td>\n      <td>18</td>\n      <td>[barnsagor, singer-songwriter, pop rock, post-teen pop]</td>\n      <td>[post-teen pop, barnsagor, pop rock, singer-songwriter]</td>\n    </tr>\n    <tr>\n      <th>8</th>\n      <td>2023-01-12 06:42:49.000</td>\n      <td>1295</td>\n      <td>0NPjiwqT1xrA3ck05xKoA8</td>\n      <td>16327</td>\n      <td>Anton skaffar sig hund, del 4</td>\n      <td>21</td>\n      <td>159812</td>\n      <td>0</td>\n      <td>1c6OwPjqCGGUg770n3zhbq</td>\n      <td>1975</td>\n      <td>0.667</td>\n      <td>0.199</td>\n      <td>1</td>\n      <td>-19.284</td>\n      <td>0.952</td>\n      <td>0.470</td>\n      <td>0.0</td>\n      <td>0.0882</td>\n      <td>0.487</td>\n      <td>96.391</td>\n      <td>3</td>\n      <td>Klara Majzner</td>\n      <td>Gdynia</td>\n      <td>plac Witosa 89/15</td>\n      <td>[pop, pop, funk]</td>\n      <td>True</td>\n      <td>Margaretha Krook</td>\n      <td>[barnsagor]</td>\n      <td>False</td>\n      <td>0</td>\n      <td>1</td>\n      <td>3</td>\n      <td>6</td>\n      <td>[barnsagor, pop, pop, funk]</td>\n      <td>[funk, barnsagor, pop]</td>\n    </tr>\n    <tr>\n      <th>11</th>\n      <td>2023-02-15 23:36:35.331</td>\n      <td>1467</td>\n      <td>0NPjiwqT1xrA3ck05xKoA8</td>\n      <td>18574</td>\n      <td>Anton skaffar sig hund, del 4</td>\n      <td>21</td>\n      <td>159812</td>\n      <td>0</td>\n      <td>1c6OwPjqCGGUg770n3zhbq</td>\n      <td>1975</td>\n      <td>0.667</td>\n      <td>0.199</td>\n      <td>1</td>\n      <td>-19.284</td>\n      <td>0.952</td>\n      <td>0.470</td>\n      <td>0.0</td>\n      <td>0.0882</td>\n      <td>0.487</td>\n      <td>96.391</td>\n      <td>3</td>\n      <td>Aurelia Miąsko</td>\n      <td>Poznań</td>\n      <td>plac Wierzbowa 28</td>\n      <td>[post-teen pop, argentine rock, latin rock]</td>\n      <td>True</td>\n      <td>Margaretha Krook</td>\n      <td>[barnsagor]</td>\n      <td>True</td>\n      <td>0</td>\n      <td>2</td>\n      <td>2</td>\n      <td>23</td>\n      <td>[barnsagor, post-teen pop, argentine rock, latin rock]</td>\n      <td>[argentine rock, latin rock, barnsagor, post-teen pop]</td>\n    </tr>\n    <tr>\n      <th>14</th>\n      <td>2023-03-16 19:24:41.953</td>\n      <td>1544</td>\n      <td>0NPjiwqT1xrA3ck05xKoA8</td>\n      <td>19590</td>\n      <td>Anton skaffar sig hund, del 4</td>\n      <td>21</td>\n      <td>159812</td>\n      <td>0</td>\n      <td>1c6OwPjqCGGUg770n3zhbq</td>\n      <td>1975</td>\n      <td>0.667</td>\n      <td>0.199</td>\n      <td>1</td>\n      <td>-19.284</td>\n      <td>0.952</td>\n      <td>0.470</td>\n      <td>0.0</td>\n      <td>0.0882</td>\n      <td>0.487</td>\n      <td>96.391</td>\n      <td>3</td>\n      <td>Dariusz Tokarek</td>\n      <td>Kraków</td>\n      <td>pl. Toruńska 266</td>\n      <td>[europop, filmi, alternative metal]</td>\n      <td>True</td>\n      <td>Margaretha Krook</td>\n      <td>[barnsagor]</td>\n      <td>True</td>\n      <td>0</td>\n      <td>3</td>\n      <td>3</td>\n      <td>19</td>\n      <td>[barnsagor, europop, filmi, alternative metal]</td>\n      <td>[europop, barnsagor, alternative metal, filmi]</td>\n    </tr>\n    <tr>\n      <th>16</th>\n      <td>2023-03-14 16:20:47.409</td>\n      <td>2039</td>\n      <td>0NPjiwqT1xrA3ck05xKoA8</td>\n      <td>26304</td>\n      <td>Anton skaffar sig hund, del 4</td>\n      <td>21</td>\n      <td>159812</td>\n      <td>0</td>\n      <td>1c6OwPjqCGGUg770n3zhbq</td>\n      <td>1975</td>\n      <td>0.667</td>\n      <td>0.199</td>\n      <td>1</td>\n      <td>-19.284</td>\n      <td>0.952</td>\n      <td>0.470</td>\n      <td>0.0</td>\n      <td>0.0882</td>\n      <td>0.487</td>\n      <td>96.391</td>\n      <td>3</td>\n      <td>Bruno Jeszke</td>\n      <td>Szczecin</td>\n      <td>al. Kamienna 457</td>\n      <td>[mpb, soul, alternative rock]</td>\n      <td>True</td>\n      <td>Margaretha Krook</td>\n      <td>[barnsagor]</td>\n      <td>True</td>\n      <td>0</td>\n      <td>3</td>\n      <td>1</td>\n      <td>16</td>\n      <td>[barnsagor, mpb, soul, alternative rock]</td>\n      <td>[alternative rock, mpb, soul, barnsagor]</td>\n    </tr>\n    <tr>\n      <th>19</th>\n      <td>2023-01-13 23:33:23.809</td>\n      <td>2076</td>\n      <td>0NPjiwqT1xrA3ck05xKoA8</td>\n      <td>26766</td>\n      <td>Anton skaffar sig hund, del 4</td>\n      <td>21</td>\n      <td>159812</td>\n      <td>0</td>\n      <td>1c6OwPjqCGGUg770n3zhbq</td>\n      <td>1975</td>\n      <td>0.667</td>\n      <td>0.199</td>\n      <td>1</td>\n      <td>-19.284</td>\n      <td>0.952</td>\n      <td>0.470</td>\n      <td>0.0</td>\n      <td>0.0882</td>\n      <td>0.487</td>\n      <td>96.391</td>\n      <td>3</td>\n      <td>Fabian Snoch</td>\n      <td>Kraków</td>\n      <td>ulica Sybiraków 305</td>\n      <td>[argentine rock, latin rock, ranchera]</td>\n      <td>False</td>\n      <td>Margaretha Krook</td>\n      <td>[barnsagor]</td>\n      <td>True</td>\n      <td>0</td>\n      <td>1</td>\n      <td>4</td>\n      <td>23</td>\n      <td>[barnsagor, argentine rock, latin rock, ranchera]</td>\n      <td>[argentine rock, latin rock, barnsagor, ranchera]</td>\n    </tr>\n  </tbody>\n</table>\n</div>"
     },
     "execution_count": 24,
     "metadata": {},
     "output_type": "execute_result"
    }
   ],
   "source": [
    "merged_data_frame = merged_data_frame.drop(columns=[\"id_x\", \"id_y\", \"event_type\", \"mode\"])\n",
    "merged_data_frame.head(10)"
   ]
  },
  {
   "cell_type": "code",
   "execution_count": 25,
   "metadata": {},
   "outputs": [
    {
     "name": "stdout",
     "output_type": "stream",
     "text": [
      "<class 'pandas.core.frame.DataFrame'>\n",
      "Index: 1276510 entries, 0 to 2179841\n",
      "Data columns (total 35 columns):\n",
      " #   Column                        Non-Null Count    Dtype         \n",
      "---  ------                        --------------    -----         \n",
      " 0   timestamp                     1276510 non-null  datetime64[ns]\n",
      " 1   user_id                       1276510 non-null  int64         \n",
      " 2   track_id                      1276510 non-null  object        \n",
      " 3   session_id                    1276510 non-null  int64         \n",
      " 4   track_name                    1276510 non-null  object        \n",
      " 5   popularity                    1276510 non-null  int64         \n",
      " 6   duration_ms                   1276510 non-null  int64         \n",
      " 7   explicit                      1276510 non-null  int64         \n",
      " 8   id_artist                     1276510 non-null  object        \n",
      " 9   release_date                  1276510 non-null  object        \n",
      " 10  danceability                  1276510 non-null  float64       \n",
      " 11  energy                        1276510 non-null  float64       \n",
      " 12  key                           1276510 non-null  int64         \n",
      " 13  loudness                      1276510 non-null  float64       \n",
      " 14  speechiness                   1276510 non-null  float64       \n",
      " 15  acousticness                  1276510 non-null  float64       \n",
      " 16  instrumentalness              1276510 non-null  float64       \n",
      " 17  liveness                      1276510 non-null  float64       \n",
      " 18  valence                       1276510 non-null  float64       \n",
      " 19  tempo                         1276510 non-null  float64       \n",
      " 20  time_signature                1276510 non-null  int64         \n",
      " 21  artist_name                   1276510 non-null  object        \n",
      " 22  city                          1276510 non-null  object        \n",
      " 23  street                        1276510 non-null  object        \n",
      " 24  favourite_genres              1276510 non-null  object        \n",
      " 25  premium_user                  1276510 non-null  bool          \n",
      " 26  name                          1276510 non-null  object        \n",
      " 27  genres                        1276510 non-null  object        \n",
      " 28  skipped                       1276510 non-null  bool          \n",
      " 29  number_of_matching_genres     1276510 non-null  int64         \n",
      " 30  month                         1276510 non-null  int32         \n",
      " 31  day_of_week                   1276510 non-null  int32         \n",
      " 32  hour_of_day                   1276510 non-null  int32         \n",
      " 33  genres_with_favourite_genres  1276510 non-null  object        \n",
      " 34  common_genres                 1276510 non-null  object        \n",
      "dtypes: bool(2), datetime64[ns](1), float64(9), int32(3), int64(8), object(12)\n",
      "memory usage: 319.0+ MB\n"
     ]
    }
   ],
   "source": [
    "merged_data_frame.info()"
   ]
  },
  {
   "cell_type": "code",
   "execution_count": 26,
   "metadata": {},
   "outputs": [
    {
     "data": {
      "text/plain": "                           timestamp       user_id    session_id   \ncount                        1276510  1.276510e+06  1.276510e+06  \\\nmean   2023-02-17 06:30:55.759123968  2.859073e+03  3.724297e+04   \nmin              2023-01-01 00:04:29  1.010000e+02  1.240000e+02   \n25%    2023-01-24 11:10:13.823000064  1.486000e+03  1.883100e+04   \n50%    2023-02-17 05:30:08.064999936  2.869000e+03  3.729600e+04   \n75%    2023-03-13 01:19:03.110000128  4.234000e+03  5.576400e+04   \nmax       2023-04-05 20:24:55.388000  5.600000e+03  7.413100e+04   \nstd                              NaN  1.589681e+03  2.135982e+04   \n\n         popularity   duration_ms      explicit  danceability        energy   \ncount  1.276510e+06  1.276510e+06  1.276510e+06  1.276510e+06  1.276510e+06  \\\nmean   4.637075e+01  2.309341e+05  8.232603e-02  5.665693e-01  5.997763e-01   \nmin    0.000000e+00  4.000000e+03  0.000000e+00  0.000000e+00  0.000000e+00   \n25%    2.600000e+01  1.802830e+05  0.000000e+00  4.550000e-01  4.310000e-01   \n50%    4.100000e+01  2.149470e+05  0.000000e+00  5.730000e-01  6.200000e-01   \n75%    7.500000e+01  2.622400e+05  0.000000e+00  6.860000e-01  7.890000e-01   \nmax    9.600000e+01  4.120258e+06  1.000000e+00  9.820000e-01  1.000000e+00   \nstd    2.537431e+01  9.897527e+04  2.748609e-01  1.657664e-01  2.278273e-01   \n\n                key      loudness   speechiness  acousticness   \ncount  1.276510e+06  1.276510e+06  1.276510e+06  1.276510e+06  \\\nmean   5.279286e+00 -9.098161e+00  8.181135e-02  3.240204e-01   \nmin    0.000000e+00 -6.000000e+01  0.000000e+00  0.000000e+00   \n25%    2.000000e+00 -1.148100e+01  3.350000e-02  3.610000e-02   \n50%    5.000000e+00 -8.315000e+00  4.250000e-02  2.120000e-01   \n75%    9.000000e+00 -6.050000e+00  7.680000e-02  5.740000e-01   \nmax    1.100000e+01  2.487000e+00  9.670000e-01  9.960000e-01   \nstd    3.559949e+00  4.344660e+00  1.169348e-01  3.107948e-01   \n\n       instrumentalness      liveness       valence         tempo   \ncount      1.276510e+06  1.276510e+06  1.276510e+06  1.276510e+06  \\\nmean       7.121924e-02  2.046845e-01  5.397278e-01  1.204185e+02   \nmin        0.000000e+00  0.000000e+00  0.000000e+00  0.000000e+00   \n25%        0.000000e+00  9.420000e-02  3.410000e-01  9.854400e+01   \n50%        4.410000e-05  1.260000e-01  5.470000e-01  1.199650e+02   \n75%        5.200000e-03  2.470000e-01  7.430000e-01  1.368920e+02   \nmax        9.990000e-01  1.000000e+00  1.000000e+00  2.180720e+02   \nstd        2.033808e-01  1.895666e-01  2.515016e-01  2.848244e+01   \n\n       time_signature  number_of_matching_genres         month   day_of_week   \ncount    1.276510e+06               1.276510e+06  1.276510e+06  1.276510e+06  \\\nmean     3.930228e+00               1.659979e-01  2.095890e+00  2.974657e+00   \nmin      0.000000e+00               0.000000e+00  1.000000e+00  0.000000e+00   \n25%      4.000000e+00               0.000000e+00  1.000000e+00  1.000000e+00   \n50%      4.000000e+00               0.000000e+00  2.000000e+00  3.000000e+00   \n75%      4.000000e+00               0.000000e+00  3.000000e+00  5.000000e+00   \nmax      5.000000e+00               3.000000e+00  4.000000e+00  6.000000e+00   \nstd      3.764612e-01               4.159961e-01  9.210477e-01  2.009431e+00   \n\n        hour_of_day  \ncount  1.276510e+06  \nmean   1.150624e+01  \nmin    0.000000e+00  \n25%    6.000000e+00  \n50%    1.200000e+01  \n75%    1.700000e+01  \nmax    2.300000e+01  \nstd    6.903861e+00  ",
      "text/html": "<div>\n<style scoped>\n    .dataframe tbody tr th:only-of-type {\n        vertical-align: middle;\n    }\n\n    .dataframe tbody tr th {\n        vertical-align: top;\n    }\n\n    .dataframe thead th {\n        text-align: right;\n    }\n</style>\n<table border=\"1\" class=\"dataframe\">\n  <thead>\n    <tr style=\"text-align: right;\">\n      <th></th>\n      <th>timestamp</th>\n      <th>user_id</th>\n      <th>session_id</th>\n      <th>popularity</th>\n      <th>duration_ms</th>\n      <th>explicit</th>\n      <th>danceability</th>\n      <th>energy</th>\n      <th>key</th>\n      <th>loudness</th>\n      <th>speechiness</th>\n      <th>acousticness</th>\n      <th>instrumentalness</th>\n      <th>liveness</th>\n      <th>valence</th>\n      <th>tempo</th>\n      <th>time_signature</th>\n      <th>number_of_matching_genres</th>\n      <th>month</th>\n      <th>day_of_week</th>\n      <th>hour_of_day</th>\n    </tr>\n  </thead>\n  <tbody>\n    <tr>\n      <th>count</th>\n      <td>1276510</td>\n      <td>1.276510e+06</td>\n      <td>1.276510e+06</td>\n      <td>1.276510e+06</td>\n      <td>1.276510e+06</td>\n      <td>1.276510e+06</td>\n      <td>1.276510e+06</td>\n      <td>1.276510e+06</td>\n      <td>1.276510e+06</td>\n      <td>1.276510e+06</td>\n      <td>1.276510e+06</td>\n      <td>1.276510e+06</td>\n      <td>1.276510e+06</td>\n      <td>1.276510e+06</td>\n      <td>1.276510e+06</td>\n      <td>1.276510e+06</td>\n      <td>1.276510e+06</td>\n      <td>1.276510e+06</td>\n      <td>1.276510e+06</td>\n      <td>1.276510e+06</td>\n      <td>1.276510e+06</td>\n    </tr>\n    <tr>\n      <th>mean</th>\n      <td>2023-02-17 06:30:55.759123968</td>\n      <td>2.859073e+03</td>\n      <td>3.724297e+04</td>\n      <td>4.637075e+01</td>\n      <td>2.309341e+05</td>\n      <td>8.232603e-02</td>\n      <td>5.665693e-01</td>\n      <td>5.997763e-01</td>\n      <td>5.279286e+00</td>\n      <td>-9.098161e+00</td>\n      <td>8.181135e-02</td>\n      <td>3.240204e-01</td>\n      <td>7.121924e-02</td>\n      <td>2.046845e-01</td>\n      <td>5.397278e-01</td>\n      <td>1.204185e+02</td>\n      <td>3.930228e+00</td>\n      <td>1.659979e-01</td>\n      <td>2.095890e+00</td>\n      <td>2.974657e+00</td>\n      <td>1.150624e+01</td>\n    </tr>\n    <tr>\n      <th>min</th>\n      <td>2023-01-01 00:04:29</td>\n      <td>1.010000e+02</td>\n      <td>1.240000e+02</td>\n      <td>0.000000e+00</td>\n      <td>4.000000e+03</td>\n      <td>0.000000e+00</td>\n      <td>0.000000e+00</td>\n      <td>0.000000e+00</td>\n      <td>0.000000e+00</td>\n      <td>-6.000000e+01</td>\n      <td>0.000000e+00</td>\n      <td>0.000000e+00</td>\n      <td>0.000000e+00</td>\n      <td>0.000000e+00</td>\n      <td>0.000000e+00</td>\n      <td>0.000000e+00</td>\n      <td>0.000000e+00</td>\n      <td>0.000000e+00</td>\n      <td>1.000000e+00</td>\n      <td>0.000000e+00</td>\n      <td>0.000000e+00</td>\n    </tr>\n    <tr>\n      <th>25%</th>\n      <td>2023-01-24 11:10:13.823000064</td>\n      <td>1.486000e+03</td>\n      <td>1.883100e+04</td>\n      <td>2.600000e+01</td>\n      <td>1.802830e+05</td>\n      <td>0.000000e+00</td>\n      <td>4.550000e-01</td>\n      <td>4.310000e-01</td>\n      <td>2.000000e+00</td>\n      <td>-1.148100e+01</td>\n      <td>3.350000e-02</td>\n      <td>3.610000e-02</td>\n      <td>0.000000e+00</td>\n      <td>9.420000e-02</td>\n      <td>3.410000e-01</td>\n      <td>9.854400e+01</td>\n      <td>4.000000e+00</td>\n      <td>0.000000e+00</td>\n      <td>1.000000e+00</td>\n      <td>1.000000e+00</td>\n      <td>6.000000e+00</td>\n    </tr>\n    <tr>\n      <th>50%</th>\n      <td>2023-02-17 05:30:08.064999936</td>\n      <td>2.869000e+03</td>\n      <td>3.729600e+04</td>\n      <td>4.100000e+01</td>\n      <td>2.149470e+05</td>\n      <td>0.000000e+00</td>\n      <td>5.730000e-01</td>\n      <td>6.200000e-01</td>\n      <td>5.000000e+00</td>\n      <td>-8.315000e+00</td>\n      <td>4.250000e-02</td>\n      <td>2.120000e-01</td>\n      <td>4.410000e-05</td>\n      <td>1.260000e-01</td>\n      <td>5.470000e-01</td>\n      <td>1.199650e+02</td>\n      <td>4.000000e+00</td>\n      <td>0.000000e+00</td>\n      <td>2.000000e+00</td>\n      <td>3.000000e+00</td>\n      <td>1.200000e+01</td>\n    </tr>\n    <tr>\n      <th>75%</th>\n      <td>2023-03-13 01:19:03.110000128</td>\n      <td>4.234000e+03</td>\n      <td>5.576400e+04</td>\n      <td>7.500000e+01</td>\n      <td>2.622400e+05</td>\n      <td>0.000000e+00</td>\n      <td>6.860000e-01</td>\n      <td>7.890000e-01</td>\n      <td>9.000000e+00</td>\n      <td>-6.050000e+00</td>\n      <td>7.680000e-02</td>\n      <td>5.740000e-01</td>\n      <td>5.200000e-03</td>\n      <td>2.470000e-01</td>\n      <td>7.430000e-01</td>\n      <td>1.368920e+02</td>\n      <td>4.000000e+00</td>\n      <td>0.000000e+00</td>\n      <td>3.000000e+00</td>\n      <td>5.000000e+00</td>\n      <td>1.700000e+01</td>\n    </tr>\n    <tr>\n      <th>max</th>\n      <td>2023-04-05 20:24:55.388000</td>\n      <td>5.600000e+03</td>\n      <td>7.413100e+04</td>\n      <td>9.600000e+01</td>\n      <td>4.120258e+06</td>\n      <td>1.000000e+00</td>\n      <td>9.820000e-01</td>\n      <td>1.000000e+00</td>\n      <td>1.100000e+01</td>\n      <td>2.487000e+00</td>\n      <td>9.670000e-01</td>\n      <td>9.960000e-01</td>\n      <td>9.990000e-01</td>\n      <td>1.000000e+00</td>\n      <td>1.000000e+00</td>\n      <td>2.180720e+02</td>\n      <td>5.000000e+00</td>\n      <td>3.000000e+00</td>\n      <td>4.000000e+00</td>\n      <td>6.000000e+00</td>\n      <td>2.300000e+01</td>\n    </tr>\n    <tr>\n      <th>std</th>\n      <td>NaN</td>\n      <td>1.589681e+03</td>\n      <td>2.135982e+04</td>\n      <td>2.537431e+01</td>\n      <td>9.897527e+04</td>\n      <td>2.748609e-01</td>\n      <td>1.657664e-01</td>\n      <td>2.278273e-01</td>\n      <td>3.559949e+00</td>\n      <td>4.344660e+00</td>\n      <td>1.169348e-01</td>\n      <td>3.107948e-01</td>\n      <td>2.033808e-01</td>\n      <td>1.895666e-01</td>\n      <td>2.515016e-01</td>\n      <td>2.848244e+01</td>\n      <td>3.764612e-01</td>\n      <td>4.159961e-01</td>\n      <td>9.210477e-01</td>\n      <td>2.009431e+00</td>\n      <td>6.903861e+00</td>\n    </tr>\n  </tbody>\n</table>\n</div>"
     },
     "execution_count": 26,
     "metadata": {},
     "output_type": "execute_result"
    }
   ],
   "source": [
    "merged_data_frame.describe()"
   ]
  },
  {
   "attachments": {},
   "cell_type": "markdown",
   "metadata": {},
   "source": [
    "## Współczynnik informacji wzajemnej\n",
    "\n",
    "Sprawdzamy, czy atrybuty niosą ze sobą informację o zmiennej celu."
   ]
  },
  {
   "cell_type": "code",
   "execution_count": 27,
   "metadata": {},
   "outputs": [
    {
     "name": "stdout",
     "output_type": "stream",
     "text": [
      "Entropy of skipped column:  0.6523\n"
     ]
    },
    {
     "name": "stderr",
     "output_type": "stream",
     "text": [
      "/Users/rasztabigab/anaconda3/envs/IUM/lib/python3.10/site-packages/sklearn/metrics/cluster/_supervised.py:64: UserWarning: Clustering metrics expects discrete values but received binary values for label, and continuous values for target\n",
      "  warnings.warn(msg, UserWarning)\n",
      "/Users/rasztabigab/anaconda3/envs/IUM/lib/python3.10/site-packages/sklearn/metrics/cluster/_supervised.py:64: UserWarning: Clustering metrics expects discrete values but received binary values for label, and continuous values for target\n",
      "  warnings.warn(msg, UserWarning)\n",
      "/Users/rasztabigab/anaconda3/envs/IUM/lib/python3.10/site-packages/sklearn/metrics/cluster/_supervised.py:64: UserWarning: Clustering metrics expects discrete values but received binary values for label, and continuous values for target\n",
      "  warnings.warn(msg, UserWarning)\n",
      "/Users/rasztabigab/anaconda3/envs/IUM/lib/python3.10/site-packages/sklearn/metrics/cluster/_supervised.py:64: UserWarning: Clustering metrics expects discrete values but received binary values for label, and continuous values for target\n",
      "  warnings.warn(msg, UserWarning)\n",
      "/Users/rasztabigab/anaconda3/envs/IUM/lib/python3.10/site-packages/sklearn/metrics/cluster/_supervised.py:64: UserWarning: Clustering metrics expects discrete values but received binary values for label, and continuous values for target\n",
      "  warnings.warn(msg, UserWarning)\n",
      "/Users/rasztabigab/anaconda3/envs/IUM/lib/python3.10/site-packages/sklearn/metrics/cluster/_supervised.py:64: UserWarning: Clustering metrics expects discrete values but received binary values for label, and continuous values for target\n",
      "  warnings.warn(msg, UserWarning)\n",
      "/Users/rasztabigab/anaconda3/envs/IUM/lib/python3.10/site-packages/sklearn/metrics/cluster/_supervised.py:64: UserWarning: Clustering metrics expects discrete values but received binary values for label, and continuous values for target\n",
      "  warnings.warn(msg, UserWarning)\n",
      "/Users/rasztabigab/anaconda3/envs/IUM/lib/python3.10/site-packages/sklearn/metrics/cluster/_supervised.py:64: UserWarning: Clustering metrics expects discrete values but received binary values for label, and continuous values for target\n",
      "  warnings.warn(msg, UserWarning)\n",
      "/Users/rasztabigab/anaconda3/envs/IUM/lib/python3.10/site-packages/sklearn/metrics/cluster/_supervised.py:64: UserWarning: Clustering metrics expects discrete values but received binary values for label, and continuous values for target\n",
      "  warnings.warn(msg, UserWarning)\n"
     ]
    },
    {
     "name": "stdout",
     "output_type": "stream",
     "text": [
      "timestamp: 0.4952\n",
      "genres_with_favourite_genres: 0.4764\n",
      "common_genres: 0.4551\n",
      "session_id: 0.171\n",
      "user_id: 0.1391\n",
      "street: 0.139\n",
      "artist_name: 0.1386\n",
      "favourite_genres: 0.1357\n",
      "premium_user: 0.0344\n",
      "track_id: 0.0151\n",
      "track_name: 0.0147\n",
      "tempo: 0.0136\n",
      "duration_ms: 0.0119\n",
      "loudness: 0.0095\n",
      "id_artist: 0.0082\n",
      "name: 0.0082\n",
      "release_date: 0.0064\n",
      "genres: 0.0063\n",
      "danceability: 0.005\n",
      "instrumentalness: 0.0047\n",
      "acousticness: 0.0042\n",
      "valence: 0.0033\n",
      "speechiness: 0.0027\n",
      "energy: 0.0024\n",
      "liveness: 0.0024\n",
      "popularity: 0.0004\n",
      "city: 0.0002\n",
      "explicit: 0.0001\n",
      "key: 0.0001\n",
      "month: 0.0001\n",
      "time_signature: 0.0\n",
      "number_of_matching_genres: 0.0\n",
      "day_of_week: 0.0\n",
      "hour_of_day: 0.0\n"
     ]
    }
   ],
   "source": [
    "from sklearn import metrics\n",
    "from scipy.stats import entropy\n",
    "\n",
    "print(\"Entropy of skipped column: \", str(round(entropy(merged_data_frame[\"skipped\"].value_counts()), 4)))\n",
    "\n",
    "df = merged_data_frame.copy()\n",
    "df[\"favourite_genres\"] = df[\"favourite_genres\"].apply(lambda x: str(x))\n",
    "df[\"genres\"] = df[\"genres\"].apply(lambda x: str(x))\n",
    "df[\"genres_with_favourite_genres\"] = df[\"genres_with_favourite_genres\"].apply(lambda x: str(x))\n",
    "df[\"common_genres\"] = df[\"common_genres\"].apply(lambda x: str(x))\n",
    "\n",
    "mutual_info_score = {}\n",
    "\n",
    "for column in df.columns:\n",
    "  if column != \"skipped\":\n",
    "    mutual_info_score[column] = round(metrics.mutual_info_score(df[\"skipped\"], df[column]), 4)\n",
    "\n",
    "# print sorted by value\n",
    "for key, value in sorted(mutual_info_score.items(), key=lambda item: item[1], reverse=True):\n",
    "  print(\"%s: %s\" % (key, value))"
   ]
  },
  {
   "attachments": {},
   "cell_type": "markdown",
   "metadata": {},
   "source": [
    "## Macierz korelacji"
   ]
  },
  {
   "cell_type": "code",
   "execution_count": 28,
   "metadata": {
    "collapsed": false
   },
   "outputs": [
    {
     "data": {
      "text/plain": "timestamp                   -0.013453\nuser_id                      0.003888\nsession_id                   0.003906\npopularity                  -0.006764\nduration_ms                  0.052508\nexplicit                    -0.010313\ndanceability                -0.075586\nenergy                      -0.000453\nkey                          0.003896\nloudness                    -0.003847\nspeechiness                 -0.030642\nacousticness                -0.007098\ninstrumentalness             0.013742\nliveness                     0.009499\nvalence                     -0.045396\ntempo                        0.011392\ntime_signature              -0.003515\npremium_user                 0.262185\nskipped                      1.000000\nnumber_of_matching_genres    0.003511\nmonth                       -0.012886\nday_of_week                  0.001368\nhour_of_day                 -0.002158\ndtype: float64"
     },
     "execution_count": 28,
     "metadata": {},
     "output_type": "execute_result"
    }
   ],
   "source": [
    "df = df.drop(columns=[\"genres\", \"favourite_genres\", \"genres_with_favourite_genres\", \"common_genres\", \"track_id\", \"track_name\", \"id_artist\", \"release_date\", \"artist_name\", \"city\", \"street\", \"name\"])\n",
    "\n",
    "df[\"skipped\"] = df[\"skipped\"].astype(int)\n",
    "df[\"premium_user\"] = df[\"premium_user\"].astype(int)\n",
    "df[\"timestamp\"] = pd.to_numeric(df[\"timestamp\"], errors=\"coerce\")\n",
    "\n",
    "correlation_matrix = df.corrwith(df[\"skipped\"])\n",
    "correlation_matrix"
   ]
  },
  {
   "cell_type": "code",
   "execution_count": 29,
   "metadata": {},
   "outputs": [],
   "source": [
    "# save to jsonl file\n",
    "merged_data_frame.to_json(\"../data/merged_data.jsonl\", orient=\"records\", lines=True)\n"
   ]
  },
  {
   "attachments": {},
   "cell_type": "markdown",
   "metadata": {},
   "source": [
    "## Podsumowanie"
   ]
  },
  {
   "attachments": {},
   "cell_type": "markdown",
   "metadata": {},
   "source": [
    "Jak widać na podstawie współczyników informacji wzajemnej, połączenie atrybutów \"genres\" i \"favourite_genres\" jest dobrym atrybutem do uczenia naszego modelu predykcyjnego.\n",
    "Innymi dobrymi atrybutami są: \"tempo\", \"duration_ms\" i \"loudness\".\n",
    "\n",
    "Początkowo zdecydowaliśmy się na użycie atrybutów \"genres\" i \"favourite_genres\" jako danych wejściowych modelu. Zmienną celu jest etykieta \"skipped\".\n"
   ]
  }
 ],
 "metadata": {
  "kernelspec": {
   "display_name": "Python 3.10 (IUM)",
   "language": "python",
   "name": "ium"
  },
  "language_info": {
   "codemirror_mode": {
    "name": "ipython",
    "version": 3
   },
   "file_extension": ".py",
   "mimetype": "text/x-python",
   "name": "python",
   "nbconvert_exporter": "python",
   "pygments_lexer": "ipython3",
   "version": "3.10.10"
  }
 },
 "nbformat": 4,
 "nbformat_minor": 1
}
