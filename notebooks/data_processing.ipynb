{
 "cells": [
  {
   "cell_type": "code",
   "execution_count": 28,
   "metadata": {
    "collapsed": true
   },
   "outputs": [],
   "source": [
    "import pandas as pd\n",
    "\n",
    "pd.set_option('display.max_rows', None)\n",
    "pd.set_option('display.max_columns', None)\n",
    "pd.set_option('max_colwidth', None)\n",
    "\n",
    "artists_data_path = \"../data/artists.jsonl\"\n",
    "sessions_data_path = \"../data/sessions.jsonl\"\n",
    "track_storage_data_path = \"../data/track_storage.jsonl\"\n",
    "tracks_data_path = \"../data/tracks.jsonl\"\n",
    "users_data_path = \"../data/users.jsonl\"\n",
    "\n",
    "artists_data_frame = pd.read_json(artists_data_path, lines=True)\n",
    "sessions_data_frame = pd.read_json(sessions_data_path, lines=True)\n",
    "tracks_data_frame = pd.read_json(tracks_data_path, lines=True)\n",
    "users_data_frame = pd.read_json(users_data_path, lines=True)"
   ]
  },
  {
   "cell_type": "markdown",
   "source": [
    "# Mergowanie podobnych gatunków muzycznych (artists)\n",
    "TODO\n"
   ],
   "metadata": {
    "collapsed": false
   }
  },
  {
   "cell_type": "markdown",
   "source": [
    "# Scalenie danych"
   ],
   "metadata": {
    "collapsed": false
   }
  },
  {
   "cell_type": "code",
   "execution_count": 29,
   "outputs": [
    {
     "data": {
      "text/plain": "                timestamp  user_id                track_id event_type   \n0 2023-01-03 05:09:55.000      101  2PmGtDUyJIpYBEtI1hQIVp       PLAY  \\\n1 2023-02-08 21:41:02.507      103  2PmGtDUyJIpYBEtI1hQIVp       PLAY   \n2 2023-02-12 01:17:14.946      132  2PmGtDUyJIpYBEtI1hQIVp       PLAY   \n3 2023-01-03 03:59:59.738      132  5yxYokipsWlpDCt4Th4VVc       PLAY   \n4 2023-03-07 14:28:25.702      132  5yxYokipsWlpDCt4Th4VVc       PLAY   \n\n   session_id                    id_x                  name_x  popularity   \n0         124  2PmGtDUyJIpYBEtI1hQIVp       Ballrooms Of Mars          34  \\\n1         151  2PmGtDUyJIpYBEtI1hQIVp       Ballrooms Of Mars          34   \n2         544  2PmGtDUyJIpYBEtI1hQIVp       Ballrooms Of Mars          34   \n3         534  5yxYokipsWlpDCt4Th4VVc  Solid Gold Easy Action          35   \n4         547  5yxYokipsWlpDCt4Th4VVc  Solid Gold Easy Action          35   \n\n   duration_ms  explicit               id_artist release_date  danceability   \n0       247707         0  3dBVyJ7JuOMt4GE9607Qin   1972-07-21         0.491  \\\n1       247707         0  3dBVyJ7JuOMt4GE9607Qin   1972-07-21         0.491   \n2       247707         0  3dBVyJ7JuOMt4GE9607Qin   1972-07-21         0.491   \n3       140067         0  3dBVyJ7JuOMt4GE9607Qin   1973-03-16         0.449   \n4       140067         0  3dBVyJ7JuOMt4GE9607Qin   1973-03-16         0.449   \n\n   energy  key  loudness  speechiness  acousticness  instrumentalness   \n0   0.606    7   -10.172       0.0377       0.00327          0.000008  \\\n1   0.606    7   -10.172       0.0377       0.00327          0.000008   \n2   0.606    7   -10.172       0.0377       0.00327          0.000008   \n3   0.749    9    -8.585       0.0775       0.01000          0.000000   \n4   0.749    9    -8.585       0.0775       0.01000          0.000000   \n\n   liveness  valence    tempo         name_y      city              street   \n0     0.341    0.669  123.025  Klara Herdzik  Szczecin  pl. Floriana 55/22  \\\n1     0.341    0.669  123.025   Szymon Zawal    Gdynia   al. Głogowa 14/10   \n2     0.341    0.669  123.025   Cezary Nóżka   Wrocław    aleja Olchowa 16   \n3     0.391    0.448  106.861   Cezary Nóżka   Wrocław    aleja Olchowa 16   \n4     0.391    0.448  106.861   Cezary Nóżka   Wrocław    aleja Olchowa 16   \n\n                                    favourite_genres  premium_user   \n0                   [permanent wave, mandopop, funk]         False  \\\n1                    [filmi, regional mexican, folk]         False   \n2  [psychedelic rock, country rock, rock en espanol]          True   \n3  [psychedelic rock, country rock, rock en espanol]          True   \n4  [psychedelic rock, country rock, rock en espanol]          True   \n\n                     id_y    name   \n0  3dBVyJ7JuOMt4GE9607Qin  T. Rex  \\\n1  3dBVyJ7JuOMt4GE9607Qin  T. Rex   \n2  3dBVyJ7JuOMt4GE9607Qin  T. Rex   \n3  3dBVyJ7JuOMt4GE9607Qin  T. Rex   \n4  3dBVyJ7JuOMt4GE9607Qin  T. Rex   \n\n                                                                                          genres  \n0  [album rock, art rock, classic rock, folk rock, glam rock, protopunk, psychedelic rock, rock]  \n1  [album rock, art rock, classic rock, folk rock, glam rock, protopunk, psychedelic rock, rock]  \n2  [album rock, art rock, classic rock, folk rock, glam rock, protopunk, psychedelic rock, rock]  \n3  [album rock, art rock, classic rock, folk rock, glam rock, protopunk, psychedelic rock, rock]  \n4  [album rock, art rock, classic rock, folk rock, glam rock, protopunk, psychedelic rock, rock]  ",
      "text/html": "<div>\n<style scoped>\n    .dataframe tbody tr th:only-of-type {\n        vertical-align: middle;\n    }\n\n    .dataframe tbody tr th {\n        vertical-align: top;\n    }\n\n    .dataframe thead th {\n        text-align: right;\n    }\n</style>\n<table border=\"1\" class=\"dataframe\">\n  <thead>\n    <tr style=\"text-align: right;\">\n      <th></th>\n      <th>timestamp</th>\n      <th>user_id</th>\n      <th>track_id</th>\n      <th>event_type</th>\n      <th>session_id</th>\n      <th>id_x</th>\n      <th>name_x</th>\n      <th>popularity</th>\n      <th>duration_ms</th>\n      <th>explicit</th>\n      <th>id_artist</th>\n      <th>release_date</th>\n      <th>danceability</th>\n      <th>energy</th>\n      <th>key</th>\n      <th>loudness</th>\n      <th>speechiness</th>\n      <th>acousticness</th>\n      <th>instrumentalness</th>\n      <th>liveness</th>\n      <th>valence</th>\n      <th>tempo</th>\n      <th>name_y</th>\n      <th>city</th>\n      <th>street</th>\n      <th>favourite_genres</th>\n      <th>premium_user</th>\n      <th>id_y</th>\n      <th>name</th>\n      <th>genres</th>\n    </tr>\n  </thead>\n  <tbody>\n    <tr>\n      <th>0</th>\n      <td>2023-01-03 05:09:55.000</td>\n      <td>101</td>\n      <td>2PmGtDUyJIpYBEtI1hQIVp</td>\n      <td>PLAY</td>\n      <td>124</td>\n      <td>2PmGtDUyJIpYBEtI1hQIVp</td>\n      <td>Ballrooms Of Mars</td>\n      <td>34</td>\n      <td>247707</td>\n      <td>0</td>\n      <td>3dBVyJ7JuOMt4GE9607Qin</td>\n      <td>1972-07-21</td>\n      <td>0.491</td>\n      <td>0.606</td>\n      <td>7</td>\n      <td>-10.172</td>\n      <td>0.0377</td>\n      <td>0.00327</td>\n      <td>0.000008</td>\n      <td>0.341</td>\n      <td>0.669</td>\n      <td>123.025</td>\n      <td>Klara Herdzik</td>\n      <td>Szczecin</td>\n      <td>pl. Floriana 55/22</td>\n      <td>[permanent wave, mandopop, funk]</td>\n      <td>False</td>\n      <td>3dBVyJ7JuOMt4GE9607Qin</td>\n      <td>T. Rex</td>\n      <td>[album rock, art rock, classic rock, folk rock, glam rock, protopunk, psychedelic rock, rock]</td>\n    </tr>\n    <tr>\n      <th>1</th>\n      <td>2023-02-08 21:41:02.507</td>\n      <td>103</td>\n      <td>2PmGtDUyJIpYBEtI1hQIVp</td>\n      <td>PLAY</td>\n      <td>151</td>\n      <td>2PmGtDUyJIpYBEtI1hQIVp</td>\n      <td>Ballrooms Of Mars</td>\n      <td>34</td>\n      <td>247707</td>\n      <td>0</td>\n      <td>3dBVyJ7JuOMt4GE9607Qin</td>\n      <td>1972-07-21</td>\n      <td>0.491</td>\n      <td>0.606</td>\n      <td>7</td>\n      <td>-10.172</td>\n      <td>0.0377</td>\n      <td>0.00327</td>\n      <td>0.000008</td>\n      <td>0.341</td>\n      <td>0.669</td>\n      <td>123.025</td>\n      <td>Szymon Zawal</td>\n      <td>Gdynia</td>\n      <td>al. Głogowa 14/10</td>\n      <td>[filmi, regional mexican, folk]</td>\n      <td>False</td>\n      <td>3dBVyJ7JuOMt4GE9607Qin</td>\n      <td>T. Rex</td>\n      <td>[album rock, art rock, classic rock, folk rock, glam rock, protopunk, psychedelic rock, rock]</td>\n    </tr>\n    <tr>\n      <th>2</th>\n      <td>2023-02-12 01:17:14.946</td>\n      <td>132</td>\n      <td>2PmGtDUyJIpYBEtI1hQIVp</td>\n      <td>PLAY</td>\n      <td>544</td>\n      <td>2PmGtDUyJIpYBEtI1hQIVp</td>\n      <td>Ballrooms Of Mars</td>\n      <td>34</td>\n      <td>247707</td>\n      <td>0</td>\n      <td>3dBVyJ7JuOMt4GE9607Qin</td>\n      <td>1972-07-21</td>\n      <td>0.491</td>\n      <td>0.606</td>\n      <td>7</td>\n      <td>-10.172</td>\n      <td>0.0377</td>\n      <td>0.00327</td>\n      <td>0.000008</td>\n      <td>0.341</td>\n      <td>0.669</td>\n      <td>123.025</td>\n      <td>Cezary Nóżka</td>\n      <td>Wrocław</td>\n      <td>aleja Olchowa 16</td>\n      <td>[psychedelic rock, country rock, rock en espanol]</td>\n      <td>True</td>\n      <td>3dBVyJ7JuOMt4GE9607Qin</td>\n      <td>T. Rex</td>\n      <td>[album rock, art rock, classic rock, folk rock, glam rock, protopunk, psychedelic rock, rock]</td>\n    </tr>\n    <tr>\n      <th>3</th>\n      <td>2023-01-03 03:59:59.738</td>\n      <td>132</td>\n      <td>5yxYokipsWlpDCt4Th4VVc</td>\n      <td>PLAY</td>\n      <td>534</td>\n      <td>5yxYokipsWlpDCt4Th4VVc</td>\n      <td>Solid Gold Easy Action</td>\n      <td>35</td>\n      <td>140067</td>\n      <td>0</td>\n      <td>3dBVyJ7JuOMt4GE9607Qin</td>\n      <td>1973-03-16</td>\n      <td>0.449</td>\n      <td>0.749</td>\n      <td>9</td>\n      <td>-8.585</td>\n      <td>0.0775</td>\n      <td>0.01000</td>\n      <td>0.000000</td>\n      <td>0.391</td>\n      <td>0.448</td>\n      <td>106.861</td>\n      <td>Cezary Nóżka</td>\n      <td>Wrocław</td>\n      <td>aleja Olchowa 16</td>\n      <td>[psychedelic rock, country rock, rock en espanol]</td>\n      <td>True</td>\n      <td>3dBVyJ7JuOMt4GE9607Qin</td>\n      <td>T. Rex</td>\n      <td>[album rock, art rock, classic rock, folk rock, glam rock, protopunk, psychedelic rock, rock]</td>\n    </tr>\n    <tr>\n      <th>4</th>\n      <td>2023-03-07 14:28:25.702</td>\n      <td>132</td>\n      <td>5yxYokipsWlpDCt4Th4VVc</td>\n      <td>PLAY</td>\n      <td>547</td>\n      <td>5yxYokipsWlpDCt4Th4VVc</td>\n      <td>Solid Gold Easy Action</td>\n      <td>35</td>\n      <td>140067</td>\n      <td>0</td>\n      <td>3dBVyJ7JuOMt4GE9607Qin</td>\n      <td>1973-03-16</td>\n      <td>0.449</td>\n      <td>0.749</td>\n      <td>9</td>\n      <td>-8.585</td>\n      <td>0.0775</td>\n      <td>0.01000</td>\n      <td>0.000000</td>\n      <td>0.391</td>\n      <td>0.448</td>\n      <td>106.861</td>\n      <td>Cezary Nóżka</td>\n      <td>Wrocław</td>\n      <td>aleja Olchowa 16</td>\n      <td>[psychedelic rock, country rock, rock en espanol]</td>\n      <td>True</td>\n      <td>3dBVyJ7JuOMt4GE9607Qin</td>\n      <td>T. Rex</td>\n      <td>[album rock, art rock, classic rock, folk rock, glam rock, protopunk, psychedelic rock, rock]</td>\n    </tr>\n  </tbody>\n</table>\n</div>"
     },
     "execution_count": 29,
     "metadata": {},
     "output_type": "execute_result"
    }
   ],
   "source": [
    "merged_data_frame = pd.merge(sessions_data_frame, tracks_data_frame, left_on=\"track_id\",\n",
    "                             right_on=\"id\")\n",
    "merged_data_frame = pd.merge(merged_data_frame, users_data_frame, left_on=\"user_id\",\n",
    "                             right_on=\"user_id\")\n",
    "merged_data_frame = pd.merge(merged_data_frame, artists_data_frame, left_on=\"id_artist\",\n",
    "                             right_on=\"id\")\n",
    "merged_data_frame.head(5)\n"
   ],
   "metadata": {
    "collapsed": false
   }
  },
  {
   "cell_type": "markdown",
   "source": [
    "## Wyliczenie, czy dana piosenka w danej sesji została pominięta"
   ],
   "metadata": {
    "collapsed": false
   }
  },
  {
   "cell_type": "code",
   "execution_count": 30,
   "outputs": [],
   "source": [
    "# delete rows with event_type other than PLAY and SKIP\n",
    "merged_data_frame = merged_data_frame[merged_data_frame[\"event_type\"].isin([\"PLAY\", \"SKIP\"])]\n",
    "\n",
    "# TODO moze to trzeba liczyc inaczej?\n",
    "\n",
    "# if for one user_id and track_id and session_id there is only PLAY event, then the track was not skipped\n",
    "merged_data_frame[\"skipped\"] = merged_data_frame.groupby([\"user_id\", \"track_id\", \"session_id\"])[\n",
    "  \"event_type\"].transform(lambda x: x != \"PLAY\").astype(bool)\n",
    "\n",
    "# if there are 2 rows with the same user_id, track_id and session_id, and different \"skipped\" value, remove the row with \"skipped\" = 0\n",
    "merged_data_frame = merged_data_frame.drop_duplicates(subset=[\"user_id\", \"track_id\", \"session_id\"],\n",
    "                                                      keep=\"last\")"
   ],
   "metadata": {
    "collapsed": false
   }
  },
  {
   "cell_type": "markdown",
   "source": [
    "## Usunięcie niepotrzebnych kolumn"
   ],
   "metadata": {
    "collapsed": false
   }
  },
  {
   "cell_type": "code",
   "execution_count": 31,
   "outputs": [
    {
     "data": {
      "text/plain": "    popularity  duration_ms  explicit release_date  danceability  energy  key   \n0           34       247707         0   1972-07-21         0.491   0.606    7  \\\n1           34       247707         0   1972-07-21         0.491   0.606    7   \n2           34       247707         0   1972-07-21         0.491   0.606    7   \n3           35       140067         0   1973-03-16         0.449   0.749    9   \n4           35       140067         0   1973-03-16         0.449   0.749    9   \n5           35       140067         0   1973-03-16         0.449   0.749    9   \n7           21       248360         0   1972-07-21         0.513   0.576    7   \n9           35       140067         0   1973-03-16         0.449   0.749    9   \n12          35       140067         0   1973-03-16         0.449   0.749    9   \n15          35       140067         0   1973-03-16         0.449   0.749    9   \n\n    loudness  speechiness  acousticness  instrumentalness  liveness  valence   \n0    -10.172       0.0377       0.00327          0.000008     0.341    0.669  \\\n1    -10.172       0.0377       0.00327          0.000008     0.341    0.669   \n2    -10.172       0.0377       0.00327          0.000008     0.341    0.669   \n3     -8.585       0.0775       0.01000          0.000000     0.391    0.448   \n4     -8.585       0.0775       0.01000          0.000000     0.391    0.448   \n5     -8.585       0.0775       0.01000          0.000000     0.391    0.448   \n7     -9.704       0.0384       0.01130          0.000035     0.248    0.662   \n9     -8.585       0.0775       0.01000          0.000000     0.391    0.448   \n12    -8.585       0.0775       0.01000          0.000000     0.391    0.448   \n15    -8.585       0.0775       0.01000          0.000000     0.391    0.448   \n\n      tempo                                     favourite_genres    name   \n0   123.025                     [permanent wave, mandopop, funk]  T. Rex  \\\n1   123.025                      [filmi, regional mexican, folk]  T. Rex   \n2   123.025    [psychedelic rock, country rock, rock en espanol]  T. Rex   \n3   106.861    [psychedelic rock, country rock, rock en espanol]  T. Rex   \n4   106.861    [psychedelic rock, country rock, rock en espanol]  T. Rex   \n5   106.861  [latin alternative, alternative rock, classic rock]  T. Rex   \n7   122.853                     [soft rock, hoerspiel, ranchera]  T. Rex   \n9   106.861                     [soft rock, hoerspiel, ranchera]  T. Rex   \n12  106.861                     [soft rock, hoerspiel, ranchera]  T. Rex   \n15  106.861                     [soft rock, hoerspiel, ranchera]  T. Rex   \n\n                                                                                           genres   \n0   [album rock, art rock, classic rock, folk rock, glam rock, protopunk, psychedelic rock, rock]  \\\n1   [album rock, art rock, classic rock, folk rock, glam rock, protopunk, psychedelic rock, rock]   \n2   [album rock, art rock, classic rock, folk rock, glam rock, protopunk, psychedelic rock, rock]   \n3   [album rock, art rock, classic rock, folk rock, glam rock, protopunk, psychedelic rock, rock]   \n4   [album rock, art rock, classic rock, folk rock, glam rock, protopunk, psychedelic rock, rock]   \n5   [album rock, art rock, classic rock, folk rock, glam rock, protopunk, psychedelic rock, rock]   \n7   [album rock, art rock, classic rock, folk rock, glam rock, protopunk, psychedelic rock, rock]   \n9   [album rock, art rock, classic rock, folk rock, glam rock, protopunk, psychedelic rock, rock]   \n12  [album rock, art rock, classic rock, folk rock, glam rock, protopunk, psychedelic rock, rock]   \n15  [album rock, art rock, classic rock, folk rock, glam rock, protopunk, psychedelic rock, rock]   \n\n    skipped  \n0     False  \n1     False  \n2     False  \n3     False  \n4     False  \n5     False  \n7      True  \n9      True  \n12     True  \n15     True  ",
      "text/html": "<div>\n<style scoped>\n    .dataframe tbody tr th:only-of-type {\n        vertical-align: middle;\n    }\n\n    .dataframe tbody tr th {\n        vertical-align: top;\n    }\n\n    .dataframe thead th {\n        text-align: right;\n    }\n</style>\n<table border=\"1\" class=\"dataframe\">\n  <thead>\n    <tr style=\"text-align: right;\">\n      <th></th>\n      <th>popularity</th>\n      <th>duration_ms</th>\n      <th>explicit</th>\n      <th>release_date</th>\n      <th>danceability</th>\n      <th>energy</th>\n      <th>key</th>\n      <th>loudness</th>\n      <th>speechiness</th>\n      <th>acousticness</th>\n      <th>instrumentalness</th>\n      <th>liveness</th>\n      <th>valence</th>\n      <th>tempo</th>\n      <th>favourite_genres</th>\n      <th>name</th>\n      <th>genres</th>\n      <th>skipped</th>\n    </tr>\n  </thead>\n  <tbody>\n    <tr>\n      <th>0</th>\n      <td>34</td>\n      <td>247707</td>\n      <td>0</td>\n      <td>1972-07-21</td>\n      <td>0.491</td>\n      <td>0.606</td>\n      <td>7</td>\n      <td>-10.172</td>\n      <td>0.0377</td>\n      <td>0.00327</td>\n      <td>0.000008</td>\n      <td>0.341</td>\n      <td>0.669</td>\n      <td>123.025</td>\n      <td>[permanent wave, mandopop, funk]</td>\n      <td>T. Rex</td>\n      <td>[album rock, art rock, classic rock, folk rock, glam rock, protopunk, psychedelic rock, rock]</td>\n      <td>False</td>\n    </tr>\n    <tr>\n      <th>1</th>\n      <td>34</td>\n      <td>247707</td>\n      <td>0</td>\n      <td>1972-07-21</td>\n      <td>0.491</td>\n      <td>0.606</td>\n      <td>7</td>\n      <td>-10.172</td>\n      <td>0.0377</td>\n      <td>0.00327</td>\n      <td>0.000008</td>\n      <td>0.341</td>\n      <td>0.669</td>\n      <td>123.025</td>\n      <td>[filmi, regional mexican, folk]</td>\n      <td>T. Rex</td>\n      <td>[album rock, art rock, classic rock, folk rock, glam rock, protopunk, psychedelic rock, rock]</td>\n      <td>False</td>\n    </tr>\n    <tr>\n      <th>2</th>\n      <td>34</td>\n      <td>247707</td>\n      <td>0</td>\n      <td>1972-07-21</td>\n      <td>0.491</td>\n      <td>0.606</td>\n      <td>7</td>\n      <td>-10.172</td>\n      <td>0.0377</td>\n      <td>0.00327</td>\n      <td>0.000008</td>\n      <td>0.341</td>\n      <td>0.669</td>\n      <td>123.025</td>\n      <td>[psychedelic rock, country rock, rock en espanol]</td>\n      <td>T. Rex</td>\n      <td>[album rock, art rock, classic rock, folk rock, glam rock, protopunk, psychedelic rock, rock]</td>\n      <td>False</td>\n    </tr>\n    <tr>\n      <th>3</th>\n      <td>35</td>\n      <td>140067</td>\n      <td>0</td>\n      <td>1973-03-16</td>\n      <td>0.449</td>\n      <td>0.749</td>\n      <td>9</td>\n      <td>-8.585</td>\n      <td>0.0775</td>\n      <td>0.01000</td>\n      <td>0.000000</td>\n      <td>0.391</td>\n      <td>0.448</td>\n      <td>106.861</td>\n      <td>[psychedelic rock, country rock, rock en espanol]</td>\n      <td>T. Rex</td>\n      <td>[album rock, art rock, classic rock, folk rock, glam rock, protopunk, psychedelic rock, rock]</td>\n      <td>False</td>\n    </tr>\n    <tr>\n      <th>4</th>\n      <td>35</td>\n      <td>140067</td>\n      <td>0</td>\n      <td>1973-03-16</td>\n      <td>0.449</td>\n      <td>0.749</td>\n      <td>9</td>\n      <td>-8.585</td>\n      <td>0.0775</td>\n      <td>0.01000</td>\n      <td>0.000000</td>\n      <td>0.391</td>\n      <td>0.448</td>\n      <td>106.861</td>\n      <td>[psychedelic rock, country rock, rock en espanol]</td>\n      <td>T. Rex</td>\n      <td>[album rock, art rock, classic rock, folk rock, glam rock, protopunk, psychedelic rock, rock]</td>\n      <td>False</td>\n    </tr>\n    <tr>\n      <th>5</th>\n      <td>35</td>\n      <td>140067</td>\n      <td>0</td>\n      <td>1973-03-16</td>\n      <td>0.449</td>\n      <td>0.749</td>\n      <td>9</td>\n      <td>-8.585</td>\n      <td>0.0775</td>\n      <td>0.01000</td>\n      <td>0.000000</td>\n      <td>0.391</td>\n      <td>0.448</td>\n      <td>106.861</td>\n      <td>[latin alternative, alternative rock, classic rock]</td>\n      <td>T. Rex</td>\n      <td>[album rock, art rock, classic rock, folk rock, glam rock, protopunk, psychedelic rock, rock]</td>\n      <td>False</td>\n    </tr>\n    <tr>\n      <th>7</th>\n      <td>21</td>\n      <td>248360</td>\n      <td>0</td>\n      <td>1972-07-21</td>\n      <td>0.513</td>\n      <td>0.576</td>\n      <td>7</td>\n      <td>-9.704</td>\n      <td>0.0384</td>\n      <td>0.01130</td>\n      <td>0.000035</td>\n      <td>0.248</td>\n      <td>0.662</td>\n      <td>122.853</td>\n      <td>[soft rock, hoerspiel, ranchera]</td>\n      <td>T. Rex</td>\n      <td>[album rock, art rock, classic rock, folk rock, glam rock, protopunk, psychedelic rock, rock]</td>\n      <td>True</td>\n    </tr>\n    <tr>\n      <th>9</th>\n      <td>35</td>\n      <td>140067</td>\n      <td>0</td>\n      <td>1973-03-16</td>\n      <td>0.449</td>\n      <td>0.749</td>\n      <td>9</td>\n      <td>-8.585</td>\n      <td>0.0775</td>\n      <td>0.01000</td>\n      <td>0.000000</td>\n      <td>0.391</td>\n      <td>0.448</td>\n      <td>106.861</td>\n      <td>[soft rock, hoerspiel, ranchera]</td>\n      <td>T. Rex</td>\n      <td>[album rock, art rock, classic rock, folk rock, glam rock, protopunk, psychedelic rock, rock]</td>\n      <td>True</td>\n    </tr>\n    <tr>\n      <th>12</th>\n      <td>35</td>\n      <td>140067</td>\n      <td>0</td>\n      <td>1973-03-16</td>\n      <td>0.449</td>\n      <td>0.749</td>\n      <td>9</td>\n      <td>-8.585</td>\n      <td>0.0775</td>\n      <td>0.01000</td>\n      <td>0.000000</td>\n      <td>0.391</td>\n      <td>0.448</td>\n      <td>106.861</td>\n      <td>[soft rock, hoerspiel, ranchera]</td>\n      <td>T. Rex</td>\n      <td>[album rock, art rock, classic rock, folk rock, glam rock, protopunk, psychedelic rock, rock]</td>\n      <td>True</td>\n    </tr>\n    <tr>\n      <th>15</th>\n      <td>35</td>\n      <td>140067</td>\n      <td>0</td>\n      <td>1973-03-16</td>\n      <td>0.449</td>\n      <td>0.749</td>\n      <td>9</td>\n      <td>-8.585</td>\n      <td>0.0775</td>\n      <td>0.01000</td>\n      <td>0.000000</td>\n      <td>0.391</td>\n      <td>0.448</td>\n      <td>106.861</td>\n      <td>[soft rock, hoerspiel, ranchera]</td>\n      <td>T. Rex</td>\n      <td>[album rock, art rock, classic rock, folk rock, glam rock, protopunk, psychedelic rock, rock]</td>\n      <td>True</td>\n    </tr>\n  </tbody>\n</table>\n</div>"
     },
     "execution_count": 31,
     "metadata": {},
     "output_type": "execute_result"
    }
   ],
   "source": [
    "merged_data_frame = merged_data_frame.drop(\n",
    "  columns=[\"id_x\", \"id_y\", \"premium_user\", \"name_x\", \"name_y\", \"city\", \"street\", \"id_artist\",\n",
    "           \"event_type\", \"timestamp\", \"user_id\", \"track_id\", \"session_id\"])\n",
    "merged_data_frame.head(10)"
   ],
   "metadata": {
    "collapsed": false
   }
  },
  {
   "cell_type": "code",
   "execution_count": 32,
   "outputs": [
    {
     "name": "stdout",
     "output_type": "stream",
     "text": [
      "<class 'pandas.core.frame.DataFrame'>\n",
      "Index: 9881 entries, 0 to 16822\n",
      "Data columns (total 18 columns):\n",
      " #   Column            Non-Null Count  Dtype  \n",
      "---  ------            --------------  -----  \n",
      " 0   popularity        9881 non-null   int64  \n",
      " 1   duration_ms       9881 non-null   int64  \n",
      " 2   explicit          9881 non-null   int64  \n",
      " 3   release_date      9881 non-null   object \n",
      " 4   danceability      9881 non-null   float64\n",
      " 5   energy            9881 non-null   float64\n",
      " 6   key               9881 non-null   int64  \n",
      " 7   loudness          9881 non-null   float64\n",
      " 8   speechiness       9881 non-null   float64\n",
      " 9   acousticness      9881 non-null   float64\n",
      " 10  instrumentalness  9881 non-null   float64\n",
      " 11  liveness          9881 non-null   float64\n",
      " 12  valence           9881 non-null   float64\n",
      " 13  tempo             9881 non-null   float64\n",
      " 14  favourite_genres  9881 non-null   object \n",
      " 15  name              9881 non-null   object \n",
      " 16  genres            9881 non-null   object \n",
      " 17  skipped           9881 non-null   bool   \n",
      "dtypes: bool(1), float64(9), int64(4), object(4)\n",
      "memory usage: 1.4+ MB\n"
     ]
    }
   ],
   "source": [
    "merged_data_frame.info()"
   ],
   "metadata": {
    "collapsed": false
   }
  },
  {
   "cell_type": "code",
   "execution_count": 33,
   "outputs": [
    {
     "data": {
      "text/plain": "        popularity   duration_ms     explicit  danceability       energy   \ncount  9881.000000  9.881000e+03  9881.000000   9881.000000  9881.000000  \\\nmean     44.646594  2.310971e+05     0.080963      0.563325     0.600228   \nstd      25.085211  9.345541e+04     0.272793      0.165085     0.230087   \nmin       0.000000  3.100000e+04     0.000000      0.064000     0.000592   \n25%      25.000000  1.803480e+05     0.000000      0.453000     0.428000   \n50%      39.000000  2.158000e+05     0.000000      0.570000     0.624000   \n75%      75.000000  2.626530e+05     0.000000      0.683000     0.794000   \nmax      96.000000  2.365307e+06     1.000000      0.975000     0.998000   \n\n              key     loudness  speechiness  acousticness  instrumentalness   \ncount  9881.00000  9881.000000  9881.000000   9881.000000       9881.000000  \\\nmean      5.25463    -9.125568     0.083663      0.328242          0.067860   \nstd       3.55038     4.286563     0.121603      0.311197          0.199239   \nmin       0.00000   -35.898000     0.022700      0.000001          0.000000   \n25%       2.00000   -11.515000     0.033500      0.042500          0.000000   \n50%       5.00000    -8.446000     0.042800      0.223000          0.000044   \n75%       9.00000    -6.114000     0.077100      0.579000          0.005030   \nmax      11.00000     1.716000     0.965000      0.996000          0.978000   \n\n          liveness      valence        tempo  \ncount  9881.000000  9881.000000  9881.000000  \nmean      0.207252     0.539190   120.525376  \nstd       0.192774     0.250657    28.640296  \nmin       0.016000     0.002280    36.241000  \n25%       0.095100     0.338000    98.231000  \n50%       0.127000     0.544000   120.031000  \n75%       0.251000     0.742000   138.023000  \nmax       0.997000     0.991000   209.231000  ",
      "text/html": "<div>\n<style scoped>\n    .dataframe tbody tr th:only-of-type {\n        vertical-align: middle;\n    }\n\n    .dataframe tbody tr th {\n        vertical-align: top;\n    }\n\n    .dataframe thead th {\n        text-align: right;\n    }\n</style>\n<table border=\"1\" class=\"dataframe\">\n  <thead>\n    <tr style=\"text-align: right;\">\n      <th></th>\n      <th>popularity</th>\n      <th>duration_ms</th>\n      <th>explicit</th>\n      <th>danceability</th>\n      <th>energy</th>\n      <th>key</th>\n      <th>loudness</th>\n      <th>speechiness</th>\n      <th>acousticness</th>\n      <th>instrumentalness</th>\n      <th>liveness</th>\n      <th>valence</th>\n      <th>tempo</th>\n    </tr>\n  </thead>\n  <tbody>\n    <tr>\n      <th>count</th>\n      <td>9881.000000</td>\n      <td>9.881000e+03</td>\n      <td>9881.000000</td>\n      <td>9881.000000</td>\n      <td>9881.000000</td>\n      <td>9881.00000</td>\n      <td>9881.000000</td>\n      <td>9881.000000</td>\n      <td>9881.000000</td>\n      <td>9881.000000</td>\n      <td>9881.000000</td>\n      <td>9881.000000</td>\n      <td>9881.000000</td>\n    </tr>\n    <tr>\n      <th>mean</th>\n      <td>44.646594</td>\n      <td>2.310971e+05</td>\n      <td>0.080963</td>\n      <td>0.563325</td>\n      <td>0.600228</td>\n      <td>5.25463</td>\n      <td>-9.125568</td>\n      <td>0.083663</td>\n      <td>0.328242</td>\n      <td>0.067860</td>\n      <td>0.207252</td>\n      <td>0.539190</td>\n      <td>120.525376</td>\n    </tr>\n    <tr>\n      <th>std</th>\n      <td>25.085211</td>\n      <td>9.345541e+04</td>\n      <td>0.272793</td>\n      <td>0.165085</td>\n      <td>0.230087</td>\n      <td>3.55038</td>\n      <td>4.286563</td>\n      <td>0.121603</td>\n      <td>0.311197</td>\n      <td>0.199239</td>\n      <td>0.192774</td>\n      <td>0.250657</td>\n      <td>28.640296</td>\n    </tr>\n    <tr>\n      <th>min</th>\n      <td>0.000000</td>\n      <td>3.100000e+04</td>\n      <td>0.000000</td>\n      <td>0.064000</td>\n      <td>0.000592</td>\n      <td>0.00000</td>\n      <td>-35.898000</td>\n      <td>0.022700</td>\n      <td>0.000001</td>\n      <td>0.000000</td>\n      <td>0.016000</td>\n      <td>0.002280</td>\n      <td>36.241000</td>\n    </tr>\n    <tr>\n      <th>25%</th>\n      <td>25.000000</td>\n      <td>1.803480e+05</td>\n      <td>0.000000</td>\n      <td>0.453000</td>\n      <td>0.428000</td>\n      <td>2.00000</td>\n      <td>-11.515000</td>\n      <td>0.033500</td>\n      <td>0.042500</td>\n      <td>0.000000</td>\n      <td>0.095100</td>\n      <td>0.338000</td>\n      <td>98.231000</td>\n    </tr>\n    <tr>\n      <th>50%</th>\n      <td>39.000000</td>\n      <td>2.158000e+05</td>\n      <td>0.000000</td>\n      <td>0.570000</td>\n      <td>0.624000</td>\n      <td>5.00000</td>\n      <td>-8.446000</td>\n      <td>0.042800</td>\n      <td>0.223000</td>\n      <td>0.000044</td>\n      <td>0.127000</td>\n      <td>0.544000</td>\n      <td>120.031000</td>\n    </tr>\n    <tr>\n      <th>75%</th>\n      <td>75.000000</td>\n      <td>2.626530e+05</td>\n      <td>0.000000</td>\n      <td>0.683000</td>\n      <td>0.794000</td>\n      <td>9.00000</td>\n      <td>-6.114000</td>\n      <td>0.077100</td>\n      <td>0.579000</td>\n      <td>0.005030</td>\n      <td>0.251000</td>\n      <td>0.742000</td>\n      <td>138.023000</td>\n    </tr>\n    <tr>\n      <th>max</th>\n      <td>96.000000</td>\n      <td>2.365307e+06</td>\n      <td>1.000000</td>\n      <td>0.975000</td>\n      <td>0.998000</td>\n      <td>11.00000</td>\n      <td>1.716000</td>\n      <td>0.965000</td>\n      <td>0.996000</td>\n      <td>0.978000</td>\n      <td>0.997000</td>\n      <td>0.991000</td>\n      <td>209.231000</td>\n    </tr>\n  </tbody>\n</table>\n</div>"
     },
     "execution_count": 33,
     "metadata": {},
     "output_type": "execute_result"
    }
   ],
   "source": [
    "merged_data_frame.describe()"
   ],
   "metadata": {
    "collapsed": false
   }
  },
  {
   "cell_type": "code",
   "execution_count": 44,
   "outputs": [
    {
     "name": "stdout",
     "output_type": "stream",
     "text": [
      "(9881, 3)\n",
      "[[0 0 0]\n",
      " [0 0 0]\n",
      " [0 0 0]\n",
      " ...\n",
      " [0 0 0]\n",
      " [0 0 0]\n",
      " [0 0 0]]\n",
      "(9881, 1763)\n"
     ]
    },
    {
     "ename": "ValueError",
     "evalue": "Shape of passed values is (9881, 1763), indices imply (9881, 1766)",
     "output_type": "error",
     "traceback": [
      "\u001B[0;31m---------------------------------------------------------------------------\u001B[0m",
      "\u001B[0;31mValueError\u001B[0m                                Traceback (most recent call last)",
      "Cell \u001B[0;32mIn[44], line 21\u001B[0m\n\u001B[1;32m     18\u001B[0m \u001B[38;5;28mprint\u001B[39m(encoded_genres\u001B[38;5;241m.\u001B[39mshape)\n\u001B[1;32m     20\u001B[0m \u001B[38;5;66;03m# Add encoded genres to the dataframe\u001B[39;00m\n\u001B[0;32m---> 21\u001B[0m df \u001B[38;5;241m=\u001B[39m merged_data_frame\u001B[38;5;241m.\u001B[39mjoin(\u001B[43mpd\u001B[49m\u001B[38;5;241;43m.\u001B[39;49m\u001B[43mDataFrame\u001B[49m\u001B[43m(\u001B[49m\u001B[43mencoded_genres\u001B[49m\u001B[43m,\u001B[49m\u001B[43m \u001B[49m\u001B[43mcolumns\u001B[49m\u001B[38;5;241;43m=\u001B[39;49m\u001B[43mmlb\u001B[49m\u001B[38;5;241;43m.\u001B[39;49m\u001B[43mclasses_\u001B[49m\u001B[43m)\u001B[49m)\n\u001B[1;32m     22\u001B[0m df \u001B[38;5;241m=\u001B[39m df\u001B[38;5;241m.\u001B[39mjoin(pd\u001B[38;5;241m.\u001B[39mDataFrame(encoded_favourite_genres, columns\u001B[38;5;241m=\u001B[39mmlb\u001B[38;5;241m.\u001B[39mclasses_))\n\u001B[1;32m     24\u001B[0m \u001B[38;5;28mprint\u001B[39m(\u001B[38;5;124m\"\u001B[39m\u001B[38;5;124mEntropy of skipped column: \u001B[39m\u001B[38;5;124m\"\u001B[39m, \u001B[38;5;28mstr\u001B[39m(\u001B[38;5;28mround\u001B[39m(entropy(merged_data_frame[\u001B[38;5;124m\"\u001B[39m\u001B[38;5;124mskipped\u001B[39m\u001B[38;5;124m\"\u001B[39m]\u001B[38;5;241m.\u001B[39mvalue_counts()), \u001B[38;5;241m4\u001B[39m)))\n",
      "File \u001B[0;32m~/anaconda3/envs/IUM/lib/python3.10/site-packages/pandas/core/frame.py:757\u001B[0m, in \u001B[0;36mDataFrame.__init__\u001B[0;34m(self, data, index, columns, dtype, copy)\u001B[0m\n\u001B[1;32m    746\u001B[0m         mgr \u001B[38;5;241m=\u001B[39m dict_to_mgr(\n\u001B[1;32m    747\u001B[0m             \u001B[38;5;66;03m# error: Item \"ndarray\" of \"Union[ndarray, Series, Index]\" has no\u001B[39;00m\n\u001B[1;32m    748\u001B[0m             \u001B[38;5;66;03m# attribute \"name\"\u001B[39;00m\n\u001B[0;32m   (...)\u001B[0m\n\u001B[1;32m    754\u001B[0m             copy\u001B[38;5;241m=\u001B[39m_copy,\n\u001B[1;32m    755\u001B[0m         )\n\u001B[1;32m    756\u001B[0m     \u001B[38;5;28;01melse\u001B[39;00m:\n\u001B[0;32m--> 757\u001B[0m         mgr \u001B[38;5;241m=\u001B[39m \u001B[43mndarray_to_mgr\u001B[49m\u001B[43m(\u001B[49m\n\u001B[1;32m    758\u001B[0m \u001B[43m            \u001B[49m\u001B[43mdata\u001B[49m\u001B[43m,\u001B[49m\n\u001B[1;32m    759\u001B[0m \u001B[43m            \u001B[49m\u001B[43mindex\u001B[49m\u001B[43m,\u001B[49m\n\u001B[1;32m    760\u001B[0m \u001B[43m            \u001B[49m\u001B[43mcolumns\u001B[49m\u001B[43m,\u001B[49m\n\u001B[1;32m    761\u001B[0m \u001B[43m            \u001B[49m\u001B[43mdtype\u001B[49m\u001B[38;5;241;43m=\u001B[39;49m\u001B[43mdtype\u001B[49m\u001B[43m,\u001B[49m\n\u001B[1;32m    762\u001B[0m \u001B[43m            \u001B[49m\u001B[43mcopy\u001B[49m\u001B[38;5;241;43m=\u001B[39;49m\u001B[43mcopy\u001B[49m\u001B[43m,\u001B[49m\n\u001B[1;32m    763\u001B[0m \u001B[43m            \u001B[49m\u001B[43mtyp\u001B[49m\u001B[38;5;241;43m=\u001B[39;49m\u001B[43mmanager\u001B[49m\u001B[43m,\u001B[49m\n\u001B[1;32m    764\u001B[0m \u001B[43m        \u001B[49m\u001B[43m)\u001B[49m\n\u001B[1;32m    766\u001B[0m \u001B[38;5;66;03m# For data is list-like, or Iterable (will consume into list)\u001B[39;00m\n\u001B[1;32m    767\u001B[0m \u001B[38;5;28;01melif\u001B[39;00m is_list_like(data):\n",
      "File \u001B[0;32m~/anaconda3/envs/IUM/lib/python3.10/site-packages/pandas/core/internals/construction.py:337\u001B[0m, in \u001B[0;36mndarray_to_mgr\u001B[0;34m(values, index, columns, dtype, copy, typ)\u001B[0m\n\u001B[1;32m    332\u001B[0m \u001B[38;5;66;03m# _prep_ndarraylike ensures that values.ndim == 2 at this point\u001B[39;00m\n\u001B[1;32m    333\u001B[0m index, columns \u001B[38;5;241m=\u001B[39m _get_axes(\n\u001B[1;32m    334\u001B[0m     values\u001B[38;5;241m.\u001B[39mshape[\u001B[38;5;241m0\u001B[39m], values\u001B[38;5;241m.\u001B[39mshape[\u001B[38;5;241m1\u001B[39m], index\u001B[38;5;241m=\u001B[39mindex, columns\u001B[38;5;241m=\u001B[39mcolumns\n\u001B[1;32m    335\u001B[0m )\n\u001B[0;32m--> 337\u001B[0m \u001B[43m_check_values_indices_shape_match\u001B[49m\u001B[43m(\u001B[49m\u001B[43mvalues\u001B[49m\u001B[43m,\u001B[49m\u001B[43m \u001B[49m\u001B[43mindex\u001B[49m\u001B[43m,\u001B[49m\u001B[43m \u001B[49m\u001B[43mcolumns\u001B[49m\u001B[43m)\u001B[49m\n\u001B[1;32m    339\u001B[0m \u001B[38;5;28;01mif\u001B[39;00m typ \u001B[38;5;241m==\u001B[39m \u001B[38;5;124m\"\u001B[39m\u001B[38;5;124marray\u001B[39m\u001B[38;5;124m\"\u001B[39m:\n\u001B[1;32m    340\u001B[0m     \u001B[38;5;28;01mif\u001B[39;00m \u001B[38;5;28missubclass\u001B[39m(values\u001B[38;5;241m.\u001B[39mdtype\u001B[38;5;241m.\u001B[39mtype, \u001B[38;5;28mstr\u001B[39m):\n",
      "File \u001B[0;32m~/anaconda3/envs/IUM/lib/python3.10/site-packages/pandas/core/internals/construction.py:408\u001B[0m, in \u001B[0;36m_check_values_indices_shape_match\u001B[0;34m(values, index, columns)\u001B[0m\n\u001B[1;32m    406\u001B[0m passed \u001B[38;5;241m=\u001B[39m values\u001B[38;5;241m.\u001B[39mshape\n\u001B[1;32m    407\u001B[0m implied \u001B[38;5;241m=\u001B[39m (\u001B[38;5;28mlen\u001B[39m(index), \u001B[38;5;28mlen\u001B[39m(columns))\n\u001B[0;32m--> 408\u001B[0m \u001B[38;5;28;01mraise\u001B[39;00m \u001B[38;5;167;01mValueError\u001B[39;00m(\u001B[38;5;124mf\u001B[39m\u001B[38;5;124m\"\u001B[39m\u001B[38;5;124mShape of passed values is \u001B[39m\u001B[38;5;132;01m{\u001B[39;00mpassed\u001B[38;5;132;01m}\u001B[39;00m\u001B[38;5;124m, indices imply \u001B[39m\u001B[38;5;132;01m{\u001B[39;00mimplied\u001B[38;5;132;01m}\u001B[39;00m\u001B[38;5;124m\"\u001B[39m)\n",
      "\u001B[0;31mValueError\u001B[0m: Shape of passed values is (9881, 1763), indices imply (9881, 1766)"
     ]
    }
   ],
   "source": [
    "from sklearn.preprocessing import MultiLabelBinarizer\n",
    "from sklearn import metrics\n",
    "from scipy.stats import entropy\n",
    "\n",
    "# Combine genres and favourite_genres\n",
    "all_genres = list(merged_data_frame['favourite_genres'] + merged_data_frame['genres'])\n",
    "\n",
    "# One-hot encode the genres\n",
    "mlb = MultiLabelBinarizer()\n",
    "encoded_all_genres = mlb.fit_transform(all_genres)\n",
    "\n",
    "# Split encoded_genres into genres and favourite_genres\n",
    "encoded_favourite_genres = encoded_all_genres[:, :len(merged_data_frame['favourite_genres'][0])]\n",
    "encoded_genres = encoded_all_genres[:, len(merged_data_frame['favourite_genres'][0]):]\n",
    "\n",
    "print(encoded_favourite_genres.shape)\n",
    "for fav_genre in encoded_favourite_genres:\n",
    "    print(fav_genre)\n",
    "print(encoded_genres.shape)\n",
    "\n",
    "# Add encoded genres to the dataframe\n",
    "df = merged_data_frame.join(pd.DataFrame(encoded_genres, columns=mlb.classes_))\n",
    "df = df.join(pd.DataFrame(encoded_favourite_genres, columns=mlb.classes_))\n",
    "\n",
    "print(\"Entropy of skipped column: \", str(round(entropy(merged_data_frame[\"skipped\"].value_counts()), 4)))\n",
    "\n",
    "print(\"MI(skipped, genres): \", str(round(metrics.mutual_info_score(merged_data_frame[\"skipped\"], merged_data_frame[\"genres\"]), 4)))\n",
    "\n",
    "df.head(5)"
   ],
   "metadata": {
    "collapsed": false
   }
  },
  {
   "cell_type": "code",
   "execution_count": 35,
   "outputs": [],
   "source": [
    "# save to jsonl file\n",
    "merged_data_frame.to_json(\"../data/merged_data.jsonl\", orient=\"records\", lines=True)\n"
   ],
   "metadata": {
    "collapsed": false
   }
  }
 ],
 "metadata": {
  "kernelspec": {
   "display_name": "Python 3",
   "language": "python",
   "name": "python3"
  },
  "language_info": {
   "codemirror_mode": {
    "name": "ipython",
    "version": 2
   },
   "file_extension": ".py",
   "mimetype": "text/x-python",
   "name": "python",
   "nbconvert_exporter": "python",
   "pygments_lexer": "ipython2",
   "version": "2.7.6"
  }
 },
 "nbformat": 4,
 "nbformat_minor": 0
}
