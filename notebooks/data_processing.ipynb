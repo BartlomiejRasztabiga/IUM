{
 "cells": [
  {
   "cell_type": "code",
   "execution_count": null,
   "metadata": {
    "collapsed": true,
    "pycharm": {
     "is_executing": true
    }
   },
   "outputs": [],
   "source": [
    "import pandas as pd\n",
    "\n",
    "pd.set_option('display.max_rows', None)\n",
    "pd.set_option('display.max_columns', None)\n",
    "pd.set_option('max_colwidth', None)\n",
    "\n",
    "artists_data_path = \"../data/artists.jsonl\"\n",
    "sessions_data_path = \"../data/sessions.jsonl\"\n",
    "track_storage_data_path = \"../data/track_storage.jsonl\"\n",
    "tracks_data_path = \"../data/tracks.jsonl\"\n",
    "users_data_path = \"../data/users.jsonl\"\n",
    "\n",
    "artists_data_frame = pd.read_json(artists_data_path, lines=True)\n",
    "sessions_data_frame = pd.read_json(sessions_data_path, lines=True)\n",
    "tracks_data_frame = pd.read_json(tracks_data_path, lines=True)\n",
    "users_data_frame = pd.read_json(users_data_path, lines=True)"
   ]
  },
  {
   "cell_type": "markdown",
   "source": [
    "# Mergowanie podobnych gatunków muzycznych (artists)\n",
    "TODO\n"
   ],
   "metadata": {
    "collapsed": false
   }
  },
  {
   "cell_type": "markdown",
   "source": [
    "# Scalenie danych"
   ],
   "metadata": {
    "collapsed": false
   }
  },
  {
   "cell_type": "code",
   "execution_count": null,
   "outputs": [],
   "source": [
    "merged_data_frame = pd.merge(sessions_data_frame, tracks_data_frame, left_on=\"track_id\",\n",
    "                             right_on=\"id\")\n",
    "merged_data_frame = pd.merge(merged_data_frame, users_data_frame, left_on=\"user_id\",\n",
    "                             right_on=\"user_id\")\n",
    "merged_data_frame = pd.merge(merged_data_frame, artists_data_frame, left_on=\"id_artist\",\n",
    "                             right_on=\"id\")\n",
    "merged_data_frame.head(5)\n"
   ],
   "metadata": {
    "collapsed": false,
    "pycharm": {
     "is_executing": true
    }
   }
  },
  {
   "cell_type": "markdown",
   "source": [
    "## Wyliczenie, czy dana piosenka w danej sesji została pominięta"
   ],
   "metadata": {
    "collapsed": false
   }
  },
  {
   "cell_type": "code",
   "execution_count": null,
   "outputs": [],
   "source": [
    "# delete rows with event_type other than PLAY and SKIP\n",
    "merged_data_frame = merged_data_frame[merged_data_frame[\"event_type\"].isin([\"PLAY\", \"SKIP\"])]\n",
    "\n",
    "# TODO moze to trzeba liczyc inaczej?\n",
    "\n",
    "# if for one user_id and track_id and session_id there is only PLAY event, then the track was not skipped\n",
    "merged_data_frame[\"skipped\"] = merged_data_frame.groupby([\"user_id\", \"track_id\", \"session_id\"])[\n",
    "  \"event_type\"].transform(lambda x: x != \"PLAY\").astype(bool)\n",
    "\n",
    "# if there are 2 rows with the same user_id, track_id and session_id, and different \"skipped\" value, remove the row with \"skipped\" = 0\n",
    "merged_data_frame = merged_data_frame.drop_duplicates(subset=[\"user_id\", \"track_id\", \"session_id\"],\n",
    "                                                      keep=\"last\")"
   ],
   "metadata": {
    "collapsed": false,
    "pycharm": {
     "is_executing": true
    }
   }
  },
  {
   "cell_type": "markdown",
   "source": [
    "## Usunięcie niepotrzebnych kolumn"
   ],
   "metadata": {
    "collapsed": false
   }
  },
  {
   "cell_type": "code",
   "execution_count": null,
   "outputs": [],
   "source": [
    "merged_data_frame = merged_data_frame.drop(\n",
    "  columns=[\"id_x\", \"id_y\", \"premium_user\", \"name_x\", \"name_y\", \"city\", \"street\", \"id_artist\",\n",
    "           \"event_type\", \"timestamp\", \"user_id\", \"track_id\", \"session_id\"])\n",
    "merged_data_frame.head(10)"
   ],
   "metadata": {
    "collapsed": false,
    "pycharm": {
     "is_executing": true
    }
   }
  },
  {
   "cell_type": "code",
   "execution_count": null,
   "outputs": [],
   "source": [
    "merged_data_frame.info()"
   ],
   "metadata": {
    "collapsed": false,
    "pycharm": {
     "is_executing": true
    }
   }
  },
  {
   "cell_type": "code",
   "execution_count": null,
   "outputs": [],
   "source": [
    "merged_data_frame.describe()"
   ],
   "metadata": {
    "collapsed": false,
    "pycharm": {
     "is_executing": true
    }
   }
  },
  {
   "cell_type": "code",
   "execution_count": null,
   "outputs": [],
   "source": [
    "from keras.preprocessing.text import Tokenizer\n",
    "from sklearn.preprocessing import MultiLabelBinarizer\n",
    "from sklearn import metrics\n",
    "from scipy.stats import entropy\n",
    "\n",
    "df = merged_data_frame.copy()\n",
    "\n",
    "\n",
    "print(\"Entropy of skipped column: \", str(round(entropy(df[\"skipped\"].value_counts()), 4)))\n",
    "\n",
    "print(\"MI(skipped, genres): \", str(round(metrics.mutual_info_score(df[\"skipped\"], df[\"encoded_genres\"]), 4)))\n",
    "\n",
    "df.head(5)"
   ],
   "metadata": {
    "collapsed": false,
    "pycharm": {
     "is_executing": true
    }
   }
  },
  {
   "cell_type": "code",
   "execution_count": null,
   "outputs": [],
   "source": [
    "# save to jsonl file\n",
    "merged_data_frame.to_json(\"../data/merged_data.jsonl\", orient=\"records\", lines=True)\n"
   ],
   "metadata": {
    "collapsed": false,
    "pycharm": {
     "is_executing": true
    }
   }
  }
 ],
 "metadata": {
  "kernelspec": {
   "name": "ium",
   "language": "python",
   "display_name": "Python 3.10 (IUM)"
  },
  "language_info": {
   "codemirror_mode": {
    "name": "ipython",
    "version": 2
   },
   "file_extension": ".py",
   "mimetype": "text/x-python",
   "name": "python",
   "nbconvert_exporter": "python",
   "pygments_lexer": "ipython2",
   "version": "2.7.6"
  }
 },
 "nbformat": 4,
 "nbformat_minor": 0
}
