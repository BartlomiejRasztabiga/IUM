{
 "cells": [
  {
   "cell_type": "code",
   "execution_count": 2,
   "metadata": {
    "collapsed": true
   },
   "outputs": [],
   "source": [
    "import pandas as pd\n",
    "\n",
    "pd.set_option('display.max_rows', None)\n",
    "pd.set_option('display.max_columns', None)\n",
    "pd.set_option('max_colwidth', None)\n",
    "\n",
    "artists_data_path = \"../data/artists.jsonl\"\n",
    "sessions_data_path = \"../data/sessions.jsonl\"\n",
    "track_storage_data_path = \"../data/track_storage.jsonl\"\n",
    "tracks_data_path = \"../data/tracks.jsonl\"\n",
    "users_data_path = \"../data/users.jsonl\"\n",
    "\n",
    "artists_data_frame = pd.read_json(artists_data_path, lines=True)\n",
    "sessions_data_frame = pd.read_json(sessions_data_path, lines=True)\n",
    "tracks_data_frame = pd.read_json(tracks_data_path, lines=True)\n",
    "users_data_frame = pd.read_json(users_data_path, lines=True)"
   ]
  },
  {
   "cell_type": "markdown",
   "source": [
    "# Mergowanie podobnych gatunków muzycznych (artists)\n",
    "TODO\n"
   ],
   "metadata": {
    "collapsed": false
   }
  },
  {
   "cell_type": "markdown",
   "source": [
    "# Scalenie danych"
   ],
   "metadata": {
    "collapsed": false
   }
  },
  {
   "cell_type": "code",
   "execution_count": 3,
   "outputs": [
    {
     "data": {
      "text/plain": "                timestamp  user_id                track_id event_type   \n0 2023-01-03 05:09:55.000      101  2PmGtDUyJIpYBEtI1hQIVp       PLAY  \\\n1 2023-02-08 21:41:02.507      103  2PmGtDUyJIpYBEtI1hQIVp       PLAY   \n2 2023-02-12 01:17:14.946      132  2PmGtDUyJIpYBEtI1hQIVp       PLAY   \n3 2023-01-03 03:59:59.738      132  5yxYokipsWlpDCt4Th4VVc       PLAY   \n4 2023-03-07 14:28:25.702      132  5yxYokipsWlpDCt4Th4VVc       PLAY   \n\n   session_id                    id_x                  name_x  popularity   \n0         124  2PmGtDUyJIpYBEtI1hQIVp       Ballrooms Of Mars          34  \\\n1         151  2PmGtDUyJIpYBEtI1hQIVp       Ballrooms Of Mars          34   \n2         544  2PmGtDUyJIpYBEtI1hQIVp       Ballrooms Of Mars          34   \n3         534  5yxYokipsWlpDCt4Th4VVc  Solid Gold Easy Action          35   \n4         547  5yxYokipsWlpDCt4Th4VVc  Solid Gold Easy Action          35   \n\n   duration_ms  explicit               id_artist release_date  danceability   \n0       247707         0  3dBVyJ7JuOMt4GE9607Qin   1972-07-21         0.491  \\\n1       247707         0  3dBVyJ7JuOMt4GE9607Qin   1972-07-21         0.491   \n2       247707         0  3dBVyJ7JuOMt4GE9607Qin   1972-07-21         0.491   \n3       140067         0  3dBVyJ7JuOMt4GE9607Qin   1973-03-16         0.449   \n4       140067         0  3dBVyJ7JuOMt4GE9607Qin   1973-03-16         0.449   \n\n   energy  key  loudness  speechiness  acousticness  instrumentalness   \n0   0.606    7   -10.172       0.0377       0.00327          0.000008  \\\n1   0.606    7   -10.172       0.0377       0.00327          0.000008   \n2   0.606    7   -10.172       0.0377       0.00327          0.000008   \n3   0.749    9    -8.585       0.0775       0.01000          0.000000   \n4   0.749    9    -8.585       0.0775       0.01000          0.000000   \n\n   liveness  valence    tempo         name_y      city              street   \n0     0.341    0.669  123.025  Klara Herdzik  Szczecin  pl. Floriana 55/22  \\\n1     0.341    0.669  123.025   Szymon Zawal    Gdynia   al. Głogowa 14/10   \n2     0.341    0.669  123.025   Cezary Nóżka   Wrocław    aleja Olchowa 16   \n3     0.391    0.448  106.861   Cezary Nóżka   Wrocław    aleja Olchowa 16   \n4     0.391    0.448  106.861   Cezary Nóżka   Wrocław    aleja Olchowa 16   \n\n                                    favourite_genres  premium_user   \n0                   [permanent wave, mandopop, funk]         False  \\\n1                    [filmi, regional mexican, folk]         False   \n2  [psychedelic rock, country rock, rock en espanol]          True   \n3  [psychedelic rock, country rock, rock en espanol]          True   \n4  [psychedelic rock, country rock, rock en espanol]          True   \n\n                     id_y    name   \n0  3dBVyJ7JuOMt4GE9607Qin  T. Rex  \\\n1  3dBVyJ7JuOMt4GE9607Qin  T. Rex   \n2  3dBVyJ7JuOMt4GE9607Qin  T. Rex   \n3  3dBVyJ7JuOMt4GE9607Qin  T. Rex   \n4  3dBVyJ7JuOMt4GE9607Qin  T. Rex   \n\n                                                                                          genres  \n0  [album rock, art rock, classic rock, folk rock, glam rock, protopunk, psychedelic rock, rock]  \n1  [album rock, art rock, classic rock, folk rock, glam rock, protopunk, psychedelic rock, rock]  \n2  [album rock, art rock, classic rock, folk rock, glam rock, protopunk, psychedelic rock, rock]  \n3  [album rock, art rock, classic rock, folk rock, glam rock, protopunk, psychedelic rock, rock]  \n4  [album rock, art rock, classic rock, folk rock, glam rock, protopunk, psychedelic rock, rock]  ",
      "text/html": "<div>\n<style scoped>\n    .dataframe tbody tr th:only-of-type {\n        vertical-align: middle;\n    }\n\n    .dataframe tbody tr th {\n        vertical-align: top;\n    }\n\n    .dataframe thead th {\n        text-align: right;\n    }\n</style>\n<table border=\"1\" class=\"dataframe\">\n  <thead>\n    <tr style=\"text-align: right;\">\n      <th></th>\n      <th>timestamp</th>\n      <th>user_id</th>\n      <th>track_id</th>\n      <th>event_type</th>\n      <th>session_id</th>\n      <th>id_x</th>\n      <th>name_x</th>\n      <th>popularity</th>\n      <th>duration_ms</th>\n      <th>explicit</th>\n      <th>id_artist</th>\n      <th>release_date</th>\n      <th>danceability</th>\n      <th>energy</th>\n      <th>key</th>\n      <th>loudness</th>\n      <th>speechiness</th>\n      <th>acousticness</th>\n      <th>instrumentalness</th>\n      <th>liveness</th>\n      <th>valence</th>\n      <th>tempo</th>\n      <th>name_y</th>\n      <th>city</th>\n      <th>street</th>\n      <th>favourite_genres</th>\n      <th>premium_user</th>\n      <th>id_y</th>\n      <th>name</th>\n      <th>genres</th>\n    </tr>\n  </thead>\n  <tbody>\n    <tr>\n      <th>0</th>\n      <td>2023-01-03 05:09:55.000</td>\n      <td>101</td>\n      <td>2PmGtDUyJIpYBEtI1hQIVp</td>\n      <td>PLAY</td>\n      <td>124</td>\n      <td>2PmGtDUyJIpYBEtI1hQIVp</td>\n      <td>Ballrooms Of Mars</td>\n      <td>34</td>\n      <td>247707</td>\n      <td>0</td>\n      <td>3dBVyJ7JuOMt4GE9607Qin</td>\n      <td>1972-07-21</td>\n      <td>0.491</td>\n      <td>0.606</td>\n      <td>7</td>\n      <td>-10.172</td>\n      <td>0.0377</td>\n      <td>0.00327</td>\n      <td>0.000008</td>\n      <td>0.341</td>\n      <td>0.669</td>\n      <td>123.025</td>\n      <td>Klara Herdzik</td>\n      <td>Szczecin</td>\n      <td>pl. Floriana 55/22</td>\n      <td>[permanent wave, mandopop, funk]</td>\n      <td>False</td>\n      <td>3dBVyJ7JuOMt4GE9607Qin</td>\n      <td>T. Rex</td>\n      <td>[album rock, art rock, classic rock, folk rock, glam rock, protopunk, psychedelic rock, rock]</td>\n    </tr>\n    <tr>\n      <th>1</th>\n      <td>2023-02-08 21:41:02.507</td>\n      <td>103</td>\n      <td>2PmGtDUyJIpYBEtI1hQIVp</td>\n      <td>PLAY</td>\n      <td>151</td>\n      <td>2PmGtDUyJIpYBEtI1hQIVp</td>\n      <td>Ballrooms Of Mars</td>\n      <td>34</td>\n      <td>247707</td>\n      <td>0</td>\n      <td>3dBVyJ7JuOMt4GE9607Qin</td>\n      <td>1972-07-21</td>\n      <td>0.491</td>\n      <td>0.606</td>\n      <td>7</td>\n      <td>-10.172</td>\n      <td>0.0377</td>\n      <td>0.00327</td>\n      <td>0.000008</td>\n      <td>0.341</td>\n      <td>0.669</td>\n      <td>123.025</td>\n      <td>Szymon Zawal</td>\n      <td>Gdynia</td>\n      <td>al. Głogowa 14/10</td>\n      <td>[filmi, regional mexican, folk]</td>\n      <td>False</td>\n      <td>3dBVyJ7JuOMt4GE9607Qin</td>\n      <td>T. Rex</td>\n      <td>[album rock, art rock, classic rock, folk rock, glam rock, protopunk, psychedelic rock, rock]</td>\n    </tr>\n    <tr>\n      <th>2</th>\n      <td>2023-02-12 01:17:14.946</td>\n      <td>132</td>\n      <td>2PmGtDUyJIpYBEtI1hQIVp</td>\n      <td>PLAY</td>\n      <td>544</td>\n      <td>2PmGtDUyJIpYBEtI1hQIVp</td>\n      <td>Ballrooms Of Mars</td>\n      <td>34</td>\n      <td>247707</td>\n      <td>0</td>\n      <td>3dBVyJ7JuOMt4GE9607Qin</td>\n      <td>1972-07-21</td>\n      <td>0.491</td>\n      <td>0.606</td>\n      <td>7</td>\n      <td>-10.172</td>\n      <td>0.0377</td>\n      <td>0.00327</td>\n      <td>0.000008</td>\n      <td>0.341</td>\n      <td>0.669</td>\n      <td>123.025</td>\n      <td>Cezary Nóżka</td>\n      <td>Wrocław</td>\n      <td>aleja Olchowa 16</td>\n      <td>[psychedelic rock, country rock, rock en espanol]</td>\n      <td>True</td>\n      <td>3dBVyJ7JuOMt4GE9607Qin</td>\n      <td>T. Rex</td>\n      <td>[album rock, art rock, classic rock, folk rock, glam rock, protopunk, psychedelic rock, rock]</td>\n    </tr>\n    <tr>\n      <th>3</th>\n      <td>2023-01-03 03:59:59.738</td>\n      <td>132</td>\n      <td>5yxYokipsWlpDCt4Th4VVc</td>\n      <td>PLAY</td>\n      <td>534</td>\n      <td>5yxYokipsWlpDCt4Th4VVc</td>\n      <td>Solid Gold Easy Action</td>\n      <td>35</td>\n      <td>140067</td>\n      <td>0</td>\n      <td>3dBVyJ7JuOMt4GE9607Qin</td>\n      <td>1973-03-16</td>\n      <td>0.449</td>\n      <td>0.749</td>\n      <td>9</td>\n      <td>-8.585</td>\n      <td>0.0775</td>\n      <td>0.01000</td>\n      <td>0.000000</td>\n      <td>0.391</td>\n      <td>0.448</td>\n      <td>106.861</td>\n      <td>Cezary Nóżka</td>\n      <td>Wrocław</td>\n      <td>aleja Olchowa 16</td>\n      <td>[psychedelic rock, country rock, rock en espanol]</td>\n      <td>True</td>\n      <td>3dBVyJ7JuOMt4GE9607Qin</td>\n      <td>T. Rex</td>\n      <td>[album rock, art rock, classic rock, folk rock, glam rock, protopunk, psychedelic rock, rock]</td>\n    </tr>\n    <tr>\n      <th>4</th>\n      <td>2023-03-07 14:28:25.702</td>\n      <td>132</td>\n      <td>5yxYokipsWlpDCt4Th4VVc</td>\n      <td>PLAY</td>\n      <td>547</td>\n      <td>5yxYokipsWlpDCt4Th4VVc</td>\n      <td>Solid Gold Easy Action</td>\n      <td>35</td>\n      <td>140067</td>\n      <td>0</td>\n      <td>3dBVyJ7JuOMt4GE9607Qin</td>\n      <td>1973-03-16</td>\n      <td>0.449</td>\n      <td>0.749</td>\n      <td>9</td>\n      <td>-8.585</td>\n      <td>0.0775</td>\n      <td>0.01000</td>\n      <td>0.000000</td>\n      <td>0.391</td>\n      <td>0.448</td>\n      <td>106.861</td>\n      <td>Cezary Nóżka</td>\n      <td>Wrocław</td>\n      <td>aleja Olchowa 16</td>\n      <td>[psychedelic rock, country rock, rock en espanol]</td>\n      <td>True</td>\n      <td>3dBVyJ7JuOMt4GE9607Qin</td>\n      <td>T. Rex</td>\n      <td>[album rock, art rock, classic rock, folk rock, glam rock, protopunk, psychedelic rock, rock]</td>\n    </tr>\n  </tbody>\n</table>\n</div>"
     },
     "execution_count": 3,
     "metadata": {},
     "output_type": "execute_result"
    }
   ],
   "source": [
    "merged_data_frame = pd.merge(sessions_data_frame, tracks_data_frame, left_on=\"track_id\",\n",
    "                             right_on=\"id\")\n",
    "merged_data_frame = pd.merge(merged_data_frame, users_data_frame, left_on=\"user_id\",\n",
    "                             right_on=\"user_id\")\n",
    "merged_data_frame = pd.merge(merged_data_frame, artists_data_frame, left_on=\"id_artist\",\n",
    "                             right_on=\"id\")\n",
    "merged_data_frame.head(5)\n"
   ],
   "metadata": {
    "collapsed": false
   }
  },
  {
   "cell_type": "markdown",
   "source": [
    "## Wyliczenie, czy dana piosenka w danej sesji została pominięta"
   ],
   "metadata": {
    "collapsed": false
   }
  },
  {
   "cell_type": "code",
   "execution_count": 4,
   "outputs": [],
   "source": [
    "# delete rows with event_type other than PLAY and SKIP\n",
    "merged_data_frame = merged_data_frame[merged_data_frame[\"event_type\"].isin([\"PLAY\", \"SKIP\"])]\n",
    "\n",
    "# TODO moze to trzeba liczyc inaczej?\n",
    "\n",
    "# if for one user_id and track_id and session_id there is only PLAY event, then the track was not skipped\n",
    "merged_data_frame[\"skipped\"] = merged_data_frame.groupby([\"user_id\", \"track_id\", \"session_id\"])[\n",
    "  \"event_type\"].transform(lambda x: x != \"PLAY\").astype(bool)\n",
    "\n",
    "# if there are 2 rows with the same user_id, track_id and session_id, and different \"skipped\" value, remove the row with \"skipped\" = 0\n",
    "merged_data_frame = merged_data_frame.drop_duplicates(subset=[\"user_id\", \"track_id\", \"session_id\"],\n",
    "                                                      keep=\"last\")"
   ],
   "metadata": {
    "collapsed": false
   }
  },
  {
   "cell_type": "markdown",
   "source": [
    "## Usunięcie niepotrzebnych kolumn"
   ],
   "metadata": {
    "collapsed": false
   }
  },
  {
   "cell_type": "code",
   "execution_count": 5,
   "outputs": [],
   "source": [
    "merged_data_frame = merged_data_frame.drop(columns=[\"id_x\", \"id_y\", \"name\", \"premium_user\", \"name_x\", \"name_y\", \"city\", \"street\", \"id_artist\", \"event_type\"])\n",
    "merged_data_frame.head(10)\n",
    "\n",
    "# save to jsonl file\n",
    "merged_data_frame.to_json(\"../data/merged_data.jsonl\", orient=\"records\", lines=True)\n"
   ],
   "metadata": {
    "collapsed": false
   }
  }
 ],
 "metadata": {
  "kernelspec": {
   "display_name": "Python 3",
   "language": "python",
   "name": "python3"
  },
  "language_info": {
   "codemirror_mode": {
    "name": "ipython",
    "version": 2
   },
   "file_extension": ".py",
   "mimetype": "text/x-python",
   "name": "python",
   "nbconvert_exporter": "python",
   "pygments_lexer": "ipython2",
   "version": "2.7.6"
  }
 },
 "nbformat": 4,
 "nbformat_minor": 0
}
