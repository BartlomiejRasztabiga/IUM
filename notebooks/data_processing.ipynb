{
 "cells": [
  {
   "cell_type": "code",
   "execution_count": 1,
   "metadata": {
    "collapsed": true
   },
   "outputs": [],
   "source": [
    "import pandas as pd\n",
    "\n",
    "pd.set_option('display.max_rows', None)\n",
    "pd.set_option('display.max_columns', None)\n",
    "pd.set_option('max_colwidth', None)\n",
    "\n",
    "artists_data_path = \"../data/artists.jsonl\"\n",
    "sessions_data_path = \"../data/sessions.jsonl\"\n",
    "track_storage_data_path = \"../data/track_storage.jsonl\"\n",
    "tracks_data_path = \"../data/tracks.jsonl\"\n",
    "users_data_path = \"../data/users.jsonl\"\n",
    "\n",
    "artists_data_frame = pd.read_json(artists_data_path, lines=True)\n",
    "sessions_data_frame = pd.read_json(sessions_data_path, lines=True)\n",
    "tracks_data_frame = pd.read_json(tracks_data_path, lines=True)\n",
    "users_data_frame = pd.read_json(users_data_path, lines=True)"
   ]
  },
  {
   "cell_type": "markdown",
   "metadata": {},
   "source": [
    "# Mergowanie podobnych gatunków muzycznych (artists)\n",
    "TODO\n"
   ]
  },
  {
   "cell_type": "markdown",
   "metadata": {},
   "source": [
    "# Scalenie danych"
   ]
  },
  {
   "cell_type": "code",
   "execution_count": 2,
   "metadata": {},
   "outputs": [
    {
     "data": {
      "text/plain": "                timestamp  user_id                track_id event_type   \n0 2023-01-03 05:09:55.000      101  2PmGtDUyJIpYBEtI1hQIVp       PLAY  \\\n1 2023-02-08 21:41:02.507      103  2PmGtDUyJIpYBEtI1hQIVp       PLAY   \n2 2023-02-12 01:17:14.946      132  2PmGtDUyJIpYBEtI1hQIVp       PLAY   \n3 2023-01-03 03:59:59.738      132  5yxYokipsWlpDCt4Th4VVc       PLAY   \n4 2023-03-07 14:28:25.702      132  5yxYokipsWlpDCt4Th4VVc       PLAY   \n\n   session_id                    id_x                  name_x  popularity   \n0         124  2PmGtDUyJIpYBEtI1hQIVp       Ballrooms Of Mars          34  \\\n1         151  2PmGtDUyJIpYBEtI1hQIVp       Ballrooms Of Mars          34   \n2         544  2PmGtDUyJIpYBEtI1hQIVp       Ballrooms Of Mars          34   \n3         534  5yxYokipsWlpDCt4Th4VVc  Solid Gold Easy Action          35   \n4         547  5yxYokipsWlpDCt4Th4VVc  Solid Gold Easy Action          35   \n\n   duration_ms  explicit               id_artist release_date  danceability   \n0       247707         0  3dBVyJ7JuOMt4GE9607Qin   1972-07-21         0.491  \\\n1       247707         0  3dBVyJ7JuOMt4GE9607Qin   1972-07-21         0.491   \n2       247707         0  3dBVyJ7JuOMt4GE9607Qin   1972-07-21         0.491   \n3       140067         0  3dBVyJ7JuOMt4GE9607Qin   1973-03-16         0.449   \n4       140067         0  3dBVyJ7JuOMt4GE9607Qin   1973-03-16         0.449   \n\n   energy  key  loudness  speechiness  acousticness  instrumentalness   \n0   0.606    7   -10.172       0.0377       0.00327          0.000008  \\\n1   0.606    7   -10.172       0.0377       0.00327          0.000008   \n2   0.606    7   -10.172       0.0377       0.00327          0.000008   \n3   0.749    9    -8.585       0.0775       0.01000          0.000000   \n4   0.749    9    -8.585       0.0775       0.01000          0.000000   \n\n   liveness  valence    tempo         name_y      city              street   \n0     0.341    0.669  123.025  Klara Herdzik  Szczecin  pl. Floriana 55/22  \\\n1     0.341    0.669  123.025   Szymon Zawal    Gdynia   al. Głogowa 14/10   \n2     0.341    0.669  123.025   Cezary Nóżka   Wrocław    aleja Olchowa 16   \n3     0.391    0.448  106.861   Cezary Nóżka   Wrocław    aleja Olchowa 16   \n4     0.391    0.448  106.861   Cezary Nóżka   Wrocław    aleja Olchowa 16   \n\n                                    favourite_genres  premium_user   \n0                   [permanent wave, mandopop, funk]         False  \\\n1                    [filmi, regional mexican, folk]         False   \n2  [psychedelic rock, country rock, rock en espanol]          True   \n3  [psychedelic rock, country rock, rock en espanol]          True   \n4  [psychedelic rock, country rock, rock en espanol]          True   \n\n                     id_y    name   \n0  3dBVyJ7JuOMt4GE9607Qin  T. Rex  \\\n1  3dBVyJ7JuOMt4GE9607Qin  T. Rex   \n2  3dBVyJ7JuOMt4GE9607Qin  T. Rex   \n3  3dBVyJ7JuOMt4GE9607Qin  T. Rex   \n4  3dBVyJ7JuOMt4GE9607Qin  T. Rex   \n\n                                                                                          genres  \n0  [album rock, art rock, classic rock, folk rock, glam rock, protopunk, psychedelic rock, rock]  \n1  [album rock, art rock, classic rock, folk rock, glam rock, protopunk, psychedelic rock, rock]  \n2  [album rock, art rock, classic rock, folk rock, glam rock, protopunk, psychedelic rock, rock]  \n3  [album rock, art rock, classic rock, folk rock, glam rock, protopunk, psychedelic rock, rock]  \n4  [album rock, art rock, classic rock, folk rock, glam rock, protopunk, psychedelic rock, rock]  ",
      "text/html": "<div>\n<style scoped>\n    .dataframe tbody tr th:only-of-type {\n        vertical-align: middle;\n    }\n\n    .dataframe tbody tr th {\n        vertical-align: top;\n    }\n\n    .dataframe thead th {\n        text-align: right;\n    }\n</style>\n<table border=\"1\" class=\"dataframe\">\n  <thead>\n    <tr style=\"text-align: right;\">\n      <th></th>\n      <th>timestamp</th>\n      <th>user_id</th>\n      <th>track_id</th>\n      <th>event_type</th>\n      <th>session_id</th>\n      <th>id_x</th>\n      <th>name_x</th>\n      <th>popularity</th>\n      <th>duration_ms</th>\n      <th>explicit</th>\n      <th>id_artist</th>\n      <th>release_date</th>\n      <th>danceability</th>\n      <th>energy</th>\n      <th>key</th>\n      <th>loudness</th>\n      <th>speechiness</th>\n      <th>acousticness</th>\n      <th>instrumentalness</th>\n      <th>liveness</th>\n      <th>valence</th>\n      <th>tempo</th>\n      <th>name_y</th>\n      <th>city</th>\n      <th>street</th>\n      <th>favourite_genres</th>\n      <th>premium_user</th>\n      <th>id_y</th>\n      <th>name</th>\n      <th>genres</th>\n    </tr>\n  </thead>\n  <tbody>\n    <tr>\n      <th>0</th>\n      <td>2023-01-03 05:09:55.000</td>\n      <td>101</td>\n      <td>2PmGtDUyJIpYBEtI1hQIVp</td>\n      <td>PLAY</td>\n      <td>124</td>\n      <td>2PmGtDUyJIpYBEtI1hQIVp</td>\n      <td>Ballrooms Of Mars</td>\n      <td>34</td>\n      <td>247707</td>\n      <td>0</td>\n      <td>3dBVyJ7JuOMt4GE9607Qin</td>\n      <td>1972-07-21</td>\n      <td>0.491</td>\n      <td>0.606</td>\n      <td>7</td>\n      <td>-10.172</td>\n      <td>0.0377</td>\n      <td>0.00327</td>\n      <td>0.000008</td>\n      <td>0.341</td>\n      <td>0.669</td>\n      <td>123.025</td>\n      <td>Klara Herdzik</td>\n      <td>Szczecin</td>\n      <td>pl. Floriana 55/22</td>\n      <td>[permanent wave, mandopop, funk]</td>\n      <td>False</td>\n      <td>3dBVyJ7JuOMt4GE9607Qin</td>\n      <td>T. Rex</td>\n      <td>[album rock, art rock, classic rock, folk rock, glam rock, protopunk, psychedelic rock, rock]</td>\n    </tr>\n    <tr>\n      <th>1</th>\n      <td>2023-02-08 21:41:02.507</td>\n      <td>103</td>\n      <td>2PmGtDUyJIpYBEtI1hQIVp</td>\n      <td>PLAY</td>\n      <td>151</td>\n      <td>2PmGtDUyJIpYBEtI1hQIVp</td>\n      <td>Ballrooms Of Mars</td>\n      <td>34</td>\n      <td>247707</td>\n      <td>0</td>\n      <td>3dBVyJ7JuOMt4GE9607Qin</td>\n      <td>1972-07-21</td>\n      <td>0.491</td>\n      <td>0.606</td>\n      <td>7</td>\n      <td>-10.172</td>\n      <td>0.0377</td>\n      <td>0.00327</td>\n      <td>0.000008</td>\n      <td>0.341</td>\n      <td>0.669</td>\n      <td>123.025</td>\n      <td>Szymon Zawal</td>\n      <td>Gdynia</td>\n      <td>al. Głogowa 14/10</td>\n      <td>[filmi, regional mexican, folk]</td>\n      <td>False</td>\n      <td>3dBVyJ7JuOMt4GE9607Qin</td>\n      <td>T. Rex</td>\n      <td>[album rock, art rock, classic rock, folk rock, glam rock, protopunk, psychedelic rock, rock]</td>\n    </tr>\n    <tr>\n      <th>2</th>\n      <td>2023-02-12 01:17:14.946</td>\n      <td>132</td>\n      <td>2PmGtDUyJIpYBEtI1hQIVp</td>\n      <td>PLAY</td>\n      <td>544</td>\n      <td>2PmGtDUyJIpYBEtI1hQIVp</td>\n      <td>Ballrooms Of Mars</td>\n      <td>34</td>\n      <td>247707</td>\n      <td>0</td>\n      <td>3dBVyJ7JuOMt4GE9607Qin</td>\n      <td>1972-07-21</td>\n      <td>0.491</td>\n      <td>0.606</td>\n      <td>7</td>\n      <td>-10.172</td>\n      <td>0.0377</td>\n      <td>0.00327</td>\n      <td>0.000008</td>\n      <td>0.341</td>\n      <td>0.669</td>\n      <td>123.025</td>\n      <td>Cezary Nóżka</td>\n      <td>Wrocław</td>\n      <td>aleja Olchowa 16</td>\n      <td>[psychedelic rock, country rock, rock en espanol]</td>\n      <td>True</td>\n      <td>3dBVyJ7JuOMt4GE9607Qin</td>\n      <td>T. Rex</td>\n      <td>[album rock, art rock, classic rock, folk rock, glam rock, protopunk, psychedelic rock, rock]</td>\n    </tr>\n    <tr>\n      <th>3</th>\n      <td>2023-01-03 03:59:59.738</td>\n      <td>132</td>\n      <td>5yxYokipsWlpDCt4Th4VVc</td>\n      <td>PLAY</td>\n      <td>534</td>\n      <td>5yxYokipsWlpDCt4Th4VVc</td>\n      <td>Solid Gold Easy Action</td>\n      <td>35</td>\n      <td>140067</td>\n      <td>0</td>\n      <td>3dBVyJ7JuOMt4GE9607Qin</td>\n      <td>1973-03-16</td>\n      <td>0.449</td>\n      <td>0.749</td>\n      <td>9</td>\n      <td>-8.585</td>\n      <td>0.0775</td>\n      <td>0.01000</td>\n      <td>0.000000</td>\n      <td>0.391</td>\n      <td>0.448</td>\n      <td>106.861</td>\n      <td>Cezary Nóżka</td>\n      <td>Wrocław</td>\n      <td>aleja Olchowa 16</td>\n      <td>[psychedelic rock, country rock, rock en espanol]</td>\n      <td>True</td>\n      <td>3dBVyJ7JuOMt4GE9607Qin</td>\n      <td>T. Rex</td>\n      <td>[album rock, art rock, classic rock, folk rock, glam rock, protopunk, psychedelic rock, rock]</td>\n    </tr>\n    <tr>\n      <th>4</th>\n      <td>2023-03-07 14:28:25.702</td>\n      <td>132</td>\n      <td>5yxYokipsWlpDCt4Th4VVc</td>\n      <td>PLAY</td>\n      <td>547</td>\n      <td>5yxYokipsWlpDCt4Th4VVc</td>\n      <td>Solid Gold Easy Action</td>\n      <td>35</td>\n      <td>140067</td>\n      <td>0</td>\n      <td>3dBVyJ7JuOMt4GE9607Qin</td>\n      <td>1973-03-16</td>\n      <td>0.449</td>\n      <td>0.749</td>\n      <td>9</td>\n      <td>-8.585</td>\n      <td>0.0775</td>\n      <td>0.01000</td>\n      <td>0.000000</td>\n      <td>0.391</td>\n      <td>0.448</td>\n      <td>106.861</td>\n      <td>Cezary Nóżka</td>\n      <td>Wrocław</td>\n      <td>aleja Olchowa 16</td>\n      <td>[psychedelic rock, country rock, rock en espanol]</td>\n      <td>True</td>\n      <td>3dBVyJ7JuOMt4GE9607Qin</td>\n      <td>T. Rex</td>\n      <td>[album rock, art rock, classic rock, folk rock, glam rock, protopunk, psychedelic rock, rock]</td>\n    </tr>\n  </tbody>\n</table>\n</div>"
     },
     "execution_count": 2,
     "metadata": {},
     "output_type": "execute_result"
    }
   ],
   "source": [
    "merged_data_frame = pd.merge(sessions_data_frame, tracks_data_frame, left_on=\"track_id\",\n",
    "                             right_on=\"id\")\n",
    "merged_data_frame = pd.merge(merged_data_frame, users_data_frame, left_on=\"user_id\",\n",
    "                             right_on=\"user_id\")\n",
    "merged_data_frame = pd.merge(merged_data_frame, artists_data_frame, left_on=\"id_artist\",\n",
    "                             right_on=\"id\")\n",
    "merged_data_frame.head(5)\n"
   ]
  },
  {
   "cell_type": "markdown",
   "metadata": {},
   "source": [
    "## Wyliczenie, czy dana piosenka w danej sesji została pominięta"
   ]
  },
  {
   "cell_type": "code",
   "execution_count": 3,
   "metadata": {},
   "outputs": [],
   "source": [
    "# delete rows with event_type other than PLAY and SKIP\n",
    "merged_data_frame = merged_data_frame[merged_data_frame[\"event_type\"].isin([\"PLAY\", \"SKIP\"])]\n",
    "\n",
    "# TODO moze to trzeba liczyc inaczej?\n",
    "\n",
    "# if for one user_id and track_id and session_id there is only PLAY event, then the track was not skipped\n",
    "merged_data_frame[\"skipped\"] = merged_data_frame.groupby([\"user_id\", \"track_id\", \"session_id\"])[\n",
    "  \"event_type\"].transform(lambda x: x != \"PLAY\").astype(bool)\n",
    "\n",
    "# if there are 2 rows with the same user_id, track_id and session_id, and different \"skipped\" value, remove the row with \"skipped\" = 0\n",
    "merged_data_frame = merged_data_frame.drop_duplicates(subset=[\"user_id\", \"track_id\", \"session_id\"],\n",
    "                                                      keep=\"last\")\n",
    "\n",
    "merged_data_frame[\"number_of_matching_genres\"] = merged_data_frame.apply(lambda x: len(set(x[\"genres\"]).intersection(set(x[\"favourite_genres\"]))), axis=1)"
   ]
  },
  {
   "cell_type": "markdown",
   "metadata": {},
   "source": [
    "## Usunięcie niepotrzebnych kolumn"
   ]
  },
  {
   "cell_type": "code",
   "execution_count": 4,
   "metadata": {},
   "outputs": [
    {
     "data": {
      "text/plain": "    user_id  popularity  duration_ms  explicit release_date  danceability   \n0       101          34       247707         0   1972-07-21         0.491  \\\n1       103          34       247707         0   1972-07-21         0.491   \n2       132          34       247707         0   1972-07-21         0.491   \n3       132          35       140067         0   1973-03-16         0.449   \n4       132          35       140067         0   1973-03-16         0.449   \n5       107          35       140067         0   1973-03-16         0.449   \n7       147          21       248360         0   1972-07-21         0.513   \n9       147          35       140067         0   1973-03-16         0.449   \n12      147          35       140067         0   1973-03-16         0.449   \n15      147          35       140067         0   1973-03-16         0.449   \n\n    energy  key  loudness  speechiness  acousticness  instrumentalness   \n0    0.606    7   -10.172       0.0377       0.00327          0.000008  \\\n1    0.606    7   -10.172       0.0377       0.00327          0.000008   \n2    0.606    7   -10.172       0.0377       0.00327          0.000008   \n3    0.749    9    -8.585       0.0775       0.01000          0.000000   \n4    0.749    9    -8.585       0.0775       0.01000          0.000000   \n5    0.749    9    -8.585       0.0775       0.01000          0.000000   \n7    0.576    7    -9.704       0.0384       0.01130          0.000035   \n9    0.749    9    -8.585       0.0775       0.01000          0.000000   \n12   0.749    9    -8.585       0.0775       0.01000          0.000000   \n15   0.749    9    -8.585       0.0775       0.01000          0.000000   \n\n    liveness  valence    tempo   \n0      0.341    0.669  123.025  \\\n1      0.341    0.669  123.025   \n2      0.341    0.669  123.025   \n3      0.391    0.448  106.861   \n4      0.391    0.448  106.861   \n5      0.391    0.448  106.861   \n7      0.248    0.662  122.853   \n9      0.391    0.448  106.861   \n12     0.391    0.448  106.861   \n15     0.391    0.448  106.861   \n\n                                       favourite_genres    name   \n0                      [permanent wave, mandopop, funk]  T. Rex  \\\n1                       [filmi, regional mexican, folk]  T. Rex   \n2     [psychedelic rock, country rock, rock en espanol]  T. Rex   \n3     [psychedelic rock, country rock, rock en espanol]  T. Rex   \n4     [psychedelic rock, country rock, rock en espanol]  T. Rex   \n5   [latin alternative, alternative rock, classic rock]  T. Rex   \n7                      [soft rock, hoerspiel, ranchera]  T. Rex   \n9                      [soft rock, hoerspiel, ranchera]  T. Rex   \n12                     [soft rock, hoerspiel, ranchera]  T. Rex   \n15                     [soft rock, hoerspiel, ranchera]  T. Rex   \n\n                                                                                           genres   \n0   [album rock, art rock, classic rock, folk rock, glam rock, protopunk, psychedelic rock, rock]  \\\n1   [album rock, art rock, classic rock, folk rock, glam rock, protopunk, psychedelic rock, rock]   \n2   [album rock, art rock, classic rock, folk rock, glam rock, protopunk, psychedelic rock, rock]   \n3   [album rock, art rock, classic rock, folk rock, glam rock, protopunk, psychedelic rock, rock]   \n4   [album rock, art rock, classic rock, folk rock, glam rock, protopunk, psychedelic rock, rock]   \n5   [album rock, art rock, classic rock, folk rock, glam rock, protopunk, psychedelic rock, rock]   \n7   [album rock, art rock, classic rock, folk rock, glam rock, protopunk, psychedelic rock, rock]   \n9   [album rock, art rock, classic rock, folk rock, glam rock, protopunk, psychedelic rock, rock]   \n12  [album rock, art rock, classic rock, folk rock, glam rock, protopunk, psychedelic rock, rock]   \n15  [album rock, art rock, classic rock, folk rock, glam rock, protopunk, psychedelic rock, rock]   \n\n    skipped  number_of_matching_genres  \n0     False                          0  \n1     False                          0  \n2     False                          1  \n3     False                          1  \n4     False                          1  \n5     False                          1  \n7      True                          0  \n9      True                          0  \n12     True                          0  \n15     True                          0  ",
      "text/html": "<div>\n<style scoped>\n    .dataframe tbody tr th:only-of-type {\n        vertical-align: middle;\n    }\n\n    .dataframe tbody tr th {\n        vertical-align: top;\n    }\n\n    .dataframe thead th {\n        text-align: right;\n    }\n</style>\n<table border=\"1\" class=\"dataframe\">\n  <thead>\n    <tr style=\"text-align: right;\">\n      <th></th>\n      <th>user_id</th>\n      <th>popularity</th>\n      <th>duration_ms</th>\n      <th>explicit</th>\n      <th>release_date</th>\n      <th>danceability</th>\n      <th>energy</th>\n      <th>key</th>\n      <th>loudness</th>\n      <th>speechiness</th>\n      <th>acousticness</th>\n      <th>instrumentalness</th>\n      <th>liveness</th>\n      <th>valence</th>\n      <th>tempo</th>\n      <th>favourite_genres</th>\n      <th>name</th>\n      <th>genres</th>\n      <th>skipped</th>\n      <th>number_of_matching_genres</th>\n    </tr>\n  </thead>\n  <tbody>\n    <tr>\n      <th>0</th>\n      <td>101</td>\n      <td>34</td>\n      <td>247707</td>\n      <td>0</td>\n      <td>1972-07-21</td>\n      <td>0.491</td>\n      <td>0.606</td>\n      <td>7</td>\n      <td>-10.172</td>\n      <td>0.0377</td>\n      <td>0.00327</td>\n      <td>0.000008</td>\n      <td>0.341</td>\n      <td>0.669</td>\n      <td>123.025</td>\n      <td>[permanent wave, mandopop, funk]</td>\n      <td>T. Rex</td>\n      <td>[album rock, art rock, classic rock, folk rock, glam rock, protopunk, psychedelic rock, rock]</td>\n      <td>False</td>\n      <td>0</td>\n    </tr>\n    <tr>\n      <th>1</th>\n      <td>103</td>\n      <td>34</td>\n      <td>247707</td>\n      <td>0</td>\n      <td>1972-07-21</td>\n      <td>0.491</td>\n      <td>0.606</td>\n      <td>7</td>\n      <td>-10.172</td>\n      <td>0.0377</td>\n      <td>0.00327</td>\n      <td>0.000008</td>\n      <td>0.341</td>\n      <td>0.669</td>\n      <td>123.025</td>\n      <td>[filmi, regional mexican, folk]</td>\n      <td>T. Rex</td>\n      <td>[album rock, art rock, classic rock, folk rock, glam rock, protopunk, psychedelic rock, rock]</td>\n      <td>False</td>\n      <td>0</td>\n    </tr>\n    <tr>\n      <th>2</th>\n      <td>132</td>\n      <td>34</td>\n      <td>247707</td>\n      <td>0</td>\n      <td>1972-07-21</td>\n      <td>0.491</td>\n      <td>0.606</td>\n      <td>7</td>\n      <td>-10.172</td>\n      <td>0.0377</td>\n      <td>0.00327</td>\n      <td>0.000008</td>\n      <td>0.341</td>\n      <td>0.669</td>\n      <td>123.025</td>\n      <td>[psychedelic rock, country rock, rock en espanol]</td>\n      <td>T. Rex</td>\n      <td>[album rock, art rock, classic rock, folk rock, glam rock, protopunk, psychedelic rock, rock]</td>\n      <td>False</td>\n      <td>1</td>\n    </tr>\n    <tr>\n      <th>3</th>\n      <td>132</td>\n      <td>35</td>\n      <td>140067</td>\n      <td>0</td>\n      <td>1973-03-16</td>\n      <td>0.449</td>\n      <td>0.749</td>\n      <td>9</td>\n      <td>-8.585</td>\n      <td>0.0775</td>\n      <td>0.01000</td>\n      <td>0.000000</td>\n      <td>0.391</td>\n      <td>0.448</td>\n      <td>106.861</td>\n      <td>[psychedelic rock, country rock, rock en espanol]</td>\n      <td>T. Rex</td>\n      <td>[album rock, art rock, classic rock, folk rock, glam rock, protopunk, psychedelic rock, rock]</td>\n      <td>False</td>\n      <td>1</td>\n    </tr>\n    <tr>\n      <th>4</th>\n      <td>132</td>\n      <td>35</td>\n      <td>140067</td>\n      <td>0</td>\n      <td>1973-03-16</td>\n      <td>0.449</td>\n      <td>0.749</td>\n      <td>9</td>\n      <td>-8.585</td>\n      <td>0.0775</td>\n      <td>0.01000</td>\n      <td>0.000000</td>\n      <td>0.391</td>\n      <td>0.448</td>\n      <td>106.861</td>\n      <td>[psychedelic rock, country rock, rock en espanol]</td>\n      <td>T. Rex</td>\n      <td>[album rock, art rock, classic rock, folk rock, glam rock, protopunk, psychedelic rock, rock]</td>\n      <td>False</td>\n      <td>1</td>\n    </tr>\n    <tr>\n      <th>5</th>\n      <td>107</td>\n      <td>35</td>\n      <td>140067</td>\n      <td>0</td>\n      <td>1973-03-16</td>\n      <td>0.449</td>\n      <td>0.749</td>\n      <td>9</td>\n      <td>-8.585</td>\n      <td>0.0775</td>\n      <td>0.01000</td>\n      <td>0.000000</td>\n      <td>0.391</td>\n      <td>0.448</td>\n      <td>106.861</td>\n      <td>[latin alternative, alternative rock, classic rock]</td>\n      <td>T. Rex</td>\n      <td>[album rock, art rock, classic rock, folk rock, glam rock, protopunk, psychedelic rock, rock]</td>\n      <td>False</td>\n      <td>1</td>\n    </tr>\n    <tr>\n      <th>7</th>\n      <td>147</td>\n      <td>21</td>\n      <td>248360</td>\n      <td>0</td>\n      <td>1972-07-21</td>\n      <td>0.513</td>\n      <td>0.576</td>\n      <td>7</td>\n      <td>-9.704</td>\n      <td>0.0384</td>\n      <td>0.01130</td>\n      <td>0.000035</td>\n      <td>0.248</td>\n      <td>0.662</td>\n      <td>122.853</td>\n      <td>[soft rock, hoerspiel, ranchera]</td>\n      <td>T. Rex</td>\n      <td>[album rock, art rock, classic rock, folk rock, glam rock, protopunk, psychedelic rock, rock]</td>\n      <td>True</td>\n      <td>0</td>\n    </tr>\n    <tr>\n      <th>9</th>\n      <td>147</td>\n      <td>35</td>\n      <td>140067</td>\n      <td>0</td>\n      <td>1973-03-16</td>\n      <td>0.449</td>\n      <td>0.749</td>\n      <td>9</td>\n      <td>-8.585</td>\n      <td>0.0775</td>\n      <td>0.01000</td>\n      <td>0.000000</td>\n      <td>0.391</td>\n      <td>0.448</td>\n      <td>106.861</td>\n      <td>[soft rock, hoerspiel, ranchera]</td>\n      <td>T. Rex</td>\n      <td>[album rock, art rock, classic rock, folk rock, glam rock, protopunk, psychedelic rock, rock]</td>\n      <td>True</td>\n      <td>0</td>\n    </tr>\n    <tr>\n      <th>12</th>\n      <td>147</td>\n      <td>35</td>\n      <td>140067</td>\n      <td>0</td>\n      <td>1973-03-16</td>\n      <td>0.449</td>\n      <td>0.749</td>\n      <td>9</td>\n      <td>-8.585</td>\n      <td>0.0775</td>\n      <td>0.01000</td>\n      <td>0.000000</td>\n      <td>0.391</td>\n      <td>0.448</td>\n      <td>106.861</td>\n      <td>[soft rock, hoerspiel, ranchera]</td>\n      <td>T. Rex</td>\n      <td>[album rock, art rock, classic rock, folk rock, glam rock, protopunk, psychedelic rock, rock]</td>\n      <td>True</td>\n      <td>0</td>\n    </tr>\n    <tr>\n      <th>15</th>\n      <td>147</td>\n      <td>35</td>\n      <td>140067</td>\n      <td>0</td>\n      <td>1973-03-16</td>\n      <td>0.449</td>\n      <td>0.749</td>\n      <td>9</td>\n      <td>-8.585</td>\n      <td>0.0775</td>\n      <td>0.01000</td>\n      <td>0.000000</td>\n      <td>0.391</td>\n      <td>0.448</td>\n      <td>106.861</td>\n      <td>[soft rock, hoerspiel, ranchera]</td>\n      <td>T. Rex</td>\n      <td>[album rock, art rock, classic rock, folk rock, glam rock, protopunk, psychedelic rock, rock]</td>\n      <td>True</td>\n      <td>0</td>\n    </tr>\n  </tbody>\n</table>\n</div>"
     },
     "execution_count": 4,
     "metadata": {},
     "output_type": "execute_result"
    }
   ],
   "source": [
    "merged_data_frame = merged_data_frame.drop(\n",
    "  columns=[\"id_x\", \"id_y\", \"premium_user\", \"name_x\", \"name_y\", \"city\", \"street\", \"id_artist\",\n",
    "           \"event_type\", \"timestamp\", \"track_id\", \"session_id\"])\n",
    "merged_data_frame.head(10)"
   ]
  },
  {
   "cell_type": "code",
   "execution_count": 5,
   "metadata": {},
   "outputs": [
    {
     "name": "stdout",
     "output_type": "stream",
     "text": [
      "<class 'pandas.core.frame.DataFrame'>\n",
      "Index: 9881 entries, 0 to 16822\n",
      "Data columns (total 20 columns):\n",
      " #   Column                     Non-Null Count  Dtype  \n",
      "---  ------                     --------------  -----  \n",
      " 0   user_id                    9881 non-null   int64  \n",
      " 1   popularity                 9881 non-null   int64  \n",
      " 2   duration_ms                9881 non-null   int64  \n",
      " 3   explicit                   9881 non-null   int64  \n",
      " 4   release_date               9881 non-null   object \n",
      " 5   danceability               9881 non-null   float64\n",
      " 6   energy                     9881 non-null   float64\n",
      " 7   key                        9881 non-null   int64  \n",
      " 8   loudness                   9881 non-null   float64\n",
      " 9   speechiness                9881 non-null   float64\n",
      " 10  acousticness               9881 non-null   float64\n",
      " 11  instrumentalness           9881 non-null   float64\n",
      " 12  liveness                   9881 non-null   float64\n",
      " 13  valence                    9881 non-null   float64\n",
      " 14  tempo                      9881 non-null   float64\n",
      " 15  favourite_genres           9881 non-null   object \n",
      " 16  name                       9881 non-null   object \n",
      " 17  genres                     9881 non-null   object \n",
      " 18  skipped                    9881 non-null   bool   \n",
      " 19  number_of_matching_genres  9881 non-null   int64  \n",
      "dtypes: bool(1), float64(9), int64(6), object(4)\n",
      "memory usage: 1.5+ MB\n"
     ]
    }
   ],
   "source": [
    "merged_data_frame.info()"
   ]
  },
  {
   "cell_type": "code",
   "execution_count": 6,
   "metadata": {},
   "outputs": [
    {
     "data": {
      "text/plain": "           user_id   popularity   duration_ms     explicit  danceability   \ncount  9881.000000  9881.000000  9.881000e+03  9881.000000   9881.000000  \\\nmean    123.952434    44.646594  2.310971e+05     0.080963      0.563325   \nstd      14.826553    25.085211  9.345541e+04     0.272793      0.165085   \nmin     101.000000     0.000000  3.100000e+04     0.000000      0.064000   \n25%     110.000000    25.000000  1.803480e+05     0.000000      0.453000   \n50%     125.000000    39.000000  2.158000e+05     0.000000      0.570000   \n75%     136.000000    75.000000  2.626530e+05     0.000000      0.683000   \nmax     150.000000    96.000000  2.365307e+06     1.000000      0.975000   \n\n            energy         key     loudness  speechiness  acousticness   \ncount  9881.000000  9881.00000  9881.000000  9881.000000   9881.000000  \\\nmean      0.600228     5.25463    -9.125568     0.083663      0.328242   \nstd       0.230087     3.55038     4.286563     0.121603      0.311197   \nmin       0.000592     0.00000   -35.898000     0.022700      0.000001   \n25%       0.428000     2.00000   -11.515000     0.033500      0.042500   \n50%       0.624000     5.00000    -8.446000     0.042800      0.223000   \n75%       0.794000     9.00000    -6.114000     0.077100      0.579000   \nmax       0.998000    11.00000     1.716000     0.965000      0.996000   \n\n       instrumentalness     liveness      valence        tempo   \ncount       9881.000000  9881.000000  9881.000000  9881.000000  \\\nmean           0.067860     0.207252     0.539190   120.525376   \nstd            0.199239     0.192774     0.250657    28.640296   \nmin            0.000000     0.016000     0.002280    36.241000   \n25%            0.000000     0.095100     0.338000    98.231000   \n50%            0.000044     0.127000     0.544000   120.031000   \n75%            0.005030     0.251000     0.742000   138.023000   \nmax            0.978000     0.997000     0.991000   209.231000   \n\n       number_of_matching_genres  \ncount                9881.000000  \nmean                    0.147860  \nstd                     0.375486  \nmin                     0.000000  \n25%                     0.000000  \n50%                     0.000000  \n75%                     0.000000  \nmax                     3.000000  ",
      "text/html": "<div>\n<style scoped>\n    .dataframe tbody tr th:only-of-type {\n        vertical-align: middle;\n    }\n\n    .dataframe tbody tr th {\n        vertical-align: top;\n    }\n\n    .dataframe thead th {\n        text-align: right;\n    }\n</style>\n<table border=\"1\" class=\"dataframe\">\n  <thead>\n    <tr style=\"text-align: right;\">\n      <th></th>\n      <th>user_id</th>\n      <th>popularity</th>\n      <th>duration_ms</th>\n      <th>explicit</th>\n      <th>danceability</th>\n      <th>energy</th>\n      <th>key</th>\n      <th>loudness</th>\n      <th>speechiness</th>\n      <th>acousticness</th>\n      <th>instrumentalness</th>\n      <th>liveness</th>\n      <th>valence</th>\n      <th>tempo</th>\n      <th>number_of_matching_genres</th>\n    </tr>\n  </thead>\n  <tbody>\n    <tr>\n      <th>count</th>\n      <td>9881.000000</td>\n      <td>9881.000000</td>\n      <td>9.881000e+03</td>\n      <td>9881.000000</td>\n      <td>9881.000000</td>\n      <td>9881.000000</td>\n      <td>9881.00000</td>\n      <td>9881.000000</td>\n      <td>9881.000000</td>\n      <td>9881.000000</td>\n      <td>9881.000000</td>\n      <td>9881.000000</td>\n      <td>9881.000000</td>\n      <td>9881.000000</td>\n      <td>9881.000000</td>\n    </tr>\n    <tr>\n      <th>mean</th>\n      <td>123.952434</td>\n      <td>44.646594</td>\n      <td>2.310971e+05</td>\n      <td>0.080963</td>\n      <td>0.563325</td>\n      <td>0.600228</td>\n      <td>5.25463</td>\n      <td>-9.125568</td>\n      <td>0.083663</td>\n      <td>0.328242</td>\n      <td>0.067860</td>\n      <td>0.207252</td>\n      <td>0.539190</td>\n      <td>120.525376</td>\n      <td>0.147860</td>\n    </tr>\n    <tr>\n      <th>std</th>\n      <td>14.826553</td>\n      <td>25.085211</td>\n      <td>9.345541e+04</td>\n      <td>0.272793</td>\n      <td>0.165085</td>\n      <td>0.230087</td>\n      <td>3.55038</td>\n      <td>4.286563</td>\n      <td>0.121603</td>\n      <td>0.311197</td>\n      <td>0.199239</td>\n      <td>0.192774</td>\n      <td>0.250657</td>\n      <td>28.640296</td>\n      <td>0.375486</td>\n    </tr>\n    <tr>\n      <th>min</th>\n      <td>101.000000</td>\n      <td>0.000000</td>\n      <td>3.100000e+04</td>\n      <td>0.000000</td>\n      <td>0.064000</td>\n      <td>0.000592</td>\n      <td>0.00000</td>\n      <td>-35.898000</td>\n      <td>0.022700</td>\n      <td>0.000001</td>\n      <td>0.000000</td>\n      <td>0.016000</td>\n      <td>0.002280</td>\n      <td>36.241000</td>\n      <td>0.000000</td>\n    </tr>\n    <tr>\n      <th>25%</th>\n      <td>110.000000</td>\n      <td>25.000000</td>\n      <td>1.803480e+05</td>\n      <td>0.000000</td>\n      <td>0.453000</td>\n      <td>0.428000</td>\n      <td>2.00000</td>\n      <td>-11.515000</td>\n      <td>0.033500</td>\n      <td>0.042500</td>\n      <td>0.000000</td>\n      <td>0.095100</td>\n      <td>0.338000</td>\n      <td>98.231000</td>\n      <td>0.000000</td>\n    </tr>\n    <tr>\n      <th>50%</th>\n      <td>125.000000</td>\n      <td>39.000000</td>\n      <td>2.158000e+05</td>\n      <td>0.000000</td>\n      <td>0.570000</td>\n      <td>0.624000</td>\n      <td>5.00000</td>\n      <td>-8.446000</td>\n      <td>0.042800</td>\n      <td>0.223000</td>\n      <td>0.000044</td>\n      <td>0.127000</td>\n      <td>0.544000</td>\n      <td>120.031000</td>\n      <td>0.000000</td>\n    </tr>\n    <tr>\n      <th>75%</th>\n      <td>136.000000</td>\n      <td>75.000000</td>\n      <td>2.626530e+05</td>\n      <td>0.000000</td>\n      <td>0.683000</td>\n      <td>0.794000</td>\n      <td>9.00000</td>\n      <td>-6.114000</td>\n      <td>0.077100</td>\n      <td>0.579000</td>\n      <td>0.005030</td>\n      <td>0.251000</td>\n      <td>0.742000</td>\n      <td>138.023000</td>\n      <td>0.000000</td>\n    </tr>\n    <tr>\n      <th>max</th>\n      <td>150.000000</td>\n      <td>96.000000</td>\n      <td>2.365307e+06</td>\n      <td>1.000000</td>\n      <td>0.975000</td>\n      <td>0.998000</td>\n      <td>11.00000</td>\n      <td>1.716000</td>\n      <td>0.965000</td>\n      <td>0.996000</td>\n      <td>0.978000</td>\n      <td>0.997000</td>\n      <td>0.991000</td>\n      <td>209.231000</td>\n      <td>3.000000</td>\n    </tr>\n  </tbody>\n</table>\n</div>"
     },
     "execution_count": 6,
     "metadata": {},
     "output_type": "execute_result"
    }
   ],
   "source": [
    "merged_data_frame.describe()"
   ]
  },
  {
   "cell_type": "code",
   "execution_count": 7,
   "metadata": {},
   "outputs": [
    {
     "name": "stdout",
     "output_type": "stream",
     "text": [
      "Entropy of skipped column:  0.657\n",
      "MI(skipped, number_of_matching_genres):  0.0001\n"
     ]
    },
    {
     "data": {
      "text/plain": "   user_id  popularity  duration_ms  explicit release_date  danceability   \n0      101          34       247707         0   1972-07-21         0.491  \\\n1      103          34       247707         0   1972-07-21         0.491   \n2      132          34       247707         0   1972-07-21         0.491   \n3      132          35       140067         0   1973-03-16         0.449   \n4      132          35       140067         0   1973-03-16         0.449   \n\n   energy  key  loudness  speechiness  acousticness  instrumentalness   \n0   0.606    7   -10.172       0.0377       0.00327          0.000008  \\\n1   0.606    7   -10.172       0.0377       0.00327          0.000008   \n2   0.606    7   -10.172       0.0377       0.00327          0.000008   \n3   0.749    9    -8.585       0.0775       0.01000          0.000000   \n4   0.749    9    -8.585       0.0775       0.01000          0.000000   \n\n   liveness  valence    tempo   \n0     0.341    0.669  123.025  \\\n1     0.341    0.669  123.025   \n2     0.341    0.669  123.025   \n3     0.391    0.448  106.861   \n4     0.391    0.448  106.861   \n\n                                    favourite_genres    name   \n0                   [permanent wave, mandopop, funk]  T. Rex  \\\n1                    [filmi, regional mexican, folk]  T. Rex   \n2  [psychedelic rock, country rock, rock en espanol]  T. Rex   \n3  [psychedelic rock, country rock, rock en espanol]  T. Rex   \n4  [psychedelic rock, country rock, rock en espanol]  T. Rex   \n\n                                                                                          genres   \n0  [album rock, art rock, classic rock, folk rock, glam rock, protopunk, psychedelic rock, rock]  \\\n1  [album rock, art rock, classic rock, folk rock, glam rock, protopunk, psychedelic rock, rock]   \n2  [album rock, art rock, classic rock, folk rock, glam rock, protopunk, psychedelic rock, rock]   \n3  [album rock, art rock, classic rock, folk rock, glam rock, protopunk, psychedelic rock, rock]   \n4  [album rock, art rock, classic rock, folk rock, glam rock, protopunk, psychedelic rock, rock]   \n\n   skipped  number_of_matching_genres   \n0    False                          0  \\\n1    False                          0   \n2    False                          1   \n3    False                          1   \n4    False                          1   \n\n                                                                                                                      encoded_genres  \n0                   album rock art rock classic rock folk rock glam rock protopunk psychedelic rock rockpermanent wave mandopop funk  \n1                    album rock art rock classic rock folk rock glam rock protopunk psychedelic rock rockfilmi regional mexican folk  \n2  album rock art rock classic rock folk rock glam rock protopunk psychedelic rock rockpsychedelic rock country rock rock en espanol  \n3  album rock art rock classic rock folk rock glam rock protopunk psychedelic rock rockpsychedelic rock country rock rock en espanol  \n4  album rock art rock classic rock folk rock glam rock protopunk psychedelic rock rockpsychedelic rock country rock rock en espanol  ",
      "text/html": "<div>\n<style scoped>\n    .dataframe tbody tr th:only-of-type {\n        vertical-align: middle;\n    }\n\n    .dataframe tbody tr th {\n        vertical-align: top;\n    }\n\n    .dataframe thead th {\n        text-align: right;\n    }\n</style>\n<table border=\"1\" class=\"dataframe\">\n  <thead>\n    <tr style=\"text-align: right;\">\n      <th></th>\n      <th>user_id</th>\n      <th>popularity</th>\n      <th>duration_ms</th>\n      <th>explicit</th>\n      <th>release_date</th>\n      <th>danceability</th>\n      <th>energy</th>\n      <th>key</th>\n      <th>loudness</th>\n      <th>speechiness</th>\n      <th>acousticness</th>\n      <th>instrumentalness</th>\n      <th>liveness</th>\n      <th>valence</th>\n      <th>tempo</th>\n      <th>favourite_genres</th>\n      <th>name</th>\n      <th>genres</th>\n      <th>skipped</th>\n      <th>number_of_matching_genres</th>\n      <th>encoded_genres</th>\n    </tr>\n  </thead>\n  <tbody>\n    <tr>\n      <th>0</th>\n      <td>101</td>\n      <td>34</td>\n      <td>247707</td>\n      <td>0</td>\n      <td>1972-07-21</td>\n      <td>0.491</td>\n      <td>0.606</td>\n      <td>7</td>\n      <td>-10.172</td>\n      <td>0.0377</td>\n      <td>0.00327</td>\n      <td>0.000008</td>\n      <td>0.341</td>\n      <td>0.669</td>\n      <td>123.025</td>\n      <td>[permanent wave, mandopop, funk]</td>\n      <td>T. Rex</td>\n      <td>[album rock, art rock, classic rock, folk rock, glam rock, protopunk, psychedelic rock, rock]</td>\n      <td>False</td>\n      <td>0</td>\n      <td>album rock art rock classic rock folk rock glam rock protopunk psychedelic rock rockpermanent wave mandopop funk</td>\n    </tr>\n    <tr>\n      <th>1</th>\n      <td>103</td>\n      <td>34</td>\n      <td>247707</td>\n      <td>0</td>\n      <td>1972-07-21</td>\n      <td>0.491</td>\n      <td>0.606</td>\n      <td>7</td>\n      <td>-10.172</td>\n      <td>0.0377</td>\n      <td>0.00327</td>\n      <td>0.000008</td>\n      <td>0.341</td>\n      <td>0.669</td>\n      <td>123.025</td>\n      <td>[filmi, regional mexican, folk]</td>\n      <td>T. Rex</td>\n      <td>[album rock, art rock, classic rock, folk rock, glam rock, protopunk, psychedelic rock, rock]</td>\n      <td>False</td>\n      <td>0</td>\n      <td>album rock art rock classic rock folk rock glam rock protopunk psychedelic rock rockfilmi regional mexican folk</td>\n    </tr>\n    <tr>\n      <th>2</th>\n      <td>132</td>\n      <td>34</td>\n      <td>247707</td>\n      <td>0</td>\n      <td>1972-07-21</td>\n      <td>0.491</td>\n      <td>0.606</td>\n      <td>7</td>\n      <td>-10.172</td>\n      <td>0.0377</td>\n      <td>0.00327</td>\n      <td>0.000008</td>\n      <td>0.341</td>\n      <td>0.669</td>\n      <td>123.025</td>\n      <td>[psychedelic rock, country rock, rock en espanol]</td>\n      <td>T. Rex</td>\n      <td>[album rock, art rock, classic rock, folk rock, glam rock, protopunk, psychedelic rock, rock]</td>\n      <td>False</td>\n      <td>1</td>\n      <td>album rock art rock classic rock folk rock glam rock protopunk psychedelic rock rockpsychedelic rock country rock rock en espanol</td>\n    </tr>\n    <tr>\n      <th>3</th>\n      <td>132</td>\n      <td>35</td>\n      <td>140067</td>\n      <td>0</td>\n      <td>1973-03-16</td>\n      <td>0.449</td>\n      <td>0.749</td>\n      <td>9</td>\n      <td>-8.585</td>\n      <td>0.0775</td>\n      <td>0.01000</td>\n      <td>0.000000</td>\n      <td>0.391</td>\n      <td>0.448</td>\n      <td>106.861</td>\n      <td>[psychedelic rock, country rock, rock en espanol]</td>\n      <td>T. Rex</td>\n      <td>[album rock, art rock, classic rock, folk rock, glam rock, protopunk, psychedelic rock, rock]</td>\n      <td>False</td>\n      <td>1</td>\n      <td>album rock art rock classic rock folk rock glam rock protopunk psychedelic rock rockpsychedelic rock country rock rock en espanol</td>\n    </tr>\n    <tr>\n      <th>4</th>\n      <td>132</td>\n      <td>35</td>\n      <td>140067</td>\n      <td>0</td>\n      <td>1973-03-16</td>\n      <td>0.449</td>\n      <td>0.749</td>\n      <td>9</td>\n      <td>-8.585</td>\n      <td>0.0775</td>\n      <td>0.01000</td>\n      <td>0.000000</td>\n      <td>0.391</td>\n      <td>0.448</td>\n      <td>106.861</td>\n      <td>[psychedelic rock, country rock, rock en espanol]</td>\n      <td>T. Rex</td>\n      <td>[album rock, art rock, classic rock, folk rock, glam rock, protopunk, psychedelic rock, rock]</td>\n      <td>False</td>\n      <td>1</td>\n      <td>album rock art rock classic rock folk rock glam rock protopunk psychedelic rock rockpsychedelic rock country rock rock en espanol</td>\n    </tr>\n  </tbody>\n</table>\n</div>"
     },
     "execution_count": 7,
     "metadata": {},
     "output_type": "execute_result"
    }
   ],
   "source": [
    "from keras.preprocessing.text import Tokenizer\n",
    "from sklearn.preprocessing import MultiLabelBinarizer\n",
    "from sklearn import metrics\n",
    "from scipy.stats import entropy\n",
    "\n",
    "df = merged_data_frame.copy()\n",
    "\n",
    "df[\"encoded_genres\"] = df[\"genres\"].apply(lambda x: \" \".join(x)) + df[\"favourite_genres\"].apply(lambda x: \" \".join(x))\n",
    "\n",
    "\n",
    "print(\"Entropy of skipped column: \", str(round(entropy(df[\"skipped\"].value_counts()), 4)))\n",
    "\n",
    "print(\"MI(skipped, number_of_matching_genres): \", str(round(metrics.mutual_info_score(df[\"skipped\"], df[\"number_of_matching_genres\"]), 4)))\n",
    "\n",
    "df.head(5)"
   ]
  },
  {
   "cell_type": "code",
   "execution_count": 8,
   "metadata": {},
   "outputs": [],
   "source": [
    "# save to jsonl file\n",
    "merged_data_frame.to_json(\"../data/merged_data.jsonl\", orient=\"records\", lines=True)\n"
   ]
  }
 ],
 "metadata": {
  "kernelspec": {
   "display_name": "Python 3.10 (IUM)",
   "language": "python",
   "name": "ium"
  },
  "language_info": {
   "codemirror_mode": {
    "name": "ipython",
    "version": 3
   },
   "file_extension": ".py",
   "mimetype": "text/x-python",
   "name": "python",
   "nbconvert_exporter": "python",
   "pygments_lexer": "ipython3",
   "version": "3.10.10"
  }
 },
 "nbformat": 4,
 "nbformat_minor": 1
}
