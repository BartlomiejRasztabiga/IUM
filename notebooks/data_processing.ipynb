{
 "cells": [
  {
   "cell_type": "code",
   "execution_count": 66,
   "metadata": {
    "collapsed": true,
    "ExecuteTime": {
     "start_time": "2023-04-27T15:36:06.653539Z",
     "end_time": "2023-04-27T15:36:06.885800Z"
    }
   },
   "outputs": [],
   "source": [
    "import pandas as pd\n",
    "\n",
    "pd.set_option('display.max_rows', None)\n",
    "pd.set_option('display.max_columns', None)\n",
    "pd.set_option('max_colwidth', None)\n",
    "\n",
    "artists_data_path = \"../data/artists.jsonl\"\n",
    "sessions_data_path = \"../data/sessions.jsonl\"\n",
    "track_storage_data_path = \"../data/track_storage.jsonl\"\n",
    "tracks_data_path = \"../data/tracks.jsonl\"\n",
    "users_data_path = \"../data/users.jsonl\"\n",
    "\n",
    "artists_data_frame = pd.read_json(artists_data_path, lines=True)\n",
    "sessions_data_frame = pd.read_json(sessions_data_path, lines=True)\n",
    "tracks_data_frame = pd.read_json(tracks_data_path, lines=True)\n",
    "users_data_frame = pd.read_json(users_data_path, lines=True)"
   ]
  },
  {
   "cell_type": "markdown",
   "metadata": {},
   "source": [
    "# Scalenie danych"
   ]
  },
  {
   "cell_type": "code",
   "execution_count": 67,
   "metadata": {
    "ExecuteTime": {
     "start_time": "2023-04-27T15:36:06.660201Z",
     "end_time": "2023-04-27T15:36:06.920678Z"
    }
   },
   "outputs": [],
   "source": [
    "merged_data_frame = pd.merge(sessions_data_frame, tracks_data_frame, left_on=\"track_id\",\n",
    "                             right_on=\"id\")\n",
    "merged_data_frame = pd.merge(merged_data_frame, users_data_frame, left_on=\"user_id\",\n",
    "                             right_on=\"user_id\")\n",
    "merged_data_frame = pd.merge(merged_data_frame, artists_data_frame, left_on=\"id_artist\",\n",
    "                             right_on=\"id\")\n",
    "# rename column\n",
    "merged_data_frame = merged_data_frame.rename(columns={\"name_x\": \"track_name\"})\n",
    "merged_data_frame = merged_data_frame.rename(columns={\"name_y\": \"artist_name\"})\n",
    "merged_data_frame.head(5)\n"
   ]
  },
  {
   "cell_type": "markdown",
   "metadata": {},
   "source": [
    "## Wyliczenie etykiety, czy dana piosenka w danej sesji została pominięta przez danego użytkownika"
   ]
  },
  {
   "cell_type": "code",
   "execution_count": 68,
   "metadata": {
    "ExecuteTime": {
     "start_time": "2023-04-27T15:36:06.662594Z",
     "end_time": "2023-04-27T15:36:07.824399Z"
    }
   },
   "outputs": [],
   "source": [
    "# delete rows with event_type other than PLAY and SKIP\n",
    "merged_data_frame = merged_data_frame[merged_data_frame[\"event_type\"].isin([\"PLAY\", \"SKIP\"])]\n",
    "\n",
    "# if for one user_id and track_id and session_id there is only PLAY event, then the track was not skipped\n",
    "merged_data_frame[\"skipped\"] = merged_data_frame.groupby([\"user_id\", \"track_id\", \"session_id\"])[\n",
    "  \"event_type\"].transform(lambda x: x != \"PLAY\").astype(bool)\n",
    "\n",
    "# if there are 2 rows with the same user_id, track_id and session_id, and different \"skipped\" value, remove the row with \"skipped\" = 0\n",
    "merged_data_frame = merged_data_frame.drop_duplicates(subset=[\"user_id\", \"track_id\", \"session_id\"],\n",
    "                                                      keep=\"last\")\n",
    "\n"
   ]
  },
  {
   "attachments": {},
   "cell_type": "markdown",
   "metadata": {},
   "source": [
    "## Dodanie nowych atrybutów"
   ]
  },
  {
   "cell_type": "code",
   "execution_count": 69,
   "metadata": {
    "ExecuteTime": {
     "start_time": "2023-04-27T15:36:06.664480Z",
     "end_time": "2023-04-27T15:36:07.879350Z"
    }
   },
   "outputs": [],
   "source": [
    "merged_data_frame[\"number_of_matching_genres\"] = merged_data_frame.apply(lambda x: len(set(x[\"genres\"]).intersection(set(x[\"favourite_genres\"]))), axis=1)\n",
    "merged_data_frame[\"month\"] = merged_data_frame[\"timestamp\"].dt.month\n",
    "merged_data_frame[\"day_of_week\"] = merged_data_frame[\"timestamp\"].dt.dayofweek\n",
    "merged_data_frame[\"hour_of_day\"] = merged_data_frame[\"timestamp\"].dt.hour\n",
    "merged_data_frame[\"genres_with_favourite_genres\"] = merged_data_frame[\"genres\"] + merged_data_frame[\"favourite_genres\"]\n",
    "merged_data_frame[\"common_genres\"] = merged_data_frame[\"genres_with_favourite_genres\"].apply(lambda x: list(set(x)))"
   ]
  },
  {
   "cell_type": "markdown",
   "metadata": {},
   "source": [
    "## Usunięcie niepotrzebnych kolumn"
   ]
  },
  {
   "cell_type": "code",
   "execution_count": 70,
   "metadata": {
    "ExecuteTime": {
     "start_time": "2023-04-27T15:36:06.666344Z",
     "end_time": "2023-04-27T15:36:07.896579Z"
    }
   },
   "outputs": [],
   "source": [
    "merged_data_frame = merged_data_frame.drop(columns=[\"id_x\", \"id_y\", \"event_type\"])\n",
    "merged_data_frame.head(10)"
   ]
  },
  {
   "cell_type": "code",
   "execution_count": 71,
   "metadata": {
    "ExecuteTime": {
     "start_time": "2023-04-27T15:36:06.666375Z",
     "end_time": "2023-04-27T15:36:07.906055Z"
    }
   },
   "outputs": [],
   "source": [
    "merged_data_frame.info()"
   ]
  },
  {
   "cell_type": "code",
   "execution_count": 72,
   "metadata": {
    "ExecuteTime": {
     "start_time": "2023-04-27T15:36:06.666388Z",
     "end_time": "2023-04-27T15:36:07.925970Z"
    }
   },
   "outputs": [],
   "source": [
    "merged_data_frame.describe()"
   ]
  },
  {
   "attachments": {},
   "cell_type": "markdown",
   "metadata": {},
   "source": [
    "## Współczynnik informacji wzajemnej\n",
    "\n",
    "#### Pominięto atrybuty ciągłe\n",
    "Sprawdzamy, czy atrybuty niosą ze sobą informację o zmiennej celu."
   ]
  },
  {
   "cell_type": "code",
   "execution_count": 73,
   "metadata": {
    "ExecuteTime": {
     "start_time": "2023-04-27T15:36:06.668390Z",
     "end_time": "2023-04-27T15:36:08.100100Z"
    }
   },
   "outputs": [],
   "source": [
    "from sklearn import metrics\n",
    "from scipy.stats import entropy\n",
    "\n",
    "print(\"Entropy of skipped column: \", str(round(entropy(merged_data_frame[\"skipped\"].value_counts()), 4)))\n",
    "\n",
    "df = merged_data_frame.copy()\n",
    "df = df.drop(columns=[\"danceability\", \"energy\", \"loudness\", \"speechiness\"])\n",
    "\n",
    "df[\"favourite_genres\"] = df[\"favourite_genres\"].apply(lambda x: str(x))\n",
    "df[\"genres\"] = df[\"genres\"].apply(lambda x: str(x))\n",
    "df[\"genres_with_favourite_genres\"] = df[\"genres_with_favourite_genres\"].apply(lambda x: str(x))\n",
    "df[\"common_genres\"] = df[\"common_genres\"].apply(lambda x: str(x))\n",
    "\n",
    "df[\"timestamp\"] = df[\"timestamp\"].astype(str)\n",
    "\n",
    "mutual_info_score = {}\n",
    "\n",
    "for column in df.columns:\n",
    "  if column != \"skipped\":\n",
    "    mutual_info_score[column] = round(metrics.mutual_info_score(df[\"skipped\"], df[column]), 4)\n",
    "\n",
    "# print sorted by value\n",
    "for key, value in sorted(mutual_info_score.items(), key=lambda item: item[1], reverse=True):\n",
    "  print(\"%s: %s\" % (key, value))\n",
    "\n",
    "df.info()"
   ]
  },
  {
   "attachments": {},
   "cell_type": "markdown",
   "metadata": {},
   "source": [
    "## Macierz korelacji\n",
    "\n",
    "#### Pominięto atrybuty dyskretne"
   ]
  },
  {
   "cell_type": "code",
   "execution_count": 74,
   "metadata": {
    "collapsed": false,
    "ExecuteTime": {
     "start_time": "2023-04-27T15:36:06.670166Z",
     "end_time": "2023-04-27T15:36:08.113352Z"
    }
   },
   "outputs": [],
   "source": [
    "df = merged_data_frame.copy()\n",
    "df = df.drop(columns=[\"genres\", \"favourite_genres\", \"genres_with_favourite_genres\", \"common_genres\", \"track_id\", \"track_name\", \"id_artist\", \"release_date\", \"artist_name\", \"city\", \"street\", \"name\"])\n",
    "\n",
    "df[\"skipped\"] = df[\"skipped\"].astype(int)\n",
    "df[\"premium_user\"] = df[\"premium_user\"].astype(int)\n",
    "df[\"timestamp\"] = pd.to_numeric(df[\"timestamp\"], errors=\"coerce\")\n",
    "\n",
    "correlation_matrix = df.corrwith(df[\"skipped\"])\n",
    "correlation_matrix.head(50)"
   ]
  },
  {
   "cell_type": "code",
   "execution_count": 75,
   "metadata": {
    "ExecuteTime": {
     "start_time": "2023-04-27T15:36:06.670189Z",
     "end_time": "2023-04-27T15:36:08.192942Z"
    }
   },
   "outputs": [],
   "source": [
    "# save to jsonl file\n",
    "merged_data_frame.to_json(\"../data/merged_data.jsonl\", orient=\"records\", lines=True)\n"
   ]
  },
  {
   "attachments": {},
   "cell_type": "markdown",
   "metadata": {},
   "source": [
    "## Podsumowanie"
   ]
  },
  {
   "attachments": {},
   "cell_type": "markdown",
   "metadata": {},
   "source": [
    "Jak widać na podstawie współczyników informacji wzajemnej, połączenie atrybutów \"genres\" i \"favourite_genres\" jest dobrym atrybutem do uczenia naszego modelu predykcyjnego.\n",
    "Innymi dobrymi atrybutami są: \"tempo\", \"duration_ms\" i \"loudness\".\n",
    "\n",
    "Początkowo zdecydowaliśmy się na użycie atrybutów \"genres\" i \"favourite_genres\" jako danych wejściowych modelu. Zmienną celu jest etykieta \"skipped\".\n"
   ]
  }
 ],
 "metadata": {
  "kernelspec": {
   "display_name": "Python 3.10 (IUM)",
   "language": "python",
   "name": "ium"
  },
  "language_info": {
   "codemirror_mode": {
    "name": "ipython",
    "version": 3
   },
   "file_extension": ".py",
   "mimetype": "text/x-python",
   "name": "python",
   "nbconvert_exporter": "python",
   "pygments_lexer": "ipython3",
   "version": "3.10.10"
  }
 },
 "nbformat": 4,
 "nbformat_minor": 1
}
