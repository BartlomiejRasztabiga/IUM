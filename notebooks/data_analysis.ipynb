{
 "cells": [
  {
   "cell_type": "code",
   "execution_count": 27,
   "metadata": {
    "collapsed": true
   },
   "outputs": [],
   "source": [
    "import pandas as pd\n",
    "import matplotlib.pyplot as plt\n",
    "import seaborn as sbn\n",
    "\n",
    "pd.set_option('display.max_rows', None)\n",
    "pd.set_option('display.max_columns', None)\n",
    "pd.set_option('max_colwidth', None)\n",
    "\n",
    "artists_data_path = \"../data/artists.jsonl\"\n",
    "sessions_data_path = \"../data/sessions.jsonl\"\n",
    "track_storage_data_path = \"../data/track_storage.jsonl\"\n",
    "tracks_data_path = \"../data/tracks.jsonl\"\n",
    "users_data_path = \"../data/users.jsonl\"\n",
    "\n",
    "artists_data_frame = pd.read_json(artists_data_path, lines=True)\n",
    "sessions_data_frame = pd.read_json(sessions_data_path, lines=True)\n",
    "track_storage_data_frame = pd.read_json(track_storage_data_path, lines=True)\n",
    "tracks_data_frame = pd.read_json(tracks_data_path, lines=True)\n",
    "users_data_frame = pd.read_json(users_data_path, lines=True)"
   ]
  },
  {
   "cell_type": "markdown",
   "source": [
    "Pominęliśmy analizę danych o przechowywaniu utworów, ponieważ nie wnoszą one żadnych informacji do analizy w naszym temacie projektu.\n",
    "\n",
    "# Analiza artystów"
   ],
   "metadata": {
    "collapsed": false
   }
  },
  {
   "cell_type": "code",
   "execution_count": 28,
   "outputs": [
    {
     "data": {
      "text/plain": "                       id             name  \\\n0  7b6Ui7JVaBDEfZB9k6nHL0  The Local Train   \n1  5wJ1H6ud777odtZl5gG507    Vishal Mishra   \n2  6AETRCQep85mUtIlX7BaFV     Color Humano   \n3  3PN8odvj48fnALdAsCKG3g           Crucis   \n4  5SAeZRhgmJhgq196BR1Mna      Dúo Salteño   \n\n                                                                      genres  \n0  [desi pop, hindi indie, indian indie, indian rock, new delhi indie, sufi]  \n1                                               [desi pop, modern bollywood]  \n2                                            [argentine rock, rock nacional]  \n3                                  [italian progressive rock, rock nacional]  \n4                                     [folclore salteno, folklore argentino]  ",
      "text/html": "<div>\n<style scoped>\n    .dataframe tbody tr th:only-of-type {\n        vertical-align: middle;\n    }\n\n    .dataframe tbody tr th {\n        vertical-align: top;\n    }\n\n    .dataframe thead th {\n        text-align: right;\n    }\n</style>\n<table border=\"1\" class=\"dataframe\">\n  <thead>\n    <tr style=\"text-align: right;\">\n      <th></th>\n      <th>id</th>\n      <th>name</th>\n      <th>genres</th>\n    </tr>\n  </thead>\n  <tbody>\n    <tr>\n      <th>0</th>\n      <td>7b6Ui7JVaBDEfZB9k6nHL0</td>\n      <td>The Local Train</td>\n      <td>[desi pop, hindi indie, indian indie, indian rock, new delhi indie, sufi]</td>\n    </tr>\n    <tr>\n      <th>1</th>\n      <td>5wJ1H6ud777odtZl5gG507</td>\n      <td>Vishal Mishra</td>\n      <td>[desi pop, modern bollywood]</td>\n    </tr>\n    <tr>\n      <th>2</th>\n      <td>6AETRCQep85mUtIlX7BaFV</td>\n      <td>Color Humano</td>\n      <td>[argentine rock, rock nacional]</td>\n    </tr>\n    <tr>\n      <th>3</th>\n      <td>3PN8odvj48fnALdAsCKG3g</td>\n      <td>Crucis</td>\n      <td>[italian progressive rock, rock nacional]</td>\n    </tr>\n    <tr>\n      <th>4</th>\n      <td>5SAeZRhgmJhgq196BR1Mna</td>\n      <td>Dúo Salteño</td>\n      <td>[folclore salteno, folklore argentino]</td>\n    </tr>\n  </tbody>\n</table>\n</div>"
     },
     "execution_count": 28,
     "metadata": {},
     "output_type": "execute_result"
    }
   ],
   "source": [
    "artists_data_frame.head(n=5)"
   ],
   "metadata": {
    "collapsed": false
   }
  },
  {
   "cell_type": "markdown",
   "source": [
    "Atrybuty:\n",
    "* id - identyfikator artysty\n",
    "* name - nazwa artysty\n",
    "* genres - gatunki muzyczne, które tworzy"
   ],
   "metadata": {
    "collapsed": false
   }
  },
  {
   "cell_type": "code",
   "execution_count": 29,
   "outputs": [
    {
     "name": "stdout",
     "output_type": "stream",
     "text": [
      "<class 'pandas.core.frame.DataFrame'>\n",
      "RangeIndex: 10657 entries, 0 to 10656\n",
      "Data columns (total 3 columns):\n",
      " #   Column  Non-Null Count  Dtype \n",
      "---  ------  --------------  ----- \n",
      " 0   id      10657 non-null  object\n",
      " 1   name    10657 non-null  object\n",
      " 2   genres  10657 non-null  object\n",
      "dtypes: object(3)\n",
      "memory usage: 249.9+ KB\n"
     ]
    }
   ],
   "source": [
    "artists_data_frame.info()"
   ],
   "metadata": {
    "collapsed": false
   }
  },
  {
   "cell_type": "markdown",
   "source": [
    "### Analiza id"
   ],
   "metadata": {
    "collapsed": false
   }
  },
  {
   "cell_type": "code",
   "execution_count": 31,
   "outputs": [
    {
     "name": "stdout",
     "output_type": "stream",
     "text": [
      "unique ids: 10657/10657\n"
     ]
    }
   ],
   "source": [
    "print(\"unique ids: {}/{}\".format(artists_data_frame['id'].nunique(), artists_data_frame['id'].count()))"
   ],
   "metadata": {
    "collapsed": false
   }
  },
  {
   "cell_type": "markdown",
   "source": [
    "Wszystkie ID są unikatowe"
   ],
   "metadata": {
    "collapsed": false
   }
  },
  {
   "cell_type": "markdown",
   "source": [
    "### Analiza name\n"
   ],
   "metadata": {
    "collapsed": false
   }
  },
  {
   "cell_type": "code",
   "execution_count": 32,
   "outputs": [
    {
     "name": "stdout",
     "output_type": "stream",
     "text": [
      "unique names: 10643/10657\n"
     ]
    },
    {
     "data": {
      "text/plain": "                           id               name  \\\n358    2xgbz6gqoIF4S6JZoRiH2y             Dalton   \n390    38YroIcEOM2zsIEGdtmZYm              Bamse   \n460    0Yk0PoyjQiEyIKgnaJFR0n            Traffic   \n1093   3rUSk3kcpl4Nseu1DqFNpJ                 KK   \n1384   3lPK4zqijDKAvZkdlmZRfN              Mango   \n2076   4ppDL5W65K1HG6EF7yaDLd  Little River Band   \n2352   53Thxvlr6imD5y3lxouOu4            Phoenix   \n2546   363VbwpX9anvrThJ2qDwBy                TNT   \n2721   1CqOLQmjzVWXQTiIN5Wucs                TNT   \n2757   7c5278WShlxTk3vS9XoTf8              Wings   \n3967   00ZLLJ51l9Ir5gyaGSUYxL               Eloy   \n4314   1FizW0swe8ODtXvEOHXbHX                LFO   \n5192   3Vszg64mczF1dWEcW2dU5W            Luciano   \n6283   2jFXKAH9A9H8lVnJkkLxXl              Omega   \n6495   1CD77o9fbdyQFrHnUPUEsF            Traffic   \n6803   0eet2VBconGGtNYJ0CBgHu               Eloy   \n6959   0UCa56b7hiX05ZWC5BH2zo             Nikita   \n7561   1UjxAZqzphB1tsMb1aWBj0              Omega   \n7887   1xU878Z1QtBldR7ru9owdU            Phoenix   \n8398   3sFhA6G1N0gG1pszb6kk1m              Wings   \n9113   1V95p8oWGxXlpcFRYqXV3w              Bamse   \n9262   6clbbhnIqpHnqxwtOWcilg  Little River Band   \n9286   3CJKkU0XuElRT1z8rEtIYg            Luciano   \n9455   4fEkbug6kZzzJ8eYX6Kbbp                 KK   \n9461   5iBphIrmXEjfrqiuz5y6pY              Mango   \n9869   2M0T4a1pkOC5nifN9W6e9e                LFO   \n9944   7tS2WuFuYfT8wcw0dy63D9             Nikita   \n10467  25JJnYKQwlu4uPHJP0pN5l             Dalton   \n\n                                                                                                                                                                                                                                  genres  \n358                                                                                                                                                                                                                 [classic danish pop]  \n390                                                                                                                                                                                                              [barnmusik, bornesange]  \n460                                                                                                                                                                                                        [estonian pop, estonian rock]  \n1093                                                                                                                                                                                              [classic icelandic pop, icelandic pop]  \n1384                                                                                                                                                                                                                    [lithuanian pop]  \n2076                                                                                                                                                         [album rock, classic rock, country rock, folk rock, mellow gold, soft rock]  \n2352                                                                                                                                                                                                                     [romanian rock]  \n2546                                                                                                                                                                                                             [glam metal, hard rock]  \n2721                                                                                                                                                                                                     [euphoric hardstyle, hardstyle]  \n2757                                                                                                                                                                                                                        [rock kapak]  \n3967                                                                                                                                   [art rock, german rock, krautrock, neo-progressive, progressive rock, space rock, symphonic rock]  \n4314                                                                                                                                                                                                                          [boy band]  \n5192                                                                                                                                                                [dancehall, lovers rock, old school dancehall, reggae, roots reggae]  \n6283                                                                                                                                                                                     [classic hungarian pop, classic hungarian rock]  \n6495   [album rock, art rock, blues rock, british blues, classic rock, country rock, electric blues, folk, folk rock, hard rock, jam band, mellow gold, progressive rock, psychedelic rock, rock, roots rock, soft rock, symphonic rock]  \n6803                                                                                                                                                                                                       [reggaeton flow, trap latino]  \n6959                                                                                                                                                                                                         [batak, indonesian worship]  \n7561                                                                                                                                                                                                     [dominican pop, rap dominicano]  \n7887                                                                                                                            [alternative dance, dance-punk, indie pop, indie rock, modern rock, new rave, rock independant francais]  \n8398                                                                                                                                           [album rock, art rock, beatlesque, classic rock, folk rock, mellow gold, rock, soft rock]  \n9113                                                                                                                                                                                                              [barnmusik, barnsagor]  \n9262                                                                                                                                                                                                             [soft rock, yacht rock]  \n9286                                                                                                                                                                                                      [german drill, german hip hop]  \n9455                                                                                                                                                                                           [desi pop, filmi, modern bollywood, sufi]  \n9461                                                                                                                                                                                            [classic italian pop, italian adult pop]  \n9869                                                                                                                     [acid house, bleep techno, deep idm, drill and bass, electro, hardcore techno, intelligent dance music, techno]  \n9944                                                                                                                                                                                                                [indonesian worship]  \n10467                                                                                                                                                                                                             [swedish melodic rock]  ",
      "text/html": "<div>\n<style scoped>\n    .dataframe tbody tr th:only-of-type {\n        vertical-align: middle;\n    }\n\n    .dataframe tbody tr th {\n        vertical-align: top;\n    }\n\n    .dataframe thead th {\n        text-align: right;\n    }\n</style>\n<table border=\"1\" class=\"dataframe\">\n  <thead>\n    <tr style=\"text-align: right;\">\n      <th></th>\n      <th>id</th>\n      <th>name</th>\n      <th>genres</th>\n    </tr>\n  </thead>\n  <tbody>\n    <tr>\n      <th>358</th>\n      <td>2xgbz6gqoIF4S6JZoRiH2y</td>\n      <td>Dalton</td>\n      <td>[classic danish pop]</td>\n    </tr>\n    <tr>\n      <th>390</th>\n      <td>38YroIcEOM2zsIEGdtmZYm</td>\n      <td>Bamse</td>\n      <td>[barnmusik, bornesange]</td>\n    </tr>\n    <tr>\n      <th>460</th>\n      <td>0Yk0PoyjQiEyIKgnaJFR0n</td>\n      <td>Traffic</td>\n      <td>[estonian pop, estonian rock]</td>\n    </tr>\n    <tr>\n      <th>1093</th>\n      <td>3rUSk3kcpl4Nseu1DqFNpJ</td>\n      <td>KK</td>\n      <td>[classic icelandic pop, icelandic pop]</td>\n    </tr>\n    <tr>\n      <th>1384</th>\n      <td>3lPK4zqijDKAvZkdlmZRfN</td>\n      <td>Mango</td>\n      <td>[lithuanian pop]</td>\n    </tr>\n    <tr>\n      <th>2076</th>\n      <td>4ppDL5W65K1HG6EF7yaDLd</td>\n      <td>Little River Band</td>\n      <td>[album rock, classic rock, country rock, folk rock, mellow gold, soft rock]</td>\n    </tr>\n    <tr>\n      <th>2352</th>\n      <td>53Thxvlr6imD5y3lxouOu4</td>\n      <td>Phoenix</td>\n      <td>[romanian rock]</td>\n    </tr>\n    <tr>\n      <th>2546</th>\n      <td>363VbwpX9anvrThJ2qDwBy</td>\n      <td>TNT</td>\n      <td>[glam metal, hard rock]</td>\n    </tr>\n    <tr>\n      <th>2721</th>\n      <td>1CqOLQmjzVWXQTiIN5Wucs</td>\n      <td>TNT</td>\n      <td>[euphoric hardstyle, hardstyle]</td>\n    </tr>\n    <tr>\n      <th>2757</th>\n      <td>7c5278WShlxTk3vS9XoTf8</td>\n      <td>Wings</td>\n      <td>[rock kapak]</td>\n    </tr>\n    <tr>\n      <th>3967</th>\n      <td>00ZLLJ51l9Ir5gyaGSUYxL</td>\n      <td>Eloy</td>\n      <td>[art rock, german rock, krautrock, neo-progressive, progressive rock, space rock, symphonic rock]</td>\n    </tr>\n    <tr>\n      <th>4314</th>\n      <td>1FizW0swe8ODtXvEOHXbHX</td>\n      <td>LFO</td>\n      <td>[boy band]</td>\n    </tr>\n    <tr>\n      <th>5192</th>\n      <td>3Vszg64mczF1dWEcW2dU5W</td>\n      <td>Luciano</td>\n      <td>[dancehall, lovers rock, old school dancehall, reggae, roots reggae]</td>\n    </tr>\n    <tr>\n      <th>6283</th>\n      <td>2jFXKAH9A9H8lVnJkkLxXl</td>\n      <td>Omega</td>\n      <td>[classic hungarian pop, classic hungarian rock]</td>\n    </tr>\n    <tr>\n      <th>6495</th>\n      <td>1CD77o9fbdyQFrHnUPUEsF</td>\n      <td>Traffic</td>\n      <td>[album rock, art rock, blues rock, british blues, classic rock, country rock, electric blues, folk, folk rock, hard rock, jam band, mellow gold, progressive rock, psychedelic rock, rock, roots rock, soft rock, symphonic rock]</td>\n    </tr>\n    <tr>\n      <th>6803</th>\n      <td>0eet2VBconGGtNYJ0CBgHu</td>\n      <td>Eloy</td>\n      <td>[reggaeton flow, trap latino]</td>\n    </tr>\n    <tr>\n      <th>6959</th>\n      <td>0UCa56b7hiX05ZWC5BH2zo</td>\n      <td>Nikita</td>\n      <td>[batak, indonesian worship]</td>\n    </tr>\n    <tr>\n      <th>7561</th>\n      <td>1UjxAZqzphB1tsMb1aWBj0</td>\n      <td>Omega</td>\n      <td>[dominican pop, rap dominicano]</td>\n    </tr>\n    <tr>\n      <th>7887</th>\n      <td>1xU878Z1QtBldR7ru9owdU</td>\n      <td>Phoenix</td>\n      <td>[alternative dance, dance-punk, indie pop, indie rock, modern rock, new rave, rock independant francais]</td>\n    </tr>\n    <tr>\n      <th>8398</th>\n      <td>3sFhA6G1N0gG1pszb6kk1m</td>\n      <td>Wings</td>\n      <td>[album rock, art rock, beatlesque, classic rock, folk rock, mellow gold, rock, soft rock]</td>\n    </tr>\n    <tr>\n      <th>9113</th>\n      <td>1V95p8oWGxXlpcFRYqXV3w</td>\n      <td>Bamse</td>\n      <td>[barnmusik, barnsagor]</td>\n    </tr>\n    <tr>\n      <th>9262</th>\n      <td>6clbbhnIqpHnqxwtOWcilg</td>\n      <td>Little River Band</td>\n      <td>[soft rock, yacht rock]</td>\n    </tr>\n    <tr>\n      <th>9286</th>\n      <td>3CJKkU0XuElRT1z8rEtIYg</td>\n      <td>Luciano</td>\n      <td>[german drill, german hip hop]</td>\n    </tr>\n    <tr>\n      <th>9455</th>\n      <td>4fEkbug6kZzzJ8eYX6Kbbp</td>\n      <td>KK</td>\n      <td>[desi pop, filmi, modern bollywood, sufi]</td>\n    </tr>\n    <tr>\n      <th>9461</th>\n      <td>5iBphIrmXEjfrqiuz5y6pY</td>\n      <td>Mango</td>\n      <td>[classic italian pop, italian adult pop]</td>\n    </tr>\n    <tr>\n      <th>9869</th>\n      <td>2M0T4a1pkOC5nifN9W6e9e</td>\n      <td>LFO</td>\n      <td>[acid house, bleep techno, deep idm, drill and bass, electro, hardcore techno, intelligent dance music, techno]</td>\n    </tr>\n    <tr>\n      <th>9944</th>\n      <td>7tS2WuFuYfT8wcw0dy63D9</td>\n      <td>Nikita</td>\n      <td>[indonesian worship]</td>\n    </tr>\n    <tr>\n      <th>10467</th>\n      <td>25JJnYKQwlu4uPHJP0pN5l</td>\n      <td>Dalton</td>\n      <td>[swedish melodic rock]</td>\n    </tr>\n  </tbody>\n</table>\n</div>"
     },
     "execution_count": 32,
     "metadata": {},
     "output_type": "execute_result"
    }
   ],
   "source": [
    "print(\"unique names: {}/{}\".format(artists_data_frame['name'].nunique(), artists_data_frame['name'].count()))\n",
    "\n",
    "# find artists with duplicated names\n",
    "artists_data_frame[artists_data_frame['name'].duplicated(keep=False)]"
   ],
   "metadata": {
    "collapsed": false
   }
  },
  {
   "cell_type": "markdown",
   "source": [
    "Istnieje 28 artystów, których nazwa jest zduplikowana.\n",
    "TODO co z tym zrobic?\n"
   ],
   "metadata": {
    "collapsed": false
   }
  },
  {
   "cell_type": "markdown",
   "source": [
    "### Analiza genres\n",
    "TODO\n"
   ],
   "metadata": {
    "collapsed": false
   }
  },
  {
   "cell_type": "markdown",
   "source": [
    "# Analiza sesji"
   ],
   "metadata": {
    "collapsed": false
   }
  },
  {
   "cell_type": "code",
   "execution_count": 34,
   "outputs": [
    {
     "data": {
      "text/plain": "                timestamp  user_id                track_id event_type  \\\n0 2023-01-03 05:09:55.000      101  2PmGtDUyJIpYBEtI1hQIVp       PLAY   \n1 2023-01-03 05:14:02.707      101  7hXy7Oc0XfODlcR8ESR9up       PLAY   \n2 2023-01-03 05:15:59.184      101  7hXy7Oc0XfODlcR8ESR9up       SKIP   \n3 2023-01-03 05:15:59.184      101  5atzraDZf6C8dEIFBHw3E2       PLAY   \n4 2023-01-03 05:16:47.572      101  5atzraDZf6C8dEIFBHw3E2       SKIP   \n\n   session_id  \n0         124  \n1         124  \n2         124  \n3         124  \n4         124  ",
      "text/html": "<div>\n<style scoped>\n    .dataframe tbody tr th:only-of-type {\n        vertical-align: middle;\n    }\n\n    .dataframe tbody tr th {\n        vertical-align: top;\n    }\n\n    .dataframe thead th {\n        text-align: right;\n    }\n</style>\n<table border=\"1\" class=\"dataframe\">\n  <thead>\n    <tr style=\"text-align: right;\">\n      <th></th>\n      <th>timestamp</th>\n      <th>user_id</th>\n      <th>track_id</th>\n      <th>event_type</th>\n      <th>session_id</th>\n    </tr>\n  </thead>\n  <tbody>\n    <tr>\n      <th>0</th>\n      <td>2023-01-03 05:09:55.000</td>\n      <td>101</td>\n      <td>2PmGtDUyJIpYBEtI1hQIVp</td>\n      <td>PLAY</td>\n      <td>124</td>\n    </tr>\n    <tr>\n      <th>1</th>\n      <td>2023-01-03 05:14:02.707</td>\n      <td>101</td>\n      <td>7hXy7Oc0XfODlcR8ESR9up</td>\n      <td>PLAY</td>\n      <td>124</td>\n    </tr>\n    <tr>\n      <th>2</th>\n      <td>2023-01-03 05:15:59.184</td>\n      <td>101</td>\n      <td>7hXy7Oc0XfODlcR8ESR9up</td>\n      <td>SKIP</td>\n      <td>124</td>\n    </tr>\n    <tr>\n      <th>3</th>\n      <td>2023-01-03 05:15:59.184</td>\n      <td>101</td>\n      <td>5atzraDZf6C8dEIFBHw3E2</td>\n      <td>PLAY</td>\n      <td>124</td>\n    </tr>\n    <tr>\n      <th>4</th>\n      <td>2023-01-03 05:16:47.572</td>\n      <td>101</td>\n      <td>5atzraDZf6C8dEIFBHw3E2</td>\n      <td>SKIP</td>\n      <td>124</td>\n    </tr>\n  </tbody>\n</table>\n</div>"
     },
     "execution_count": 34,
     "metadata": {},
     "output_type": "execute_result"
    }
   ],
   "source": [
    "sessions_data_frame.head(n=5)"
   ],
   "metadata": {
    "collapsed": false
   }
  },
  {
   "cell_type": "markdown",
   "source": [
    "Atrybuty:\n",
    "* timestamp - czas rozpoczęcia sesji\n",
    "* user_id - identyfikator użytkownika\n",
    "* track_id - identyfikator utworu\n",
    "* event_type - typ zdarzenia (PLAY, LIKE, SKIP)\n",
    "* session_id - identyfikator sesji\n"
   ],
   "metadata": {
    "collapsed": false
   }
  },
  {
   "cell_type": "code",
   "execution_count": 35,
   "outputs": [
    {
     "name": "stdout",
     "output_type": "stream",
     "text": [
      "<class 'pandas.core.frame.DataFrame'>\n",
      "RangeIndex: 19348 entries, 0 to 19347\n",
      "Data columns (total 5 columns):\n",
      " #   Column      Non-Null Count  Dtype         \n",
      "---  ------      --------------  -----         \n",
      " 0   timestamp   19348 non-null  datetime64[ns]\n",
      " 1   user_id     19348 non-null  int64         \n",
      " 2   track_id    19348 non-null  object        \n",
      " 3   event_type  19348 non-null  object        \n",
      " 4   session_id  19348 non-null  int64         \n",
      "dtypes: datetime64[ns](1), int64(2), object(2)\n",
      "memory usage: 755.9+ KB\n"
     ]
    }
   ],
   "source": [
    "sessions_data_frame.info()"
   ],
   "metadata": {
    "collapsed": false
   }
  },
  {
   "cell_type": "markdown",
   "source": [
    "### Analiza timestamp"
   ],
   "metadata": {
    "collapsed": false
   }
  },
  {
   "cell_type": "code",
   "execution_count": 36,
   "outputs": [
    {
     "data": {
      "text/plain": "count                            19348\nmean     2023-02-13 09:22:11.073808640\nmin                2023-01-01 06:00:09\n25%      2023-01-23 18:21:12.364000256\n50%         2023-02-13 20:04:24.712000\n75%      2023-03-07 07:58:05.143000064\nmax         2023-03-28 15:10:21.062000\nName: timestamp, dtype: object"
     },
     "execution_count": 36,
     "metadata": {},
     "output_type": "execute_result"
    }
   ],
   "source": [
    "sessions_data_frame['timestamp'].describe(datetime_is_numeric=True)"
   ],
   "metadata": {
    "collapsed": false
   }
  },
  {
   "cell_type": "markdown",
   "source": [
    "Sesje rozpoczęły się 2023-01-01 06:00:09 i zakończyły 2023-03-24 15:10:21.062000.\n"
   ],
   "metadata": {
    "collapsed": false
   }
  },
  {
   "cell_type": "markdown",
   "source": [
    "### Analiza user_id"
   ],
   "metadata": {
    "collapsed": false
   }
  },
  {
   "cell_type": "code",
   "execution_count": 38,
   "outputs": [
    {
     "data": {
      "text/plain": "count      50.000000\nmean      386.960000\nstd       261.935649\nmin        44.000000\n25%       157.750000\n50%       339.000000\n75%       588.750000\nmax      1052.000000\nName: user_id, dtype: float64"
     },
     "execution_count": 38,
     "metadata": {},
     "output_type": "execute_result"
    }
   ],
   "source": [
    "sessions_data_frame['user_id'].value_counts().describe()"
   ],
   "metadata": {
    "collapsed": false
   }
  },
  {
   "cell_type": "markdown",
   "source": [
    "Średnia liczba sesji na użytkownika wynosi 387, a maksymalna 1052.\n"
   ],
   "metadata": {
    "collapsed": false
   }
  },
  {
   "cell_type": "markdown",
   "source": [
    "### Analiza track_id\n",
    "TODO\n"
   ],
   "metadata": {
    "collapsed": false
   }
  },
  {
   "cell_type": "markdown",
   "source": [
    "### Analiza event_type"
   ],
   "metadata": {
    "collapsed": false
   }
  },
  {
   "cell_type": "code",
   "execution_count": 40,
   "outputs": [
    {
     "data": {
      "text/plain": "PLAY             10229\nSKIP              3761\nLIKE              2833\nADVERTISEMENT     2497\nBUY_PREMIUM         28\nName: event_type, dtype: int64"
     },
     "execution_count": 40,
     "metadata": {},
     "output_type": "execute_result"
    }
   ],
   "source": [
    "sessions_data_frame['event_type'].value_counts()"
   ],
   "metadata": {
    "collapsed": false
   }
  },
  {
   "cell_type": "markdown",
   "source": [
    "### Analiza session_id"
   ],
   "metadata": {
    "collapsed": false
   }
  },
  {
   "cell_type": "code",
   "execution_count": 41,
   "outputs": [
    {
     "data": {
      "text/plain": "count    596.000000\nmean      32.463087\nstd       23.582724\nmin        1.000000\n25%       11.000000\n50%       29.000000\n75%       50.000000\nmax       98.000000\nName: session_id, dtype: float64"
     },
     "execution_count": 41,
     "metadata": {},
     "output_type": "execute_result"
    }
   ],
   "source": [
    "sessions_data_frame['session_id'].value_counts().describe()"
   ],
   "metadata": {
    "collapsed": false
   }
  },
  {
   "cell_type": "markdown",
   "source": [
    "Średnia liczba zdarzeń na sesję wynosi 32.5\n"
   ],
   "metadata": {
    "collapsed": false
   }
  },
  {
   "cell_type": "markdown",
   "source": [
    "# Analiza danych o utworach\n"
   ],
   "metadata": {
    "collapsed": false
   }
  },
  {
   "cell_type": "code",
   "execution_count": 42,
   "outputs": [
    {
     "data": {
      "text/plain": "                       id                                     name  \\\n0  4LdczeQKU4ojwFJd6QWGnW  Taking Care Of Business - 2005 Remaster   \n1  7F20EOraDwU8KvNcyzUKVz                                     Leef   \n2  5EMGRFIidh98v9eXj6QnOU                              Dime Que No   \n3  5XFfcpc0V1fqHeiEjJd4y5             I Hate the Capitalist System   \n4  4fsmo5mukKd4vafcHN41KP                       Hai la sârbă roată   \n\n   popularity  duration_ms  explicit               id_artist release_date  \\\n0           1       177853         0  4AgFg0hHythyklEs4t7XKt   2011-01-01   \n1          42       217903         0  5l2Xy4aUoJDRSpsYHyOumD   2015-06-26   \n2          62       266013         0  0h1zs4CTlU9D2QtgPxptUD   2012-01-23   \n3          28       196387         0  7htyUKqAPLpbTA9nkEhGRf   1973-01-01   \n4          24       223013         0  4a0FNCbvDEoeHYFfc045W4   2008-01-01   \n\n   danceability  energy  key  loudness  speechiness  acousticness  \\\n0         0.554   0.847    7    -7.237       0.0633       0.00789   \n1         0.673   0.727    9    -6.587       0.0401       0.28200   \n2         0.535   0.648    0    -5.842       0.0364       0.36900   \n3         0.454   0.115    5   -15.617       0.0405       0.79700   \n4         0.509   0.699   10    -4.935       0.0372       0.68600   \n\n   instrumentalness  liveness  valence    tempo  \n0          0.000002     0.183    0.733   90.655  \n1          0.000000     0.178    0.782  121.016  \n2          0.000000     0.075    0.311  142.486  \n3          0.000000     0.103    0.366   86.761  \n4          0.000016     0.267    0.949  174.827  ",
      "text/html": "<div>\n<style scoped>\n    .dataframe tbody tr th:only-of-type {\n        vertical-align: middle;\n    }\n\n    .dataframe tbody tr th {\n        vertical-align: top;\n    }\n\n    .dataframe thead th {\n        text-align: right;\n    }\n</style>\n<table border=\"1\" class=\"dataframe\">\n  <thead>\n    <tr style=\"text-align: right;\">\n      <th></th>\n      <th>id</th>\n      <th>name</th>\n      <th>popularity</th>\n      <th>duration_ms</th>\n      <th>explicit</th>\n      <th>id_artist</th>\n      <th>release_date</th>\n      <th>danceability</th>\n      <th>energy</th>\n      <th>key</th>\n      <th>loudness</th>\n      <th>speechiness</th>\n      <th>acousticness</th>\n      <th>instrumentalness</th>\n      <th>liveness</th>\n      <th>valence</th>\n      <th>tempo</th>\n    </tr>\n  </thead>\n  <tbody>\n    <tr>\n      <th>0</th>\n      <td>4LdczeQKU4ojwFJd6QWGnW</td>\n      <td>Taking Care Of Business - 2005 Remaster</td>\n      <td>1</td>\n      <td>177853</td>\n      <td>0</td>\n      <td>4AgFg0hHythyklEs4t7XKt</td>\n      <td>2011-01-01</td>\n      <td>0.554</td>\n      <td>0.847</td>\n      <td>7</td>\n      <td>-7.237</td>\n      <td>0.0633</td>\n      <td>0.00789</td>\n      <td>0.000002</td>\n      <td>0.183</td>\n      <td>0.733</td>\n      <td>90.655</td>\n    </tr>\n    <tr>\n      <th>1</th>\n      <td>7F20EOraDwU8KvNcyzUKVz</td>\n      <td>Leef</td>\n      <td>42</td>\n      <td>217903</td>\n      <td>0</td>\n      <td>5l2Xy4aUoJDRSpsYHyOumD</td>\n      <td>2015-06-26</td>\n      <td>0.673</td>\n      <td>0.727</td>\n      <td>9</td>\n      <td>-6.587</td>\n      <td>0.0401</td>\n      <td>0.28200</td>\n      <td>0.000000</td>\n      <td>0.178</td>\n      <td>0.782</td>\n      <td>121.016</td>\n    </tr>\n    <tr>\n      <th>2</th>\n      <td>5EMGRFIidh98v9eXj6QnOU</td>\n      <td>Dime Que No</td>\n      <td>62</td>\n      <td>266013</td>\n      <td>0</td>\n      <td>0h1zs4CTlU9D2QtgPxptUD</td>\n      <td>2012-01-23</td>\n      <td>0.535</td>\n      <td>0.648</td>\n      <td>0</td>\n      <td>-5.842</td>\n      <td>0.0364</td>\n      <td>0.36900</td>\n      <td>0.000000</td>\n      <td>0.075</td>\n      <td>0.311</td>\n      <td>142.486</td>\n    </tr>\n    <tr>\n      <th>3</th>\n      <td>5XFfcpc0V1fqHeiEjJd4y5</td>\n      <td>I Hate the Capitalist System</td>\n      <td>28</td>\n      <td>196387</td>\n      <td>0</td>\n      <td>7htyUKqAPLpbTA9nkEhGRf</td>\n      <td>1973-01-01</td>\n      <td>0.454</td>\n      <td>0.115</td>\n      <td>5</td>\n      <td>-15.617</td>\n      <td>0.0405</td>\n      <td>0.79700</td>\n      <td>0.000000</td>\n      <td>0.103</td>\n      <td>0.366</td>\n      <td>86.761</td>\n    </tr>\n    <tr>\n      <th>4</th>\n      <td>4fsmo5mukKd4vafcHN41KP</td>\n      <td>Hai la sârbă roată</td>\n      <td>24</td>\n      <td>223013</td>\n      <td>0</td>\n      <td>4a0FNCbvDEoeHYFfc045W4</td>\n      <td>2008-01-01</td>\n      <td>0.509</td>\n      <td>0.699</td>\n      <td>10</td>\n      <td>-4.935</td>\n      <td>0.0372</td>\n      <td>0.68600</td>\n      <td>0.000016</td>\n      <td>0.267</td>\n      <td>0.949</td>\n      <td>174.827</td>\n    </tr>\n  </tbody>\n</table>\n</div>"
     },
     "execution_count": 42,
     "metadata": {},
     "output_type": "execute_result"
    }
   ],
   "source": [
    "tracks_data_frame.head(n=5)"
   ],
   "metadata": {
    "collapsed": false
   }
  },
  {
   "cell_type": "markdown",
   "source": [
    "Atrybuty:\n",
    "* id - identyfikator utworu\n",
    "* name - nazwa utworu\n",
    "* popularity - popularność utworu\n",
    "* duration_ms - długość utworu w milisekundach\n",
    "* explicit - czy utwór zawiera treści nieodpowiednie dla dzieci\n",
    "* id_artist - identyfikator artysty\n",
    "* release_date - data wydania utworu\n",
    "* danceability - współczynnik \"taneczności\" utworu\n",
    "* energy - współczynnik \"energii\" utworu\n",
    "* key - główny ton utworu\n",
    "* loudness - głośność utworu\n",
    "* speechiness - współczynnik \"mowy\" utworu\n",
    "* acousticness - współczynnik \"akustyczności\" utworu\n",
    "* instrumentalness - współczynnik \"instrumentalności\" utworu\n",
    "* liveness - współczynnik \"żywotności\" utworu\n",
    "* valence - współczynnik \"pozytywności\" utworu\n",
    "* tempo - tempo utworu"
   ],
   "metadata": {
    "collapsed": false
   }
  },
  {
   "cell_type": "code",
   "execution_count": 43,
   "outputs": [
    {
     "name": "stdout",
     "output_type": "stream",
     "text": [
      "<class 'pandas.core.frame.DataFrame'>\n",
      "RangeIndex: 21608 entries, 0 to 21607\n",
      "Data columns (total 17 columns):\n",
      " #   Column            Non-Null Count  Dtype  \n",
      "---  ------            --------------  -----  \n",
      " 0   id                21608 non-null  object \n",
      " 1   name              21608 non-null  object \n",
      " 2   popularity        21608 non-null  int64  \n",
      " 3   duration_ms       21608 non-null  int64  \n",
      " 4   explicit          21608 non-null  int64  \n",
      " 5   id_artist         21608 non-null  object \n",
      " 6   release_date      21608 non-null  object \n",
      " 7   danceability      21608 non-null  float64\n",
      " 8   energy            21608 non-null  float64\n",
      " 9   key               21608 non-null  int64  \n",
      " 10  loudness          21608 non-null  float64\n",
      " 11  speechiness       21608 non-null  float64\n",
      " 12  acousticness      21608 non-null  float64\n",
      " 13  instrumentalness  21608 non-null  float64\n",
      " 14  liveness          21608 non-null  float64\n",
      " 15  valence           21608 non-null  float64\n",
      " 16  tempo             21608 non-null  float64\n",
      "dtypes: float64(9), int64(4), object(4)\n",
      "memory usage: 2.8+ MB\n"
     ]
    }
   ],
   "source": [
    "tracks_data_frame.info()"
   ],
   "metadata": {
    "collapsed": false
   }
  },
  {
   "cell_type": "markdown",
   "source": [
    "### Analiza id\n",
    "TODO"
   ],
   "metadata": {
    "collapsed": false
   }
  },
  {
   "cell_type": "markdown",
   "source": [
    "### Analiza name\n",
    "TODO"
   ],
   "metadata": {
    "collapsed": false
   }
  },
  {
   "cell_type": "markdown",
   "source": [
    "### Analiza popularity\n",
    "TODO"
   ],
   "metadata": {
    "collapsed": false
   }
  },
  {
   "cell_type": "markdown",
   "source": [
    "### Analiza duration_ms\n",
    "TODO"
   ],
   "metadata": {
    "collapsed": false
   }
  },
  {
   "cell_type": "markdown",
   "source": [
    "### Analiza explicit\n",
    "TODO"
   ],
   "metadata": {
    "collapsed": false
   }
  },
  {
   "cell_type": "markdown",
   "source": [
    "### Analiza id_artist\n",
    "TODO"
   ],
   "metadata": {
    "collapsed": false
   }
  },
  {
   "cell_type": "markdown",
   "source": [
    "### Analiza release_date\n",
    "TODO"
   ],
   "metadata": {
    "collapsed": false
   }
  },
  {
   "cell_type": "markdown",
   "source": [
    "### Analiza danceability\n",
    "TODO"
   ],
   "metadata": {
    "collapsed": false
   }
  },
  {
   "cell_type": "markdown",
   "source": [
    "### Analiza energy\n",
    "TODO"
   ],
   "metadata": {
    "collapsed": false
   }
  },
  {
   "cell_type": "markdown",
   "source": [
    "### Analiza key\n",
    "TODO"
   ],
   "metadata": {
    "collapsed": false
   }
  },
  {
   "cell_type": "markdown",
   "source": [
    "### Analiza loudness\n",
    "TODO"
   ],
   "metadata": {
    "collapsed": false
   }
  },
  {
   "cell_type": "markdown",
   "source": [
    "### Analiza speechiness\n",
    "TODO"
   ],
   "metadata": {
    "collapsed": false
   }
  },
  {
   "cell_type": "markdown",
   "source": [
    "### Analiza acousticness\n",
    "TODO"
   ],
   "metadata": {
    "collapsed": false
   }
  },
  {
   "cell_type": "markdown",
   "source": [
    "### Analiza instrumentalness\n",
    "TODO"
   ],
   "metadata": {
    "collapsed": false
   }
  },
  {
   "cell_type": "markdown",
   "source": [
    "### Analiza liveness\n",
    "TODO"
   ],
   "metadata": {
    "collapsed": false
   }
  },
  {
   "cell_type": "markdown",
   "source": [
    "### Analiza valence\n",
    "TODO"
   ],
   "metadata": {
    "collapsed": false
   }
  },
  {
   "cell_type": "markdown",
   "source": [
    "### Analiza tempo\n",
    "TODO"
   ],
   "metadata": {
    "collapsed": false
   }
  },
  {
   "cell_type": "markdown",
   "source": [
    "# Analiza użytkowników"
   ],
   "metadata": {
    "collapsed": false
   }
  },
  {
   "cell_type": "code",
   "execution_count": 48,
   "outputs": [
    {
     "data": {
      "text/plain": "   user_id             name      city               street  \\\n0      101    Klara Herdzik  Szczecin   pl. Floriana 55/22   \n1      102  Szymon Plebanek    Kraków   al. Kalinowa 27/40   \n2      103     Szymon Zawal    Gdynia    al. Głogowa 14/10   \n3      104  Andrzej Berendt    Kraków  ul. Strażacka 14/63   \n4      105     Ida Karsznia    Kraków        al. Złota 549   \n\n                      favourite_genres  premium_user  \n0     [permanent wave, mandopop, funk]         False  \n1     [classic rock, ranchera, lounge]          True  \n2      [filmi, regional mexican, folk]         False  \n3          [tropical, new wave, latin]          True  \n4  [soul, tropical, alternative metal]         False  ",
      "text/html": "<div>\n<style scoped>\n    .dataframe tbody tr th:only-of-type {\n        vertical-align: middle;\n    }\n\n    .dataframe tbody tr th {\n        vertical-align: top;\n    }\n\n    .dataframe thead th {\n        text-align: right;\n    }\n</style>\n<table border=\"1\" class=\"dataframe\">\n  <thead>\n    <tr style=\"text-align: right;\">\n      <th></th>\n      <th>user_id</th>\n      <th>name</th>\n      <th>city</th>\n      <th>street</th>\n      <th>favourite_genres</th>\n      <th>premium_user</th>\n    </tr>\n  </thead>\n  <tbody>\n    <tr>\n      <th>0</th>\n      <td>101</td>\n      <td>Klara Herdzik</td>\n      <td>Szczecin</td>\n      <td>pl. Floriana 55/22</td>\n      <td>[permanent wave, mandopop, funk]</td>\n      <td>False</td>\n    </tr>\n    <tr>\n      <th>1</th>\n      <td>102</td>\n      <td>Szymon Plebanek</td>\n      <td>Kraków</td>\n      <td>al. Kalinowa 27/40</td>\n      <td>[classic rock, ranchera, lounge]</td>\n      <td>True</td>\n    </tr>\n    <tr>\n      <th>2</th>\n      <td>103</td>\n      <td>Szymon Zawal</td>\n      <td>Gdynia</td>\n      <td>al. Głogowa 14/10</td>\n      <td>[filmi, regional mexican, folk]</td>\n      <td>False</td>\n    </tr>\n    <tr>\n      <th>3</th>\n      <td>104</td>\n      <td>Andrzej Berendt</td>\n      <td>Kraków</td>\n      <td>ul. Strażacka 14/63</td>\n      <td>[tropical, new wave, latin]</td>\n      <td>True</td>\n    </tr>\n    <tr>\n      <th>4</th>\n      <td>105</td>\n      <td>Ida Karsznia</td>\n      <td>Kraków</td>\n      <td>al. Złota 549</td>\n      <td>[soul, tropical, alternative metal]</td>\n      <td>False</td>\n    </tr>\n  </tbody>\n</table>\n</div>"
     },
     "execution_count": 48,
     "metadata": {},
     "output_type": "execute_result"
    }
   ],
   "source": [
    "users_data_frame.head(n=5)"
   ],
   "metadata": {
    "collapsed": false
   }
  },
  {
   "cell_type": "markdown",
   "source": [
    "Atrybuty:\n",
    "* user_id - identyfikator użytkownika\n",
    "* name - imię i nazwisko użytkownika\n",
    "* city - miasto zamieszkania użytkownika\n",
    "* street - ulica zamieszkania użytkownika\n",
    "* favourite_genres - ulubione gatunki użytkownika\n",
    "* premium_user - czy użytkownik posiada konto premium\n",
    "* id - zbędny atrybut\n"
   ],
   "metadata": {
    "collapsed": false
   }
  },
  {
   "cell_type": "code",
   "execution_count": 49,
   "outputs": [
    {
     "name": "stdout",
     "output_type": "stream",
     "text": [
      "<class 'pandas.core.frame.DataFrame'>\n",
      "RangeIndex: 50 entries, 0 to 49\n",
      "Data columns (total 6 columns):\n",
      " #   Column            Non-Null Count  Dtype \n",
      "---  ------            --------------  ----- \n",
      " 0   user_id           50 non-null     int64 \n",
      " 1   name              50 non-null     object\n",
      " 2   city              50 non-null     object\n",
      " 3   street            50 non-null     object\n",
      " 4   favourite_genres  50 non-null     object\n",
      " 5   premium_user      50 non-null     bool  \n",
      "dtypes: bool(1), int64(1), object(4)\n",
      "memory usage: 2.1+ KB\n"
     ]
    }
   ],
   "source": [
    "users_data_frame.info()\n"
   ],
   "metadata": {
    "collapsed": false
   }
  },
  {
   "cell_type": "markdown",
   "source": [
    "### Analiza user_id\n",
    "TODO"
   ],
   "metadata": {
    "collapsed": false
   }
  },
  {
   "cell_type": "markdown",
   "source": [
    "### Analiza name\n",
    "TODO"
   ],
   "metadata": {
    "collapsed": false
   }
  },
  {
   "cell_type": "markdown",
   "source": [
    "### Analiza city\n",
    "TODO"
   ],
   "metadata": {
    "collapsed": false
   }
  },
  {
   "cell_type": "markdown",
   "source": [
    "### Analiza street\n",
    "TODO"
   ],
   "metadata": {
    "collapsed": false
   }
  },
  {
   "cell_type": "markdown",
   "source": [
    "### Analiza favourite_genres\n",
    "TODO"
   ],
   "metadata": {
    "collapsed": false
   }
  },
  {
   "cell_type": "markdown",
   "source": [
    "### Analiza premium_user\n",
    "TODO"
   ],
   "metadata": {
    "collapsed": false
   }
  },
  {
   "cell_type": "markdown",
   "source": [
    "### Analiza id\n",
    "TODO\n"
   ],
   "metadata": {
    "collapsed": false
   }
  }
 ],
 "metadata": {
  "kernelspec": {
   "display_name": "Python 3",
   "language": "python",
   "name": "python3"
  },
  "language_info": {
   "codemirror_mode": {
    "name": "ipython",
    "version": 2
   },
   "file_extension": ".py",
   "mimetype": "text/x-python",
   "name": "python",
   "nbconvert_exporter": "python",
   "pygments_lexer": "ipython2",
   "version": "2.7.6"
  }
 },
 "nbformat": 4,
 "nbformat_minor": 0
}
