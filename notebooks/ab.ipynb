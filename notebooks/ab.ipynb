{
 "cells": [
  {
   "cell_type": "code",
   "execution_count": 1,
   "metadata": {},
   "outputs": [],
   "source": [
    "import pandas as pd\n",
    "import requests\n",
    "from scipy.stats import ttest_ind"
   ]
  },
  {
   "cell_type": "code",
   "execution_count": 2,
   "metadata": {},
   "outputs": [],
   "source": [
    "DATA_VERSION = \"v2\"\n",
    "\n",
    "merged_data_path = f'../data/{DATA_VERSION}/merged_data.jsonl'\n",
    "data = pd.read_json(merged_data_path, lines=True)"
   ]
  },
  {
   "cell_type": "code",
   "execution_count": 3,
   "metadata": {},
   "outputs": [],
   "source": [
    "data = data.sample(frac=0.1)"
   ]
  },
  {
   "cell_type": "code",
   "execution_count": null,
   "metadata": {},
   "outputs": [],
   "source": [
    "group_a_predictions = []\n",
    "group_b_predictions = []\n",
    "\n",
    "requests.delete(\"https://ium.rasztabiga.me/ab_test/results\")\n",
    "\n",
    "for index, row in data.iterrows():\n",
    "    user_id = row ['user_id']\n",
    "    genres = row['genres']\n",
    "    favourite_genres = row['favourite_genres']\n",
    "    skipped = row['skipped']\n",
    "\n",
    "    group = user_id % 2\n",
    "\n",
    "    prediction = requests.post(f\"https://ium.rasztabiga.me/ab_test?user_id={user_id}\", json={\"genres\": genres, \"favourite_genres\": favourite_genres}).json()\n",
    "\n",
    "    if group == 0:\n",
    "        group_a_predictions.append({\"prediction\": prediction[\"skipped\"], \"skipped\": skipped})\n",
    "    else:\n",
    "        group_b_predictions.append({\"prediction\": prediction[\"skipped\"], \"skipped\": skipped})"
   ]
  },
  {
   "cell_type": "code",
   "execution_count": null,
   "metadata": {},
   "outputs": [
    {
     "name": "stdout",
     "output_type": "stream",
     "text": [
      "Group A accuracy: 0.7616438356164383\n",
      "Group B accuracy: 0.6709470304975923\n"
     ]
    }
   ],
   "source": [
    "group_a_accuracy = []\n",
    "for prediction in group_a_predictions:\n",
    "    group_a_accuracy.append(int(prediction[\"prediction\"] == prediction[\"skipped\"]))\n",
    "\n",
    "group_b_accuracy = []\n",
    "for prediction in group_b_predictions:\n",
    "    group_b_accuracy.append(int(prediction[\"prediction\"] == prediction[\"skipped\"]))\n",
    "\n",
    "group_a_accuracy_percentage = sum(group_a_accuracy) / len(group_a_accuracy)\n",
    "group_b_accuracy_percentage = sum(group_b_accuracy) / len(group_b_accuracy)\n",
    "\n",
    "print(f\"Group A accuracy: {group_a_accuracy_percentage}\")\n",
    "print(f\"Group B accuracy: {group_b_accuracy_percentage}\")"
   ]
  },
  {
   "cell_type": "code",
   "execution_count": null,
   "metadata": {},
   "outputs": [
    {
     "name": "stdout",
     "output_type": "stream",
     "text": [
      "365\n",
      "623\n"
     ]
    }
   ],
   "source": [
    "print(len(group_a_predictions))\n",
    "print(len(group_b_predictions))"
   ]
  },
  {
   "attachments": {},
   "cell_type": "markdown",
   "metadata": {},
   "source": [
    "Hipoteza zerowa: dokładność modelu A nie jest większa niż modelu B\n",
    "\n",
    "Hipoteza alternatywna: dokładność modelu A jest większa niż modelu B\n",
    "\n",
    "Zastosuj statystykę t-Studenta\n",
    "Zakładamy, że współczynnik wystąpienia błędu typu pierwszego wynosi alfa = 0.05\n",
    "\n",
    "Odrzucimy hipotezę zerową, pod warunkiem, że p-value < alpha"
   ]
  },
  {
   "cell_type": "code",
   "execution_count": null,
   "metadata": {},
   "outputs": [
    {
     "name": "stdout",
     "output_type": "stream",
     "text": [
      "Wartość t-statystyki: 3.026444516084243\n",
      "Wartość p-value: 0.001269366320691488\n",
      "Odrzucamy hipotezę zerową. Dokładność modelu A jest większa niż modelu B.\n"
     ]
    }
   ],
   "source": [
    "# Ustalamy poziom istotności\n",
    "alpha = 0.05\n",
    "\n",
    "# Przeprowadzamy test t-Studenta\n",
    "t_statistic, p_value = ttest_ind(group_a_accuracy, group_b_accuracy, alternative=\"greater\")\n",
    "\n",
    "print(\"Wartość t-statystyki:\", t_statistic)\n",
    "print(\"Wartość p-value:\", p_value)\n",
    "\n",
    "# Sprawdzamy, czy odrzucamy hipotezę zerową\n",
    "if p_value < alpha:\n",
    "    print(\"Odrzucamy hipotezę zerową. Dokładność modelu A jest większa niż modelu B.\")\n",
    "else:\n",
    "    print(\"Nie możemy odrzucić hipotezy zerowej. Nie ma wystarczających dowodów na to, że dokładność modelu A jest większa niż modelu B.\")\n"
   ]
  }
 ],
 "metadata": {
  "kernelspec": {
   "display_name": "Python 3.10 (IUM)",
   "language": "python",
   "name": "ium"
  },
  "language_info": {
   "codemirror_mode": {
    "name": "ipython",
    "version": 3
   },
   "file_extension": ".py",
   "mimetype": "text/x-python",
   "name": "python",
   "nbconvert_exporter": "python",
   "pygments_lexer": "ipython3",
   "version": "3.10.10"
  },
  "orig_nbformat": 4
 },
 "nbformat": 4,
 "nbformat_minor": 2
}
