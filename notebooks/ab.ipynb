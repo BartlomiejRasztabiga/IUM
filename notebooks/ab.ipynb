{
 "cells": [
  {
   "cell_type": "code",
   "execution_count": 15,
   "metadata": {},
   "outputs": [],
   "source": [
    "import pandas as pd\n",
    "import numpy as np\n",
    "import pickle\n",
    "import requests\n",
    "from sklearn.feature_extraction.text import TfidfVectorizer\n",
    "from sklearn.cluster import KMeans\n",
    "from keras.optimizers import Adam\n",
    "from sklearn.metrics import confusion_matrix, classification_report, accuracy_score\n",
    "from sklearn.preprocessing import MultiLabelBinarizer\n",
    "from sklearn.model_selection import train_test_split\n",
    "\n",
    "from tensorflow import keras\n",
    "\n",
    "from keras.models import Sequential\n",
    "from keras.layers import Dense, Dropout, Input\n",
    "import keras_tuner"
   ]
  },
  {
   "cell_type": "code",
   "execution_count": 16,
   "metadata": {},
   "outputs": [],
   "source": [
    "DATA_VERSION = \"v2\"\n",
    "\n",
    "merged_data_path = f'../data/{DATA_VERSION}/merged_data.jsonl'\n",
    "data = pd.read_json(merged_data_path, lines=True)"
   ]
  },
  {
   "cell_type": "code",
   "execution_count": 17,
   "metadata": {},
   "outputs": [],
   "source": [
    "data = data.sample(frac=0.01, random_state=42)"
   ]
  },
  {
   "cell_type": "code",
   "execution_count": 18,
   "metadata": {},
   "outputs": [],
   "source": [
    "group_a_predictions = []\n",
    "group_b_predictions = []\n",
    "\n",
    "requests.delete(\"https://ium.rasztabiga.me/ab_test/results\")\n",
    "\n",
    "for index, row in data.iterrows():\n",
    "    user_id = row ['user_id']\n",
    "    genres = row['genres']\n",
    "    favourite_genres = row['favourite_genres']\n",
    "    skipped = row['skipped']\n",
    "\n",
    "    group = user_id % 2\n",
    "\n",
    "    prediction = requests.post(f\"https://ium.rasztabiga.me/ab_test?user_id={user_id}\", json={\"genres\": genres, \"favourite_genres\": favourite_genres}).json()\n",
    "\n",
    "    if group == 0:\n",
    "        group_a_predictions.append({\"prediction\": prediction, \"skipped\": skipped})\n",
    "    else:\n",
    "        group_b_predictions.append({\"prediction\": prediction, \"skipped\": skipped})"
   ]
  },
  {
   "cell_type": "code",
   "execution_count": null,
   "metadata": {},
   "outputs": [],
   "source": [
    "print(group_a_predictions)\n",
    "print(group_b_predictions)\n",
    "\n",
    "group_a_accuracy = accuracy_score([x[\"skipped\"] for x in group_a_predictions], [x[\"prediction\"] for x in group_a_predictions])\n",
    "group_b_accuracy = accuracy_score([x[\"skipped\"] for x in group_b_predictions], [x[\"prediction\"] for x in group_b_predictions])]\n",
    "\n",
    "print(group_a_accuracy)\n",
    "print(group_b_accuracy)"
   ]
  }
 ],
 "metadata": {
  "kernelspec": {
   "display_name": "Python 3.10 (IUM)",
   "language": "python",
   "name": "ium"
  },
  "language_info": {
   "codemirror_mode": {
    "name": "ipython",
    "version": 3
   },
   "file_extension": ".py",
   "mimetype": "text/x-python",
   "name": "python",
   "nbconvert_exporter": "python",
   "pygments_lexer": "ipython3",
   "version": "3.10.10"
  },
  "orig_nbformat": 4
 },
 "nbformat": 4,
 "nbformat_minor": 2
}
